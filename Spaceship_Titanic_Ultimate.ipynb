{
  "nbformat": 4,
  "nbformat_minor": 0,
  "metadata": {
    "colab": {
      "provenance": [],
      "authorship_tag": "ABX9TyP9d58yGak4q6DLwQxA0AmW",
      "include_colab_link": true
    },
    "kernelspec": {
      "name": "python3",
      "display_name": "Python 3"
    },
    "language_info": {
      "name": "python"
    }
  },
  "cells": [
    {
      "cell_type": "markdown",
      "metadata": {
        "id": "view-in-github",
        "colab_type": "text"
      },
      "source": [
        "<a href=\"https://colab.research.google.com/github/Katerine-Chanci-Echeverri/Project-2---Spaceship-Titanic/blob/main/Spaceship_Titanic_Ultimate.ipynb\" target=\"_parent\"><img src=\"https://colab.research.google.com/assets/colab-badge.svg\" alt=\"Open In Colab\"/></a>"
      ]
    },
    {
      "cell_type": "markdown",
      "source": [
        "## **Importar librerías**"
      ],
      "metadata": {
        "id": "GDK_hiA_phJT"
      }
    },
    {
      "cell_type": "code",
      "source": [
        "#Necesitaremos la librería dython \n",
        "#!pip install dython"
      ],
      "metadata": {
        "id": "zrti2Rh6lmE7"
      },
      "execution_count": null,
      "outputs": []
    },
    {
      "cell_type": "code",
      "execution_count": null,
      "metadata": {
        "id": "103r0OhVpW3B"
      },
      "outputs": [],
      "source": [
        "from google.colab import drive\n",
        "import pandas as pd\n",
        "import numpy as np\n",
        "import seaborn as sns\n",
        "import matplotlib.pyplot as plt\n",
        "import plotly.express as px\n",
        "from dython import nominal\n",
        "from dython.nominal import associations\n",
        "from sklearn.preprocessing import StandardScaler, OneHotEncoder, LabelEncoder\n",
        "from sklearn.impute import SimpleImputer\n",
        "from sklearn.compose import make_column_transformer, make_column_selector\n",
        "from sklearn.pipeline import make_pipeline\n",
        "from sklearn.model_selection import train_test_split\n",
        "from sklearn.tree import DecisionTreeClassifier\n",
        "from sklearn.neighbors import KNeighborsClassifier\n",
        "from sklearn.ensemble import BaggingClassifier\n",
        "from sklearn.ensemble import RandomForestClassifier\n",
        "from sklearn.linear_model import LogisticRegression\n",
        "from sklearn.ensemble import GradientBoostingClassifier\n",
        "from lightgbm import LGBMClassifier\n",
        "from xgboost import XGBClassifier\n",
        "from sklearn.metrics import accuracy_score, precision_score, recall_score, classification_report, ConfusionMatrixDisplay\n",
        "from sklearn.metrics import confusion_matrix\n",
        "from sklearn.metrics import roc_auc_score, RocCurveDisplay\n",
        "from sklearn import set_config\n",
        "from sklearn.decomposition import PCA\n",
        "from tensorflow.keras.models import Sequential\n",
        "from tensorflow.keras.callbacks import EarlyStopping\n",
        "from tensorflow.keras.layers import Dense, Dropout\n",
        "from tensorflow.keras import metrics   \n",
        "from sklearn.cluster import KMeans\n",
        "from sklearn.metrics import silhouette_score\n",
        "set_config(display='diagram')"
      ]
    },
    {
      "cell_type": "markdown",
      "source": [
        "## **Cargar los datos**"
      ],
      "metadata": {
        "id": "uj90pp9dplQE"
      }
    },
    {
      "cell_type": "code",
      "source": [
        "#Conjunto de entrenamiento\n",
        "drive.mount(\"/content/drive\")\n",
        "train = \"/content/drive/MyDrive/Colab Notebooks/Coding Dojo 🐉/Proyecto 2/train.csv\"\n",
        "data = pd.read_csv(train)\n",
        "data.head()"
      ],
      "metadata": {
        "colab": {
          "base_uri": "https://localhost:8080/",
          "height": 374
        },
        "id": "3jmYGQJepksA",
        "outputId": "847681fe-3ee9-424f-c01e-573d6f7d2201"
      },
      "execution_count": null,
      "outputs": [
        {
          "output_type": "stream",
          "name": "stdout",
          "text": [
            "Drive already mounted at /content/drive; to attempt to forcibly remount, call drive.mount(\"/content/drive\", force_remount=True).\n"
          ]
        },
        {
          "output_type": "execute_result",
          "data": {
            "text/plain": [
              "  PassengerId HomePlanet CryoSleep  Cabin  Destination   Age    VIP  \\\n",
              "0     0001_01     Europa     False  B/0/P  TRAPPIST-1e  39.0  False   \n",
              "1     0002_01      Earth     False  F/0/S  TRAPPIST-1e  24.0  False   \n",
              "2     0003_01     Europa     False  A/0/S  TRAPPIST-1e  58.0   True   \n",
              "3     0003_02     Europa     False  A/0/S  TRAPPIST-1e  33.0  False   \n",
              "4     0004_01      Earth     False  F/1/S  TRAPPIST-1e  16.0  False   \n",
              "\n",
              "   RoomService  FoodCourt  ShoppingMall     Spa  VRDeck               Name  \\\n",
              "0          0.0        0.0           0.0     0.0     0.0    Maham Ofracculy   \n",
              "1        109.0        9.0          25.0   549.0    44.0       Juanna Vines   \n",
              "2         43.0     3576.0           0.0  6715.0    49.0      Altark Susent   \n",
              "3          0.0     1283.0         371.0  3329.0   193.0       Solam Susent   \n",
              "4        303.0       70.0         151.0   565.0     2.0  Willy Santantines   \n",
              "\n",
              "   Transported  \n",
              "0        False  \n",
              "1         True  \n",
              "2        False  \n",
              "3        False  \n",
              "4         True  "
            ],
            "text/html": [
              "\n",
              "  <div id=\"df-c5864c64-01ae-4ca4-937a-1ce624b525e0\">\n",
              "    <div class=\"colab-df-container\">\n",
              "      <div>\n",
              "<style scoped>\n",
              "    .dataframe tbody tr th:only-of-type {\n",
              "        vertical-align: middle;\n",
              "    }\n",
              "\n",
              "    .dataframe tbody tr th {\n",
              "        vertical-align: top;\n",
              "    }\n",
              "\n",
              "    .dataframe thead th {\n",
              "        text-align: right;\n",
              "    }\n",
              "</style>\n",
              "<table border=\"1\" class=\"dataframe\">\n",
              "  <thead>\n",
              "    <tr style=\"text-align: right;\">\n",
              "      <th></th>\n",
              "      <th>PassengerId</th>\n",
              "      <th>HomePlanet</th>\n",
              "      <th>CryoSleep</th>\n",
              "      <th>Cabin</th>\n",
              "      <th>Destination</th>\n",
              "      <th>Age</th>\n",
              "      <th>VIP</th>\n",
              "      <th>RoomService</th>\n",
              "      <th>FoodCourt</th>\n",
              "      <th>ShoppingMall</th>\n",
              "      <th>Spa</th>\n",
              "      <th>VRDeck</th>\n",
              "      <th>Name</th>\n",
              "      <th>Transported</th>\n",
              "    </tr>\n",
              "  </thead>\n",
              "  <tbody>\n",
              "    <tr>\n",
              "      <th>0</th>\n",
              "      <td>0001_01</td>\n",
              "      <td>Europa</td>\n",
              "      <td>False</td>\n",
              "      <td>B/0/P</td>\n",
              "      <td>TRAPPIST-1e</td>\n",
              "      <td>39.0</td>\n",
              "      <td>False</td>\n",
              "      <td>0.0</td>\n",
              "      <td>0.0</td>\n",
              "      <td>0.0</td>\n",
              "      <td>0.0</td>\n",
              "      <td>0.0</td>\n",
              "      <td>Maham Ofracculy</td>\n",
              "      <td>False</td>\n",
              "    </tr>\n",
              "    <tr>\n",
              "      <th>1</th>\n",
              "      <td>0002_01</td>\n",
              "      <td>Earth</td>\n",
              "      <td>False</td>\n",
              "      <td>F/0/S</td>\n",
              "      <td>TRAPPIST-1e</td>\n",
              "      <td>24.0</td>\n",
              "      <td>False</td>\n",
              "      <td>109.0</td>\n",
              "      <td>9.0</td>\n",
              "      <td>25.0</td>\n",
              "      <td>549.0</td>\n",
              "      <td>44.0</td>\n",
              "      <td>Juanna Vines</td>\n",
              "      <td>True</td>\n",
              "    </tr>\n",
              "    <tr>\n",
              "      <th>2</th>\n",
              "      <td>0003_01</td>\n",
              "      <td>Europa</td>\n",
              "      <td>False</td>\n",
              "      <td>A/0/S</td>\n",
              "      <td>TRAPPIST-1e</td>\n",
              "      <td>58.0</td>\n",
              "      <td>True</td>\n",
              "      <td>43.0</td>\n",
              "      <td>3576.0</td>\n",
              "      <td>0.0</td>\n",
              "      <td>6715.0</td>\n",
              "      <td>49.0</td>\n",
              "      <td>Altark Susent</td>\n",
              "      <td>False</td>\n",
              "    </tr>\n",
              "    <tr>\n",
              "      <th>3</th>\n",
              "      <td>0003_02</td>\n",
              "      <td>Europa</td>\n",
              "      <td>False</td>\n",
              "      <td>A/0/S</td>\n",
              "      <td>TRAPPIST-1e</td>\n",
              "      <td>33.0</td>\n",
              "      <td>False</td>\n",
              "      <td>0.0</td>\n",
              "      <td>1283.0</td>\n",
              "      <td>371.0</td>\n",
              "      <td>3329.0</td>\n",
              "      <td>193.0</td>\n",
              "      <td>Solam Susent</td>\n",
              "      <td>False</td>\n",
              "    </tr>\n",
              "    <tr>\n",
              "      <th>4</th>\n",
              "      <td>0004_01</td>\n",
              "      <td>Earth</td>\n",
              "      <td>False</td>\n",
              "      <td>F/1/S</td>\n",
              "      <td>TRAPPIST-1e</td>\n",
              "      <td>16.0</td>\n",
              "      <td>False</td>\n",
              "      <td>303.0</td>\n",
              "      <td>70.0</td>\n",
              "      <td>151.0</td>\n",
              "      <td>565.0</td>\n",
              "      <td>2.0</td>\n",
              "      <td>Willy Santantines</td>\n",
              "      <td>True</td>\n",
              "    </tr>\n",
              "  </tbody>\n",
              "</table>\n",
              "</div>\n",
              "      <button class=\"colab-df-convert\" onclick=\"convertToInteractive('df-c5864c64-01ae-4ca4-937a-1ce624b525e0')\"\n",
              "              title=\"Convert this dataframe to an interactive table.\"\n",
              "              style=\"display:none;\">\n",
              "        \n",
              "  <svg xmlns=\"http://www.w3.org/2000/svg\" height=\"24px\"viewBox=\"0 0 24 24\"\n",
              "       width=\"24px\">\n",
              "    <path d=\"M0 0h24v24H0V0z\" fill=\"none\"/>\n",
              "    <path d=\"M18.56 5.44l.94 2.06.94-2.06 2.06-.94-2.06-.94-.94-2.06-.94 2.06-2.06.94zm-11 1L8.5 8.5l.94-2.06 2.06-.94-2.06-.94L8.5 2.5l-.94 2.06-2.06.94zm10 10l.94 2.06.94-2.06 2.06-.94-2.06-.94-.94-2.06-.94 2.06-2.06.94z\"/><path d=\"M17.41 7.96l-1.37-1.37c-.4-.4-.92-.59-1.43-.59-.52 0-1.04.2-1.43.59L10.3 9.45l-7.72 7.72c-.78.78-.78 2.05 0 2.83L4 21.41c.39.39.9.59 1.41.59.51 0 1.02-.2 1.41-.59l7.78-7.78 2.81-2.81c.8-.78.8-2.07 0-2.86zM5.41 20L4 18.59l7.72-7.72 1.47 1.35L5.41 20z\"/>\n",
              "  </svg>\n",
              "      </button>\n",
              "      \n",
              "  <style>\n",
              "    .colab-df-container {\n",
              "      display:flex;\n",
              "      flex-wrap:wrap;\n",
              "      gap: 12px;\n",
              "    }\n",
              "\n",
              "    .colab-df-convert {\n",
              "      background-color: #E8F0FE;\n",
              "      border: none;\n",
              "      border-radius: 50%;\n",
              "      cursor: pointer;\n",
              "      display: none;\n",
              "      fill: #1967D2;\n",
              "      height: 32px;\n",
              "      padding: 0 0 0 0;\n",
              "      width: 32px;\n",
              "    }\n",
              "\n",
              "    .colab-df-convert:hover {\n",
              "      background-color: #E2EBFA;\n",
              "      box-shadow: 0px 1px 2px rgba(60, 64, 67, 0.3), 0px 1px 3px 1px rgba(60, 64, 67, 0.15);\n",
              "      fill: #174EA6;\n",
              "    }\n",
              "\n",
              "    [theme=dark] .colab-df-convert {\n",
              "      background-color: #3B4455;\n",
              "      fill: #D2E3FC;\n",
              "    }\n",
              "\n",
              "    [theme=dark] .colab-df-convert:hover {\n",
              "      background-color: #434B5C;\n",
              "      box-shadow: 0px 1px 3px 1px rgba(0, 0, 0, 0.15);\n",
              "      filter: drop-shadow(0px 1px 2px rgba(0, 0, 0, 0.3));\n",
              "      fill: #FFFFFF;\n",
              "    }\n",
              "  </style>\n",
              "\n",
              "      <script>\n",
              "        const buttonEl =\n",
              "          document.querySelector('#df-c5864c64-01ae-4ca4-937a-1ce624b525e0 button.colab-df-convert');\n",
              "        buttonEl.style.display =\n",
              "          google.colab.kernel.accessAllowed ? 'block' : 'none';\n",
              "\n",
              "        async function convertToInteractive(key) {\n",
              "          const element = document.querySelector('#df-c5864c64-01ae-4ca4-937a-1ce624b525e0');\n",
              "          const dataTable =\n",
              "            await google.colab.kernel.invokeFunction('convertToInteractive',\n",
              "                                                     [key], {});\n",
              "          if (!dataTable) return;\n",
              "\n",
              "          const docLinkHtml = 'Like what you see? Visit the ' +\n",
              "            '<a target=\"_blank\" href=https://colab.research.google.com/notebooks/data_table.ipynb>data table notebook</a>'\n",
              "            + ' to learn more about interactive tables.';\n",
              "          element.innerHTML = '';\n",
              "          dataTable['output_type'] = 'display_data';\n",
              "          await google.colab.output.renderOutput(dataTable, element);\n",
              "          const docLink = document.createElement('div');\n",
              "          docLink.innerHTML = docLinkHtml;\n",
              "          element.appendChild(docLink);\n",
              "        }\n",
              "      </script>\n",
              "    </div>\n",
              "  </div>\n",
              "  "
            ]
          },
          "metadata": {},
          "execution_count": 91
        }
      ]
    },
    {
      "cell_type": "code",
      "source": [
        "data.shape"
      ],
      "metadata": {
        "colab": {
          "base_uri": "https://localhost:8080/"
        },
        "id": "qwO8Vp9hEv9j",
        "outputId": "a8dd95e0-a799-40d1-cb09-6a4005c58c1c"
      },
      "execution_count": null,
      "outputs": [
        {
          "output_type": "execute_result",
          "data": {
            "text/plain": [
              "(8678, 12)"
            ]
          },
          "metadata": {},
          "execution_count": 82
        }
      ]
    },
    {
      "cell_type": "code",
      "source": [
        "#Conjunto de prueba\n",
        "test = \"/content/drive/MyDrive/Colab Notebooks/Coding Dojo 🐉/Proyecto 2/test.csv\"\n",
        "data_t = pd.read_csv(test)\n",
        "data_t.head()"
      ],
      "metadata": {
        "colab": {
          "base_uri": "https://localhost:8080/",
          "height": 206
        },
        "id": "JkNKjpPSr5qT",
        "outputId": "236da520-544a-4eb2-efe0-3c23512b5833"
      },
      "execution_count": null,
      "outputs": [
        {
          "output_type": "execute_result",
          "data": {
            "text/plain": [
              "  PassengerId HomePlanet CryoSleep  Cabin  Destination   Age    VIP  \\\n",
              "0     0013_01      Earth      True  G/3/S  TRAPPIST-1e  27.0  False   \n",
              "1     0018_01      Earth     False  F/4/S  TRAPPIST-1e  19.0  False   \n",
              "2     0019_01     Europa      True  C/0/S  55 Cancri e  31.0  False   \n",
              "3     0021_01     Europa     False  C/1/S  TRAPPIST-1e  38.0  False   \n",
              "4     0023_01      Earth     False  F/5/S  TRAPPIST-1e  20.0  False   \n",
              "\n",
              "   RoomService  FoodCourt  ShoppingMall     Spa  VRDeck              Name  \n",
              "0          0.0        0.0           0.0     0.0     0.0   Nelly Carsoning  \n",
              "1          0.0        9.0           0.0  2823.0     0.0    Lerome Peckers  \n",
              "2          0.0        0.0           0.0     0.0     0.0   Sabih Unhearfus  \n",
              "3          0.0     6652.0           0.0   181.0   585.0  Meratz Caltilter  \n",
              "4         10.0        0.0         635.0     0.0     0.0   Brence Harperez  "
            ],
            "text/html": [
              "\n",
              "  <div id=\"df-93980d35-85df-4430-ac9d-50ba649f32e0\">\n",
              "    <div class=\"colab-df-container\">\n",
              "      <div>\n",
              "<style scoped>\n",
              "    .dataframe tbody tr th:only-of-type {\n",
              "        vertical-align: middle;\n",
              "    }\n",
              "\n",
              "    .dataframe tbody tr th {\n",
              "        vertical-align: top;\n",
              "    }\n",
              "\n",
              "    .dataframe thead th {\n",
              "        text-align: right;\n",
              "    }\n",
              "</style>\n",
              "<table border=\"1\" class=\"dataframe\">\n",
              "  <thead>\n",
              "    <tr style=\"text-align: right;\">\n",
              "      <th></th>\n",
              "      <th>PassengerId</th>\n",
              "      <th>HomePlanet</th>\n",
              "      <th>CryoSleep</th>\n",
              "      <th>Cabin</th>\n",
              "      <th>Destination</th>\n",
              "      <th>Age</th>\n",
              "      <th>VIP</th>\n",
              "      <th>RoomService</th>\n",
              "      <th>FoodCourt</th>\n",
              "      <th>ShoppingMall</th>\n",
              "      <th>Spa</th>\n",
              "      <th>VRDeck</th>\n",
              "      <th>Name</th>\n",
              "    </tr>\n",
              "  </thead>\n",
              "  <tbody>\n",
              "    <tr>\n",
              "      <th>0</th>\n",
              "      <td>0013_01</td>\n",
              "      <td>Earth</td>\n",
              "      <td>True</td>\n",
              "      <td>G/3/S</td>\n",
              "      <td>TRAPPIST-1e</td>\n",
              "      <td>27.0</td>\n",
              "      <td>False</td>\n",
              "      <td>0.0</td>\n",
              "      <td>0.0</td>\n",
              "      <td>0.0</td>\n",
              "      <td>0.0</td>\n",
              "      <td>0.0</td>\n",
              "      <td>Nelly Carsoning</td>\n",
              "    </tr>\n",
              "    <tr>\n",
              "      <th>1</th>\n",
              "      <td>0018_01</td>\n",
              "      <td>Earth</td>\n",
              "      <td>False</td>\n",
              "      <td>F/4/S</td>\n",
              "      <td>TRAPPIST-1e</td>\n",
              "      <td>19.0</td>\n",
              "      <td>False</td>\n",
              "      <td>0.0</td>\n",
              "      <td>9.0</td>\n",
              "      <td>0.0</td>\n",
              "      <td>2823.0</td>\n",
              "      <td>0.0</td>\n",
              "      <td>Lerome Peckers</td>\n",
              "    </tr>\n",
              "    <tr>\n",
              "      <th>2</th>\n",
              "      <td>0019_01</td>\n",
              "      <td>Europa</td>\n",
              "      <td>True</td>\n",
              "      <td>C/0/S</td>\n",
              "      <td>55 Cancri e</td>\n",
              "      <td>31.0</td>\n",
              "      <td>False</td>\n",
              "      <td>0.0</td>\n",
              "      <td>0.0</td>\n",
              "      <td>0.0</td>\n",
              "      <td>0.0</td>\n",
              "      <td>0.0</td>\n",
              "      <td>Sabih Unhearfus</td>\n",
              "    </tr>\n",
              "    <tr>\n",
              "      <th>3</th>\n",
              "      <td>0021_01</td>\n",
              "      <td>Europa</td>\n",
              "      <td>False</td>\n",
              "      <td>C/1/S</td>\n",
              "      <td>TRAPPIST-1e</td>\n",
              "      <td>38.0</td>\n",
              "      <td>False</td>\n",
              "      <td>0.0</td>\n",
              "      <td>6652.0</td>\n",
              "      <td>0.0</td>\n",
              "      <td>181.0</td>\n",
              "      <td>585.0</td>\n",
              "      <td>Meratz Caltilter</td>\n",
              "    </tr>\n",
              "    <tr>\n",
              "      <th>4</th>\n",
              "      <td>0023_01</td>\n",
              "      <td>Earth</td>\n",
              "      <td>False</td>\n",
              "      <td>F/5/S</td>\n",
              "      <td>TRAPPIST-1e</td>\n",
              "      <td>20.0</td>\n",
              "      <td>False</td>\n",
              "      <td>10.0</td>\n",
              "      <td>0.0</td>\n",
              "      <td>635.0</td>\n",
              "      <td>0.0</td>\n",
              "      <td>0.0</td>\n",
              "      <td>Brence Harperez</td>\n",
              "    </tr>\n",
              "  </tbody>\n",
              "</table>\n",
              "</div>\n",
              "      <button class=\"colab-df-convert\" onclick=\"convertToInteractive('df-93980d35-85df-4430-ac9d-50ba649f32e0')\"\n",
              "              title=\"Convert this dataframe to an interactive table.\"\n",
              "              style=\"display:none;\">\n",
              "        \n",
              "  <svg xmlns=\"http://www.w3.org/2000/svg\" height=\"24px\"viewBox=\"0 0 24 24\"\n",
              "       width=\"24px\">\n",
              "    <path d=\"M0 0h24v24H0V0z\" fill=\"none\"/>\n",
              "    <path d=\"M18.56 5.44l.94 2.06.94-2.06 2.06-.94-2.06-.94-.94-2.06-.94 2.06-2.06.94zm-11 1L8.5 8.5l.94-2.06 2.06-.94-2.06-.94L8.5 2.5l-.94 2.06-2.06.94zm10 10l.94 2.06.94-2.06 2.06-.94-2.06-.94-.94-2.06-.94 2.06-2.06.94z\"/><path d=\"M17.41 7.96l-1.37-1.37c-.4-.4-.92-.59-1.43-.59-.52 0-1.04.2-1.43.59L10.3 9.45l-7.72 7.72c-.78.78-.78 2.05 0 2.83L4 21.41c.39.39.9.59 1.41.59.51 0 1.02-.2 1.41-.59l7.78-7.78 2.81-2.81c.8-.78.8-2.07 0-2.86zM5.41 20L4 18.59l7.72-7.72 1.47 1.35L5.41 20z\"/>\n",
              "  </svg>\n",
              "      </button>\n",
              "      \n",
              "  <style>\n",
              "    .colab-df-container {\n",
              "      display:flex;\n",
              "      flex-wrap:wrap;\n",
              "      gap: 12px;\n",
              "    }\n",
              "\n",
              "    .colab-df-convert {\n",
              "      background-color: #E8F0FE;\n",
              "      border: none;\n",
              "      border-radius: 50%;\n",
              "      cursor: pointer;\n",
              "      display: none;\n",
              "      fill: #1967D2;\n",
              "      height: 32px;\n",
              "      padding: 0 0 0 0;\n",
              "      width: 32px;\n",
              "    }\n",
              "\n",
              "    .colab-df-convert:hover {\n",
              "      background-color: #E2EBFA;\n",
              "      box-shadow: 0px 1px 2px rgba(60, 64, 67, 0.3), 0px 1px 3px 1px rgba(60, 64, 67, 0.15);\n",
              "      fill: #174EA6;\n",
              "    }\n",
              "\n",
              "    [theme=dark] .colab-df-convert {\n",
              "      background-color: #3B4455;\n",
              "      fill: #D2E3FC;\n",
              "    }\n",
              "\n",
              "    [theme=dark] .colab-df-convert:hover {\n",
              "      background-color: #434B5C;\n",
              "      box-shadow: 0px 1px 3px 1px rgba(0, 0, 0, 0.15);\n",
              "      filter: drop-shadow(0px 1px 2px rgba(0, 0, 0, 0.3));\n",
              "      fill: #FFFFFF;\n",
              "    }\n",
              "  </style>\n",
              "\n",
              "      <script>\n",
              "        const buttonEl =\n",
              "          document.querySelector('#df-93980d35-85df-4430-ac9d-50ba649f32e0 button.colab-df-convert');\n",
              "        buttonEl.style.display =\n",
              "          google.colab.kernel.accessAllowed ? 'block' : 'none';\n",
              "\n",
              "        async function convertToInteractive(key) {\n",
              "          const element = document.querySelector('#df-93980d35-85df-4430-ac9d-50ba649f32e0');\n",
              "          const dataTable =\n",
              "            await google.colab.kernel.invokeFunction('convertToInteractive',\n",
              "                                                     [key], {});\n",
              "          if (!dataTable) return;\n",
              "\n",
              "          const docLinkHtml = 'Like what you see? Visit the ' +\n",
              "            '<a target=\"_blank\" href=https://colab.research.google.com/notebooks/data_table.ipynb>data table notebook</a>'\n",
              "            + ' to learn more about interactive tables.';\n",
              "          element.innerHTML = '';\n",
              "          dataTable['output_type'] = 'display_data';\n",
              "          await google.colab.output.renderOutput(dataTable, element);\n",
              "          const docLink = document.createElement('div');\n",
              "          docLink.innerHTML = docLinkHtml;\n",
              "          element.appendChild(docLink);\n",
              "        }\n",
              "      </script>\n",
              "    </div>\n",
              "  </div>\n",
              "  "
            ]
          },
          "metadata": {},
          "execution_count": 89
        }
      ]
    },
    {
      "cell_type": "markdown",
      "source": [
        "## **Manipulación de datos**"
      ],
      "metadata": {
        "id": "YtCb-9yzqaON"
      }
    },
    {
      "cell_type": "code",
      "source": [
        "#Elimina las columnas \"PassengerId\" y \"Name\"\n",
        "#Data \n",
        "data = data.drop(columns = [\"PassengerId\", \"Name\"])\n",
        "\n",
        "#Data_test \n",
        "data_test = data_t.drop(columns = [\"PassengerId\",\"Name\"])"
      ],
      "metadata": {
        "id": "KWPYmja9ppXd"
      },
      "execution_count": null,
      "outputs": []
    },
    {
      "cell_type": "code",
      "source": [
        "data.head()"
      ],
      "metadata": {
        "colab": {
          "base_uri": "https://localhost:8080/",
          "height": 206
        },
        "id": "69xMxClXLKM8",
        "outputId": "0f496309-74b0-4417-847e-90bd1a263546"
      },
      "execution_count": null,
      "outputs": [
        {
          "output_type": "execute_result",
          "data": {
            "text/plain": [
              "  HomePlanet CryoSleep  Cabin  Destination   Age    VIP  RoomService  \\\n",
              "0     Europa     False  B/0/P  TRAPPIST-1e  39.0  False          0.0   \n",
              "1      Earth     False  F/0/S  TRAPPIST-1e  24.0  False        109.0   \n",
              "2     Europa     False  A/0/S  TRAPPIST-1e  58.0   True         43.0   \n",
              "3     Europa     False  A/0/S  TRAPPIST-1e  33.0  False          0.0   \n",
              "4      Earth     False  F/1/S  TRAPPIST-1e  16.0  False        303.0   \n",
              "\n",
              "   FoodCourt  ShoppingMall     Spa  VRDeck  Transported  \n",
              "0        0.0           0.0     0.0     0.0        False  \n",
              "1        9.0          25.0   549.0    44.0         True  \n",
              "2     3576.0           0.0  6715.0    49.0        False  \n",
              "3     1283.0         371.0  3329.0   193.0        False  \n",
              "4       70.0         151.0   565.0     2.0         True  "
            ],
            "text/html": [
              "\n",
              "  <div id=\"df-8e9ad9b2-1501-400f-b806-1ec678ca0ea1\">\n",
              "    <div class=\"colab-df-container\">\n",
              "      <div>\n",
              "<style scoped>\n",
              "    .dataframe tbody tr th:only-of-type {\n",
              "        vertical-align: middle;\n",
              "    }\n",
              "\n",
              "    .dataframe tbody tr th {\n",
              "        vertical-align: top;\n",
              "    }\n",
              "\n",
              "    .dataframe thead th {\n",
              "        text-align: right;\n",
              "    }\n",
              "</style>\n",
              "<table border=\"1\" class=\"dataframe\">\n",
              "  <thead>\n",
              "    <tr style=\"text-align: right;\">\n",
              "      <th></th>\n",
              "      <th>HomePlanet</th>\n",
              "      <th>CryoSleep</th>\n",
              "      <th>Cabin</th>\n",
              "      <th>Destination</th>\n",
              "      <th>Age</th>\n",
              "      <th>VIP</th>\n",
              "      <th>RoomService</th>\n",
              "      <th>FoodCourt</th>\n",
              "      <th>ShoppingMall</th>\n",
              "      <th>Spa</th>\n",
              "      <th>VRDeck</th>\n",
              "      <th>Transported</th>\n",
              "    </tr>\n",
              "  </thead>\n",
              "  <tbody>\n",
              "    <tr>\n",
              "      <th>0</th>\n",
              "      <td>Europa</td>\n",
              "      <td>False</td>\n",
              "      <td>B/0/P</td>\n",
              "      <td>TRAPPIST-1e</td>\n",
              "      <td>39.0</td>\n",
              "      <td>False</td>\n",
              "      <td>0.0</td>\n",
              "      <td>0.0</td>\n",
              "      <td>0.0</td>\n",
              "      <td>0.0</td>\n",
              "      <td>0.0</td>\n",
              "      <td>False</td>\n",
              "    </tr>\n",
              "    <tr>\n",
              "      <th>1</th>\n",
              "      <td>Earth</td>\n",
              "      <td>False</td>\n",
              "      <td>F/0/S</td>\n",
              "      <td>TRAPPIST-1e</td>\n",
              "      <td>24.0</td>\n",
              "      <td>False</td>\n",
              "      <td>109.0</td>\n",
              "      <td>9.0</td>\n",
              "      <td>25.0</td>\n",
              "      <td>549.0</td>\n",
              "      <td>44.0</td>\n",
              "      <td>True</td>\n",
              "    </tr>\n",
              "    <tr>\n",
              "      <th>2</th>\n",
              "      <td>Europa</td>\n",
              "      <td>False</td>\n",
              "      <td>A/0/S</td>\n",
              "      <td>TRAPPIST-1e</td>\n",
              "      <td>58.0</td>\n",
              "      <td>True</td>\n",
              "      <td>43.0</td>\n",
              "      <td>3576.0</td>\n",
              "      <td>0.0</td>\n",
              "      <td>6715.0</td>\n",
              "      <td>49.0</td>\n",
              "      <td>False</td>\n",
              "    </tr>\n",
              "    <tr>\n",
              "      <th>3</th>\n",
              "      <td>Europa</td>\n",
              "      <td>False</td>\n",
              "      <td>A/0/S</td>\n",
              "      <td>TRAPPIST-1e</td>\n",
              "      <td>33.0</td>\n",
              "      <td>False</td>\n",
              "      <td>0.0</td>\n",
              "      <td>1283.0</td>\n",
              "      <td>371.0</td>\n",
              "      <td>3329.0</td>\n",
              "      <td>193.0</td>\n",
              "      <td>False</td>\n",
              "    </tr>\n",
              "    <tr>\n",
              "      <th>4</th>\n",
              "      <td>Earth</td>\n",
              "      <td>False</td>\n",
              "      <td>F/1/S</td>\n",
              "      <td>TRAPPIST-1e</td>\n",
              "      <td>16.0</td>\n",
              "      <td>False</td>\n",
              "      <td>303.0</td>\n",
              "      <td>70.0</td>\n",
              "      <td>151.0</td>\n",
              "      <td>565.0</td>\n",
              "      <td>2.0</td>\n",
              "      <td>True</td>\n",
              "    </tr>\n",
              "  </tbody>\n",
              "</table>\n",
              "</div>\n",
              "      <button class=\"colab-df-convert\" onclick=\"convertToInteractive('df-8e9ad9b2-1501-400f-b806-1ec678ca0ea1')\"\n",
              "              title=\"Convert this dataframe to an interactive table.\"\n",
              "              style=\"display:none;\">\n",
              "        \n",
              "  <svg xmlns=\"http://www.w3.org/2000/svg\" height=\"24px\"viewBox=\"0 0 24 24\"\n",
              "       width=\"24px\">\n",
              "    <path d=\"M0 0h24v24H0V0z\" fill=\"none\"/>\n",
              "    <path d=\"M18.56 5.44l.94 2.06.94-2.06 2.06-.94-2.06-.94-.94-2.06-.94 2.06-2.06.94zm-11 1L8.5 8.5l.94-2.06 2.06-.94-2.06-.94L8.5 2.5l-.94 2.06-2.06.94zm10 10l.94 2.06.94-2.06 2.06-.94-2.06-.94-.94-2.06-.94 2.06-2.06.94z\"/><path d=\"M17.41 7.96l-1.37-1.37c-.4-.4-.92-.59-1.43-.59-.52 0-1.04.2-1.43.59L10.3 9.45l-7.72 7.72c-.78.78-.78 2.05 0 2.83L4 21.41c.39.39.9.59 1.41.59.51 0 1.02-.2 1.41-.59l7.78-7.78 2.81-2.81c.8-.78.8-2.07 0-2.86zM5.41 20L4 18.59l7.72-7.72 1.47 1.35L5.41 20z\"/>\n",
              "  </svg>\n",
              "      </button>\n",
              "      \n",
              "  <style>\n",
              "    .colab-df-container {\n",
              "      display:flex;\n",
              "      flex-wrap:wrap;\n",
              "      gap: 12px;\n",
              "    }\n",
              "\n",
              "    .colab-df-convert {\n",
              "      background-color: #E8F0FE;\n",
              "      border: none;\n",
              "      border-radius: 50%;\n",
              "      cursor: pointer;\n",
              "      display: none;\n",
              "      fill: #1967D2;\n",
              "      height: 32px;\n",
              "      padding: 0 0 0 0;\n",
              "      width: 32px;\n",
              "    }\n",
              "\n",
              "    .colab-df-convert:hover {\n",
              "      background-color: #E2EBFA;\n",
              "      box-shadow: 0px 1px 2px rgba(60, 64, 67, 0.3), 0px 1px 3px 1px rgba(60, 64, 67, 0.15);\n",
              "      fill: #174EA6;\n",
              "    }\n",
              "\n",
              "    [theme=dark] .colab-df-convert {\n",
              "      background-color: #3B4455;\n",
              "      fill: #D2E3FC;\n",
              "    }\n",
              "\n",
              "    [theme=dark] .colab-df-convert:hover {\n",
              "      background-color: #434B5C;\n",
              "      box-shadow: 0px 1px 3px 1px rgba(0, 0, 0, 0.15);\n",
              "      filter: drop-shadow(0px 1px 2px rgba(0, 0, 0, 0.3));\n",
              "      fill: #FFFFFF;\n",
              "    }\n",
              "  </style>\n",
              "\n",
              "      <script>\n",
              "        const buttonEl =\n",
              "          document.querySelector('#df-8e9ad9b2-1501-400f-b806-1ec678ca0ea1 button.colab-df-convert');\n",
              "        buttonEl.style.display =\n",
              "          google.colab.kernel.accessAllowed ? 'block' : 'none';\n",
              "\n",
              "        async function convertToInteractive(key) {\n",
              "          const element = document.querySelector('#df-8e9ad9b2-1501-400f-b806-1ec678ca0ea1');\n",
              "          const dataTable =\n",
              "            await google.colab.kernel.invokeFunction('convertToInteractive',\n",
              "                                                     [key], {});\n",
              "          if (!dataTable) return;\n",
              "\n",
              "          const docLinkHtml = 'Like what you see? Visit the ' +\n",
              "            '<a target=\"_blank\" href=https://colab.research.google.com/notebooks/data_table.ipynb>data table notebook</a>'\n",
              "            + ' to learn more about interactive tables.';\n",
              "          element.innerHTML = '';\n",
              "          dataTable['output_type'] = 'display_data';\n",
              "          await google.colab.output.renderOutput(dataTable, element);\n",
              "          const docLink = document.createElement('div');\n",
              "          docLink.innerHTML = docLinkHtml;\n",
              "          element.appendChild(docLink);\n",
              "        }\n",
              "      </script>\n",
              "    </div>\n",
              "  </div>\n",
              "  "
            ]
          },
          "metadata": {},
          "execution_count": 6
        }
      ]
    },
    {
      "cell_type": "markdown",
      "source": [
        "### **Datos duplicados**"
      ],
      "metadata": {
        "id": "KPEUm5YAMqJU"
      }
    },
    {
      "cell_type": "code",
      "source": [
        "#Data\n",
        "data.duplicated().sum()"
      ],
      "metadata": {
        "colab": {
          "base_uri": "https://localhost:8080/"
        },
        "id": "EuX3JBkFMtzD",
        "outputId": "e821284d-5339-4aa1-d310-08c31f431b72"
      },
      "execution_count": null,
      "outputs": [
        {
          "output_type": "execute_result",
          "data": {
            "text/plain": [
              "15"
            ]
          },
          "metadata": {},
          "execution_count": 93
        }
      ]
    },
    {
      "cell_type": "code",
      "source": [
        "#Elimina los datos duplicados\n",
        "data = data.drop_duplicates()\n",
        "data.duplicated().sum()"
      ],
      "metadata": {
        "colab": {
          "base_uri": "https://localhost:8080/"
        },
        "id": "8iQBgyuPMzcL",
        "outputId": "d774b3c2-e968-45bc-a8a2-78fed9f36532"
      },
      "execution_count": null,
      "outputs": [
        {
          "output_type": "execute_result",
          "data": {
            "text/plain": [
              "0"
            ]
          },
          "metadata": {},
          "execution_count": 94
        }
      ]
    },
    {
      "cell_type": "code",
      "source": [
        "#Data_test\n",
        "data_test.duplicated().sum()"
      ],
      "metadata": {
        "colab": {
          "base_uri": "https://localhost:8080/"
        },
        "id": "efM783dBM6_1",
        "outputId": "8a4fec70-095e-47a9-a306-6b67c71dc589"
      },
      "execution_count": null,
      "outputs": [
        {
          "output_type": "execute_result",
          "data": {
            "text/plain": [
              "11"
            ]
          },
          "metadata": {},
          "execution_count": 95
        }
      ]
    },
    {
      "cell_type": "code",
      "source": [
        "#Elimina los datos duplicados\n",
        "data_test = data_test.drop_duplicates()\n",
        "data_test.duplicated().sum()"
      ],
      "metadata": {
        "colab": {
          "base_uri": "https://localhost:8080/"
        },
        "id": "YBkwatN2NAgs",
        "outputId": "5fd5d95a-0e4a-48b4-c8ee-d0e8550446fc"
      },
      "execution_count": null,
      "outputs": [
        {
          "output_type": "execute_result",
          "data": {
            "text/plain": [
              "0"
            ]
          },
          "metadata": {},
          "execution_count": 96
        }
      ]
    },
    {
      "cell_type": "markdown",
      "source": [
        "### **Tipo de datos**"
      ],
      "metadata": {
        "id": "ZMhJNPzfL_c2"
      }
    },
    {
      "cell_type": "code",
      "source": [
        "#Data\n",
        "data.info()"
      ],
      "metadata": {
        "colab": {
          "base_uri": "https://localhost:8080/"
        },
        "id": "HUTWFLE5Lcs9",
        "outputId": "91bec26d-0ecc-4782-80b9-e93bef23c21f"
      },
      "execution_count": null,
      "outputs": [
        {
          "output_type": "stream",
          "name": "stdout",
          "text": [
            "<class 'pandas.core.frame.DataFrame'>\n",
            "Int64Index: 8678 entries, 0 to 8692\n",
            "Data columns (total 12 columns):\n",
            " #   Column        Non-Null Count  Dtype  \n",
            "---  ------        --------------  -----  \n",
            " 0   HomePlanet    8477 non-null   object \n",
            " 1   CryoSleep     8461 non-null   object \n",
            " 2   Cabin         8485 non-null   object \n",
            " 3   Destination   8496 non-null   object \n",
            " 4   Age           8499 non-null   float64\n",
            " 5   VIP           8475 non-null   object \n",
            " 6   RoomService   8497 non-null   float64\n",
            " 7   FoodCourt     8495 non-null   float64\n",
            " 8   ShoppingMall  8470 non-null   float64\n",
            " 9   Spa           8495 non-null   float64\n",
            " 10  VRDeck        8490 non-null   float64\n",
            " 11  Transported   8678 non-null   bool   \n",
            "dtypes: bool(1), float64(6), object(5)\n",
            "memory usage: 822.0+ KB\n"
          ]
        }
      ]
    },
    {
      "cell_type": "code",
      "source": [
        "#Data_test\n",
        "data_test.info()"
      ],
      "metadata": {
        "colab": {
          "base_uri": "https://localhost:8080/"
        },
        "id": "Agz-wU00NPiW",
        "outputId": "66121f5c-fadf-4411-9ba0-7cd9f6d4dfdc"
      },
      "execution_count": null,
      "outputs": [
        {
          "output_type": "stream",
          "name": "stdout",
          "text": [
            "<class 'pandas.core.frame.DataFrame'>\n",
            "Int64Index: 4266 entries, 0 to 4276\n",
            "Data columns (total 11 columns):\n",
            " #   Column        Non-Null Count  Dtype  \n",
            "---  ------        --------------  -----  \n",
            " 0   HomePlanet    4179 non-null   object \n",
            " 1   CryoSleep     4173 non-null   object \n",
            " 2   Cabin         4169 non-null   object \n",
            " 3   Destination   4174 non-null   object \n",
            " 4   Age           4175 non-null   float64\n",
            " 5   VIP           4173 non-null   object \n",
            " 6   RoomService   4184 non-null   float64\n",
            " 7   FoodCourt     4160 non-null   float64\n",
            " 8   ShoppingMall  4168 non-null   float64\n",
            " 9   Spa           4165 non-null   float64\n",
            " 10  VRDeck        4186 non-null   float64\n",
            "dtypes: float64(6), object(5)\n",
            "memory usage: 399.9+ KB\n"
          ]
        }
      ]
    },
    {
      "cell_type": "markdown",
      "source": [
        "### **Datos nulos**\n",
        "\n",
        "Se reemplazará los datos nulos de las columnas \"RoomService\", \"FoodCourt\", \"ShoppingMall\", \"Spa\" y \"VRDeck\" por el valor 0. Mientras que los datos en la columna \"Age\" se reemplazará por la media, y los datos nulos en la columna \"HomePlanet\", \"CryoSleep\" y \"Destination\" por el valor más frecuente. Finalmente, los datos faltantes en la columna \"Cabin\" se reemplazarán por la etiqueta \"No provided\"."
      ],
      "metadata": {
        "id": "3eIyVWwNMjtK"
      }
    },
    {
      "cell_type": "code",
      "source": [
        "#Data\n",
        "data.isna().sum()"
      ],
      "metadata": {
        "colab": {
          "base_uri": "https://localhost:8080/"
        },
        "id": "HTDAz9wYMB8I",
        "outputId": "18b4298e-a117-4f6b-df2f-40acdae0165a"
      },
      "execution_count": null,
      "outputs": [
        {
          "output_type": "execute_result",
          "data": {
            "text/plain": [
              "HomePlanet      201\n",
              "CryoSleep       217\n",
              "Cabin           193\n",
              "Destination     182\n",
              "Age             179\n",
              "VIP             203\n",
              "RoomService     181\n",
              "FoodCourt       183\n",
              "ShoppingMall    208\n",
              "Spa             183\n",
              "VRDeck          188\n",
              "Transported       0\n",
              "dtype: int64"
            ]
          },
          "metadata": {},
          "execution_count": 99
        }
      ]
    },
    {
      "cell_type": "code",
      "source": [
        "#Data_test \n",
        "data_test.isna().sum()"
      ],
      "metadata": {
        "colab": {
          "base_uri": "https://localhost:8080/"
        },
        "id": "l95q1uf8OAz3",
        "outputId": "d123d6b7-f96d-4d51-c544-2318e37946b6"
      },
      "execution_count": null,
      "outputs": [
        {
          "output_type": "execute_result",
          "data": {
            "text/plain": [
              "HomePlanet       87\n",
              "CryoSleep        93\n",
              "Cabin            97\n",
              "Destination      92\n",
              "Age              91\n",
              "VIP              93\n",
              "RoomService      82\n",
              "FoodCourt       106\n",
              "ShoppingMall     98\n",
              "Spa             101\n",
              "VRDeck           80\n",
              "dtype: int64"
            ]
          },
          "metadata": {},
          "execution_count": 100
        }
      ]
    },
    {
      "cell_type": "code",
      "source": [
        "def fill_values(df):\n",
        "    df['ShoppingMall'] = SimpleImputer(strategy='constant',fill_value=0).fit_transform(df[['ShoppingMall']])\n",
        "    df['RoomService'] = SimpleImputer(strategy='constant',fill_value=0).fit_transform(df[['RoomService']])\n",
        "    df['FoodCourt'] = SimpleImputer(strategy='constant',fill_value=0).fit_transform(df[['FoodCourt']])\n",
        "    df['Spa'] = SimpleImputer(strategy='constant',fill_value=0).fit_transform(df[['Spa']])\n",
        "    df['VRDeck'] = SimpleImputer(strategy='constant',fill_value=0).fit_transform(df[['VRDeck']])\n",
        "    df['Age'] = SimpleImputer(missing_values=np.nan,strategy='mean').fit_transform(df[['Age']])\n",
        "    df['HomePlanet'] = SimpleImputer(strategy='most_frequent').fit_transform(df[['HomePlanet']])\n",
        "    df['CryoSleep'] = SimpleImputer(strategy='most_frequent').fit_transform(df[['CryoSleep']])\n",
        "    df['Cabin'] = SimpleImputer(strategy='constant', fill_value=\"No provided\").fit_transform(df[['Cabin']])\n",
        "    df['Destination'] = SimpleImputer(strategy='most_frequent').fit_transform(df[['Destination']])\n",
        "    df['VIP'] = SimpleImputer(strategy='most_frequent').fit_transform(df[['VIP']])\n",
        "\n",
        "fill_values(data)\n",
        "fill_values(data_test)"
      ],
      "metadata": {
        "id": "e6J1Zf8lOc1o"
      },
      "execution_count": null,
      "outputs": []
    },
    {
      "cell_type": "code",
      "source": [
        "data.head()"
      ],
      "metadata": {
        "colab": {
          "base_uri": "https://localhost:8080/",
          "height": 206
        },
        "id": "iWMw2TcOO3rU",
        "outputId": "0419d35b-9f56-4698-f402-4eb336dc66ed"
      },
      "execution_count": null,
      "outputs": [
        {
          "output_type": "execute_result",
          "data": {
            "text/plain": [
              "  HomePlanet CryoSleep  Cabin  Destination   Age    VIP  RoomService  \\\n",
              "0     Europa     False  B/0/P  TRAPPIST-1e  39.0  False          0.0   \n",
              "1      Earth     False  F/0/S  TRAPPIST-1e  24.0  False        109.0   \n",
              "2     Europa     False  A/0/S  TRAPPIST-1e  58.0   True         43.0   \n",
              "3     Europa     False  A/0/S  TRAPPIST-1e  33.0  False          0.0   \n",
              "4      Earth     False  F/1/S  TRAPPIST-1e  16.0  False        303.0   \n",
              "\n",
              "   FoodCourt  ShoppingMall     Spa  VRDeck  Transported  \n",
              "0        0.0           0.0     0.0     0.0        False  \n",
              "1        9.0          25.0   549.0    44.0         True  \n",
              "2     3576.0           0.0  6715.0    49.0        False  \n",
              "3     1283.0         371.0  3329.0   193.0        False  \n",
              "4       70.0         151.0   565.0     2.0         True  "
            ],
            "text/html": [
              "\n",
              "  <div id=\"df-b2767e55-c3d9-4f26-ae90-e150f197e2be\">\n",
              "    <div class=\"colab-df-container\">\n",
              "      <div>\n",
              "<style scoped>\n",
              "    .dataframe tbody tr th:only-of-type {\n",
              "        vertical-align: middle;\n",
              "    }\n",
              "\n",
              "    .dataframe tbody tr th {\n",
              "        vertical-align: top;\n",
              "    }\n",
              "\n",
              "    .dataframe thead th {\n",
              "        text-align: right;\n",
              "    }\n",
              "</style>\n",
              "<table border=\"1\" class=\"dataframe\">\n",
              "  <thead>\n",
              "    <tr style=\"text-align: right;\">\n",
              "      <th></th>\n",
              "      <th>HomePlanet</th>\n",
              "      <th>CryoSleep</th>\n",
              "      <th>Cabin</th>\n",
              "      <th>Destination</th>\n",
              "      <th>Age</th>\n",
              "      <th>VIP</th>\n",
              "      <th>RoomService</th>\n",
              "      <th>FoodCourt</th>\n",
              "      <th>ShoppingMall</th>\n",
              "      <th>Spa</th>\n",
              "      <th>VRDeck</th>\n",
              "      <th>Transported</th>\n",
              "    </tr>\n",
              "  </thead>\n",
              "  <tbody>\n",
              "    <tr>\n",
              "      <th>0</th>\n",
              "      <td>Europa</td>\n",
              "      <td>False</td>\n",
              "      <td>B/0/P</td>\n",
              "      <td>TRAPPIST-1e</td>\n",
              "      <td>39.0</td>\n",
              "      <td>False</td>\n",
              "      <td>0.0</td>\n",
              "      <td>0.0</td>\n",
              "      <td>0.0</td>\n",
              "      <td>0.0</td>\n",
              "      <td>0.0</td>\n",
              "      <td>False</td>\n",
              "    </tr>\n",
              "    <tr>\n",
              "      <th>1</th>\n",
              "      <td>Earth</td>\n",
              "      <td>False</td>\n",
              "      <td>F/0/S</td>\n",
              "      <td>TRAPPIST-1e</td>\n",
              "      <td>24.0</td>\n",
              "      <td>False</td>\n",
              "      <td>109.0</td>\n",
              "      <td>9.0</td>\n",
              "      <td>25.0</td>\n",
              "      <td>549.0</td>\n",
              "      <td>44.0</td>\n",
              "      <td>True</td>\n",
              "    </tr>\n",
              "    <tr>\n",
              "      <th>2</th>\n",
              "      <td>Europa</td>\n",
              "      <td>False</td>\n",
              "      <td>A/0/S</td>\n",
              "      <td>TRAPPIST-1e</td>\n",
              "      <td>58.0</td>\n",
              "      <td>True</td>\n",
              "      <td>43.0</td>\n",
              "      <td>3576.0</td>\n",
              "      <td>0.0</td>\n",
              "      <td>6715.0</td>\n",
              "      <td>49.0</td>\n",
              "      <td>False</td>\n",
              "    </tr>\n",
              "    <tr>\n",
              "      <th>3</th>\n",
              "      <td>Europa</td>\n",
              "      <td>False</td>\n",
              "      <td>A/0/S</td>\n",
              "      <td>TRAPPIST-1e</td>\n",
              "      <td>33.0</td>\n",
              "      <td>False</td>\n",
              "      <td>0.0</td>\n",
              "      <td>1283.0</td>\n",
              "      <td>371.0</td>\n",
              "      <td>3329.0</td>\n",
              "      <td>193.0</td>\n",
              "      <td>False</td>\n",
              "    </tr>\n",
              "    <tr>\n",
              "      <th>4</th>\n",
              "      <td>Earth</td>\n",
              "      <td>False</td>\n",
              "      <td>F/1/S</td>\n",
              "      <td>TRAPPIST-1e</td>\n",
              "      <td>16.0</td>\n",
              "      <td>False</td>\n",
              "      <td>303.0</td>\n",
              "      <td>70.0</td>\n",
              "      <td>151.0</td>\n",
              "      <td>565.0</td>\n",
              "      <td>2.0</td>\n",
              "      <td>True</td>\n",
              "    </tr>\n",
              "  </tbody>\n",
              "</table>\n",
              "</div>\n",
              "      <button class=\"colab-df-convert\" onclick=\"convertToInteractive('df-b2767e55-c3d9-4f26-ae90-e150f197e2be')\"\n",
              "              title=\"Convert this dataframe to an interactive table.\"\n",
              "              style=\"display:none;\">\n",
              "        \n",
              "  <svg xmlns=\"http://www.w3.org/2000/svg\" height=\"24px\"viewBox=\"0 0 24 24\"\n",
              "       width=\"24px\">\n",
              "    <path d=\"M0 0h24v24H0V0z\" fill=\"none\"/>\n",
              "    <path d=\"M18.56 5.44l.94 2.06.94-2.06 2.06-.94-2.06-.94-.94-2.06-.94 2.06-2.06.94zm-11 1L8.5 8.5l.94-2.06 2.06-.94-2.06-.94L8.5 2.5l-.94 2.06-2.06.94zm10 10l.94 2.06.94-2.06 2.06-.94-2.06-.94-.94-2.06-.94 2.06-2.06.94z\"/><path d=\"M17.41 7.96l-1.37-1.37c-.4-.4-.92-.59-1.43-.59-.52 0-1.04.2-1.43.59L10.3 9.45l-7.72 7.72c-.78.78-.78 2.05 0 2.83L4 21.41c.39.39.9.59 1.41.59.51 0 1.02-.2 1.41-.59l7.78-7.78 2.81-2.81c.8-.78.8-2.07 0-2.86zM5.41 20L4 18.59l7.72-7.72 1.47 1.35L5.41 20z\"/>\n",
              "  </svg>\n",
              "      </button>\n",
              "      \n",
              "  <style>\n",
              "    .colab-df-container {\n",
              "      display:flex;\n",
              "      flex-wrap:wrap;\n",
              "      gap: 12px;\n",
              "    }\n",
              "\n",
              "    .colab-df-convert {\n",
              "      background-color: #E8F0FE;\n",
              "      border: none;\n",
              "      border-radius: 50%;\n",
              "      cursor: pointer;\n",
              "      display: none;\n",
              "      fill: #1967D2;\n",
              "      height: 32px;\n",
              "      padding: 0 0 0 0;\n",
              "      width: 32px;\n",
              "    }\n",
              "\n",
              "    .colab-df-convert:hover {\n",
              "      background-color: #E2EBFA;\n",
              "      box-shadow: 0px 1px 2px rgba(60, 64, 67, 0.3), 0px 1px 3px 1px rgba(60, 64, 67, 0.15);\n",
              "      fill: #174EA6;\n",
              "    }\n",
              "\n",
              "    [theme=dark] .colab-df-convert {\n",
              "      background-color: #3B4455;\n",
              "      fill: #D2E3FC;\n",
              "    }\n",
              "\n",
              "    [theme=dark] .colab-df-convert:hover {\n",
              "      background-color: #434B5C;\n",
              "      box-shadow: 0px 1px 3px 1px rgba(0, 0, 0, 0.15);\n",
              "      filter: drop-shadow(0px 1px 2px rgba(0, 0, 0, 0.3));\n",
              "      fill: #FFFFFF;\n",
              "    }\n",
              "  </style>\n",
              "\n",
              "      <script>\n",
              "        const buttonEl =\n",
              "          document.querySelector('#df-b2767e55-c3d9-4f26-ae90-e150f197e2be button.colab-df-convert');\n",
              "        buttonEl.style.display =\n",
              "          google.colab.kernel.accessAllowed ? 'block' : 'none';\n",
              "\n",
              "        async function convertToInteractive(key) {\n",
              "          const element = document.querySelector('#df-b2767e55-c3d9-4f26-ae90-e150f197e2be');\n",
              "          const dataTable =\n",
              "            await google.colab.kernel.invokeFunction('convertToInteractive',\n",
              "                                                     [key], {});\n",
              "          if (!dataTable) return;\n",
              "\n",
              "          const docLinkHtml = 'Like what you see? Visit the ' +\n",
              "            '<a target=\"_blank\" href=https://colab.research.google.com/notebooks/data_table.ipynb>data table notebook</a>'\n",
              "            + ' to learn more about interactive tables.';\n",
              "          element.innerHTML = '';\n",
              "          dataTable['output_type'] = 'display_data';\n",
              "          await google.colab.output.renderOutput(dataTable, element);\n",
              "          const docLink = document.createElement('div');\n",
              "          docLink.innerHTML = docLinkHtml;\n",
              "          element.appendChild(docLink);\n",
              "        }\n",
              "      </script>\n",
              "    </div>\n",
              "  </div>\n",
              "  "
            ]
          },
          "metadata": {},
          "execution_count": 102
        }
      ]
    },
    {
      "cell_type": "code",
      "source": [
        "#Verifica que no haya datos nulos \n",
        "#Data, Data_test\n",
        "data.isna().sum(), data_test.isna().sum()"
      ],
      "metadata": {
        "colab": {
          "base_uri": "https://localhost:8080/"
        },
        "id": "sxxKKelYO4-g",
        "outputId": "2facf4fd-fae1-4ae4-9b2b-d3d1f8571111"
      },
      "execution_count": null,
      "outputs": [
        {
          "output_type": "execute_result",
          "data": {
            "text/plain": [
              "(HomePlanet      0\n",
              " CryoSleep       0\n",
              " Cabin           0\n",
              " Destination     0\n",
              " Age             0\n",
              " VIP             0\n",
              " RoomService     0\n",
              " FoodCourt       0\n",
              " ShoppingMall    0\n",
              " Spa             0\n",
              " VRDeck          0\n",
              " Transported     0\n",
              " dtype: int64, HomePlanet      0\n",
              " CryoSleep       0\n",
              " Cabin           0\n",
              " Destination     0\n",
              " Age             0\n",
              " VIP             0\n",
              " RoomService     0\n",
              " FoodCourt       0\n",
              " ShoppingMall    0\n",
              " Spa             0\n",
              " VRDeck          0\n",
              " dtype: int64)"
            ]
          },
          "metadata": {},
          "execution_count": 103
        }
      ]
    },
    {
      "cell_type": "code",
      "source": [
        "#Cambia el tipo de dato de la columna \"Age\" de flotante a entero \n",
        "#Data\n",
        "data[\"Age\"] = data[\"Age\"].astype(int)\n",
        "\n",
        "#Data_test\n",
        "data_test[\"Age\"] = data_test[\"Age\"].astype(int)\n",
        "\n",
        "data.info()"
      ],
      "metadata": {
        "colab": {
          "base_uri": "https://localhost:8080/"
        },
        "id": "yZi4b7SkPF5a",
        "outputId": "44df6fb6-c615-44cd-be45-fe7ec65cf824"
      },
      "execution_count": null,
      "outputs": [
        {
          "output_type": "stream",
          "name": "stdout",
          "text": [
            "<class 'pandas.core.frame.DataFrame'>\n",
            "Int64Index: 8678 entries, 0 to 8692\n",
            "Data columns (total 12 columns):\n",
            " #   Column        Non-Null Count  Dtype  \n",
            "---  ------        --------------  -----  \n",
            " 0   HomePlanet    8678 non-null   object \n",
            " 1   CryoSleep     8678 non-null   object \n",
            " 2   Cabin         8678 non-null   object \n",
            " 3   Destination   8678 non-null   object \n",
            " 4   Age           8678 non-null   int64  \n",
            " 5   VIP           8678 non-null   object \n",
            " 6   RoomService   8678 non-null   float64\n",
            " 7   FoodCourt     8678 non-null   float64\n",
            " 8   ShoppingMall  8678 non-null   float64\n",
            " 9   Spa           8678 non-null   float64\n",
            " 10  VRDeck        8678 non-null   float64\n",
            " 11  Transported   8678 non-null   bool   \n",
            "dtypes: bool(1), float64(5), int64(1), object(5)\n",
            "memory usage: 822.0+ KB\n"
          ]
        }
      ]
    },
    {
      "cell_type": "code",
      "source": [
        "#Codifica la columna \"Transported\" en False = 0 y True = 1 y nos muestra la proporción en \n",
        "#comparación a la cantidad de datos que tenemos\n",
        "\n",
        "enc = LabelEncoder()\n",
        "data['Transported'] = enc.fit_transform(data['Transported'])\n",
        "t = sns.countplot(data=data,x=data.Transported, palette = [\"#7abbff\", \"#66cccc\"])\n",
        "t.tick_params(labelsize=12)\n",
        "t.set_xlabel(\"Transported\", fontsize = 14)\n",
        "t.set_ylabel(\"Count\", fontsize = 14);"
      ],
      "metadata": {
        "colab": {
          "base_uri": "https://localhost:8080/",
          "height": 286
        },
        "id": "YACMi_EaP0Z8",
        "outputId": "7c052391-398d-4094-95ee-95a844a469ff"
      },
      "execution_count": null,
      "outputs": [
        {
          "output_type": "display_data",
          "data": {
            "text/plain": [
              "<Figure size 432x288 with 1 Axes>"
            ],
            "image/png": "[encoded data removed]"
          },
          "metadata": {
            "needs_background": "light"
          }
        }
      ]
    },
    {
      "cell_type": "markdown",
      "source": [
        "## **Feature Engineering**"
      ],
      "metadata": {
        "id": "Xro_4a5iTyV6"
      }
    },
    {
      "cell_type": "code",
      "source": [
        "#Se cream tres columnas una: la primera regresenta los gastos totales, es la \n",
        "#suma de las columnas RoomService, FoodCourt, ShoppingMall, Spa y VRDeck. \n",
        "#La segunda representa los gastos básicos (\"RoomService\" y \"FoodCourt\")\n",
        "#La tercera representa los gastos lujosos (\"ShoppingMall\", \"Spa\" y \"VRDeck\")\n",
        "\n",
        "#Data\n",
        "data['total_exp'] = data['ShoppingMall']+data['Spa']+data['VRDeck']+data['FoodCourt']+data['RoomService']\n",
        "data['B_needs'] = data['RoomService']+data['FoodCourt']\n",
        "data['L_needs'] = data['ShoppingMall']+data['Spa']+data['VRDeck']\n",
        "data = data.drop(columns = [\"RoomService\", \"FoodCourt\", \"ShoppingMall\", \"Spa\", \n",
        "                            \"VRDeck\"])\n",
        "\n",
        "#Data_test\n",
        "data_test['total_exp'] = data_test['ShoppingMall']+data_test['Spa']+data_test['VRDeck']+data_test['FoodCourt']+data_test['RoomService']\n",
        "data_test['B_needs'] = data_test['RoomService']+data_test['FoodCourt']\n",
        "data_test['L_needs'] = data_test['ShoppingMall']+data_test['Spa']+data_test['VRDeck']"
      ],
      "metadata": {
        "id": "nPDI5009VWM8"
      },
      "execution_count": null,
      "outputs": []
    },
    {
      "cell_type": "code",
      "source": [
        "b = sns.stripplot(data=data,x='Transported',y='B_needs', palette = [\"#7abbff\", \"#66cccc\"])\n",
        "b.tick_params(labelsize=12)\n",
        "b.set_xlabel(\"Transported\", fontsize = 14)\n",
        "b.set_ylabel(\"Basic Needs\", fontsize = 14);"
      ],
      "metadata": {
        "colab": {
          "base_uri": "https://localhost:8080/",
          "height": 321
        },
        "id": "yu-3PQQ-Xbyn",
        "outputId": "891fc9db-b4d4-4314-989e-4719582d6e39"
      },
      "execution_count": null,
      "outputs": [
        {
          "output_type": "stream",
          "name": "stderr",
          "text": [
            "<ipython-input-107-adea106e21ef>:1: FutureWarning: Passing `palette` without assigning `hue` is deprecated.\n",
            "  b = sns.stripplot(data=data,x='Transported',y='B_needs', palette = [\"#7abbff\", \"#66cccc\"])\n"
          ]
        },
        {
          "output_type": "display_data",
          "data": {
            "text/plain": [
              "<Figure size 432x288 with 1 Axes>"
            ],
            "image/png": "[encoded data removed]"
          },
          "metadata": {
            "needs_background": "light"
          }
        }
      ]
    },
    {
      "cell_type": "code",
      "source": [
        "l = sns.stripplot(data=data,x='Transported',y='L_needs', palette = [\"#7abbff\", \"#66cccc\"])\n",
        "l.tick_params(labelsize=12)\n",
        "l.set_xlabel(\"Transported\", fontsize = 14)\n",
        "l.set_ylabel(\"Luxury Needs\", fontsize = 14);"
      ],
      "metadata": {
        "colab": {
          "base_uri": "https://localhost:8080/",
          "height": 326
        },
        "id": "A_cxFnfZXImk",
        "outputId": "773739bd-78ff-4c19-a841-0ad7f4a37ff7"
      },
      "execution_count": null,
      "outputs": [
        {
          "output_type": "stream",
          "name": "stderr",
          "text": [
            "<ipython-input-108-d145b2e9bf68>:1: FutureWarning: Passing `palette` without assigning `hue` is deprecated.\n",
            "  l = sns.stripplot(data=data,x='Transported',y='L_needs', palette = [\"#7abbff\", \"#66cccc\"])\n"
          ]
        },
        {
          "output_type": "display_data",
          "data": {
            "text/plain": [
              "<Figure size 432x288 with 1 Axes>"
            ],
            "image/png": "[encoded data removed]"
          },
          "metadata": {
            "needs_background": "light"
          }
        }
      ]
    },
    {
      "cell_type": "code",
      "source": [
        "#Creamos tres nuevas columnas descoponiendo las entras de la columna \"Cabin\"\n",
        "#La primera columna da cuenta de la cubierta de la cabina (deck)\n",
        "#La segunda columna, del número de la cabina\n",
        "#La tercera columna, del lado de la cabina (Port o Starboard)\n",
        "\n",
        "#Data\n",
        "data[['Cabin_deck','Cabin_num','Cabin_side']] = data['Cabin'].str.split(\"/\",expand=True)\n",
        "data.drop(columns = \"Cabin\", inplace = True)\n",
        "\n",
        "#Data_test\n",
        "data_test[['Cabin_deck','Cabin_num','Cabin_side']] = data_test['Cabin'].str.split(\"/\",expand=True)\n",
        "data_test.drop(columns = \"Cabin\", inplace = True)\n",
        "\n",
        "data.head()"
      ],
      "metadata": {
        "colab": {
          "base_uri": "https://localhost:8080/",
          "height": 206
        },
        "id": "6ViLK3QKX06e",
        "outputId": "8cf4422e-a093-4022-d5bc-a2a6c392407f"
      },
      "execution_count": null,
      "outputs": [
        {
          "output_type": "execute_result",
          "data": {
            "text/plain": [
              "  HomePlanet CryoSleep  Destination  Age    VIP  Transported  total_exp  \\\n",
              "0     Europa     False  TRAPPIST-1e   39  False            0        0.0   \n",
              "1      Earth     False  TRAPPIST-1e   24  False            1      736.0   \n",
              "2     Europa     False  TRAPPIST-1e   58   True            0    10383.0   \n",
              "3     Europa     False  TRAPPIST-1e   33  False            0     5176.0   \n",
              "4      Earth     False  TRAPPIST-1e   16  False            1     1091.0   \n",
              "\n",
              "   B_needs  L_needs Cabin_deck Cabin_num Cabin_side  \n",
              "0      0.0      0.0          B         0          P  \n",
              "1    118.0    618.0          F         0          S  \n",
              "2   3619.0   6764.0          A         0          S  \n",
              "3   1283.0   3893.0          A         0          S  \n",
              "4    373.0    718.0          F         1          S  "
            ],
            "text/html": [
              "\n",
              "  <div id=\"df-4893eb10-be28-4d69-b9d7-f86f34a23e15\">\n",
              "    <div class=\"colab-df-container\">\n",
              "      <div>\n",
              "<style scoped>\n",
              "    .dataframe tbody tr th:only-of-type {\n",
              "        vertical-align: middle;\n",
              "    }\n",
              "\n",
              "    .dataframe tbody tr th {\n",
              "        vertical-align: top;\n",
              "    }\n",
              "\n",
              "    .dataframe thead th {\n",
              "        text-align: right;\n",
              "    }\n",
              "</style>\n",
              "<table border=\"1\" class=\"dataframe\">\n",
              "  <thead>\n",
              "    <tr style=\"text-align: right;\">\n",
              "      <th></th>\n",
              "      <th>HomePlanet</th>\n",
              "      <th>CryoSleep</th>\n",
              "      <th>Destination</th>\n",
              "      <th>Age</th>\n",
              "      <th>VIP</th>\n",
              "      <th>Transported</th>\n",
              "      <th>total_exp</th>\n",
              "      <th>B_needs</th>\n",
              "      <th>L_needs</th>\n",
              "      <th>Cabin_deck</th>\n",
              "      <th>Cabin_num</th>\n",
              "      <th>Cabin_side</th>\n",
              "    </tr>\n",
              "  </thead>\n",
              "  <tbody>\n",
              "    <tr>\n",
              "      <th>0</th>\n",
              "      <td>Europa</td>\n",
              "      <td>False</td>\n",
              "      <td>TRAPPIST-1e</td>\n",
              "      <td>39</td>\n",
              "      <td>False</td>\n",
              "      <td>0</td>\n",
              "      <td>0.0</td>\n",
              "      <td>0.0</td>\n",
              "      <td>0.0</td>\n",
              "      <td>B</td>\n",
              "      <td>0</td>\n",
              "      <td>P</td>\n",
              "    </tr>\n",
              "    <tr>\n",
              "      <th>1</th>\n",
              "      <td>Earth</td>\n",
              "      <td>False</td>\n",
              "      <td>TRAPPIST-1e</td>\n",
              "      <td>24</td>\n",
              "      <td>False</td>\n",
              "      <td>1</td>\n",
              "      <td>736.0</td>\n",
              "      <td>118.0</td>\n",
              "      <td>618.0</td>\n",
              "      <td>F</td>\n",
              "      <td>0</td>\n",
              "      <td>S</td>\n",
              "    </tr>\n",
              "    <tr>\n",
              "      <th>2</th>\n",
              "      <td>Europa</td>\n",
              "      <td>False</td>\n",
              "      <td>TRAPPIST-1e</td>\n",
              "      <td>58</td>\n",
              "      <td>True</td>\n",
              "      <td>0</td>\n",
              "      <td>10383.0</td>\n",
              "      <td>3619.0</td>\n",
              "      <td>6764.0</td>\n",
              "      <td>A</td>\n",
              "      <td>0</td>\n",
              "      <td>S</td>\n",
              "    </tr>\n",
              "    <tr>\n",
              "      <th>3</th>\n",
              "      <td>Europa</td>\n",
              "      <td>False</td>\n",
              "      <td>TRAPPIST-1e</td>\n",
              "      <td>33</td>\n",
              "      <td>False</td>\n",
              "      <td>0</td>\n",
              "      <td>5176.0</td>\n",
              "      <td>1283.0</td>\n",
              "      <td>3893.0</td>\n",
              "      <td>A</td>\n",
              "      <td>0</td>\n",
              "      <td>S</td>\n",
              "    </tr>\n",
              "    <tr>\n",
              "      <th>4</th>\n",
              "      <td>Earth</td>\n",
              "      <td>False</td>\n",
              "      <td>TRAPPIST-1e</td>\n",
              "      <td>16</td>\n",
              "      <td>False</td>\n",
              "      <td>1</td>\n",
              "      <td>1091.0</td>\n",
              "      <td>373.0</td>\n",
              "      <td>718.0</td>\n",
              "      <td>F</td>\n",
              "      <td>1</td>\n",
              "      <td>S</td>\n",
              "    </tr>\n",
              "  </tbody>\n",
              "</table>\n",
              "</div>\n",
              "      <button class=\"colab-df-convert\" onclick=\"convertToInteractive('df-4893eb10-be28-4d69-b9d7-f86f34a23e15')\"\n",
              "              title=\"Convert this dataframe to an interactive table.\"\n",
              "              style=\"display:none;\">\n",
              "        \n",
              "  <svg xmlns=\"http://www.w3.org/2000/svg\" height=\"24px\"viewBox=\"0 0 24 24\"\n",
              "       width=\"24px\">\n",
              "    <path d=\"M0 0h24v24H0V0z\" fill=\"none\"/>\n",
              "    <path d=\"M18.56 5.44l.94 2.06.94-2.06 2.06-.94-2.06-.94-.94-2.06-.94 2.06-2.06.94zm-11 1L8.5 8.5l.94-2.06 2.06-.94-2.06-.94L8.5 2.5l-.94 2.06-2.06.94zm10 10l.94 2.06.94-2.06 2.06-.94-2.06-.94-.94-2.06-.94 2.06-2.06.94z\"/><path d=\"M17.41 7.96l-1.37-1.37c-.4-.4-.92-.59-1.43-.59-.52 0-1.04.2-1.43.59L10.3 9.45l-7.72 7.72c-.78.78-.78 2.05 0 2.83L4 21.41c.39.39.9.59 1.41.59.51 0 1.02-.2 1.41-.59l7.78-7.78 2.81-2.81c.8-.78.8-2.07 0-2.86zM5.41 20L4 18.59l7.72-7.72 1.47 1.35L5.41 20z\"/>\n",
              "  </svg>\n",
              "      </button>\n",
              "      \n",
              "  <style>\n",
              "    .colab-df-container {\n",
              "      display:flex;\n",
              "      flex-wrap:wrap;\n",
              "      gap: 12px;\n",
              "    }\n",
              "\n",
              "    .colab-df-convert {\n",
              "      background-color: #E8F0FE;\n",
              "      border: none;\n",
              "      border-radius: 50%;\n",
              "      cursor: pointer;\n",
              "      display: none;\n",
              "      fill: #1967D2;\n",
              "      height: 32px;\n",
              "      padding: 0 0 0 0;\n",
              "      width: 32px;\n",
              "    }\n",
              "\n",
              "    .colab-df-convert:hover {\n",
              "      background-color: #E2EBFA;\n",
              "      box-shadow: 0px 1px 2px rgba(60, 64, 67, 0.3), 0px 1px 3px 1px rgba(60, 64, 67, 0.15);\n",
              "      fill: #174EA6;\n",
              "    }\n",
              "\n",
              "    [theme=dark] .colab-df-convert {\n",
              "      background-color: #3B4455;\n",
              "      fill: #D2E3FC;\n",
              "    }\n",
              "\n",
              "    [theme=dark] .colab-df-convert:hover {\n",
              "      background-color: #434B5C;\n",
              "      box-shadow: 0px 1px 3px 1px rgba(0, 0, 0, 0.15);\n",
              "      filter: drop-shadow(0px 1px 2px rgba(0, 0, 0, 0.3));\n",
              "      fill: #FFFFFF;\n",
              "    }\n",
              "  </style>\n",
              "\n",
              "      <script>\n",
              "        const buttonEl =\n",
              "          document.querySelector('#df-4893eb10-be28-4d69-b9d7-f86f34a23e15 button.colab-df-convert');\n",
              "        buttonEl.style.display =\n",
              "          google.colab.kernel.accessAllowed ? 'block' : 'none';\n",
              "\n",
              "        async function convertToInteractive(key) {\n",
              "          const element = document.querySelector('#df-4893eb10-be28-4d69-b9d7-f86f34a23e15');\n",
              "          const dataTable =\n",
              "            await google.colab.kernel.invokeFunction('convertToInteractive',\n",
              "                                                     [key], {});\n",
              "          if (!dataTable) return;\n",
              "\n",
              "          const docLinkHtml = 'Like what you see? Visit the ' +\n",
              "            '<a target=\"_blank\" href=https://colab.research.google.com/notebooks/data_table.ipynb>data table notebook</a>'\n",
              "            + ' to learn more about interactive tables.';\n",
              "          element.innerHTML = '';\n",
              "          dataTable['output_type'] = 'display_data';\n",
              "          await google.colab.output.renderOutput(dataTable, element);\n",
              "          const docLink = document.createElement('div');\n",
              "          docLink.innerHTML = docLinkHtml;\n",
              "          element.appendChild(docLink);\n",
              "        }\n",
              "      </script>\n",
              "    </div>\n",
              "  </div>\n",
              "  "
            ]
          },
          "metadata": {},
          "execution_count": 109
        }
      ]
    },
    {
      "cell_type": "markdown",
      "source": [
        "## **Visualizando datos categóricos en relación con la columna objetivo**"
      ],
      "metadata": {
        "id": "ozglzonUcxXv"
      }
    },
    {
      "cell_type": "code",
      "source": [
        "#HomePlanet\n",
        "home_planet = data.groupby([\"HomePlanet\", \"Transported\"]).size().reset_index().pivot(columns='HomePlanet', index='Transported', values=0)\n",
        "home_planet"
      ],
      "metadata": {
        "colab": {
          "base_uri": "https://localhost:8080/",
          "height": 143
        },
        "id": "yy8f61LQYqRt",
        "outputId": "4806dee2-5b51-4f70-decf-01cdeb41bce2"
      },
      "execution_count": null,
      "outputs": [
        {
          "output_type": "execute_result",
          "data": {
            "text/plain": [
              "HomePlanet   Earth  Europa  Mars\n",
              "Transported                     \n",
              "0             2749     727   839\n",
              "1             2050    1398   915"
            ],
            "text/html": [
              "\n",
              "  <div id=\"df-f02c9e48-56b0-4d62-b3a8-7de8e11b915d\">\n",
              "    <div class=\"colab-df-container\">\n",
              "      <div>\n",
              "<style scoped>\n",
              "    .dataframe tbody tr th:only-of-type {\n",
              "        vertical-align: middle;\n",
              "    }\n",
              "\n",
              "    .dataframe tbody tr th {\n",
              "        vertical-align: top;\n",
              "    }\n",
              "\n",
              "    .dataframe thead th {\n",
              "        text-align: right;\n",
              "    }\n",
              "</style>\n",
              "<table border=\"1\" class=\"dataframe\">\n",
              "  <thead>\n",
              "    <tr style=\"text-align: right;\">\n",
              "      <th>HomePlanet</th>\n",
              "      <th>Earth</th>\n",
              "      <th>Europa</th>\n",
              "      <th>Mars</th>\n",
              "    </tr>\n",
              "    <tr>\n",
              "      <th>Transported</th>\n",
              "      <th></th>\n",
              "      <th></th>\n",
              "      <th></th>\n",
              "    </tr>\n",
              "  </thead>\n",
              "  <tbody>\n",
              "    <tr>\n",
              "      <th>0</th>\n",
              "      <td>2749</td>\n",
              "      <td>727</td>\n",
              "      <td>839</td>\n",
              "    </tr>\n",
              "    <tr>\n",
              "      <th>1</th>\n",
              "      <td>2050</td>\n",
              "      <td>1398</td>\n",
              "      <td>915</td>\n",
              "    </tr>\n",
              "  </tbody>\n",
              "</table>\n",
              "</div>\n",
              "      <button class=\"colab-df-convert\" onclick=\"convertToInteractive('df-f02c9e48-56b0-4d62-b3a8-7de8e11b915d')\"\n",
              "              title=\"Convert this dataframe to an interactive table.\"\n",
              "              style=\"display:none;\">\n",
              "        \n",
              "  <svg xmlns=\"http://www.w3.org/2000/svg\" height=\"24px\"viewBox=\"0 0 24 24\"\n",
              "       width=\"24px\">\n",
              "    <path d=\"M0 0h24v24H0V0z\" fill=\"none\"/>\n",
              "    <path d=\"M18.56 5.44l.94 2.06.94-2.06 2.06-.94-2.06-.94-.94-2.06-.94 2.06-2.06.94zm-11 1L8.5 8.5l.94-2.06 2.06-.94-2.06-.94L8.5 2.5l-.94 2.06-2.06.94zm10 10l.94 2.06.94-2.06 2.06-.94-2.06-.94-.94-2.06-.94 2.06-2.06.94z\"/><path d=\"M17.41 7.96l-1.37-1.37c-.4-.4-.92-.59-1.43-.59-.52 0-1.04.2-1.43.59L10.3 9.45l-7.72 7.72c-.78.78-.78 2.05 0 2.83L4 21.41c.39.39.9.59 1.41.59.51 0 1.02-.2 1.41-.59l7.78-7.78 2.81-2.81c.8-.78.8-2.07 0-2.86zM5.41 20L4 18.59l7.72-7.72 1.47 1.35L5.41 20z\"/>\n",
              "  </svg>\n",
              "      </button>\n",
              "      \n",
              "  <style>\n",
              "    .colab-df-container {\n",
              "      display:flex;\n",
              "      flex-wrap:wrap;\n",
              "      gap: 12px;\n",
              "    }\n",
              "\n",
              "    .colab-df-convert {\n",
              "      background-color: #E8F0FE;\n",
              "      border: none;\n",
              "      border-radius: 50%;\n",
              "      cursor: pointer;\n",
              "      display: none;\n",
              "      fill: #1967D2;\n",
              "      height: 32px;\n",
              "      padding: 0 0 0 0;\n",
              "      width: 32px;\n",
              "    }\n",
              "\n",
              "    .colab-df-convert:hover {\n",
              "      background-color: #E2EBFA;\n",
              "      box-shadow: 0px 1px 2px rgba(60, 64, 67, 0.3), 0px 1px 3px 1px rgba(60, 64, 67, 0.15);\n",
              "      fill: #174EA6;\n",
              "    }\n",
              "\n",
              "    [theme=dark] .colab-df-convert {\n",
              "      background-color: #3B4455;\n",
              "      fill: #D2E3FC;\n",
              "    }\n",
              "\n",
              "    [theme=dark] .colab-df-convert:hover {\n",
              "      background-color: #434B5C;\n",
              "      box-shadow: 0px 1px 3px 1px rgba(0, 0, 0, 0.15);\n",
              "      filter: drop-shadow(0px 1px 2px rgba(0, 0, 0, 0.3));\n",
              "      fill: #FFFFFF;\n",
              "    }\n",
              "  </style>\n",
              "\n",
              "      <script>\n",
              "        const buttonEl =\n",
              "          document.querySelector('#df-f02c9e48-56b0-4d62-b3a8-7de8e11b915d button.colab-df-convert');\n",
              "        buttonEl.style.display =\n",
              "          google.colab.kernel.accessAllowed ? 'block' : 'none';\n",
              "\n",
              "        async function convertToInteractive(key) {\n",
              "          const element = document.querySelector('#df-f02c9e48-56b0-4d62-b3a8-7de8e11b915d');\n",
              "          const dataTable =\n",
              "            await google.colab.kernel.invokeFunction('convertToInteractive',\n",
              "                                                     [key], {});\n",
              "          if (!dataTable) return;\n",
              "\n",
              "          const docLinkHtml = 'Like what you see? Visit the ' +\n",
              "            '<a target=\"_blank\" href=https://colab.research.google.com/notebooks/data_table.ipynb>data table notebook</a>'\n",
              "            + ' to learn more about interactive tables.';\n",
              "          element.innerHTML = '';\n",
              "          dataTable['output_type'] = 'display_data';\n",
              "          await google.colab.output.renderOutput(dataTable, element);\n",
              "          const docLink = document.createElement('div');\n",
              "          docLink.innerHTML = docLinkHtml;\n",
              "          element.appendChild(docLink);\n",
              "        }\n",
              "      </script>\n",
              "    </div>\n",
              "  </div>\n",
              "  "
            ]
          },
          "metadata": {},
          "execution_count": 24
        }
      ]
    },
    {
      "cell_type": "code",
      "source": [
        "home_planet.plot(kind='bar', stacked=True, color = [\"#7abbff\", \"#66cccc\", \"#c7c6ff\"])\n",
        "plt.title(\"Home Planet\", fontsize = 17)\n",
        "plt.legend(bbox_to_anchor = (1.04, 1), fontsize = 13)\n",
        "plt.xticks(rotation = 360, size = 12)\n",
        "plt.yticks(size = 12)\n",
        "plt.xlabel(\"Transported\", fontsize = 14)\n",
        "plt.ylabel(\"Count\", fontsize = 14);"
      ],
      "metadata": {
        "colab": {
          "base_uri": "https://localhost:8080/",
          "height": 306
        },
        "id": "rEhfpFGedFMx",
        "outputId": "ceb334ef-4d47-48f6-9deb-0e75f683eadd"
      },
      "execution_count": null,
      "outputs": [
        {
          "output_type": "display_data",
          "data": {
            "text/plain": [
              "<Figure size 432x288 with 1 Axes>"
            ],
            "image/png": "[encoded data removed]"
          },
          "metadata": {
            "needs_background": "light"
          }
        }
      ]
    },
    {
      "cell_type": "code",
      "source": [
        "#CryoSleep\n",
        "cryosleep = data.groupby([\"CryoSleep\", \"Transported\"]).size().reset_index().pivot(columns='CryoSleep', index='Transported', values=0)\n",
        "cryosleep"
      ],
      "metadata": {
        "colab": {
          "base_uri": "https://localhost:8080/",
          "height": 143
        },
        "id": "E9pVNzbFdWqK",
        "outputId": "96e17ad1-5340-4814-9e43-610acbe1f4fa"
      },
      "execution_count": null,
      "outputs": [
        {
          "output_type": "execute_result",
          "data": {
            "text/plain": [
              "CryoSleep    False  True \n",
              "Transported              \n",
              "0             3761    554\n",
              "1             1892   2471"
            ],
            "text/html": [
              "\n",
              "  <div id=\"df-1694979b-5eea-41bc-8624-6bc09be1130c\">\n",
              "    <div class=\"colab-df-container\">\n",
              "      <div>\n",
              "<style scoped>\n",
              "    .dataframe tbody tr th:only-of-type {\n",
              "        vertical-align: middle;\n",
              "    }\n",
              "\n",
              "    .dataframe tbody tr th {\n",
              "        vertical-align: top;\n",
              "    }\n",
              "\n",
              "    .dataframe thead th {\n",
              "        text-align: right;\n",
              "    }\n",
              "</style>\n",
              "<table border=\"1\" class=\"dataframe\">\n",
              "  <thead>\n",
              "    <tr style=\"text-align: right;\">\n",
              "      <th>CryoSleep</th>\n",
              "      <th>False</th>\n",
              "      <th>True</th>\n",
              "    </tr>\n",
              "    <tr>\n",
              "      <th>Transported</th>\n",
              "      <th></th>\n",
              "      <th></th>\n",
              "    </tr>\n",
              "  </thead>\n",
              "  <tbody>\n",
              "    <tr>\n",
              "      <th>0</th>\n",
              "      <td>3761</td>\n",
              "      <td>554</td>\n",
              "    </tr>\n",
              "    <tr>\n",
              "      <th>1</th>\n",
              "      <td>1892</td>\n",
              "      <td>2471</td>\n",
              "    </tr>\n",
              "  </tbody>\n",
              "</table>\n",
              "</div>\n",
              "      <button class=\"colab-df-convert\" onclick=\"convertToInteractive('df-1694979b-5eea-41bc-8624-6bc09be1130c')\"\n",
              "              title=\"Convert this dataframe to an interactive table.\"\n",
              "              style=\"display:none;\">\n",
              "        \n",
              "  <svg xmlns=\"http://www.w3.org/2000/svg\" height=\"24px\"viewBox=\"0 0 24 24\"\n",
              "       width=\"24px\">\n",
              "    <path d=\"M0 0h24v24H0V0z\" fill=\"none\"/>\n",
              "    <path d=\"M18.56 5.44l.94 2.06.94-2.06 2.06-.94-2.06-.94-.94-2.06-.94 2.06-2.06.94zm-11 1L8.5 8.5l.94-2.06 2.06-.94-2.06-.94L8.5 2.5l-.94 2.06-2.06.94zm10 10l.94 2.06.94-2.06 2.06-.94-2.06-.94-.94-2.06-.94 2.06-2.06.94z\"/><path d=\"M17.41 7.96l-1.37-1.37c-.4-.4-.92-.59-1.43-.59-.52 0-1.04.2-1.43.59L10.3 9.45l-7.72 7.72c-.78.78-.78 2.05 0 2.83L4 21.41c.39.39.9.59 1.41.59.51 0 1.02-.2 1.41-.59l7.78-7.78 2.81-2.81c.8-.78.8-2.07 0-2.86zM5.41 20L4 18.59l7.72-7.72 1.47 1.35L5.41 20z\"/>\n",
              "  </svg>\n",
              "      </button>\n",
              "      \n",
              "  <style>\n",
              "    .colab-df-container {\n",
              "      display:flex;\n",
              "      flex-wrap:wrap;\n",
              "      gap: 12px;\n",
              "    }\n",
              "\n",
              "    .colab-df-convert {\n",
              "      background-color: #E8F0FE;\n",
              "      border: none;\n",
              "      border-radius: 50%;\n",
              "      cursor: pointer;\n",
              "      display: none;\n",
              "      fill: #1967D2;\n",
              "      height: 32px;\n",
              "      padding: 0 0 0 0;\n",
              "      width: 32px;\n",
              "    }\n",
              "\n",
              "    .colab-df-convert:hover {\n",
              "      background-color: #E2EBFA;\n",
              "      box-shadow: 0px 1px 2px rgba(60, 64, 67, 0.3), 0px 1px 3px 1px rgba(60, 64, 67, 0.15);\n",
              "      fill: #174EA6;\n",
              "    }\n",
              "\n",
              "    [theme=dark] .colab-df-convert {\n",
              "      background-color: #3B4455;\n",
              "      fill: #D2E3FC;\n",
              "    }\n",
              "\n",
              "    [theme=dark] .colab-df-convert:hover {\n",
              "      background-color: #434B5C;\n",
              "      box-shadow: 0px 1px 3px 1px rgba(0, 0, 0, 0.15);\n",
              "      filter: drop-shadow(0px 1px 2px rgba(0, 0, 0, 0.3));\n",
              "      fill: #FFFFFF;\n",
              "    }\n",
              "  </style>\n",
              "\n",
              "      <script>\n",
              "        const buttonEl =\n",
              "          document.querySelector('#df-1694979b-5eea-41bc-8624-6bc09be1130c button.colab-df-convert');\n",
              "        buttonEl.style.display =\n",
              "          google.colab.kernel.accessAllowed ? 'block' : 'none';\n",
              "\n",
              "        async function convertToInteractive(key) {\n",
              "          const element = document.querySelector('#df-1694979b-5eea-41bc-8624-6bc09be1130c');\n",
              "          const dataTable =\n",
              "            await google.colab.kernel.invokeFunction('convertToInteractive',\n",
              "                                                     [key], {});\n",
              "          if (!dataTable) return;\n",
              "\n",
              "          const docLinkHtml = 'Like what you see? Visit the ' +\n",
              "            '<a target=\"_blank\" href=https://colab.research.google.com/notebooks/data_table.ipynb>data table notebook</a>'\n",
              "            + ' to learn more about interactive tables.';\n",
              "          element.innerHTML = '';\n",
              "          dataTable['output_type'] = 'display_data';\n",
              "          await google.colab.output.renderOutput(dataTable, element);\n",
              "          const docLink = document.createElement('div');\n",
              "          docLink.innerHTML = docLinkHtml;\n",
              "          element.appendChild(docLink);\n",
              "        }\n",
              "      </script>\n",
              "    </div>\n",
              "  </div>\n",
              "  "
            ]
          },
          "metadata": {},
          "execution_count": 26
        }
      ]
    },
    {
      "cell_type": "code",
      "source": [
        "cryosleep.plot(kind='bar', stacked=True, color = [\"#7abbff\", \"#66cccc\", \"#c7c6ff\"])\n",
        "plt.title(\"Cryosleep\", fontsize = 17)\n",
        "plt.legend(bbox_to_anchor = (1.04, 1), fontsize = 13)\n",
        "plt.xticks(rotation = 360, size = 12)\n",
        "plt.yticks(size = 12)\n",
        "plt.xlabel(\"Transported\", fontsize = 14)\n",
        "plt.ylabel(\"Count\", fontsize = 14);"
      ],
      "metadata": {
        "colab": {
          "base_uri": "https://localhost:8080/",
          "height": 306
        },
        "id": "4bgpV7TegL3n",
        "outputId": "c9906365-3ce6-410d-8b28-76d7a8ba3e62"
      },
      "execution_count": null,
      "outputs": [
        {
          "output_type": "display_data",
          "data": {
            "text/plain": [
              "<Figure size 432x288 with 1 Axes>"
            ],
            "image/png": "[encoded data removed]"
          },
          "metadata": {
            "needs_background": "light"
          }
        }
      ]
    },
    {
      "cell_type": "code",
      "source": [
        "#Destination\n",
        "destination = data.groupby([\"Destination\", \"Transported\"]).size().reset_index().pivot(columns='Destination', index='Transported', values=0)\n",
        "destination"
      ],
      "metadata": {
        "colab": {
          "base_uri": "https://localhost:8080/",
          "height": 143
        },
        "id": "7w1QBIaSgixf",
        "outputId": "1c1a02d7-448a-49ad-a196-c93b0bf2ec22"
      },
      "execution_count": null,
      "outputs": [
        {
          "output_type": "execute_result",
          "data": {
            "text/plain": [
              "Destination  55 Cancri e  PSO J318.5-22  TRAPPIST-1e\n",
              "Transported                                         \n",
              "0                    702            395         3218\n",
              "1                   1092            401         2870"
            ],
            "text/html": [
              "\n",
              "  <div id=\"df-d5f85734-02b5-456f-ae4f-bd6e41f6bf21\">\n",
              "    <div class=\"colab-df-container\">\n",
              "      <div>\n",
              "<style scoped>\n",
              "    .dataframe tbody tr th:only-of-type {\n",
              "        vertical-align: middle;\n",
              "    }\n",
              "\n",
              "    .dataframe tbody tr th {\n",
              "        vertical-align: top;\n",
              "    }\n",
              "\n",
              "    .dataframe thead th {\n",
              "        text-align: right;\n",
              "    }\n",
              "</style>\n",
              "<table border=\"1\" class=\"dataframe\">\n",
              "  <thead>\n",
              "    <tr style=\"text-align: right;\">\n",
              "      <th>Destination</th>\n",
              "      <th>55 Cancri e</th>\n",
              "      <th>PSO J318.5-22</th>\n",
              "      <th>TRAPPIST-1e</th>\n",
              "    </tr>\n",
              "    <tr>\n",
              "      <th>Transported</th>\n",
              "      <th></th>\n",
              "      <th></th>\n",
              "      <th></th>\n",
              "    </tr>\n",
              "  </thead>\n",
              "  <tbody>\n",
              "    <tr>\n",
              "      <th>0</th>\n",
              "      <td>702</td>\n",
              "      <td>395</td>\n",
              "      <td>3218</td>\n",
              "    </tr>\n",
              "    <tr>\n",
              "      <th>1</th>\n",
              "      <td>1092</td>\n",
              "      <td>401</td>\n",
              "      <td>2870</td>\n",
              "    </tr>\n",
              "  </tbody>\n",
              "</table>\n",
              "</div>\n",
              "      <button class=\"colab-df-convert\" onclick=\"convertToInteractive('df-d5f85734-02b5-456f-ae4f-bd6e41f6bf21')\"\n",
              "              title=\"Convert this dataframe to an interactive table.\"\n",
              "              style=\"display:none;\">\n",
              "        \n",
              "  <svg xmlns=\"http://www.w3.org/2000/svg\" height=\"24px\"viewBox=\"0 0 24 24\"\n",
              "       width=\"24px\">\n",
              "    <path d=\"M0 0h24v24H0V0z\" fill=\"none\"/>\n",
              "    <path d=\"M18.56 5.44l.94 2.06.94-2.06 2.06-.94-2.06-.94-.94-2.06-.94 2.06-2.06.94zm-11 1L8.5 8.5l.94-2.06 2.06-.94-2.06-.94L8.5 2.5l-.94 2.06-2.06.94zm10 10l.94 2.06.94-2.06 2.06-.94-2.06-.94-.94-2.06-.94 2.06-2.06.94z\"/><path d=\"M17.41 7.96l-1.37-1.37c-.4-.4-.92-.59-1.43-.59-.52 0-1.04.2-1.43.59L10.3 9.45l-7.72 7.72c-.78.78-.78 2.05 0 2.83L4 21.41c.39.39.9.59 1.41.59.51 0 1.02-.2 1.41-.59l7.78-7.78 2.81-2.81c.8-.78.8-2.07 0-2.86zM5.41 20L4 18.59l7.72-7.72 1.47 1.35L5.41 20z\"/>\n",
              "  </svg>\n",
              "      </button>\n",
              "      \n",
              "  <style>\n",
              "    .colab-df-container {\n",
              "      display:flex;\n",
              "      flex-wrap:wrap;\n",
              "      gap: 12px;\n",
              "    }\n",
              "\n",
              "    .colab-df-convert {\n",
              "      background-color: #E8F0FE;\n",
              "      border: none;\n",
              "      border-radius: 50%;\n",
              "      cursor: pointer;\n",
              "      display: none;\n",
              "      fill: #1967D2;\n",
              "      height: 32px;\n",
              "      padding: 0 0 0 0;\n",
              "      width: 32px;\n",
              "    }\n",
              "\n",
              "    .colab-df-convert:hover {\n",
              "      background-color: #E2EBFA;\n",
              "      box-shadow: 0px 1px 2px rgba(60, 64, 67, 0.3), 0px 1px 3px 1px rgba(60, 64, 67, 0.15);\n",
              "      fill: #174EA6;\n",
              "    }\n",
              "\n",
              "    [theme=dark] .colab-df-convert {\n",
              "      background-color: #3B4455;\n",
              "      fill: #D2E3FC;\n",
              "    }\n",
              "\n",
              "    [theme=dark] .colab-df-convert:hover {\n",
              "      background-color: #434B5C;\n",
              "      box-shadow: 0px 1px 3px 1px rgba(0, 0, 0, 0.15);\n",
              "      filter: drop-shadow(0px 1px 2px rgba(0, 0, 0, 0.3));\n",
              "      fill: #FFFFFF;\n",
              "    }\n",
              "  </style>\n",
              "\n",
              "      <script>\n",
              "        const buttonEl =\n",
              "          document.querySelector('#df-d5f85734-02b5-456f-ae4f-bd6e41f6bf21 button.colab-df-convert');\n",
              "        buttonEl.style.display =\n",
              "          google.colab.kernel.accessAllowed ? 'block' : 'none';\n",
              "\n",
              "        async function convertToInteractive(key) {\n",
              "          const element = document.querySelector('#df-d5f85734-02b5-456f-ae4f-bd6e41f6bf21');\n",
              "          const dataTable =\n",
              "            await google.colab.kernel.invokeFunction('convertToInteractive',\n",
              "                                                     [key], {});\n",
              "          if (!dataTable) return;\n",
              "\n",
              "          const docLinkHtml = 'Like what you see? Visit the ' +\n",
              "            '<a target=\"_blank\" href=https://colab.research.google.com/notebooks/data_table.ipynb>data table notebook</a>'\n",
              "            + ' to learn more about interactive tables.';\n",
              "          element.innerHTML = '';\n",
              "          dataTable['output_type'] = 'display_data';\n",
              "          await google.colab.output.renderOutput(dataTable, element);\n",
              "          const docLink = document.createElement('div');\n",
              "          docLink.innerHTML = docLinkHtml;\n",
              "          element.appendChild(docLink);\n",
              "        }\n",
              "      </script>\n",
              "    </div>\n",
              "  </div>\n",
              "  "
            ]
          },
          "metadata": {},
          "execution_count": 28
        }
      ]
    },
    {
      "cell_type": "code",
      "source": [
        "destination.plot(kind='bar', stacked=True, color = [\"#7abbff\", \"#66cccc\", \"#c7c6ff\"])\n",
        "plt.title(\"Destination\", fontsize = 17)\n",
        "plt.legend(bbox_to_anchor = (1.04, 1), fontsize = 13)\n",
        "plt.xticks(rotation = 360, size = 12)\n",
        "plt.yticks(size = 12)\n",
        "plt.xlabel(\"Transported\", fontsize = 14)\n",
        "plt.ylabel(\"Count\", fontsize = 14);"
      ],
      "metadata": {
        "colab": {
          "base_uri": "https://localhost:8080/",
          "height": 306
        },
        "id": "InVj_HpCgy8J",
        "outputId": "5aa35826-8640-4c83-8a73-f06d92e05b37"
      },
      "execution_count": null,
      "outputs": [
        {
          "output_type": "display_data",
          "data": {
            "text/plain": [
              "<Figure size 432x288 with 1 Axes>"
            ],
            "image/png": "[encoded data removed]"
          },
          "metadata": {
            "needs_background": "light"
          }
        }
      ]
    },
    {
      "cell_type": "code",
      "source": [
        "#VIP\n",
        "vip = data.groupby([\"VIP\", \"Transported\"]).size().reset_index().pivot(columns='VIP', index='Transported', values=0)\n",
        "vip"
      ],
      "metadata": {
        "colab": {
          "base_uri": "https://localhost:8080/",
          "height": 143
        },
        "id": "JukZNP1Jg453",
        "outputId": "9d0d3ace-6097-4c35-aa54-454dee0ac834"
      },
      "execution_count": null,
      "outputs": [
        {
          "output_type": "execute_result",
          "data": {
            "text/plain": [
              "VIP          False  True \n",
              "Transported              \n",
              "0             4192    123\n",
              "1             4287     76"
            ],
            "text/html": [
              "\n",
              "  <div id=\"df-3a7435aa-5b81-4695-9a1d-300920590147\">\n",
              "    <div class=\"colab-df-container\">\n",
              "      <div>\n",
              "<style scoped>\n",
              "    .dataframe tbody tr th:only-of-type {\n",
              "        vertical-align: middle;\n",
              "    }\n",
              "\n",
              "    .dataframe tbody tr th {\n",
              "        vertical-align: top;\n",
              "    }\n",
              "\n",
              "    .dataframe thead th {\n",
              "        text-align: right;\n",
              "    }\n",
              "</style>\n",
              "<table border=\"1\" class=\"dataframe\">\n",
              "  <thead>\n",
              "    <tr style=\"text-align: right;\">\n",
              "      <th>VIP</th>\n",
              "      <th>False</th>\n",
              "      <th>True</th>\n",
              "    </tr>\n",
              "    <tr>\n",
              "      <th>Transported</th>\n",
              "      <th></th>\n",
              "      <th></th>\n",
              "    </tr>\n",
              "  </thead>\n",
              "  <tbody>\n",
              "    <tr>\n",
              "      <th>0</th>\n",
              "      <td>4192</td>\n",
              "      <td>123</td>\n",
              "    </tr>\n",
              "    <tr>\n",
              "      <th>1</th>\n",
              "      <td>4287</td>\n",
              "      <td>76</td>\n",
              "    </tr>\n",
              "  </tbody>\n",
              "</table>\n",
              "</div>\n",
              "      <button class=\"colab-df-convert\" onclick=\"convertToInteractive('df-3a7435aa-5b81-4695-9a1d-300920590147')\"\n",
              "              title=\"Convert this dataframe to an interactive table.\"\n",
              "              style=\"display:none;\">\n",
              "        \n",
              "  <svg xmlns=\"http://www.w3.org/2000/svg\" height=\"24px\"viewBox=\"0 0 24 24\"\n",
              "       width=\"24px\">\n",
              "    <path d=\"M0 0h24v24H0V0z\" fill=\"none\"/>\n",
              "    <path d=\"M18.56 5.44l.94 2.06.94-2.06 2.06-.94-2.06-.94-.94-2.06-.94 2.06-2.06.94zm-11 1L8.5 8.5l.94-2.06 2.06-.94-2.06-.94L8.5 2.5l-.94 2.06-2.06.94zm10 10l.94 2.06.94-2.06 2.06-.94-2.06-.94-.94-2.06-.94 2.06-2.06.94z\"/><path d=\"M17.41 7.96l-1.37-1.37c-.4-.4-.92-.59-1.43-.59-.52 0-1.04.2-1.43.59L10.3 9.45l-7.72 7.72c-.78.78-.78 2.05 0 2.83L4 21.41c.39.39.9.59 1.41.59.51 0 1.02-.2 1.41-.59l7.78-7.78 2.81-2.81c.8-.78.8-2.07 0-2.86zM5.41 20L4 18.59l7.72-7.72 1.47 1.35L5.41 20z\"/>\n",
              "  </svg>\n",
              "      </button>\n",
              "      \n",
              "  <style>\n",
              "    .colab-df-container {\n",
              "      display:flex;\n",
              "      flex-wrap:wrap;\n",
              "      gap: 12px;\n",
              "    }\n",
              "\n",
              "    .colab-df-convert {\n",
              "      background-color: #E8F0FE;\n",
              "      border: none;\n",
              "      border-radius: 50%;\n",
              "      cursor: pointer;\n",
              "      display: none;\n",
              "      fill: #1967D2;\n",
              "      height: 32px;\n",
              "      padding: 0 0 0 0;\n",
              "      width: 32px;\n",
              "    }\n",
              "\n",
              "    .colab-df-convert:hover {\n",
              "      background-color: #E2EBFA;\n",
              "      box-shadow: 0px 1px 2px rgba(60, 64, 67, 0.3), 0px 1px 3px 1px rgba(60, 64, 67, 0.15);\n",
              "      fill: #174EA6;\n",
              "    }\n",
              "\n",
              "    [theme=dark] .colab-df-convert {\n",
              "      background-color: #3B4455;\n",
              "      fill: #D2E3FC;\n",
              "    }\n",
              "\n",
              "    [theme=dark] .colab-df-convert:hover {\n",
              "      background-color: #434B5C;\n",
              "      box-shadow: 0px 1px 3px 1px rgba(0, 0, 0, 0.15);\n",
              "      filter: drop-shadow(0px 1px 2px rgba(0, 0, 0, 0.3));\n",
              "      fill: #FFFFFF;\n",
              "    }\n",
              "  </style>\n",
              "\n",
              "      <script>\n",
              "        const buttonEl =\n",
              "          document.querySelector('#df-3a7435aa-5b81-4695-9a1d-300920590147 button.colab-df-convert');\n",
              "        buttonEl.style.display =\n",
              "          google.colab.kernel.accessAllowed ? 'block' : 'none';\n",
              "\n",
              "        async function convertToInteractive(key) {\n",
              "          const element = document.querySelector('#df-3a7435aa-5b81-4695-9a1d-300920590147');\n",
              "          const dataTable =\n",
              "            await google.colab.kernel.invokeFunction('convertToInteractive',\n",
              "                                                     [key], {});\n",
              "          if (!dataTable) return;\n",
              "\n",
              "          const docLinkHtml = 'Like what you see? Visit the ' +\n",
              "            '<a target=\"_blank\" href=https://colab.research.google.com/notebooks/data_table.ipynb>data table notebook</a>'\n",
              "            + ' to learn more about interactive tables.';\n",
              "          element.innerHTML = '';\n",
              "          dataTable['output_type'] = 'display_data';\n",
              "          await google.colab.output.renderOutput(dataTable, element);\n",
              "          const docLink = document.createElement('div');\n",
              "          docLink.innerHTML = docLinkHtml;\n",
              "          element.appendChild(docLink);\n",
              "        }\n",
              "      </script>\n",
              "    </div>\n",
              "  </div>\n",
              "  "
            ]
          },
          "metadata": {},
          "execution_count": 30
        }
      ]
    },
    {
      "cell_type": "code",
      "source": [
        "vip.plot(kind='bar', stacked=True, color = [\"#7abbff\", \"#66cccc\", \"#c7c6ff\"])\n",
        "plt.title(\"VIP\", fontsize = 17)\n",
        "plt.legend(bbox_to_anchor = (1.04, 1), fontsize = 13)\n",
        "plt.xticks(rotation = 360, size = 12)\n",
        "plt.yticks(size = 12)\n",
        "plt.xlabel(\"Transported\", fontsize = 14)\n",
        "plt.ylabel(\"Count\", fontsize = 14);"
      ],
      "metadata": {
        "colab": {
          "base_uri": "https://localhost:8080/",
          "height": 306
        },
        "id": "R14c44kyhCZ0",
        "outputId": "b43478ed-3c9f-44e4-c0d0-6b80fd50d50f"
      },
      "execution_count": null,
      "outputs": [
        {
          "output_type": "display_data",
          "data": {
            "text/plain": [
              "<Figure size 432x288 with 1 Axes>"
            ],
            "image/png": "[encoded data removed]"
          },
          "metadata": {
            "needs_background": "light"
          }
        }
      ]
    },
    {
      "cell_type": "code",
      "source": [
        "#Cabin Side\n",
        "side = data.groupby([\"Cabin_side\", \"Transported\"]).size().reset_index().pivot(columns='Cabin_side', index='Transported', values=0)\n",
        "side"
      ],
      "metadata": {
        "colab": {
          "base_uri": "https://localhost:8080/",
          "height": 143
        },
        "id": "KV6b1PLTxUVg",
        "outputId": "56faacb3-2166-4506-915f-4735c8366334"
      },
      "execution_count": null,
      "outputs": [
        {
          "output_type": "execute_result",
          "data": {
            "text/plain": [
              "Cabin_side      P     S\n",
              "Transported            \n",
              "0            2308  1908\n",
              "1            1893  2376"
            ],
            "text/html": [
              "\n",
              "  <div id=\"df-6debc58a-be33-4f72-b16b-859fe49072cd\">\n",
              "    <div class=\"colab-df-container\">\n",
              "      <div>\n",
              "<style scoped>\n",
              "    .dataframe tbody tr th:only-of-type {\n",
              "        vertical-align: middle;\n",
              "    }\n",
              "\n",
              "    .dataframe tbody tr th {\n",
              "        vertical-align: top;\n",
              "    }\n",
              "\n",
              "    .dataframe thead th {\n",
              "        text-align: right;\n",
              "    }\n",
              "</style>\n",
              "<table border=\"1\" class=\"dataframe\">\n",
              "  <thead>\n",
              "    <tr style=\"text-align: right;\">\n",
              "      <th>Cabin_side</th>\n",
              "      <th>P</th>\n",
              "      <th>S</th>\n",
              "    </tr>\n",
              "    <tr>\n",
              "      <th>Transported</th>\n",
              "      <th></th>\n",
              "      <th></th>\n",
              "    </tr>\n",
              "  </thead>\n",
              "  <tbody>\n",
              "    <tr>\n",
              "      <th>0</th>\n",
              "      <td>2308</td>\n",
              "      <td>1908</td>\n",
              "    </tr>\n",
              "    <tr>\n",
              "      <th>1</th>\n",
              "      <td>1893</td>\n",
              "      <td>2376</td>\n",
              "    </tr>\n",
              "  </tbody>\n",
              "</table>\n",
              "</div>\n",
              "      <button class=\"colab-df-convert\" onclick=\"convertToInteractive('df-6debc58a-be33-4f72-b16b-859fe49072cd')\"\n",
              "              title=\"Convert this dataframe to an interactive table.\"\n",
              "              style=\"display:none;\">\n",
              "        \n",
              "  <svg xmlns=\"http://www.w3.org/2000/svg\" height=\"24px\"viewBox=\"0 0 24 24\"\n",
              "       width=\"24px\">\n",
              "    <path d=\"M0 0h24v24H0V0z\" fill=\"none\"/>\n",
              "    <path d=\"M18.56 5.44l.94 2.06.94-2.06 2.06-.94-2.06-.94-.94-2.06-.94 2.06-2.06.94zm-11 1L8.5 8.5l.94-2.06 2.06-.94-2.06-.94L8.5 2.5l-.94 2.06-2.06.94zm10 10l.94 2.06.94-2.06 2.06-.94-2.06-.94-.94-2.06-.94 2.06-2.06.94z\"/><path d=\"M17.41 7.96l-1.37-1.37c-.4-.4-.92-.59-1.43-.59-.52 0-1.04.2-1.43.59L10.3 9.45l-7.72 7.72c-.78.78-.78 2.05 0 2.83L4 21.41c.39.39.9.59 1.41.59.51 0 1.02-.2 1.41-.59l7.78-7.78 2.81-2.81c.8-.78.8-2.07 0-2.86zM5.41 20L4 18.59l7.72-7.72 1.47 1.35L5.41 20z\"/>\n",
              "  </svg>\n",
              "      </button>\n",
              "      \n",
              "  <style>\n",
              "    .colab-df-container {\n",
              "      display:flex;\n",
              "      flex-wrap:wrap;\n",
              "      gap: 12px;\n",
              "    }\n",
              "\n",
              "    .colab-df-convert {\n",
              "      background-color: #E8F0FE;\n",
              "      border: none;\n",
              "      border-radius: 50%;\n",
              "      cursor: pointer;\n",
              "      display: none;\n",
              "      fill: #1967D2;\n",
              "      height: 32px;\n",
              "      padding: 0 0 0 0;\n",
              "      width: 32px;\n",
              "    }\n",
              "\n",
              "    .colab-df-convert:hover {\n",
              "      background-color: #E2EBFA;\n",
              "      box-shadow: 0px 1px 2px rgba(60, 64, 67, 0.3), 0px 1px 3px 1px rgba(60, 64, 67, 0.15);\n",
              "      fill: #174EA6;\n",
              "    }\n",
              "\n",
              "    [theme=dark] .colab-df-convert {\n",
              "      background-color: #3B4455;\n",
              "      fill: #D2E3FC;\n",
              "    }\n",
              "\n",
              "    [theme=dark] .colab-df-convert:hover {\n",
              "      background-color: #434B5C;\n",
              "      box-shadow: 0px 1px 3px 1px rgba(0, 0, 0, 0.15);\n",
              "      filter: drop-shadow(0px 1px 2px rgba(0, 0, 0, 0.3));\n",
              "      fill: #FFFFFF;\n",
              "    }\n",
              "  </style>\n",
              "\n",
              "      <script>\n",
              "        const buttonEl =\n",
              "          document.querySelector('#df-6debc58a-be33-4f72-b16b-859fe49072cd button.colab-df-convert');\n",
              "        buttonEl.style.display =\n",
              "          google.colab.kernel.accessAllowed ? 'block' : 'none';\n",
              "\n",
              "        async function convertToInteractive(key) {\n",
              "          const element = document.querySelector('#df-6debc58a-be33-4f72-b16b-859fe49072cd');\n",
              "          const dataTable =\n",
              "            await google.colab.kernel.invokeFunction('convertToInteractive',\n",
              "                                                     [key], {});\n",
              "          if (!dataTable) return;\n",
              "\n",
              "          const docLinkHtml = 'Like what you see? Visit the ' +\n",
              "            '<a target=\"_blank\" href=https://colab.research.google.com/notebooks/data_table.ipynb>data table notebook</a>'\n",
              "            + ' to learn more about interactive tables.';\n",
              "          element.innerHTML = '';\n",
              "          dataTable['output_type'] = 'display_data';\n",
              "          await google.colab.output.renderOutput(dataTable, element);\n",
              "          const docLink = document.createElement('div');\n",
              "          docLink.innerHTML = docLinkHtml;\n",
              "          element.appendChild(docLink);\n",
              "        }\n",
              "      </script>\n",
              "    </div>\n",
              "  </div>\n",
              "  "
            ]
          },
          "metadata": {},
          "execution_count": 32
        }
      ]
    },
    {
      "cell_type": "code",
      "source": [
        "side.plot(kind='bar', stacked=True, color = [\"#7abbff\", \"#66cccc\"])\n",
        "plt.title(\"Cabin Side\", fontsize = 17)\n",
        "plt.legend(bbox_to_anchor = (1.04, 1), fontsize = 13)\n",
        "plt.xticks(rotation = 360, size = 12)\n",
        "plt.yticks(size = 12)\n",
        "plt.xlabel(\"Transported\", fontsize = 14)\n",
        "plt.ylabel(\"Count\", fontsize = 14);"
      ],
      "metadata": {
        "colab": {
          "base_uri": "https://localhost:8080/",
          "height": 306
        },
        "id": "ZEpan6bfxhKH",
        "outputId": "ede734c2-f95e-468d-c48e-eb07d7765a60"
      },
      "execution_count": null,
      "outputs": [
        {
          "output_type": "display_data",
          "data": {
            "text/plain": [
              "<Figure size 432x288 with 1 Axes>"
            ],
            "image/png": "[encoded data removed]"
          },
          "metadata": {
            "needs_background": "light"
          }
        }
      ]
    },
    {
      "cell_type": "markdown",
      "source": [
        "## **Visualización de datos numéricos**"
      ],
      "metadata": {
        "id": "vKpXWRhwhfsJ"
      }
    },
    {
      "cell_type": "code",
      "source": [
        "#Age\n",
        "age = data[\"Age\"]\n",
        "\n",
        "plt.style.use(\"bmh\")\n",
        "fig, ax = plt.subplots(figsize = (6,4))\n",
        "age.plot(kind = \"hist\", density = True, alpha = 0.65, bins = 80, color = \"#7abbff\")\n",
        "age.plot(kind = \"kde\", color = \"#66cccc\")\n",
        "ax.set_title(\"Age distribution in the spaceship\", fontsize = 17, pad = 10)\n",
        "ax.set_xlabel(\"Age\", fontsize = 14)\n",
        "ax.set_ylabel(\"\", fontsize = 14)\n",
        "ax.set_xlim(0, 80)\n",
        "ax.set_yticks([])\n",
        "ax.grid(False)\n",
        "ax.tick_params(left = False, bottom = False)\n",
        "for ax, spine in ax.spines.items():\n",
        "    spine.set_visible(False)\n",
        "plt.show()"
      ],
      "metadata": {
        "colab": {
          "base_uri": "https://localhost:8080/",
          "height": 304
        },
        "id": "11NXvhi5iU6G",
        "outputId": "893126c4-d525-45f7-d986-06ba2c02d477"
      },
      "execution_count": null,
      "outputs": [
        {
          "output_type": "display_data",
          "data": {
            "text/plain": [
              "<Figure size 432x288 with 1 Axes>"
            ],
            "image/png": "[encoded data removed]"
          },
          "metadata": {
            "needs_background": "light"
          }
        }
      ]
    },
    {
      "cell_type": "code",
      "source": [
        "#Total Expenses\n",
        "t_exp = data[\"total_exp\"]\n",
        "\n",
        "plt.style.use(\"bmh\")\n",
        "fig, ax = plt.subplots(figsize = (6,4))\n",
        "t_exp.plot(kind = \"hist\", density = True, alpha = 0.65, bins = 20, color = \"#7abbff\")\n",
        "t_exp.plot(kind = \"kde\", color = \"#66cccc\")\n",
        "ax.set_title(\"Total expenses by passengers\", fontsize = 17, pad = 10)\n",
        "ax.set_xlabel(\"Total Expenses\", fontsize = 14)\n",
        "ax.set_ylabel(\"\", fontsize = 14)\n",
        "ax.set_xlim(0, 36000)\n",
        "ax.set_yticks([])\n",
        "ax.grid(False)\n",
        "ax.tick_params(left = False, bottom = False)\n",
        "for ax, spine in ax.spines.items():\n",
        "    spine.set_visible(False)\n",
        "plt.show()"
      ],
      "metadata": {
        "colab": {
          "base_uri": "https://localhost:8080/",
          "height": 304
        },
        "id": "Wns1PkHYmt8y",
        "outputId": "b9b6c114-f4b0-4c69-fdec-fbf623a7ead1"
      },
      "execution_count": null,
      "outputs": [
        {
          "output_type": "display_data",
          "data": {
            "text/plain": [
              "<Figure size 432x288 with 1 Axes>"
            ],
            "image/png": "[encoded data removed]"
          },
          "metadata": {
            "needs_background": "light"
          }
        }
      ]
    },
    {
      "cell_type": "code",
      "source": [
        "#Basic Needs\n",
        "b_needs = data[\"B_needs\"]\n",
        "\n",
        "plt.style.use(\"bmh\")\n",
        "fig, ax = plt.subplots(figsize = (6,4))\n",
        "b_needs.plot(kind = \"hist\", density = True, alpha = 0.65, bins = 20, color = \"#7abbff\")\n",
        "b_needs.plot(kind = \"kde\", color = \"#66cccc\")\n",
        "ax.set_title(\"Basic needs expenses by passengers\", fontsize = 17, pad = 10)\n",
        "ax.set_xlabel(\"Basic Needs\", fontsize = 14)\n",
        "ax.set_ylabel(\"\", fontsize = 14)\n",
        "ax.set_xlim(0, 30000)\n",
        "ax.set_yticks([])\n",
        "ax.grid(False)\n",
        "ax.tick_params(left = False, bottom = False)\n",
        "for ax, spine in ax.spines.items():\n",
        "    spine.set_visible(False)\n",
        "plt.show()"
      ],
      "metadata": {
        "colab": {
          "base_uri": "https://localhost:8080/",
          "height": 304
        },
        "id": "zplErLqbsQd-",
        "outputId": "caef763f-e71a-4fde-9f46-dab6eea3bc31"
      },
      "execution_count": null,
      "outputs": [
        {
          "output_type": "display_data",
          "data": {
            "text/plain": [
              "<Figure size 432x288 with 1 Axes>"
            ],
            "image/png": "[encoded data removed]"
          },
          "metadata": {
            "needs_background": "light"
          }
        }
      ]
    },
    {
      "cell_type": "code",
      "source": [
        "#Luxury Needs\n",
        "l_needs = data[\"L_needs\"]\n",
        "\n",
        "plt.style.use(\"bmh\")\n",
        "fig, ax = plt.subplots(figsize = (6,4))\n",
        "l_needs.plot(kind = \"hist\", density = True, alpha = 0.65, bins = 20, color = \"#7abbff\")\n",
        "l_needs.plot(kind = \"kde\", color = \"#66cccc\")\n",
        "ax.set_title(\"Luxury needs expenses by passengers\", fontsize = 17, pad = 10)\n",
        "ax.set_xlabel(\"Luxury Needs\", fontsize = 14)\n",
        "ax.set_ylabel(\"\", fontsize = 14)\n",
        "ax.set_xlim(0, 30000)\n",
        "ax.set_yticks([])\n",
        "ax.grid(False)\n",
        "ax.tick_params(left = False, bottom = False)\n",
        "for ax, spine in ax.spines.items():\n",
        "    spine.set_visible(False)\n",
        "plt.show()"
      ],
      "metadata": {
        "colab": {
          "base_uri": "https://localhost:8080/",
          "height": 304
        },
        "id": "-rV6dP8Fs21L",
        "outputId": "86104d7b-b83c-46ec-f601-63489008f4c5"
      },
      "execution_count": null,
      "outputs": [
        {
          "output_type": "display_data",
          "data": {
            "text/plain": [
              "<Figure size 432x288 with 1 Axes>"
            ],
            "image/png": "[encoded data removed]"
          },
          "metadata": {
            "needs_background": "light"
          }
        }
      ]
    },
    {
      "cell_type": "markdown",
      "source": [
        "## **Matriz de correlación**"
      ],
      "metadata": {
        "id": "mZ6PJaTgtTbB"
      }
    },
    {
      "cell_type": "code",
      "source": [
        "fig, ax = plt.subplots(figsize=(16, 8))\n",
        "\n",
        "r = associations(data, ax = ax, cmap = \"Blues\")"
      ],
      "metadata": {
        "colab": {
          "base_uri": "https://localhost:8080/",
          "height": 534
        },
        "id": "6dar-FWcudww",
        "outputId": "64e97af6-e8e1-4018-d1c5-7a0e6b13a48f"
      },
      "execution_count": null,
      "outputs": [
        {
          "output_type": "display_data",
          "data": {
            "text/plain": [
              "<Figure size 1152x576 with 2 Axes>"
            ],
            "image/png": "[encoded data removed]"
          },
          "metadata": {
            "needs_background": "light"
          }
        }
      ]
    },
    {
      "cell_type": "markdown",
      "source": [
        "## **Preprocesamiento de datos**"
      ],
      "metadata": {
        "id": "Ng988Mjjx7tQ"
      }
    },
    {
      "cell_type": "code",
      "source": [
        "#Define la matriz de características y el vector objetivo \n",
        "#X = data.drop(columns = \"Transported\")\n",
        "#y = data[\"Transported\"]"
      ],
      "metadata": {
        "id": "uBFQLDV6wfUq"
      },
      "execution_count": null,
      "outputs": []
    },
    {
      "cell_type": "code",
      "source": [
        "#Train-test split\n",
        "#X_train, X_test, y_train, y_test = train_test_split(X, y, random_state = 42)\n",
        "X_train = data.drop(columns = \"Transported\")\n",
        "X_test = data_test\n",
        "\n",
        "y_train = data[\"Transported\"]"
      ],
      "metadata": {
        "id": "pPTbhOiPyvPX"
      },
      "execution_count": null,
      "outputs": []
    },
    {
      "cell_type": "code",
      "source": [
        "#Escala los datos numéricos y aplica OHE a los datos categóricos\n",
        "#Scaler\n",
        "scaler = StandardScaler()\n",
        "\n",
        "#OHE\n",
        "ohe = OneHotEncoder(handle_unknown = \"ignore\", sparse = False)\n",
        "\n",
        "#Instancien los selectores de acuerdo a los tipos de columnas \n",
        "num_selector = make_column_selector(dtype_include = \"number\")\n",
        "cat_selector = make_column_selector(dtype_include = \"object\")\n",
        "\n",
        "#Tuplas para el preprocesamiento \n",
        "num_tuple = (scaler, num_selector)\n",
        "cat_tuple = (ohe, cat_selector)\n",
        "\n",
        "#Hace ColumnTransformer\n",
        "col_transformer = make_column_transformer(num_tuple, cat_tuple, \n",
        "                                          remainder = \"passthrough\")\n",
        "\n",
        "col_transformer.fit(X_train)"
      ],
      "metadata": {
        "colab": {
          "base_uri": "https://localhost:8080/",
          "height": 116
        },
        "id": "Y3VrbAGuy1GS",
        "outputId": "5cd53859-f68c-49c1-bad4-be0c758a3a69"
      },
      "execution_count": null,
      "outputs": [
        {
          "output_type": "execute_result",
          "data": {
            "text/plain": [
              "ColumnTransformer(remainder='passthrough',\n",
              "                  transformers=[('standardscaler', StandardScaler(),\n",
              "                                 <sklearn.compose._column_transformer.make_column_selector object at 0x7f161038d550>),\n",
              "                                ('onehotencoder',\n",
              "                                 OneHotEncoder(handle_unknown='ignore',\n",
              "                                               sparse=False),\n",
              "                                 <sklearn.compose._column_transformer.make_column_selector object at 0x7f1610264dc0>)])"
            ],
            "text/html": [
              "<style>#sk-d958a8cb-96d9-4e2c-9a95-ba370a894cc5 {color: black;background-color: white;}#sk-d958a8cb-96d9-4e2c-9a95-ba370a894cc5 pre{padding: 0;}#sk-d958a8cb-96d9-4e2c-9a95-ba370a894cc5 div.sk-toggleable {background-color: white;}#sk-d958a8cb-96d9-4e2c-9a95-ba370a894cc5 label.sk-toggleable__label {cursor: pointer;display: block;width: 100%;margin-bottom: 0;padding: 0.3em;box-sizing: border-box;text-align: center;}#sk-d958a8cb-96d9-4e2c-9a95-ba370a894cc5 label.sk-toggleable__label-arrow:before {content: \"▸\";float: left;margin-right: 0.25em;color: #696969;}#sk-d958a8cb-96d9-4e2c-9a95-ba370a894cc5 label.sk-toggleable__label-arrow:hover:before {color: black;}#sk-d958a8cb-96d9-4e2c-9a95-ba370a894cc5 div.sk-estimator:hover label.sk-toggleable__label-arrow:before {color: black;}#sk-d958a8cb-96d9-4e2c-9a95-ba370a894cc5 div.sk-toggleable__content {max-height: 0;max-width: 0;overflow: hidden;text-align: left;background-color: #f0f8ff;}#sk-d958a8cb-96d9-4e2c-9a95-ba370a894cc5 div.sk-toggleable__content pre {margin: 0.2em;color: black;border-radius: 0.25em;background-color: #f0f8ff;}#sk-d958a8cb-96d9-4e2c-9a95-ba370a894cc5 input.sk-toggleable__control:checked~div.sk-toggleable__content {max-height: 200px;max-width: 100%;overflow: auto;}#sk-d958a8cb-96d9-4e2c-9a95-ba370a894cc5 input.sk-toggleable__control:checked~label.sk-toggleable__label-arrow:before {content: \"▾\";}#sk-d958a8cb-96d9-4e2c-9a95-ba370a894cc5 div.sk-estimator input.sk-toggleable__control:checked~label.sk-toggleable__label {background-color: #d4ebff;}#sk-d958a8cb-96d9-4e2c-9a95-ba370a894cc5 div.sk-label input.sk-toggleable__control:checked~label.sk-toggleable__label {background-color: #d4ebff;}#sk-d958a8cb-96d9-4e2c-9a95-ba370a894cc5 input.sk-hidden--visually {border: 0;clip: rect(1px 1px 1px 1px);clip: rect(1px, 1px, 1px, 1px);height: 1px;margin: -1px;overflow: hidden;padding: 0;position: absolute;width: 1px;}#sk-d958a8cb-96d9-4e2c-9a95-ba370a894cc5 div.sk-estimator {font-family: monospace;background-color: #f0f8ff;border: 1px dotted black;border-radius: 0.25em;box-sizing: border-box;margin-bottom: 0.5em;}#sk-d958a8cb-96d9-4e2c-9a95-ba370a894cc5 div.sk-estimator:hover {background-color: #d4ebff;}#sk-d958a8cb-96d9-4e2c-9a95-ba370a894cc5 div.sk-parallel-item::after {content: \"\";width: 100%;border-bottom: 1px solid gray;flex-grow: 1;}#sk-d958a8cb-96d9-4e2c-9a95-ba370a894cc5 div.sk-label:hover label.sk-toggleable__label {background-color: #d4ebff;}#sk-d958a8cb-96d9-4e2c-9a95-ba370a894cc5 div.sk-serial::before {content: \"\";position: absolute;border-left: 1px solid gray;box-sizing: border-box;top: 2em;bottom: 0;left: 50%;}#sk-d958a8cb-96d9-4e2c-9a95-ba370a894cc5 div.sk-serial {display: flex;flex-direction: column;align-items: center;background-color: white;padding-right: 0.2em;padding-left: 0.2em;}#sk-d958a8cb-96d9-4e2c-9a95-ba370a894cc5 div.sk-item {z-index: 1;}#sk-d958a8cb-96d9-4e2c-9a95-ba370a894cc5 div.sk-parallel {display: flex;align-items: stretch;justify-content: center;background-color: white;}#sk-d958a8cb-96d9-4e2c-9a95-ba370a894cc5 div.sk-parallel::before {content: \"\";position: absolute;border-left: 1px solid gray;box-sizing: border-box;top: 2em;bottom: 0;left: 50%;}#sk-d958a8cb-96d9-4e2c-9a95-ba370a894cc5 div.sk-parallel-item {display: flex;flex-direction: column;position: relative;background-color: white;}#sk-d958a8cb-96d9-4e2c-9a95-ba370a894cc5 div.sk-parallel-item:first-child::after {align-self: flex-end;width: 50%;}#sk-d958a8cb-96d9-4e2c-9a95-ba370a894cc5 div.sk-parallel-item:last-child::after {align-self: flex-start;width: 50%;}#sk-d958a8cb-96d9-4e2c-9a95-ba370a894cc5 div.sk-parallel-item:only-child::after {width: 0;}#sk-d958a8cb-96d9-4e2c-9a95-ba370a894cc5 div.sk-dashed-wrapped {border: 1px dashed gray;margin: 0 0.4em 0.5em 0.4em;box-sizing: border-box;padding-bottom: 0.4em;background-color: white;position: relative;}#sk-d958a8cb-96d9-4e2c-9a95-ba370a894cc5 div.sk-label label {font-family: monospace;font-weight: bold;background-color: white;display: inline-block;line-height: 1.2em;}#sk-d958a8cb-96d9-4e2c-9a95-ba370a894cc5 div.sk-label-container {position: relative;z-index: 2;text-align: center;}#sk-d958a8cb-96d9-4e2c-9a95-ba370a894cc5 div.sk-container {/* jupyter's `normalize.less` sets `[hidden] { display: none; }` but bootstrap.min.css set `[hidden] { display: none !important; }` so we also need the `!important` here to be able to override the default hidden behavior on the sphinx rendered scikit-learn.org. See: https://github.com/scikit-learn/scikit-learn/issues/21755 */display: inline-block !important;position: relative;}#sk-d958a8cb-96d9-4e2c-9a95-ba370a894cc5 div.sk-text-repr-fallback {display: none;}</style><div id=\"sk-d958a8cb-96d9-4e2c-9a95-ba370a894cc5\" class=\"sk-top-container\"><div class=\"sk-text-repr-fallback\"><pre>ColumnTransformer(remainder=&#x27;passthrough&#x27;,\n",
              "                  transformers=[(&#x27;standardscaler&#x27;, StandardScaler(),\n",
              "                                 &lt;sklearn.compose._column_transformer.make_column_selector object at 0x7f161038d550&gt;),\n",
              "                                (&#x27;onehotencoder&#x27;,\n",
              "                                 OneHotEncoder(handle_unknown=&#x27;ignore&#x27;,\n",
              "                                               sparse=False),\n",
              "                                 &lt;sklearn.compose._column_transformer.make_column_selector object at 0x7f1610264dc0&gt;)])</pre><b>Please rerun this cell to show the HTML repr or trust the notebook.</b></div><div class=\"sk-container\" hidden><div class=\"sk-item sk-dashed-wrapped\"><div class=\"sk-label-container\"><div class=\"sk-label sk-toggleable\"><input class=\"sk-toggleable__control sk-hidden--visually\" id=\"ec5b9e8c-0c31-432b-b160-a45a6a64280f\" type=\"checkbox\" ><label for=\"ec5b9e8c-0c31-432b-b160-a45a6a64280f\" class=\"sk-toggleable__label sk-toggleable__label-arrow\">ColumnTransformer</label><div class=\"sk-toggleable__content\"><pre>ColumnTransformer(remainder=&#x27;passthrough&#x27;,\n",
              "                  transformers=[(&#x27;standardscaler&#x27;, StandardScaler(),\n",
              "                                 &lt;sklearn.compose._column_transformer.make_column_selector object at 0x7f161038d550&gt;),\n",
              "                                (&#x27;onehotencoder&#x27;,\n",
              "                                 OneHotEncoder(handle_unknown=&#x27;ignore&#x27;,\n",
              "                                               sparse=False),\n",
              "                                 &lt;sklearn.compose._column_transformer.make_column_selector object at 0x7f1610264dc0&gt;)])</pre></div></div></div><div class=\"sk-parallel\"><div class=\"sk-parallel-item\"><div class=\"sk-item\"><div class=\"sk-label-container\"><div class=\"sk-label sk-toggleable\"><input class=\"sk-toggleable__control sk-hidden--visually\" id=\"a555b647-cbd1-4ff5-8744-a5034913ef4c\" type=\"checkbox\" ><label for=\"a555b647-cbd1-4ff5-8744-a5034913ef4c\" class=\"sk-toggleable__label sk-toggleable__label-arrow\">standardscaler</label><div class=\"sk-toggleable__content\"><pre>&lt;sklearn.compose._column_transformer.make_column_selector object at 0x7f161038d550&gt;</pre></div></div></div><div class=\"sk-serial\"><div class=\"sk-item\"><div class=\"sk-estimator sk-toggleable\"><input class=\"sk-toggleable__control sk-hidden--visually\" id=\"dd13b37a-0a15-4a03-a2b9-eecda2d48ccc\" type=\"checkbox\" ><label for=\"dd13b37a-0a15-4a03-a2b9-eecda2d48ccc\" class=\"sk-toggleable__label sk-toggleable__label-arrow\">StandardScaler</label><div class=\"sk-toggleable__content\"><pre>StandardScaler()</pre></div></div></div></div></div></div><div class=\"sk-parallel-item\"><div class=\"sk-item\"><div class=\"sk-label-container\"><div class=\"sk-label sk-toggleable\"><input class=\"sk-toggleable__control sk-hidden--visually\" id=\"11547d9a-cf22-492b-8880-a15c9b55fecb\" type=\"checkbox\" ><label for=\"11547d9a-cf22-492b-8880-a15c9b55fecb\" class=\"sk-toggleable__label sk-toggleable__label-arrow\">onehotencoder</label><div class=\"sk-toggleable__content\"><pre>&lt;sklearn.compose._column_transformer.make_column_selector object at 0x7f1610264dc0&gt;</pre></div></div></div><div class=\"sk-serial\"><div class=\"sk-item\"><div class=\"sk-estimator sk-toggleable\"><input class=\"sk-toggleable__control sk-hidden--visually\" id=\"054df771-319d-481c-b7a7-dcb90a29cc36\" type=\"checkbox\" ><label for=\"054df771-319d-481c-b7a7-dcb90a29cc36\" class=\"sk-toggleable__label sk-toggleable__label-arrow\">OneHotEncoder</label><div class=\"sk-toggleable__content\"><pre>OneHotEncoder(handle_unknown=&#x27;ignore&#x27;, sparse=False)</pre></div></div></div></div></div></div><div class=\"sk-parallel-item\"><div class=\"sk-item\"><div class=\"sk-label-container\"><div class=\"sk-label sk-toggleable\"><input class=\"sk-toggleable__control sk-hidden--visually\" id=\"bb2a0c08-c616-49ca-bbf3-2f9793eccb15\" type=\"checkbox\" ><label for=\"bb2a0c08-c616-49ca-bbf3-2f9793eccb15\" class=\"sk-toggleable__label sk-toggleable__label-arrow\">remainder</label><div class=\"sk-toggleable__content\"><pre>[]</pre></div></div></div><div class=\"sk-serial\"><div class=\"sk-item\"><div class=\"sk-estimator sk-toggleable\"><input class=\"sk-toggleable__control sk-hidden--visually\" id=\"54b5eec1-008f-40f7-854e-13e8defdc42c\" type=\"checkbox\" ><label for=\"54b5eec1-008f-40f7-854e-13e8defdc42c\" class=\"sk-toggleable__label sk-toggleable__label-arrow\">passthrough</label><div class=\"sk-toggleable__content\"><pre>passthrough</pre></div></div></div></div></div></div></div></div></div></div>"
            ]
          },
          "metadata": {},
          "execution_count": 111
        }
      ]
    },
    {
      "cell_type": "code",
      "source": [
        "#Transforma los datos\n",
        "X_train_processed = col_transformer.transform(X_train)\n",
        "X_test_processed  = col_transformer.transform(X_test)"
      ],
      "metadata": {
        "id": "3lAZpGHmzLQx"
      },
      "execution_count": null,
      "outputs": []
    },
    {
      "cell_type": "code",
      "source": [
        "#Visualiza las transformaciones en forma de DataFrame\n",
        "column_names = col_transformer.get_feature_names_out(X_train.columns)\n",
        "X_train = pd.DataFrame(X_train_processed, columns = column_names)\n",
        "X_test = pd.DataFrame(X_test_processed, columns = column_names)\n",
        "X_train.head()"
      ],
      "metadata": {
        "colab": {
          "base_uri": "https://localhost:8080/",
          "height": 317
        },
        "id": "Jt6DwwtJzOPV",
        "outputId": "1ba73607-e0a5-4226-9185-96e134d26656"
      },
      "execution_count": null,
      "outputs": [
        {
          "output_type": "execute_result",
          "data": {
            "text/plain": [
              "   standardscaler__Age  standardscaler__total_exp  standardscaler__B_needs  \\\n",
              "0             0.709368                  -0.514627                -0.389530   \n",
              "1            -0.337126                  -0.252207                -0.320885   \n",
              "2             2.034926                   3.187419                 1.715774   \n",
              "3             0.290770                   1.330869                 0.356838   \n",
              "4            -0.895255                  -0.125632                -0.172542   \n",
              "\n",
              "   standardscaler__L_needs  onehotencoder__HomePlanet_Earth  \\\n",
              "0                -0.425879                              0.0   \n",
              "1                -0.085730                              1.0   \n",
              "2                 3.297050                              0.0   \n",
              "3                 1.716842                              0.0   \n",
              "4                -0.030689                              1.0   \n",
              "\n",
              "   onehotencoder__HomePlanet_Europa  onehotencoder__HomePlanet_Mars  \\\n",
              "0                               1.0                             0.0   \n",
              "1                               0.0                             0.0   \n",
              "2                               1.0                             0.0   \n",
              "3                               1.0                             0.0   \n",
              "4                               0.0                             0.0   \n",
              "\n",
              "   onehotencoder__CryoSleep_False  onehotencoder__CryoSleep_True  \\\n",
              "0                             1.0                            0.0   \n",
              "1                             1.0                            0.0   \n",
              "2                             1.0                            0.0   \n",
              "3                             1.0                            0.0   \n",
              "4                             1.0                            0.0   \n",
              "\n",
              "   onehotencoder__Destination_55 Cancri e  ...  onehotencoder__Cabin_num_994  \\\n",
              "0                                     0.0  ...                           0.0   \n",
              "1                                     0.0  ...                           0.0   \n",
              "2                                     0.0  ...                           0.0   \n",
              "3                                     0.0  ...                           0.0   \n",
              "4                                     0.0  ...                           0.0   \n",
              "\n",
              "   onehotencoder__Cabin_num_995  onehotencoder__Cabin_num_996  \\\n",
              "0                           0.0                           0.0   \n",
              "1                           0.0                           0.0   \n",
              "2                           0.0                           0.0   \n",
              "3                           0.0                           0.0   \n",
              "4                           0.0                           0.0   \n",
              "\n",
              "   onehotencoder__Cabin_num_997  onehotencoder__Cabin_num_998  \\\n",
              "0                           0.0                           0.0   \n",
              "1                           0.0                           0.0   \n",
              "2                           0.0                           0.0   \n",
              "3                           0.0                           0.0   \n",
              "4                           0.0                           0.0   \n",
              "\n",
              "   onehotencoder__Cabin_num_999  onehotencoder__Cabin_num_None  \\\n",
              "0                           0.0                            0.0   \n",
              "1                           0.0                            0.0   \n",
              "2                           0.0                            0.0   \n",
              "3                           0.0                            0.0   \n",
              "4                           0.0                            0.0   \n",
              "\n",
              "   onehotencoder__Cabin_side_P  onehotencoder__Cabin_side_S  \\\n",
              "0                          1.0                          0.0   \n",
              "1                          0.0                          1.0   \n",
              "2                          0.0                          1.0   \n",
              "3                          0.0                          1.0   \n",
              "4                          0.0                          1.0   \n",
              "\n",
              "   onehotencoder__Cabin_side_None  \n",
              "0                             0.0  \n",
              "1                             0.0  \n",
              "2                             0.0  \n",
              "3                             0.0  \n",
              "4                             0.0  \n",
              "\n",
              "[5 rows x 1844 columns]"
            ],
            "text/html": [
              "\n",
              "  <div id=\"df-ed0a5fd4-a335-4cb3-b672-6f7665a41593\">\n",
              "    <div class=\"colab-df-container\">\n",
              "      <div>\n",
              "<style scoped>\n",
              "    .dataframe tbody tr th:only-of-type {\n",
              "        vertical-align: middle;\n",
              "    }\n",
              "\n",
              "    .dataframe tbody tr th {\n",
              "        vertical-align: top;\n",
              "    }\n",
              "\n",
              "    .dataframe thead th {\n",
              "        text-align: right;\n",
              "    }\n",
              "</style>\n",
              "<table border=\"1\" class=\"dataframe\">\n",
              "  <thead>\n",
              "    <tr style=\"text-align: right;\">\n",
              "      <th></th>\n",
              "      <th>standardscaler__Age</th>\n",
              "      <th>standardscaler__total_exp</th>\n",
              "      <th>standardscaler__B_needs</th>\n",
              "      <th>standardscaler__L_needs</th>\n",
              "      <th>onehotencoder__HomePlanet_Earth</th>\n",
              "      <th>onehotencoder__HomePlanet_Europa</th>\n",
              "      <th>onehotencoder__HomePlanet_Mars</th>\n",
              "      <th>onehotencoder__CryoSleep_False</th>\n",
              "      <th>onehotencoder__CryoSleep_True</th>\n",
              "      <th>onehotencoder__Destination_55 Cancri e</th>\n",
              "      <th>...</th>\n",
              "      <th>onehotencoder__Cabin_num_994</th>\n",
              "      <th>onehotencoder__Cabin_num_995</th>\n",
              "      <th>onehotencoder__Cabin_num_996</th>\n",
              "      <th>onehotencoder__Cabin_num_997</th>\n",
              "      <th>onehotencoder__Cabin_num_998</th>\n",
              "      <th>onehotencoder__Cabin_num_999</th>\n",
              "      <th>onehotencoder__Cabin_num_None</th>\n",
              "      <th>onehotencoder__Cabin_side_P</th>\n",
              "      <th>onehotencoder__Cabin_side_S</th>\n",
              "      <th>onehotencoder__Cabin_side_None</th>\n",
              "    </tr>\n",
              "  </thead>\n",
              "  <tbody>\n",
              "    <tr>\n",
              "      <th>0</th>\n",
              "      <td>0.709368</td>\n",
              "      <td>-0.514627</td>\n",
              "      <td>-0.389530</td>\n",
              "      <td>-0.425879</td>\n",
              "      <td>0.0</td>\n",
              "      <td>1.0</td>\n",
              "      <td>0.0</td>\n",
              "      <td>1.0</td>\n",
              "      <td>0.0</td>\n",
              "      <td>0.0</td>\n",
              "      <td>...</td>\n",
              "      <td>0.0</td>\n",
              "      <td>0.0</td>\n",
              "      <td>0.0</td>\n",
              "      <td>0.0</td>\n",
              "      <td>0.0</td>\n",
              "      <td>0.0</td>\n",
              "      <td>0.0</td>\n",
              "      <td>1.0</td>\n",
              "      <td>0.0</td>\n",
              "      <td>0.0</td>\n",
              "    </tr>\n",
              "    <tr>\n",
              "      <th>1</th>\n",
              "      <td>-0.337126</td>\n",
              "      <td>-0.252207</td>\n",
              "      <td>-0.320885</td>\n",
              "      <td>-0.085730</td>\n",
              "      <td>1.0</td>\n",
              "      <td>0.0</td>\n",
              "      <td>0.0</td>\n",
              "      <td>1.0</td>\n",
              "      <td>0.0</td>\n",
              "      <td>0.0</td>\n",
              "      <td>...</td>\n",
              "      <td>0.0</td>\n",
              "      <td>0.0</td>\n",
              "      <td>0.0</td>\n",
              "      <td>0.0</td>\n",
              "      <td>0.0</td>\n",
              "      <td>0.0</td>\n",
              "      <td>0.0</td>\n",
              "      <td>0.0</td>\n",
              "      <td>1.0</td>\n",
              "      <td>0.0</td>\n",
              "    </tr>\n",
              "    <tr>\n",
              "      <th>2</th>\n",
              "      <td>2.034926</td>\n",
              "      <td>3.187419</td>\n",
              "      <td>1.715774</td>\n",
              "      <td>3.297050</td>\n",
              "      <td>0.0</td>\n",
              "      <td>1.0</td>\n",
              "      <td>0.0</td>\n",
              "      <td>1.0</td>\n",
              "      <td>0.0</td>\n",
              "      <td>0.0</td>\n",
              "      <td>...</td>\n",
              "      <td>0.0</td>\n",
              "      <td>0.0</td>\n",
              "      <td>0.0</td>\n",
              "      <td>0.0</td>\n",
              "      <td>0.0</td>\n",
              "      <td>0.0</td>\n",
              "      <td>0.0</td>\n",
              "      <td>0.0</td>\n",
              "      <td>1.0</td>\n",
              "      <td>0.0</td>\n",
              "    </tr>\n",
              "    <tr>\n",
              "      <th>3</th>\n",
              "      <td>0.290770</td>\n",
              "      <td>1.330869</td>\n",
              "      <td>0.356838</td>\n",
              "      <td>1.716842</td>\n",
              "      <td>0.0</td>\n",
              "      <td>1.0</td>\n",
              "      <td>0.0</td>\n",
              "      <td>1.0</td>\n",
              "      <td>0.0</td>\n",
              "      <td>0.0</td>\n",
              "      <td>...</td>\n",
              "      <td>0.0</td>\n",
              "      <td>0.0</td>\n",
              "      <td>0.0</td>\n",
              "      <td>0.0</td>\n",
              "      <td>0.0</td>\n",
              "      <td>0.0</td>\n",
              "      <td>0.0</td>\n",
              "      <td>0.0</td>\n",
              "      <td>1.0</td>\n",
              "      <td>0.0</td>\n",
              "    </tr>\n",
              "    <tr>\n",
              "      <th>4</th>\n",
              "      <td>-0.895255</td>\n",
              "      <td>-0.125632</td>\n",
              "      <td>-0.172542</td>\n",
              "      <td>-0.030689</td>\n",
              "      <td>1.0</td>\n",
              "      <td>0.0</td>\n",
              "      <td>0.0</td>\n",
              "      <td>1.0</td>\n",
              "      <td>0.0</td>\n",
              "      <td>0.0</td>\n",
              "      <td>...</td>\n",
              "      <td>0.0</td>\n",
              "      <td>0.0</td>\n",
              "      <td>0.0</td>\n",
              "      <td>0.0</td>\n",
              "      <td>0.0</td>\n",
              "      <td>0.0</td>\n",
              "      <td>0.0</td>\n",
              "      <td>0.0</td>\n",
              "      <td>1.0</td>\n",
              "      <td>0.0</td>\n",
              "    </tr>\n",
              "  </tbody>\n",
              "</table>\n",
              "<p>5 rows × 1844 columns</p>\n",
              "</div>\n",
              "      <button class=\"colab-df-convert\" onclick=\"convertToInteractive('df-ed0a5fd4-a335-4cb3-b672-6f7665a41593')\"\n",
              "              title=\"Convert this dataframe to an interactive table.\"\n",
              "              style=\"display:none;\">\n",
              "        \n",
              "  <svg xmlns=\"http://www.w3.org/2000/svg\" height=\"24px\"viewBox=\"0 0 24 24\"\n",
              "       width=\"24px\">\n",
              "    <path d=\"M0 0h24v24H0V0z\" fill=\"none\"/>\n",
              "    <path d=\"M18.56 5.44l.94 2.06.94-2.06 2.06-.94-2.06-.94-.94-2.06-.94 2.06-2.06.94zm-11 1L8.5 8.5l.94-2.06 2.06-.94-2.06-.94L8.5 2.5l-.94 2.06-2.06.94zm10 10l.94 2.06.94-2.06 2.06-.94-2.06-.94-.94-2.06-.94 2.06-2.06.94z\"/><path d=\"M17.41 7.96l-1.37-1.37c-.4-.4-.92-.59-1.43-.59-.52 0-1.04.2-1.43.59L10.3 9.45l-7.72 7.72c-.78.78-.78 2.05 0 2.83L4 21.41c.39.39.9.59 1.41.59.51 0 1.02-.2 1.41-.59l7.78-7.78 2.81-2.81c.8-.78.8-2.07 0-2.86zM5.41 20L4 18.59l7.72-7.72 1.47 1.35L5.41 20z\"/>\n",
              "  </svg>\n",
              "      </button>\n",
              "      \n",
              "  <style>\n",
              "    .colab-df-container {\n",
              "      display:flex;\n",
              "      flex-wrap:wrap;\n",
              "      gap: 12px;\n",
              "    }\n",
              "\n",
              "    .colab-df-convert {\n",
              "      background-color: #E8F0FE;\n",
              "      border: none;\n",
              "      border-radius: 50%;\n",
              "      cursor: pointer;\n",
              "      display: none;\n",
              "      fill: #1967D2;\n",
              "      height: 32px;\n",
              "      padding: 0 0 0 0;\n",
              "      width: 32px;\n",
              "    }\n",
              "\n",
              "    .colab-df-convert:hover {\n",
              "      background-color: #E2EBFA;\n",
              "      box-shadow: 0px 1px 2px rgba(60, 64, 67, 0.3), 0px 1px 3px 1px rgba(60, 64, 67, 0.15);\n",
              "      fill: #174EA6;\n",
              "    }\n",
              "\n",
              "    [theme=dark] .colab-df-convert {\n",
              "      background-color: #3B4455;\n",
              "      fill: #D2E3FC;\n",
              "    }\n",
              "\n",
              "    [theme=dark] .colab-df-convert:hover {\n",
              "      background-color: #434B5C;\n",
              "      box-shadow: 0px 1px 3px 1px rgba(0, 0, 0, 0.15);\n",
              "      filter: drop-shadow(0px 1px 2px rgba(0, 0, 0, 0.3));\n",
              "      fill: #FFFFFF;\n",
              "    }\n",
              "  </style>\n",
              "\n",
              "      <script>\n",
              "        const buttonEl =\n",
              "          document.querySelector('#df-ed0a5fd4-a335-4cb3-b672-6f7665a41593 button.colab-df-convert');\n",
              "        buttonEl.style.display =\n",
              "          google.colab.kernel.accessAllowed ? 'block' : 'none';\n",
              "\n",
              "        async function convertToInteractive(key) {\n",
              "          const element = document.querySelector('#df-ed0a5fd4-a335-4cb3-b672-6f7665a41593');\n",
              "          const dataTable =\n",
              "            await google.colab.kernel.invokeFunction('convertToInteractive',\n",
              "                                                     [key], {});\n",
              "          if (!dataTable) return;\n",
              "\n",
              "          const docLinkHtml = 'Like what you see? Visit the ' +\n",
              "            '<a target=\"_blank\" href=https://colab.research.google.com/notebooks/data_table.ipynb>data table notebook</a>'\n",
              "            + ' to learn more about interactive tables.';\n",
              "          element.innerHTML = '';\n",
              "          dataTable['output_type'] = 'display_data';\n",
              "          await google.colab.output.renderOutput(dataTable, element);\n",
              "          const docLink = document.createElement('div');\n",
              "          docLink.innerHTML = docLinkHtml;\n",
              "          element.appendChild(docLink);\n",
              "        }\n",
              "      </script>\n",
              "    </div>\n",
              "  </div>\n",
              "  "
            ]
          },
          "metadata": {},
          "execution_count": 113
        }
      ]
    },
    {
      "cell_type": "code",
      "source": [
        "X_train.shape"
      ],
      "metadata": {
        "colab": {
          "base_uri": "https://localhost:8080/"
        },
        "id": "aisBP8bnzQxc",
        "outputId": "685dd71d-64a2-42a9-bcbe-8e4efaa61609"
      },
      "execution_count": null,
      "outputs": [
        {
          "output_type": "execute_result",
          "data": {
            "text/plain": [
              "(8678, 1844)"
            ]
          },
          "metadata": {},
          "execution_count": 114
        }
      ]
    },
    {
      "cell_type": "markdown",
      "source": [
        "## **Reducción de dimensionalidad (PCA)**"
      ],
      "metadata": {
        "id": "Iw-uCgpm0E0-"
      }
    },
    {
      "cell_type": "code",
      "source": [
        "# Instantiate & fit data using PCA\n",
        "pca = PCA()\n",
        "pca.fit(X_train)"
      ],
      "metadata": {
        "colab": {
          "base_uri": "https://localhost:8080/",
          "height": 74
        },
        "id": "nGBzKnL7zWG6",
        "outputId": "b7365e23-6b93-471b-e53d-93eb698cfaf1"
      },
      "execution_count": null,
      "outputs": [
        {
          "output_type": "execute_result",
          "data": {
            "text/plain": [
              "PCA()"
            ],
            "text/html": [
              "<style>#sk-19b6946c-3eba-494c-9058-8f8e0a6b1f7f {color: black;background-color: white;}#sk-19b6946c-3eba-494c-9058-8f8e0a6b1f7f pre{padding: 0;}#sk-19b6946c-3eba-494c-9058-8f8e0a6b1f7f div.sk-toggleable {background-color: white;}#sk-19b6946c-3eba-494c-9058-8f8e0a6b1f7f label.sk-toggleable__label {cursor: pointer;display: block;width: 100%;margin-bottom: 0;padding: 0.3em;box-sizing: border-box;text-align: center;}#sk-19b6946c-3eba-494c-9058-8f8e0a6b1f7f label.sk-toggleable__label-arrow:before {content: \"▸\";float: left;margin-right: 0.25em;color: #696969;}#sk-19b6946c-3eba-494c-9058-8f8e0a6b1f7f label.sk-toggleable__label-arrow:hover:before {color: black;}#sk-19b6946c-3eba-494c-9058-8f8e0a6b1f7f div.sk-estimator:hover label.sk-toggleable__label-arrow:before {color: black;}#sk-19b6946c-3eba-494c-9058-8f8e0a6b1f7f div.sk-toggleable__content {max-height: 0;max-width: 0;overflow: hidden;text-align: left;background-color: #f0f8ff;}#sk-19b6946c-3eba-494c-9058-8f8e0a6b1f7f div.sk-toggleable__content pre {margin: 0.2em;color: black;border-radius: 0.25em;background-color: #f0f8ff;}#sk-19b6946c-3eba-494c-9058-8f8e0a6b1f7f input.sk-toggleable__control:checked~div.sk-toggleable__content {max-height: 200px;max-width: 100%;overflow: auto;}#sk-19b6946c-3eba-494c-9058-8f8e0a6b1f7f input.sk-toggleable__control:checked~label.sk-toggleable__label-arrow:before {content: \"▾\";}#sk-19b6946c-3eba-494c-9058-8f8e0a6b1f7f div.sk-estimator input.sk-toggleable__control:checked~label.sk-toggleable__label {background-color: #d4ebff;}#sk-19b6946c-3eba-494c-9058-8f8e0a6b1f7f div.sk-label input.sk-toggleable__control:checked~label.sk-toggleable__label {background-color: #d4ebff;}#sk-19b6946c-3eba-494c-9058-8f8e0a6b1f7f input.sk-hidden--visually {border: 0;clip: rect(1px 1px 1px 1px);clip: rect(1px, 1px, 1px, 1px);height: 1px;margin: -1px;overflow: hidden;padding: 0;position: absolute;width: 1px;}#sk-19b6946c-3eba-494c-9058-8f8e0a6b1f7f div.sk-estimator {font-family: monospace;background-color: #f0f8ff;border: 1px dotted black;border-radius: 0.25em;box-sizing: border-box;margin-bottom: 0.5em;}#sk-19b6946c-3eba-494c-9058-8f8e0a6b1f7f div.sk-estimator:hover {background-color: #d4ebff;}#sk-19b6946c-3eba-494c-9058-8f8e0a6b1f7f div.sk-parallel-item::after {content: \"\";width: 100%;border-bottom: 1px solid gray;flex-grow: 1;}#sk-19b6946c-3eba-494c-9058-8f8e0a6b1f7f div.sk-label:hover label.sk-toggleable__label {background-color: #d4ebff;}#sk-19b6946c-3eba-494c-9058-8f8e0a6b1f7f div.sk-serial::before {content: \"\";position: absolute;border-left: 1px solid gray;box-sizing: border-box;top: 2em;bottom: 0;left: 50%;}#sk-19b6946c-3eba-494c-9058-8f8e0a6b1f7f div.sk-serial {display: flex;flex-direction: column;align-items: center;background-color: white;padding-right: 0.2em;padding-left: 0.2em;}#sk-19b6946c-3eba-494c-9058-8f8e0a6b1f7f div.sk-item {z-index: 1;}#sk-19b6946c-3eba-494c-9058-8f8e0a6b1f7f div.sk-parallel {display: flex;align-items: stretch;justify-content: center;background-color: white;}#sk-19b6946c-3eba-494c-9058-8f8e0a6b1f7f div.sk-parallel::before {content: \"\";position: absolute;border-left: 1px solid gray;box-sizing: border-box;top: 2em;bottom: 0;left: 50%;}#sk-19b6946c-3eba-494c-9058-8f8e0a6b1f7f div.sk-parallel-item {display: flex;flex-direction: column;position: relative;background-color: white;}#sk-19b6946c-3eba-494c-9058-8f8e0a6b1f7f div.sk-parallel-item:first-child::after {align-self: flex-end;width: 50%;}#sk-19b6946c-3eba-494c-9058-8f8e0a6b1f7f div.sk-parallel-item:last-child::after {align-self: flex-start;width: 50%;}#sk-19b6946c-3eba-494c-9058-8f8e0a6b1f7f div.sk-parallel-item:only-child::after {width: 0;}#sk-19b6946c-3eba-494c-9058-8f8e0a6b1f7f div.sk-dashed-wrapped {border: 1px dashed gray;margin: 0 0.4em 0.5em 0.4em;box-sizing: border-box;padding-bottom: 0.4em;background-color: white;position: relative;}#sk-19b6946c-3eba-494c-9058-8f8e0a6b1f7f div.sk-label label {font-family: monospace;font-weight: bold;background-color: white;display: inline-block;line-height: 1.2em;}#sk-19b6946c-3eba-494c-9058-8f8e0a6b1f7f div.sk-label-container {position: relative;z-index: 2;text-align: center;}#sk-19b6946c-3eba-494c-9058-8f8e0a6b1f7f div.sk-container {/* jupyter's `normalize.less` sets `[hidden] { display: none; }` but bootstrap.min.css set `[hidden] { display: none !important; }` so we also need the `!important` here to be able to override the default hidden behavior on the sphinx rendered scikit-learn.org. See: https://github.com/scikit-learn/scikit-learn/issues/21755 */display: inline-block !important;position: relative;}#sk-19b6946c-3eba-494c-9058-8f8e0a6b1f7f div.sk-text-repr-fallback {display: none;}</style><div id=\"sk-19b6946c-3eba-494c-9058-8f8e0a6b1f7f\" class=\"sk-top-container\"><div class=\"sk-text-repr-fallback\"><pre>PCA()</pre><b>Please rerun this cell to show the HTML repr or trust the notebook.</b></div><div class=\"sk-container\" hidden><div class=\"sk-item\"><div class=\"sk-estimator sk-toggleable\"><input class=\"sk-toggleable__control sk-hidden--visually\" id=\"76423137-65ae-46d1-8b8d-efbeb08ccd12\" type=\"checkbox\" checked><label for=\"76423137-65ae-46d1-8b8d-efbeb08ccd12\" class=\"sk-toggleable__label sk-toggleable__label-arrow\">PCA</label><div class=\"sk-toggleable__content\"><pre>PCA()</pre></div></div></div></div></div>"
            ]
          },
          "metadata": {},
          "execution_count": 115
        }
      ]
    },
    {
      "cell_type": "code",
      "source": [
        "# Plot the explained variance ratios of the first 30 principal components\n",
        "plt.plot(range(1, 1845), pca.explained_variance_ratio_, marker = '.')\n",
        "#plt.xticks(ticks = range(1, 13), fontsize = 12)\n",
        "plt.xlim(0, 40)\n",
        "plt.xlabel('Principal Component', fontsize = 14)\n",
        "plt.ylabel('Proportion of Explained Variance', fontsize = 14);"
      ],
      "metadata": {
        "colab": {
          "base_uri": "https://localhost:8080/",
          "height": 280
        },
        "id": "zFjiLBj_0RDQ",
        "outputId": "2300812a-cb27-4f8a-bf45-7151ec4535ef"
      },
      "execution_count": null,
      "outputs": [
        {
          "output_type": "display_data",
          "data": {
            "text/plain": [
              "<Figure size 432x288 with 1 Axes>"
            ],
            "image/png": "[encoded data removed]"
          },
          "metadata": {
            "needs_background": "light"
          }
        }
      ]
    },
    {
      "cell_type": "markdown",
      "source": [
        "Según el gráfico de arriba, ¿cuántos componentes principales deberíamos mantener? En el “codo” o el punto de inflexión en el gráfico anterior se pueden ver alrededor de 15 componentes principales. Aquí es donde no conseguimos muchas ventajas más allá de aumentar el número de componentes, por lo que representa un buen balance."
      ],
      "metadata": {
        "id": "2QvP8_0y1mZ1"
      }
    },
    {
      "cell_type": "code",
      "source": [
        "# PCA with 15 components\n",
        "pca15 = PCA(n_components = 15)"
      ],
      "metadata": {
        "id": "f6vVAeKp1L5b"
      },
      "execution_count": null,
      "outputs": []
    },
    {
      "cell_type": "markdown",
      "source": [
        "## **Modelos de Machine Learning**\n",
        "\n",
        "### **1. Random Forest**"
      ],
      "metadata": {
        "id": "cOjoc8p21to9"
      }
    },
    {
      "cell_type": "code",
      "source": [
        "#Instancia el modelo \n",
        "randomf = RandomForestClassifier()\n",
        "\n",
        "# Create a modeling pipeline\n",
        "randomf_pipe = make_pipeline(pca15, randomf)\n",
        "randomf_pipe.fit(X_train, y_train)"
      ],
      "metadata": {
        "colab": {
          "base_uri": "https://localhost:8080/",
          "height": 124
        },
        "id": "HoXLjLAr1sNe",
        "outputId": "ce00bf55-9a53-4a8e-f2af-4b73af0e7eb3"
      },
      "execution_count": null,
      "outputs": [
        {
          "output_type": "execute_result",
          "data": {
            "text/plain": [
              "Pipeline(steps=[('pca', PCA(n_components=15)),\n",
              "                ('randomforestclassifier', RandomForestClassifier())])"
            ],
            "text/html": [
              "<style>#sk-79b54e9f-479e-43f3-b5c7-e57daabbeeb4 {color: black;background-color: white;}#sk-79b54e9f-479e-43f3-b5c7-e57daabbeeb4 pre{padding: 0;}#sk-79b54e9f-479e-43f3-b5c7-e57daabbeeb4 div.sk-toggleable {background-color: white;}#sk-79b54e9f-479e-43f3-b5c7-e57daabbeeb4 label.sk-toggleable__label {cursor: pointer;display: block;width: 100%;margin-bottom: 0;padding: 0.3em;box-sizing: border-box;text-align: center;}#sk-79b54e9f-479e-43f3-b5c7-e57daabbeeb4 label.sk-toggleable__label-arrow:before {content: \"▸\";float: left;margin-right: 0.25em;color: #696969;}#sk-79b54e9f-479e-43f3-b5c7-e57daabbeeb4 label.sk-toggleable__label-arrow:hover:before {color: black;}#sk-79b54e9f-479e-43f3-b5c7-e57daabbeeb4 div.sk-estimator:hover label.sk-toggleable__label-arrow:before {color: black;}#sk-79b54e9f-479e-43f3-b5c7-e57daabbeeb4 div.sk-toggleable__content {max-height: 0;max-width: 0;overflow: hidden;text-align: left;background-color: #f0f8ff;}#sk-79b54e9f-479e-43f3-b5c7-e57daabbeeb4 div.sk-toggleable__content pre {margin: 0.2em;color: black;border-radius: 0.25em;background-color: #f0f8ff;}#sk-79b54e9f-479e-43f3-b5c7-e57daabbeeb4 input.sk-toggleable__control:checked~div.sk-toggleable__content {max-height: 200px;max-width: 100%;overflow: auto;}#sk-79b54e9f-479e-43f3-b5c7-e57daabbeeb4 input.sk-toggleable__control:checked~label.sk-toggleable__label-arrow:before {content: \"▾\";}#sk-79b54e9f-479e-43f3-b5c7-e57daabbeeb4 div.sk-estimator input.sk-toggleable__control:checked~label.sk-toggleable__label {background-color: #d4ebff;}#sk-79b54e9f-479e-43f3-b5c7-e57daabbeeb4 div.sk-label input.sk-toggleable__control:checked~label.sk-toggleable__label {background-color: #d4ebff;}#sk-79b54e9f-479e-43f3-b5c7-e57daabbeeb4 input.sk-hidden--visually {border: 0;clip: rect(1px 1px 1px 1px);clip: rect(1px, 1px, 1px, 1px);height: 1px;margin: -1px;overflow: hidden;padding: 0;position: absolute;width: 1px;}#sk-79b54e9f-479e-43f3-b5c7-e57daabbeeb4 div.sk-estimator {font-family: monospace;background-color: #f0f8ff;border: 1px dotted black;border-radius: 0.25em;box-sizing: border-box;margin-bottom: 0.5em;}#sk-79b54e9f-479e-43f3-b5c7-e57daabbeeb4 div.sk-estimator:hover {background-color: #d4ebff;}#sk-79b54e9f-479e-43f3-b5c7-e57daabbeeb4 div.sk-parallel-item::after {content: \"\";width: 100%;border-bottom: 1px solid gray;flex-grow: 1;}#sk-79b54e9f-479e-43f3-b5c7-e57daabbeeb4 div.sk-label:hover label.sk-toggleable__label {background-color: #d4ebff;}#sk-79b54e9f-479e-43f3-b5c7-e57daabbeeb4 div.sk-serial::before {content: \"\";position: absolute;border-left: 1px solid gray;box-sizing: border-box;top: 2em;bottom: 0;left: 50%;}#sk-79b54e9f-479e-43f3-b5c7-e57daabbeeb4 div.sk-serial {display: flex;flex-direction: column;align-items: center;background-color: white;padding-right: 0.2em;padding-left: 0.2em;}#sk-79b54e9f-479e-43f3-b5c7-e57daabbeeb4 div.sk-item {z-index: 1;}#sk-79b54e9f-479e-43f3-b5c7-e57daabbeeb4 div.sk-parallel {display: flex;align-items: stretch;justify-content: center;background-color: white;}#sk-79b54e9f-479e-43f3-b5c7-e57daabbeeb4 div.sk-parallel::before {content: \"\";position: absolute;border-left: 1px solid gray;box-sizing: border-box;top: 2em;bottom: 0;left: 50%;}#sk-79b54e9f-479e-43f3-b5c7-e57daabbeeb4 div.sk-parallel-item {display: flex;flex-direction: column;position: relative;background-color: white;}#sk-79b54e9f-479e-43f3-b5c7-e57daabbeeb4 div.sk-parallel-item:first-child::after {align-self: flex-end;width: 50%;}#sk-79b54e9f-479e-43f3-b5c7-e57daabbeeb4 div.sk-parallel-item:last-child::after {align-self: flex-start;width: 50%;}#sk-79b54e9f-479e-43f3-b5c7-e57daabbeeb4 div.sk-parallel-item:only-child::after {width: 0;}#sk-79b54e9f-479e-43f3-b5c7-e57daabbeeb4 div.sk-dashed-wrapped {border: 1px dashed gray;margin: 0 0.4em 0.5em 0.4em;box-sizing: border-box;padding-bottom: 0.4em;background-color: white;position: relative;}#sk-79b54e9f-479e-43f3-b5c7-e57daabbeeb4 div.sk-label label {font-family: monospace;font-weight: bold;background-color: white;display: inline-block;line-height: 1.2em;}#sk-79b54e9f-479e-43f3-b5c7-e57daabbeeb4 div.sk-label-container {position: relative;z-index: 2;text-align: center;}#sk-79b54e9f-479e-43f3-b5c7-e57daabbeeb4 div.sk-container {/* jupyter's `normalize.less` sets `[hidden] { display: none; }` but bootstrap.min.css set `[hidden] { display: none !important; }` so we also need the `!important` here to be able to override the default hidden behavior on the sphinx rendered scikit-learn.org. See: https://github.com/scikit-learn/scikit-learn/issues/21755 */display: inline-block !important;position: relative;}#sk-79b54e9f-479e-43f3-b5c7-e57daabbeeb4 div.sk-text-repr-fallback {display: none;}</style><div id=\"sk-79b54e9f-479e-43f3-b5c7-e57daabbeeb4\" class=\"sk-top-container\"><div class=\"sk-text-repr-fallback\"><pre>Pipeline(steps=[(&#x27;pca&#x27;, PCA(n_components=15)),\n",
              "                (&#x27;randomforestclassifier&#x27;, RandomForestClassifier())])</pre><b>Please rerun this cell to show the HTML repr or trust the notebook.</b></div><div class=\"sk-container\" hidden><div class=\"sk-item sk-dashed-wrapped\"><div class=\"sk-label-container\"><div class=\"sk-label sk-toggleable\"><input class=\"sk-toggleable__control sk-hidden--visually\" id=\"65d8e30c-9cc8-43b0-b77c-4ba7fb70e6ca\" type=\"checkbox\" ><label for=\"65d8e30c-9cc8-43b0-b77c-4ba7fb70e6ca\" class=\"sk-toggleable__label sk-toggleable__label-arrow\">Pipeline</label><div class=\"sk-toggleable__content\"><pre>Pipeline(steps=[(&#x27;pca&#x27;, PCA(n_components=15)),\n",
              "                (&#x27;randomforestclassifier&#x27;, RandomForestClassifier())])</pre></div></div></div><div class=\"sk-serial\"><div class=\"sk-item\"><div class=\"sk-estimator sk-toggleable\"><input class=\"sk-toggleable__control sk-hidden--visually\" id=\"a239aaef-9864-4067-8eda-85c0c8c328a9\" type=\"checkbox\" ><label for=\"a239aaef-9864-4067-8eda-85c0c8c328a9\" class=\"sk-toggleable__label sk-toggleable__label-arrow\">PCA</label><div class=\"sk-toggleable__content\"><pre>PCA(n_components=15)</pre></div></div></div><div class=\"sk-item\"><div class=\"sk-estimator sk-toggleable\"><input class=\"sk-toggleable__control sk-hidden--visually\" id=\"5187fee0-d9b1-472b-a119-3427f81e5d31\" type=\"checkbox\" ><label for=\"5187fee0-d9b1-472b-a119-3427f81e5d31\" class=\"sk-toggleable__label sk-toggleable__label-arrow\">RandomForestClassifier</label><div class=\"sk-toggleable__content\"><pre>RandomForestClassifier()</pre></div></div></div></div></div></div></div>"
            ]
          },
          "metadata": {},
          "execution_count": 116
        }
      ]
    },
    {
      "cell_type": "code",
      "source": [
        "#Evalua el modelo\n",
        "y_test = randomf_pipe.predict(X_test)\n",
        "print('Training accuracy:', randomf_pipe.score(X_train, y_train))\n",
        "print('Testing accuracy:', randomf_pipe.score(X_test, y_test))"
      ],
      "metadata": {
        "colab": {
          "base_uri": "https://localhost:8080/"
        },
        "id": "-fAt6-2W15oX",
        "outputId": "5982e6d5-19a6-4617-b652-99c94925cdf8"
      },
      "execution_count": null,
      "outputs": [
        {
          "output_type": "stream",
          "name": "stdout",
          "text": [
            "Training accuracy: 0.9993085964507951\n",
            "Testing accuracy: 1.0\n"
          ]
        }
      ]
    },
    {
      "cell_type": "code",
      "source": [
        "preds = randomf_pipe.predict(X_test)\n",
        "len(preds)"
      ],
      "metadata": {
        "colab": {
          "base_uri": "https://localhost:8080/"
        },
        "id": "RGxTyY1beavN",
        "outputId": "6314f388-1b81-4d4a-d05a-df11f0402c1b"
      },
      "execution_count": null,
      "outputs": [
        {
          "output_type": "execute_result",
          "data": {
            "text/plain": [
              "4266"
            ]
          },
          "metadata": {},
          "execution_count": 120
        }
      ]
    },
    {
      "cell_type": "code",
      "source": [
        "data_t.shape"
      ],
      "metadata": {
        "colab": {
          "base_uri": "https://localhost:8080/"
        },
        "id": "9JJt_G6thKKj",
        "outputId": "bb95d096-5e4c-4e4a-86f4-9d5a2dc9ac6d"
      },
      "execution_count": null,
      "outputs": [
        {
          "output_type": "execute_result",
          "data": {
            "text/plain": [
              "(4277, 13)"
            ]
          },
          "metadata": {},
          "execution_count": 121
        }
      ]
    },
    {
      "cell_type": "code",
      "source": [
        "to_submit = pd.DataFrame({\"PassengerId\": data_t[\"PassengerId\"], \"Transported\": preds})\n",
        "to_submit.head()"
      ],
      "metadata": {
        "colab": {
          "base_uri": "https://localhost:8080/",
          "height": 329
        },
        "id": "3_hvnMbzfwHl",
        "outputId": "914079bc-28d2-43da-efc1-a62117b24c04"
      },
      "execution_count": null,
      "outputs": [
        {
          "output_type": "error",
          "ename": "ValueError",
          "evalue": "ignored",
          "traceback": [
            "\u001b[0;31m---------------------------------------------------------------------------\u001b[0m",
            "\u001b[0;31mValueError\u001b[0m                                Traceback (most recent call last)",
            "\u001b[0;32m<ipython-input-119-7797bad4e683>\u001b[0m in \u001b[0;36m<module>\u001b[0;34m\u001b[0m\n\u001b[0;32m----> 1\u001b[0;31m \u001b[0mto_submit\u001b[0m \u001b[0;34m=\u001b[0m \u001b[0mpd\u001b[0m\u001b[0;34m.\u001b[0m\u001b[0mDataFrame\u001b[0m\u001b[0;34m(\u001b[0m\u001b[0;34m{\u001b[0m\u001b[0;34m\"PassengerId\"\u001b[0m\u001b[0;34m:\u001b[0m \u001b[0mdata_t\u001b[0m\u001b[0;34m[\u001b[0m\u001b[0;34m\"PassengerId\"\u001b[0m\u001b[0;34m]\u001b[0m\u001b[0;34m,\u001b[0m \u001b[0;34m\"Transported\"\u001b[0m\u001b[0;34m:\u001b[0m \u001b[0mpreds\u001b[0m\u001b[0;34m}\u001b[0m\u001b[0;34m)\u001b[0m\u001b[0;34m\u001b[0m\u001b[0;34m\u001b[0m\u001b[0m\n\u001b[0m\u001b[1;32m      2\u001b[0m \u001b[0mto_submit\u001b[0m\u001b[0;34m.\u001b[0m\u001b[0mhead\u001b[0m\u001b[0;34m(\u001b[0m\u001b[0;34m)\u001b[0m\u001b[0;34m\u001b[0m\u001b[0;34m\u001b[0m\u001b[0m\n",
            "\u001b[0;32m/usr/local/lib/python3.8/dist-packages/pandas/core/frame.py\u001b[0m in \u001b[0;36m__init__\u001b[0;34m(self, data, index, columns, dtype, copy)\u001b[0m\n\u001b[1;32m    662\u001b[0m         \u001b[0;32melif\u001b[0m \u001b[0misinstance\u001b[0m\u001b[0;34m(\u001b[0m\u001b[0mdata\u001b[0m\u001b[0;34m,\u001b[0m \u001b[0mdict\u001b[0m\u001b[0;34m)\u001b[0m\u001b[0;34m:\u001b[0m\u001b[0;34m\u001b[0m\u001b[0;34m\u001b[0m\u001b[0m\n\u001b[1;32m    663\u001b[0m             \u001b[0;31m# GH#38939 de facto copy defaults to False only in non-dict cases\u001b[0m\u001b[0;34m\u001b[0m\u001b[0;34m\u001b[0m\u001b[0;34m\u001b[0m\u001b[0m\n\u001b[0;32m--> 664\u001b[0;31m             \u001b[0mmgr\u001b[0m \u001b[0;34m=\u001b[0m \u001b[0mdict_to_mgr\u001b[0m\u001b[0;34m(\u001b[0m\u001b[0mdata\u001b[0m\u001b[0;34m,\u001b[0m \u001b[0mindex\u001b[0m\u001b[0;34m,\u001b[0m \u001b[0mcolumns\u001b[0m\u001b[0;34m,\u001b[0m \u001b[0mdtype\u001b[0m\u001b[0;34m=\u001b[0m\u001b[0mdtype\u001b[0m\u001b[0;34m,\u001b[0m \u001b[0mcopy\u001b[0m\u001b[0;34m=\u001b[0m\u001b[0mcopy\u001b[0m\u001b[0;34m,\u001b[0m \u001b[0mtyp\u001b[0m\u001b[0;34m=\u001b[0m\u001b[0mmanager\u001b[0m\u001b[0;34m)\u001b[0m\u001b[0;34m\u001b[0m\u001b[0;34m\u001b[0m\u001b[0m\n\u001b[0m\u001b[1;32m    665\u001b[0m         \u001b[0;32melif\u001b[0m \u001b[0misinstance\u001b[0m\u001b[0;34m(\u001b[0m\u001b[0mdata\u001b[0m\u001b[0;34m,\u001b[0m \u001b[0mma\u001b[0m\u001b[0;34m.\u001b[0m\u001b[0mMaskedArray\u001b[0m\u001b[0;34m)\u001b[0m\u001b[0;34m:\u001b[0m\u001b[0;34m\u001b[0m\u001b[0;34m\u001b[0m\u001b[0m\n\u001b[1;32m    666\u001b[0m             \u001b[0;32mimport\u001b[0m \u001b[0mnumpy\u001b[0m\u001b[0;34m.\u001b[0m\u001b[0mma\u001b[0m\u001b[0;34m.\u001b[0m\u001b[0mmrecords\u001b[0m \u001b[0;32mas\u001b[0m \u001b[0mmrecords\u001b[0m\u001b[0;34m\u001b[0m\u001b[0;34m\u001b[0m\u001b[0m\n",
            "\u001b[0;32m/usr/local/lib/python3.8/dist-packages/pandas/core/internals/construction.py\u001b[0m in \u001b[0;36mdict_to_mgr\u001b[0;34m(data, index, columns, dtype, typ, copy)\u001b[0m\n\u001b[1;32m    491\u001b[0m             \u001b[0marrays\u001b[0m \u001b[0;34m=\u001b[0m \u001b[0;34m[\u001b[0m\u001b[0mx\u001b[0m\u001b[0;34m.\u001b[0m\u001b[0mcopy\u001b[0m\u001b[0;34m(\u001b[0m\u001b[0;34m)\u001b[0m \u001b[0;32mif\u001b[0m \u001b[0mhasattr\u001b[0m\u001b[0;34m(\u001b[0m\u001b[0mx\u001b[0m\u001b[0;34m,\u001b[0m \u001b[0;34m\"dtype\"\u001b[0m\u001b[0;34m)\u001b[0m \u001b[0;32melse\u001b[0m \u001b[0mx\u001b[0m \u001b[0;32mfor\u001b[0m \u001b[0mx\u001b[0m \u001b[0;32min\u001b[0m \u001b[0marrays\u001b[0m\u001b[0;34m]\u001b[0m\u001b[0;34m\u001b[0m\u001b[0;34m\u001b[0m\u001b[0m\n\u001b[1;32m    492\u001b[0m \u001b[0;34m\u001b[0m\u001b[0m\n\u001b[0;32m--> 493\u001b[0;31m     \u001b[0;32mreturn\u001b[0m \u001b[0marrays_to_mgr\u001b[0m\u001b[0;34m(\u001b[0m\u001b[0marrays\u001b[0m\u001b[0;34m,\u001b[0m \u001b[0mcolumns\u001b[0m\u001b[0;34m,\u001b[0m \u001b[0mindex\u001b[0m\u001b[0;34m,\u001b[0m \u001b[0mdtype\u001b[0m\u001b[0;34m=\u001b[0m\u001b[0mdtype\u001b[0m\u001b[0;34m,\u001b[0m \u001b[0mtyp\u001b[0m\u001b[0;34m=\u001b[0m\u001b[0mtyp\u001b[0m\u001b[0;34m,\u001b[0m \u001b[0mconsolidate\u001b[0m\u001b[0;34m=\u001b[0m\u001b[0mcopy\u001b[0m\u001b[0;34m)\u001b[0m\u001b[0;34m\u001b[0m\u001b[0;34m\u001b[0m\u001b[0m\n\u001b[0m\u001b[1;32m    494\u001b[0m \u001b[0;34m\u001b[0m\u001b[0m\n\u001b[1;32m    495\u001b[0m \u001b[0;34m\u001b[0m\u001b[0m\n",
            "\u001b[0;32m/usr/local/lib/python3.8/dist-packages/pandas/core/internals/construction.py\u001b[0m in \u001b[0;36marrays_to_mgr\u001b[0;34m(arrays, columns, index, dtype, verify_integrity, typ, consolidate)\u001b[0m\n\u001b[1;32m    116\u001b[0m         \u001b[0;31m# figure out the index, if necessary\u001b[0m\u001b[0;34m\u001b[0m\u001b[0;34m\u001b[0m\u001b[0;34m\u001b[0m\u001b[0m\n\u001b[1;32m    117\u001b[0m         \u001b[0;32mif\u001b[0m \u001b[0mindex\u001b[0m \u001b[0;32mis\u001b[0m \u001b[0;32mNone\u001b[0m\u001b[0;34m:\u001b[0m\u001b[0;34m\u001b[0m\u001b[0;34m\u001b[0m\u001b[0m\n\u001b[0;32m--> 118\u001b[0;31m             \u001b[0mindex\u001b[0m \u001b[0;34m=\u001b[0m \u001b[0m_extract_index\u001b[0m\u001b[0;34m(\u001b[0m\u001b[0marrays\u001b[0m\u001b[0;34m)\u001b[0m\u001b[0;34m\u001b[0m\u001b[0;34m\u001b[0m\u001b[0m\n\u001b[0m\u001b[1;32m    119\u001b[0m         \u001b[0;32melse\u001b[0m\u001b[0;34m:\u001b[0m\u001b[0;34m\u001b[0m\u001b[0;34m\u001b[0m\u001b[0m\n\u001b[1;32m    120\u001b[0m             \u001b[0mindex\u001b[0m \u001b[0;34m=\u001b[0m \u001b[0mensure_index\u001b[0m\u001b[0;34m(\u001b[0m\u001b[0mindex\u001b[0m\u001b[0;34m)\u001b[0m\u001b[0;34m\u001b[0m\u001b[0;34m\u001b[0m\u001b[0m\n",
            "\u001b[0;32m/usr/local/lib/python3.8/dist-packages/pandas/core/internals/construction.py\u001b[0m in \u001b[0;36m_extract_index\u001b[0;34m(data)\u001b[0m\n\u001b[1;32m    678\u001b[0m                         \u001b[0;34mf\"length {len(index)}\"\u001b[0m\u001b[0;34m\u001b[0m\u001b[0;34m\u001b[0m\u001b[0m\n\u001b[1;32m    679\u001b[0m                     )\n\u001b[0;32m--> 680\u001b[0;31m                     \u001b[0;32mraise\u001b[0m \u001b[0mValueError\u001b[0m\u001b[0;34m(\u001b[0m\u001b[0mmsg\u001b[0m\u001b[0;34m)\u001b[0m\u001b[0;34m\u001b[0m\u001b[0;34m\u001b[0m\u001b[0m\n\u001b[0m\u001b[1;32m    681\u001b[0m             \u001b[0;32melse\u001b[0m\u001b[0;34m:\u001b[0m\u001b[0;34m\u001b[0m\u001b[0;34m\u001b[0m\u001b[0m\n\u001b[1;32m    682\u001b[0m                 \u001b[0mindex\u001b[0m \u001b[0;34m=\u001b[0m \u001b[0mdefault_index\u001b[0m\u001b[0;34m(\u001b[0m\u001b[0mlengths\u001b[0m\u001b[0;34m[\u001b[0m\u001b[0;36m0\u001b[0m\u001b[0;34m]\u001b[0m\u001b[0;34m)\u001b[0m\u001b[0;34m\u001b[0m\u001b[0;34m\u001b[0m\u001b[0m\n",
            "\u001b[0;31mValueError\u001b[0m: array length 4266 does not match index length 4277"
          ]
        }
      ]
    },
    {
      "cell_type": "code",
      "source": [
        "'''\n",
        "#Calcula el valor de max_depth óptimo \n",
        "\n",
        "max_depth_range = list(range(2, 20))\n",
        "# Lista para almacenar la puntuación para cada valor de max_depth:\n",
        "accuracy = []\n",
        "for depth in max_depth_range:\n",
        "    randomf = RandomForestClassifier(max_depth = depth, \n",
        "                             random_state = 42)\n",
        "    randomf_pipe = make_pipeline(pca15, randomf)\n",
        "    randomf_pipe.fit(X_train, y_train)\n",
        "    y_test = randomf_pipe.predict(X_test)\n",
        "    score = randomf_pipe.score(X_test, y_test)\n",
        "    accuracy.append(score)\n",
        "'''"
      ],
      "metadata": {
        "id": "0i-XBFh619TT"
      },
      "execution_count": null,
      "outputs": []
    },
    {
      "cell_type": "code",
      "source": [
        "'''\n",
        "#Qué valor de max_depth lleva a una accuracy más alta\n",
        "plt.plot(max_depth_range, accuracy)\n",
        "plt.xlabel('max_depth')\n",
        "plt.ylabel('Accuracy');\n",
        "'''"
      ],
      "metadata": {
        "colab": {
          "base_uri": "https://localhost:8080/",
          "height": 279
        },
        "id": "o_gLNm9r2C9F",
        "outputId": "d3133787-77c8-4e88-9f7a-16cf5539b4bb"
      },
      "execution_count": null,
      "outputs": [
        {
          "output_type": "display_data",
          "data": {
            "text/plain": [
              "<Figure size 432x288 with 1 Axes>"
            ],
            "image/png": "[encoded data removed]"
          },
          "metadata": {
            "needs_background": "light"
          }
        }
      ]
    },
    {
      "cell_type": "markdown",
      "source": [
        "Elegimos un max_depth = 12"
      ],
      "metadata": {
        "id": "viF6lePF2YVw"
      }
    },
    {
      "cell_type": "code",
      "source": [
        "'''\n",
        "#max_depth = 12\n",
        "#Instancia el modelo \n",
        "randomf12 = RandomForestClassifier(max_depth = 12)\n",
        "\n",
        "# Create a modeling pipeline\n",
        "randomf_pipe12 = make_pipeline(pca15, randomf12)\n",
        "randomf_pipe12.fit(X_train, y_train)\n",
        "'''"
      ],
      "metadata": {
        "id": "_mJEdce62Uew"
      },
      "execution_count": null,
      "outputs": []
    },
    {
      "cell_type": "code",
      "source": [
        "'''\n",
        "#Evalua el modelo\n",
        "y_test = randomf_pipe12.predict(X_test)\n",
        "print('Training accuracy:', randomf_pipe12.score(X_train, y_train))\n",
        "print('Testing accuracy:', randomf_pipe12.score(X_test, y_test))\n",
        "'''"
      ],
      "metadata": {
        "id": "FuICP53f2hnR"
      },
      "execution_count": null,
      "outputs": []
    },
    {
      "cell_type": "code",
      "source": [
        "\n",
        "#Guarda las predicicones\n",
        "randomf_preds = randomf_pipe.predict(X_train)\n",
        "\n",
        "report_randomf = classification_report(y_train, randomf_preds)\n",
        "print(report_randomf)\n"
      ],
      "metadata": {
        "colab": {
          "base_uri": "https://localhost:8080/"
        },
        "id": "PBLv_kMG2mFy",
        "outputId": "54f21f22-de52-4dd0-d59f-967dcf909250"
      },
      "execution_count": null,
      "outputs": [
        {
          "output_type": "stream",
          "name": "stdout",
          "text": [
            "              precision    recall  f1-score   support\n",
            "\n",
            "           0       0.95      1.00      0.97      4315\n",
            "           1       1.00      0.95      0.97      4363\n",
            "\n",
            "    accuracy                           0.97      8678\n",
            "   macro avg       0.98      0.97      0.97      8678\n",
            "weighted avg       0.98      0.97      0.97      8678\n",
            "\n"
          ]
        }
      ]
    },
    {
      "cell_type": "code",
      "source": [
        "sns.reset_orig() \n",
        "cm_randomf = confusion_matrix(y_train, randomf_preds, labels = randomf_pipe.classes_)\n",
        "disp_randomf = ConfusionMatrixDisplay(confusion_matrix = cm_randomf,\n",
        "                                   display_labels = randomf_pipe.classes_)\n",
        "\n",
        "disp_randomf.plot();\n"
      ],
      "metadata": {
        "colab": {
          "base_uri": "https://localhost:8080/",
          "height": 279
        },
        "id": "oBDKKF0w2ygt",
        "outputId": "781b4d13-a342-49d7-87d1-445272f20a72"
      },
      "execution_count": null,
      "outputs": [
        {
          "output_type": "display_data",
          "data": {
            "text/plain": [
              "<Figure size 432x288 with 2 Axes>"
            ],
            "image/png": "[encoded data removed]"
          },
          "metadata": {
            "needs_background": "light"
          }
        }
      ]
    },
    {
      "cell_type": "markdown",
      "source": [
        "### **2. KNN**"
      ],
      "metadata": {
        "id": "-Bwn2goL4yFk"
      }
    },
    {
      "cell_type": "code",
      "source": [
        "#Instancia el modelo \n",
        "knn = KNeighborsClassifier()\n",
        "\n",
        "# Create a modeling pipeline\n",
        "knn_pipe = make_pipeline(pca15, knn)\n",
        "knn_pipe.fit(X_train, y_train)"
      ],
      "metadata": {
        "colab": {
          "base_uri": "https://localhost:8080/",
          "height": 124
        },
        "id": "rLwW6Jqc26SN",
        "outputId": "3560b2a8-957b-4c9c-9bbc-670aa1aeb830"
      },
      "execution_count": null,
      "outputs": [
        {
          "output_type": "execute_result",
          "data": {
            "text/plain": [
              "Pipeline(steps=[('pca', PCA(n_components=15)),\n",
              "                ('kneighborsclassifier', KNeighborsClassifier())])"
            ],
            "text/html": [
              "<style>#sk-730f4720-c766-4f64-966e-426340a88b38 {color: black;background-color: white;}#sk-730f4720-c766-4f64-966e-426340a88b38 pre{padding: 0;}#sk-730f4720-c766-4f64-966e-426340a88b38 div.sk-toggleable {background-color: white;}#sk-730f4720-c766-4f64-966e-426340a88b38 label.sk-toggleable__label {cursor: pointer;display: block;width: 100%;margin-bottom: 0;padding: 0.3em;box-sizing: border-box;text-align: center;}#sk-730f4720-c766-4f64-966e-426340a88b38 label.sk-toggleable__label-arrow:before {content: \"▸\";float: left;margin-right: 0.25em;color: #696969;}#sk-730f4720-c766-4f64-966e-426340a88b38 label.sk-toggleable__label-arrow:hover:before {color: black;}#sk-730f4720-c766-4f64-966e-426340a88b38 div.sk-estimator:hover label.sk-toggleable__label-arrow:before {color: black;}#sk-730f4720-c766-4f64-966e-426340a88b38 div.sk-toggleable__content {max-height: 0;max-width: 0;overflow: hidden;text-align: left;background-color: #f0f8ff;}#sk-730f4720-c766-4f64-966e-426340a88b38 div.sk-toggleable__content pre {margin: 0.2em;color: black;border-radius: 0.25em;background-color: #f0f8ff;}#sk-730f4720-c766-4f64-966e-426340a88b38 input.sk-toggleable__control:checked~div.sk-toggleable__content {max-height: 200px;max-width: 100%;overflow: auto;}#sk-730f4720-c766-4f64-966e-426340a88b38 input.sk-toggleable__control:checked~label.sk-toggleable__label-arrow:before {content: \"▾\";}#sk-730f4720-c766-4f64-966e-426340a88b38 div.sk-estimator input.sk-toggleable__control:checked~label.sk-toggleable__label {background-color: #d4ebff;}#sk-730f4720-c766-4f64-966e-426340a88b38 div.sk-label input.sk-toggleable__control:checked~label.sk-toggleable__label {background-color: #d4ebff;}#sk-730f4720-c766-4f64-966e-426340a88b38 input.sk-hidden--visually {border: 0;clip: rect(1px 1px 1px 1px);clip: rect(1px, 1px, 1px, 1px);height: 1px;margin: -1px;overflow: hidden;padding: 0;position: absolute;width: 1px;}#sk-730f4720-c766-4f64-966e-426340a88b38 div.sk-estimator {font-family: monospace;background-color: #f0f8ff;border: 1px dotted black;border-radius: 0.25em;box-sizing: border-box;margin-bottom: 0.5em;}#sk-730f4720-c766-4f64-966e-426340a88b38 div.sk-estimator:hover {background-color: #d4ebff;}#sk-730f4720-c766-4f64-966e-426340a88b38 div.sk-parallel-item::after {content: \"\";width: 100%;border-bottom: 1px solid gray;flex-grow: 1;}#sk-730f4720-c766-4f64-966e-426340a88b38 div.sk-label:hover label.sk-toggleable__label {background-color: #d4ebff;}#sk-730f4720-c766-4f64-966e-426340a88b38 div.sk-serial::before {content: \"\";position: absolute;border-left: 1px solid gray;box-sizing: border-box;top: 2em;bottom: 0;left: 50%;}#sk-730f4720-c766-4f64-966e-426340a88b38 div.sk-serial {display: flex;flex-direction: column;align-items: center;background-color: white;padding-right: 0.2em;padding-left: 0.2em;}#sk-730f4720-c766-4f64-966e-426340a88b38 div.sk-item {z-index: 1;}#sk-730f4720-c766-4f64-966e-426340a88b38 div.sk-parallel {display: flex;align-items: stretch;justify-content: center;background-color: white;}#sk-730f4720-c766-4f64-966e-426340a88b38 div.sk-parallel::before {content: \"\";position: absolute;border-left: 1px solid gray;box-sizing: border-box;top: 2em;bottom: 0;left: 50%;}#sk-730f4720-c766-4f64-966e-426340a88b38 div.sk-parallel-item {display: flex;flex-direction: column;position: relative;background-color: white;}#sk-730f4720-c766-4f64-966e-426340a88b38 div.sk-parallel-item:first-child::after {align-self: flex-end;width: 50%;}#sk-730f4720-c766-4f64-966e-426340a88b38 div.sk-parallel-item:last-child::after {align-self: flex-start;width: 50%;}#sk-730f4720-c766-4f64-966e-426340a88b38 div.sk-parallel-item:only-child::after {width: 0;}#sk-730f4720-c766-4f64-966e-426340a88b38 div.sk-dashed-wrapped {border: 1px dashed gray;margin: 0 0.4em 0.5em 0.4em;box-sizing: border-box;padding-bottom: 0.4em;background-color: white;position: relative;}#sk-730f4720-c766-4f64-966e-426340a88b38 div.sk-label label {font-family: monospace;font-weight: bold;background-color: white;display: inline-block;line-height: 1.2em;}#sk-730f4720-c766-4f64-966e-426340a88b38 div.sk-label-container {position: relative;z-index: 2;text-align: center;}#sk-730f4720-c766-4f64-966e-426340a88b38 div.sk-container {/* jupyter's `normalize.less` sets `[hidden] { display: none; }` but bootstrap.min.css set `[hidden] { display: none !important; }` so we also need the `!important` here to be able to override the default hidden behavior on the sphinx rendered scikit-learn.org. See: https://github.com/scikit-learn/scikit-learn/issues/21755 */display: inline-block !important;position: relative;}#sk-730f4720-c766-4f64-966e-426340a88b38 div.sk-text-repr-fallback {display: none;}</style><div id=\"sk-730f4720-c766-4f64-966e-426340a88b38\" class=\"sk-top-container\"><div class=\"sk-text-repr-fallback\"><pre>Pipeline(steps=[(&#x27;pca&#x27;, PCA(n_components=15)),\n",
              "                (&#x27;kneighborsclassifier&#x27;, KNeighborsClassifier())])</pre><b>Please rerun this cell to show the HTML repr or trust the notebook.</b></div><div class=\"sk-container\" hidden><div class=\"sk-item sk-dashed-wrapped\"><div class=\"sk-label-container\"><div class=\"sk-label sk-toggleable\"><input class=\"sk-toggleable__control sk-hidden--visually\" id=\"c2474007-e9ca-427a-827d-a31406081b1a\" type=\"checkbox\" ><label for=\"c2474007-e9ca-427a-827d-a31406081b1a\" class=\"sk-toggleable__label sk-toggleable__label-arrow\">Pipeline</label><div class=\"sk-toggleable__content\"><pre>Pipeline(steps=[(&#x27;pca&#x27;, PCA(n_components=15)),\n",
              "                (&#x27;kneighborsclassifier&#x27;, KNeighborsClassifier())])</pre></div></div></div><div class=\"sk-serial\"><div class=\"sk-item\"><div class=\"sk-estimator sk-toggleable\"><input class=\"sk-toggleable__control sk-hidden--visually\" id=\"60aaefe3-dc4f-47d4-b49b-b8e85b48cfd8\" type=\"checkbox\" ><label for=\"60aaefe3-dc4f-47d4-b49b-b8e85b48cfd8\" class=\"sk-toggleable__label sk-toggleable__label-arrow\">PCA</label><div class=\"sk-toggleable__content\"><pre>PCA(n_components=15)</pre></div></div></div><div class=\"sk-item\"><div class=\"sk-estimator sk-toggleable\"><input class=\"sk-toggleable__control sk-hidden--visually\" id=\"e0187657-2a4c-4f73-85a1-bb7a33158413\" type=\"checkbox\" ><label for=\"e0187657-2a4c-4f73-85a1-bb7a33158413\" class=\"sk-toggleable__label sk-toggleable__label-arrow\">KNeighborsClassifier</label><div class=\"sk-toggleable__content\"><pre>KNeighborsClassifier()</pre></div></div></div></div></div></div></div>"
            ]
          },
          "metadata": {},
          "execution_count": 56
        }
      ]
    },
    {
      "cell_type": "code",
      "source": [
        "#Evalua el modelo\n",
        "y_test = knn_pipe.predict(X_test)\n",
        "print('Training accuracy:', knn_pipe.score(X_train, y_train))\n",
        "print('Testing accuracy:', knn_pipe.score(X_test, y_test))"
      ],
      "metadata": {
        "colab": {
          "base_uri": "https://localhost:8080/"
        },
        "id": "bjYSlStK4-jh",
        "outputId": "e72f66da-8d09-4309-d454-d36bf2c8aa70"
      },
      "execution_count": null,
      "outputs": [
        {
          "output_type": "stream",
          "name": "stderr",
          "text": [
            "/usr/local/lib/python3.8/dist-packages/sklearn/neighbors/_classification.py:228: FutureWarning: Unlike other reduction functions (e.g. `skew`, `kurtosis`), the default behavior of `mode` typically preserves the axis it acts along. In SciPy 1.11.0, this behavior will change: the default value of `keepdims` will become False, the `axis` over which the statistic is taken will be eliminated, and the value None will no longer be accepted. Set `keepdims` to True or False to avoid this warning.\n",
            "  mode, _ = stats.mode(_y[neigh_ind, k], axis=1)\n",
            "/usr/local/lib/python3.8/dist-packages/sklearn/neighbors/_classification.py:228: FutureWarning: Unlike other reduction functions (e.g. `skew`, `kurtosis`), the default behavior of `mode` typically preserves the axis it acts along. In SciPy 1.11.0, this behavior will change: the default value of `keepdims` will become False, the `axis` over which the statistic is taken will be eliminated, and the value None will no longer be accepted. Set `keepdims` to True or False to avoid this warning.\n",
            "  mode, _ = stats.mode(_y[neigh_ind, k], axis=1)\n"
          ]
        },
        {
          "output_type": "stream",
          "name": "stdout",
          "text": [
            "Training accuracy: 0.8194284397326573\n",
            "Testing accuracy: 1.0\n"
          ]
        },
        {
          "output_type": "stream",
          "name": "stderr",
          "text": [
            "/usr/local/lib/python3.8/dist-packages/sklearn/neighbors/_classification.py:228: FutureWarning: Unlike other reduction functions (e.g. `skew`, `kurtosis`), the default behavior of `mode` typically preserves the axis it acts along. In SciPy 1.11.0, this behavior will change: the default value of `keepdims` will become False, the `axis` over which the statistic is taken will be eliminated, and the value None will no longer be accepted. Set `keepdims` to True or False to avoid this warning.\n",
            "  mode, _ = stats.mode(_y[neigh_ind, k], axis=1)\n"
          ]
        }
      ]
    },
    {
      "cell_type": "code",
      "source": [
        "'''\n",
        "#Encuentra el valor de n_neighbors óptimo para nuestro conjunto de datos\n",
        "n_neighbors_range = list(range(1, 30))\n",
        "accuracy = []\n",
        "for k in n_neighbors_range:\n",
        "    knn = KNeighborsClassifier(n_neighbors = k)\n",
        "    knn_pipe = make_pipeline(pca15, knn)\n",
        "    knn_pipe.fit(X_train, y_train)\n",
        "    y_test = knn_pipe.predict(X_test)\n",
        "    score = knn_pipe.score(X_test, y_test)\n",
        "    accuracy.append(score)\n",
        "\n",
        "plt.plot(n_neighbors_range, accuracy)\n",
        "plt.xlabel('n neighbors')\n",
        "plt.ylabel('Accuracy');\n",
        "'''"
      ],
      "metadata": {
        "colab": {
          "base_uri": "https://localhost:8080/",
          "height": 1000
        },
        "id": "QSjLnRYS5B11",
        "outputId": "57621c3b-8786-4a79-f8fa-5b6cf148f68a"
      },
      "execution_count": null,
      "outputs": [
        {
          "output_type": "stream",
          "name": "stderr",
          "text": [
            "/usr/local/lib/python3.8/dist-packages/sklearn/neighbors/_classification.py:228: FutureWarning: Unlike other reduction functions (e.g. `skew`, `kurtosis`), the default behavior of `mode` typically preserves the axis it acts along. In SciPy 1.11.0, this behavior will change: the default value of `keepdims` will become False, the `axis` over which the statistic is taken will be eliminated, and the value None will no longer be accepted. Set `keepdims` to True or False to avoid this warning.\n",
            "  mode, _ = stats.mode(_y[neigh_ind, k], axis=1)\n",
            "/usr/local/lib/python3.8/dist-packages/sklearn/neighbors/_classification.py:228: FutureWarning: Unlike other reduction functions (e.g. `skew`, `kurtosis`), the default behavior of `mode` typically preserves the axis it acts along. In SciPy 1.11.0, this behavior will change: the default value of `keepdims` will become False, the `axis` over which the statistic is taken will be eliminated, and the value None will no longer be accepted. Set `keepdims` to True or False to avoid this warning.\n",
            "  mode, _ = stats.mode(_y[neigh_ind, k], axis=1)\n",
            "/usr/local/lib/python3.8/dist-packages/sklearn/neighbors/_classification.py:228: FutureWarning: Unlike other reduction functions (e.g. `skew`, `kurtosis`), the default behavior of `mode` typically preserves the axis it acts along. In SciPy 1.11.0, this behavior will change: the default value of `keepdims` will become False, the `axis` over which the statistic is taken will be eliminated, and the value None will no longer be accepted. Set `keepdims` to True or False to avoid this warning.\n",
            "  mode, _ = stats.mode(_y[neigh_ind, k], axis=1)\n",
            "/usr/local/lib/python3.8/dist-packages/sklearn/neighbors/_classification.py:228: FutureWarning: Unlike other reduction functions (e.g. `skew`, `kurtosis`), the default behavior of `mode` typically preserves the axis it acts along. In SciPy 1.11.0, this behavior will change: the default value of `keepdims` will become False, the `axis` over which the statistic is taken will be eliminated, and the value None will no longer be accepted. Set `keepdims` to True or False to avoid this warning.\n",
            "  mode, _ = stats.mode(_y[neigh_ind, k], axis=1)\n",
            "/usr/local/lib/python3.8/dist-packages/sklearn/neighbors/_classification.py:228: FutureWarning: Unlike other reduction functions (e.g. `skew`, `kurtosis`), the default behavior of `mode` typically preserves the axis it acts along. In SciPy 1.11.0, this behavior will change: the default value of `keepdims` will become False, the `axis` over which the statistic is taken will be eliminated, and the value None will no longer be accepted. Set `keepdims` to True or False to avoid this warning.\n",
            "  mode, _ = stats.mode(_y[neigh_ind, k], axis=1)\n",
            "/usr/local/lib/python3.8/dist-packages/sklearn/neighbors/_classification.py:228: FutureWarning: Unlike other reduction functions (e.g. `skew`, `kurtosis`), the default behavior of `mode` typically preserves the axis it acts along. In SciPy 1.11.0, this behavior will change: the default value of `keepdims` will become False, the `axis` over which the statistic is taken will be eliminated, and the value None will no longer be accepted. Set `keepdims` to True or False to avoid this warning.\n",
            "  mode, _ = stats.mode(_y[neigh_ind, k], axis=1)\n",
            "/usr/local/lib/python3.8/dist-packages/sklearn/neighbors/_classification.py:228: FutureWarning: Unlike other reduction functions (e.g. `skew`, `kurtosis`), the default behavior of `mode` typically preserves the axis it acts along. In SciPy 1.11.0, this behavior will change: the default value of `keepdims` will become False, the `axis` over which the statistic is taken will be eliminated, and the value None will no longer be accepted. Set `keepdims` to True or False to avoid this warning.\n",
            "  mode, _ = stats.mode(_y[neigh_ind, k], axis=1)\n",
            "/usr/local/lib/python3.8/dist-packages/sklearn/neighbors/_classification.py:228: FutureWarning: Unlike other reduction functions (e.g. `skew`, `kurtosis`), the default behavior of `mode` typically preserves the axis it acts along. In SciPy 1.11.0, this behavior will change: the default value of `keepdims` will become False, the `axis` over which the statistic is taken will be eliminated, and the value None will no longer be accepted. Set `keepdims` to True or False to avoid this warning.\n",
            "  mode, _ = stats.mode(_y[neigh_ind, k], axis=1)\n",
            "/usr/local/lib/python3.8/dist-packages/sklearn/neighbors/_classification.py:228: FutureWarning: Unlike other reduction functions (e.g. `skew`, `kurtosis`), the default behavior of `mode` typically preserves the axis it acts along. In SciPy 1.11.0, this behavior will change: the default value of `keepdims` will become False, the `axis` over which the statistic is taken will be eliminated, and the value None will no longer be accepted. Set `keepdims` to True or False to avoid this warning.\n",
            "  mode, _ = stats.mode(_y[neigh_ind, k], axis=1)\n",
            "/usr/local/lib/python3.8/dist-packages/sklearn/neighbors/_classification.py:228: FutureWarning: Unlike other reduction functions (e.g. `skew`, `kurtosis`), the default behavior of `mode` typically preserves the axis it acts along. In SciPy 1.11.0, this behavior will change: the default value of `keepdims` will become False, the `axis` over which the statistic is taken will be eliminated, and the value None will no longer be accepted. Set `keepdims` to True or False to avoid this warning.\n",
            "  mode, _ = stats.mode(_y[neigh_ind, k], axis=1)\n",
            "/usr/local/lib/python3.8/dist-packages/sklearn/neighbors/_classification.py:228: FutureWarning: Unlike other reduction functions (e.g. `skew`, `kurtosis`), the default behavior of `mode` typically preserves the axis it acts along. In SciPy 1.11.0, this behavior will change: the default value of `keepdims` will become False, the `axis` over which the statistic is taken will be eliminated, and the value None will no longer be accepted. Set `keepdims` to True or False to avoid this warning.\n",
            "  mode, _ = stats.mode(_y[neigh_ind, k], axis=1)\n",
            "/usr/local/lib/python3.8/dist-packages/sklearn/neighbors/_classification.py:228: FutureWarning: Unlike other reduction functions (e.g. `skew`, `kurtosis`), the default behavior of `mode` typically preserves the axis it acts along. In SciPy 1.11.0, this behavior will change: the default value of `keepdims` will become False, the `axis` over which the statistic is taken will be eliminated, and the value None will no longer be accepted. Set `keepdims` to True or False to avoid this warning.\n",
            "  mode, _ = stats.mode(_y[neigh_ind, k], axis=1)\n",
            "/usr/local/lib/python3.8/dist-packages/sklearn/neighbors/_classification.py:228: FutureWarning: Unlike other reduction functions (e.g. `skew`, `kurtosis`), the default behavior of `mode` typically preserves the axis it acts along. In SciPy 1.11.0, this behavior will change: the default value of `keepdims` will become False, the `axis` over which the statistic is taken will be eliminated, and the value None will no longer be accepted. Set `keepdims` to True or False to avoid this warning.\n",
            "  mode, _ = stats.mode(_y[neigh_ind, k], axis=1)\n",
            "/usr/local/lib/python3.8/dist-packages/sklearn/neighbors/_classification.py:228: FutureWarning: Unlike other reduction functions (e.g. `skew`, `kurtosis`), the default behavior of `mode` typically preserves the axis it acts along. In SciPy 1.11.0, this behavior will change: the default value of `keepdims` will become False, the `axis` over which the statistic is taken will be eliminated, and the value None will no longer be accepted. Set `keepdims` to True or False to avoid this warning.\n",
            "  mode, _ = stats.mode(_y[neigh_ind, k], axis=1)\n",
            "/usr/local/lib/python3.8/dist-packages/sklearn/neighbors/_classification.py:228: FutureWarning: Unlike other reduction functions (e.g. `skew`, `kurtosis`), the default behavior of `mode` typically preserves the axis it acts along. In SciPy 1.11.0, this behavior will change: the default value of `keepdims` will become False, the `axis` over which the statistic is taken will be eliminated, and the value None will no longer be accepted. Set `keepdims` to True or False to avoid this warning.\n",
            "  mode, _ = stats.mode(_y[neigh_ind, k], axis=1)\n",
            "/usr/local/lib/python3.8/dist-packages/sklearn/neighbors/_classification.py:228: FutureWarning: Unlike other reduction functions (e.g. `skew`, `kurtosis`), the default behavior of `mode` typically preserves the axis it acts along. In SciPy 1.11.0, this behavior will change: the default value of `keepdims` will become False, the `axis` over which the statistic is taken will be eliminated, and the value None will no longer be accepted. Set `keepdims` to True or False to avoid this warning.\n",
            "  mode, _ = stats.mode(_y[neigh_ind, k], axis=1)\n",
            "/usr/local/lib/python3.8/dist-packages/sklearn/neighbors/_classification.py:228: FutureWarning: Unlike other reduction functions (e.g. `skew`, `kurtosis`), the default behavior of `mode` typically preserves the axis it acts along. In SciPy 1.11.0, this behavior will change: the default value of `keepdims` will become False, the `axis` over which the statistic is taken will be eliminated, and the value None will no longer be accepted. Set `keepdims` to True or False to avoid this warning.\n",
            "  mode, _ = stats.mode(_y[neigh_ind, k], axis=1)\n",
            "/usr/local/lib/python3.8/dist-packages/sklearn/neighbors/_classification.py:228: FutureWarning: Unlike other reduction functions (e.g. `skew`, `kurtosis`), the default behavior of `mode` typically preserves the axis it acts along. In SciPy 1.11.0, this behavior will change: the default value of `keepdims` will become False, the `axis` over which the statistic is taken will be eliminated, and the value None will no longer be accepted. Set `keepdims` to True or False to avoid this warning.\n",
            "  mode, _ = stats.mode(_y[neigh_ind, k], axis=1)\n",
            "/usr/local/lib/python3.8/dist-packages/sklearn/neighbors/_classification.py:228: FutureWarning: Unlike other reduction functions (e.g. `skew`, `kurtosis`), the default behavior of `mode` typically preserves the axis it acts along. In SciPy 1.11.0, this behavior will change: the default value of `keepdims` will become False, the `axis` over which the statistic is taken will be eliminated, and the value None will no longer be accepted. Set `keepdims` to True or False to avoid this warning.\n",
            "  mode, _ = stats.mode(_y[neigh_ind, k], axis=1)\n",
            "/usr/local/lib/python3.8/dist-packages/sklearn/neighbors/_classification.py:228: FutureWarning: Unlike other reduction functions (e.g. `skew`, `kurtosis`), the default behavior of `mode` typically preserves the axis it acts along. In SciPy 1.11.0, this behavior will change: the default value of `keepdims` will become False, the `axis` over which the statistic is taken will be eliminated, and the value None will no longer be accepted. Set `keepdims` to True or False to avoid this warning.\n",
            "  mode, _ = stats.mode(_y[neigh_ind, k], axis=1)\n",
            "/usr/local/lib/python3.8/dist-packages/sklearn/neighbors/_classification.py:228: FutureWarning: Unlike other reduction functions (e.g. `skew`, `kurtosis`), the default behavior of `mode` typically preserves the axis it acts along. In SciPy 1.11.0, this behavior will change: the default value of `keepdims` will become False, the `axis` over which the statistic is taken will be eliminated, and the value None will no longer be accepted. Set `keepdims` to True or False to avoid this warning.\n",
            "  mode, _ = stats.mode(_y[neigh_ind, k], axis=1)\n",
            "/usr/local/lib/python3.8/dist-packages/sklearn/neighbors/_classification.py:228: FutureWarning: Unlike other reduction functions (e.g. `skew`, `kurtosis`), the default behavior of `mode` typically preserves the axis it acts along. In SciPy 1.11.0, this behavior will change: the default value of `keepdims` will become False, the `axis` over which the statistic is taken will be eliminated, and the value None will no longer be accepted. Set `keepdims` to True or False to avoid this warning.\n",
            "  mode, _ = stats.mode(_y[neigh_ind, k], axis=1)\n",
            "/usr/local/lib/python3.8/dist-packages/sklearn/neighbors/_classification.py:228: FutureWarning: Unlike other reduction functions (e.g. `skew`, `kurtosis`), the default behavior of `mode` typically preserves the axis it acts along. In SciPy 1.11.0, this behavior will change: the default value of `keepdims` will become False, the `axis` over which the statistic is taken will be eliminated, and the value None will no longer be accepted. Set `keepdims` to True or False to avoid this warning.\n",
            "  mode, _ = stats.mode(_y[neigh_ind, k], axis=1)\n",
            "/usr/local/lib/python3.8/dist-packages/sklearn/neighbors/_classification.py:228: FutureWarning: Unlike other reduction functions (e.g. `skew`, `kurtosis`), the default behavior of `mode` typically preserves the axis it acts along. In SciPy 1.11.0, this behavior will change: the default value of `keepdims` will become False, the `axis` over which the statistic is taken will be eliminated, and the value None will no longer be accepted. Set `keepdims` to True or False to avoid this warning.\n",
            "  mode, _ = stats.mode(_y[neigh_ind, k], axis=1)\n",
            "/usr/local/lib/python3.8/dist-packages/sklearn/neighbors/_classification.py:228: FutureWarning: Unlike other reduction functions (e.g. `skew`, `kurtosis`), the default behavior of `mode` typically preserves the axis it acts along. In SciPy 1.11.0, this behavior will change: the default value of `keepdims` will become False, the `axis` over which the statistic is taken will be eliminated, and the value None will no longer be accepted. Set `keepdims` to True or False to avoid this warning.\n",
            "  mode, _ = stats.mode(_y[neigh_ind, k], axis=1)\n",
            "/usr/local/lib/python3.8/dist-packages/sklearn/neighbors/_classification.py:228: FutureWarning: Unlike other reduction functions (e.g. `skew`, `kurtosis`), the default behavior of `mode` typically preserves the axis it acts along. In SciPy 1.11.0, this behavior will change: the default value of `keepdims` will become False, the `axis` over which the statistic is taken will be eliminated, and the value None will no longer be accepted. Set `keepdims` to True or False to avoid this warning.\n",
            "  mode, _ = stats.mode(_y[neigh_ind, k], axis=1)\n",
            "/usr/local/lib/python3.8/dist-packages/sklearn/neighbors/_classification.py:228: FutureWarning: Unlike other reduction functions (e.g. `skew`, `kurtosis`), the default behavior of `mode` typically preserves the axis it acts along. In SciPy 1.11.0, this behavior will change: the default value of `keepdims` will become False, the `axis` over which the statistic is taken will be eliminated, and the value None will no longer be accepted. Set `keepdims` to True or False to avoid this warning.\n",
            "  mode, _ = stats.mode(_y[neigh_ind, k], axis=1)\n",
            "/usr/local/lib/python3.8/dist-packages/sklearn/neighbors/_classification.py:228: FutureWarning: Unlike other reduction functions (e.g. `skew`, `kurtosis`), the default behavior of `mode` typically preserves the axis it acts along. In SciPy 1.11.0, this behavior will change: the default value of `keepdims` will become False, the `axis` over which the statistic is taken will be eliminated, and the value None will no longer be accepted. Set `keepdims` to True or False to avoid this warning.\n",
            "  mode, _ = stats.mode(_y[neigh_ind, k], axis=1)\n",
            "/usr/local/lib/python3.8/dist-packages/sklearn/neighbors/_classification.py:228: FutureWarning: Unlike other reduction functions (e.g. `skew`, `kurtosis`), the default behavior of `mode` typically preserves the axis it acts along. In SciPy 1.11.0, this behavior will change: the default value of `keepdims` will become False, the `axis` over which the statistic is taken will be eliminated, and the value None will no longer be accepted. Set `keepdims` to True or False to avoid this warning.\n",
            "  mode, _ = stats.mode(_y[neigh_ind, k], axis=1)\n",
            "/usr/local/lib/python3.8/dist-packages/sklearn/neighbors/_classification.py:228: FutureWarning: Unlike other reduction functions (e.g. `skew`, `kurtosis`), the default behavior of `mode` typically preserves the axis it acts along. In SciPy 1.11.0, this behavior will change: the default value of `keepdims` will become False, the `axis` over which the statistic is taken will be eliminated, and the value None will no longer be accepted. Set `keepdims` to True or False to avoid this warning.\n",
            "  mode, _ = stats.mode(_y[neigh_ind, k], axis=1)\n",
            "/usr/local/lib/python3.8/dist-packages/sklearn/neighbors/_classification.py:228: FutureWarning: Unlike other reduction functions (e.g. `skew`, `kurtosis`), the default behavior of `mode` typically preserves the axis it acts along. In SciPy 1.11.0, this behavior will change: the default value of `keepdims` will become False, the `axis` over which the statistic is taken will be eliminated, and the value None will no longer be accepted. Set `keepdims` to True or False to avoid this warning.\n",
            "  mode, _ = stats.mode(_y[neigh_ind, k], axis=1)\n",
            "/usr/local/lib/python3.8/dist-packages/sklearn/neighbors/_classification.py:228: FutureWarning: Unlike other reduction functions (e.g. `skew`, `kurtosis`), the default behavior of `mode` typically preserves the axis it acts along. In SciPy 1.11.0, this behavior will change: the default value of `keepdims` will become False, the `axis` over which the statistic is taken will be eliminated, and the value None will no longer be accepted. Set `keepdims` to True or False to avoid this warning.\n",
            "  mode, _ = stats.mode(_y[neigh_ind, k], axis=1)\n",
            "/usr/local/lib/python3.8/dist-packages/sklearn/neighbors/_classification.py:228: FutureWarning: Unlike other reduction functions (e.g. `skew`, `kurtosis`), the default behavior of `mode` typically preserves the axis it acts along. In SciPy 1.11.0, this behavior will change: the default value of `keepdims` will become False, the `axis` over which the statistic is taken will be eliminated, and the value None will no longer be accepted. Set `keepdims` to True or False to avoid this warning.\n",
            "  mode, _ = stats.mode(_y[neigh_ind, k], axis=1)\n",
            "/usr/local/lib/python3.8/dist-packages/sklearn/neighbors/_classification.py:228: FutureWarning: Unlike other reduction functions (e.g. `skew`, `kurtosis`), the default behavior of `mode` typically preserves the axis it acts along. In SciPy 1.11.0, this behavior will change: the default value of `keepdims` will become False, the `axis` over which the statistic is taken will be eliminated, and the value None will no longer be accepted. Set `keepdims` to True or False to avoid this warning.\n",
            "  mode, _ = stats.mode(_y[neigh_ind, k], axis=1)\n",
            "/usr/local/lib/python3.8/dist-packages/sklearn/neighbors/_classification.py:228: FutureWarning: Unlike other reduction functions (e.g. `skew`, `kurtosis`), the default behavior of `mode` typically preserves the axis it acts along. In SciPy 1.11.0, this behavior will change: the default value of `keepdims` will become False, the `axis` over which the statistic is taken will be eliminated, and the value None will no longer be accepted. Set `keepdims` to True or False to avoid this warning.\n",
            "  mode, _ = stats.mode(_y[neigh_ind, k], axis=1)\n",
            "/usr/local/lib/python3.8/dist-packages/sklearn/neighbors/_classification.py:228: FutureWarning: Unlike other reduction functions (e.g. `skew`, `kurtosis`), the default behavior of `mode` typically preserves the axis it acts along. In SciPy 1.11.0, this behavior will change: the default value of `keepdims` will become False, the `axis` over which the statistic is taken will be eliminated, and the value None will no longer be accepted. Set `keepdims` to True or False to avoid this warning.\n",
            "  mode, _ = stats.mode(_y[neigh_ind, k], axis=1)\n",
            "/usr/local/lib/python3.8/dist-packages/sklearn/neighbors/_classification.py:228: FutureWarning: Unlike other reduction functions (e.g. `skew`, `kurtosis`), the default behavior of `mode` typically preserves the axis it acts along. In SciPy 1.11.0, this behavior will change: the default value of `keepdims` will become False, the `axis` over which the statistic is taken will be eliminated, and the value None will no longer be accepted. Set `keepdims` to True or False to avoid this warning.\n",
            "  mode, _ = stats.mode(_y[neigh_ind, k], axis=1)\n",
            "/usr/local/lib/python3.8/dist-packages/sklearn/neighbors/_classification.py:228: FutureWarning: Unlike other reduction functions (e.g. `skew`, `kurtosis`), the default behavior of `mode` typically preserves the axis it acts along. In SciPy 1.11.0, this behavior will change: the default value of `keepdims` will become False, the `axis` over which the statistic is taken will be eliminated, and the value None will no longer be accepted. Set `keepdims` to True or False to avoid this warning.\n",
            "  mode, _ = stats.mode(_y[neigh_ind, k], axis=1)\n",
            "/usr/local/lib/python3.8/dist-packages/sklearn/neighbors/_classification.py:228: FutureWarning: Unlike other reduction functions (e.g. `skew`, `kurtosis`), the default behavior of `mode` typically preserves the axis it acts along. In SciPy 1.11.0, this behavior will change: the default value of `keepdims` will become False, the `axis` over which the statistic is taken will be eliminated, and the value None will no longer be accepted. Set `keepdims` to True or False to avoid this warning.\n",
            "  mode, _ = stats.mode(_y[neigh_ind, k], axis=1)\n",
            "/usr/local/lib/python3.8/dist-packages/sklearn/neighbors/_classification.py:228: FutureWarning: Unlike other reduction functions (e.g. `skew`, `kurtosis`), the default behavior of `mode` typically preserves the axis it acts along. In SciPy 1.11.0, this behavior will change: the default value of `keepdims` will become False, the `axis` over which the statistic is taken will be eliminated, and the value None will no longer be accepted. Set `keepdims` to True or False to avoid this warning.\n",
            "  mode, _ = stats.mode(_y[neigh_ind, k], axis=1)\n",
            "/usr/local/lib/python3.8/dist-packages/sklearn/neighbors/_classification.py:228: FutureWarning: Unlike other reduction functions (e.g. `skew`, `kurtosis`), the default behavior of `mode` typically preserves the axis it acts along. In SciPy 1.11.0, this behavior will change: the default value of `keepdims` will become False, the `axis` over which the statistic is taken will be eliminated, and the value None will no longer be accepted. Set `keepdims` to True or False to avoid this warning.\n",
            "  mode, _ = stats.mode(_y[neigh_ind, k], axis=1)\n",
            "/usr/local/lib/python3.8/dist-packages/sklearn/neighbors/_classification.py:228: FutureWarning: Unlike other reduction functions (e.g. `skew`, `kurtosis`), the default behavior of `mode` typically preserves the axis it acts along. In SciPy 1.11.0, this behavior will change: the default value of `keepdims` will become False, the `axis` over which the statistic is taken will be eliminated, and the value None will no longer be accepted. Set `keepdims` to True or False to avoid this warning.\n",
            "  mode, _ = stats.mode(_y[neigh_ind, k], axis=1)\n",
            "/usr/local/lib/python3.8/dist-packages/sklearn/neighbors/_classification.py:228: FutureWarning: Unlike other reduction functions (e.g. `skew`, `kurtosis`), the default behavior of `mode` typically preserves the axis it acts along. In SciPy 1.11.0, this behavior will change: the default value of `keepdims` will become False, the `axis` over which the statistic is taken will be eliminated, and the value None will no longer be accepted. Set `keepdims` to True or False to avoid this warning.\n",
            "  mode, _ = stats.mode(_y[neigh_ind, k], axis=1)\n",
            "/usr/local/lib/python3.8/dist-packages/sklearn/neighbors/_classification.py:228: FutureWarning: Unlike other reduction functions (e.g. `skew`, `kurtosis`), the default behavior of `mode` typically preserves the axis it acts along. In SciPy 1.11.0, this behavior will change: the default value of `keepdims` will become False, the `axis` over which the statistic is taken will be eliminated, and the value None will no longer be accepted. Set `keepdims` to True or False to avoid this warning.\n",
            "  mode, _ = stats.mode(_y[neigh_ind, k], axis=1)\n",
            "/usr/local/lib/python3.8/dist-packages/sklearn/neighbors/_classification.py:228: FutureWarning: Unlike other reduction functions (e.g. `skew`, `kurtosis`), the default behavior of `mode` typically preserves the axis it acts along. In SciPy 1.11.0, this behavior will change: the default value of `keepdims` will become False, the `axis` over which the statistic is taken will be eliminated, and the value None will no longer be accepted. Set `keepdims` to True or False to avoid this warning.\n",
            "  mode, _ = stats.mode(_y[neigh_ind, k], axis=1)\n",
            "/usr/local/lib/python3.8/dist-packages/sklearn/neighbors/_classification.py:228: FutureWarning: Unlike other reduction functions (e.g. `skew`, `kurtosis`), the default behavior of `mode` typically preserves the axis it acts along. In SciPy 1.11.0, this behavior will change: the default value of `keepdims` will become False, the `axis` over which the statistic is taken will be eliminated, and the value None will no longer be accepted. Set `keepdims` to True or False to avoid this warning.\n",
            "  mode, _ = stats.mode(_y[neigh_ind, k], axis=1)\n",
            "/usr/local/lib/python3.8/dist-packages/sklearn/neighbors/_classification.py:228: FutureWarning: Unlike other reduction functions (e.g. `skew`, `kurtosis`), the default behavior of `mode` typically preserves the axis it acts along. In SciPy 1.11.0, this behavior will change: the default value of `keepdims` will become False, the `axis` over which the statistic is taken will be eliminated, and the value None will no longer be accepted. Set `keepdims` to True or False to avoid this warning.\n",
            "  mode, _ = stats.mode(_y[neigh_ind, k], axis=1)\n",
            "/usr/local/lib/python3.8/dist-packages/sklearn/neighbors/_classification.py:228: FutureWarning: Unlike other reduction functions (e.g. `skew`, `kurtosis`), the default behavior of `mode` typically preserves the axis it acts along. In SciPy 1.11.0, this behavior will change: the default value of `keepdims` will become False, the `axis` over which the statistic is taken will be eliminated, and the value None will no longer be accepted. Set `keepdims` to True or False to avoid this warning.\n",
            "  mode, _ = stats.mode(_y[neigh_ind, k], axis=1)\n",
            "/usr/local/lib/python3.8/dist-packages/sklearn/neighbors/_classification.py:228: FutureWarning: Unlike other reduction functions (e.g. `skew`, `kurtosis`), the default behavior of `mode` typically preserves the axis it acts along. In SciPy 1.11.0, this behavior will change: the default value of `keepdims` will become False, the `axis` over which the statistic is taken will be eliminated, and the value None will no longer be accepted. Set `keepdims` to True or False to avoid this warning.\n",
            "  mode, _ = stats.mode(_y[neigh_ind, k], axis=1)\n",
            "/usr/local/lib/python3.8/dist-packages/sklearn/neighbors/_classification.py:228: FutureWarning: Unlike other reduction functions (e.g. `skew`, `kurtosis`), the default behavior of `mode` typically preserves the axis it acts along. In SciPy 1.11.0, this behavior will change: the default value of `keepdims` will become False, the `axis` over which the statistic is taken will be eliminated, and the value None will no longer be accepted. Set `keepdims` to True or False to avoid this warning.\n",
            "  mode, _ = stats.mode(_y[neigh_ind, k], axis=1)\n",
            "/usr/local/lib/python3.8/dist-packages/sklearn/neighbors/_classification.py:228: FutureWarning: Unlike other reduction functions (e.g. `skew`, `kurtosis`), the default behavior of `mode` typically preserves the axis it acts along. In SciPy 1.11.0, this behavior will change: the default value of `keepdims` will become False, the `axis` over which the statistic is taken will be eliminated, and the value None will no longer be accepted. Set `keepdims` to True or False to avoid this warning.\n",
            "  mode, _ = stats.mode(_y[neigh_ind, k], axis=1)\n",
            "/usr/local/lib/python3.8/dist-packages/sklearn/neighbors/_classification.py:228: FutureWarning: Unlike other reduction functions (e.g. `skew`, `kurtosis`), the default behavior of `mode` typically preserves the axis it acts along. In SciPy 1.11.0, this behavior will change: the default value of `keepdims` will become False, the `axis` over which the statistic is taken will be eliminated, and the value None will no longer be accepted. Set `keepdims` to True or False to avoid this warning.\n",
            "  mode, _ = stats.mode(_y[neigh_ind, k], axis=1)\n",
            "/usr/local/lib/python3.8/dist-packages/sklearn/neighbors/_classification.py:228: FutureWarning: Unlike other reduction functions (e.g. `skew`, `kurtosis`), the default behavior of `mode` typically preserves the axis it acts along. In SciPy 1.11.0, this behavior will change: the default value of `keepdims` will become False, the `axis` over which the statistic is taken will be eliminated, and the value None will no longer be accepted. Set `keepdims` to True or False to avoid this warning.\n",
            "  mode, _ = stats.mode(_y[neigh_ind, k], axis=1)\n",
            "/usr/local/lib/python3.8/dist-packages/sklearn/neighbors/_classification.py:228: FutureWarning: Unlike other reduction functions (e.g. `skew`, `kurtosis`), the default behavior of `mode` typically preserves the axis it acts along. In SciPy 1.11.0, this behavior will change: the default value of `keepdims` will become False, the `axis` over which the statistic is taken will be eliminated, and the value None will no longer be accepted. Set `keepdims` to True or False to avoid this warning.\n",
            "  mode, _ = stats.mode(_y[neigh_ind, k], axis=1)\n",
            "/usr/local/lib/python3.8/dist-packages/sklearn/neighbors/_classification.py:228: FutureWarning: Unlike other reduction functions (e.g. `skew`, `kurtosis`), the default behavior of `mode` typically preserves the axis it acts along. In SciPy 1.11.0, this behavior will change: the default value of `keepdims` will become False, the `axis` over which the statistic is taken will be eliminated, and the value None will no longer be accepted. Set `keepdims` to True or False to avoid this warning.\n",
            "  mode, _ = stats.mode(_y[neigh_ind, k], axis=1)\n",
            "/usr/local/lib/python3.8/dist-packages/sklearn/neighbors/_classification.py:228: FutureWarning: Unlike other reduction functions (e.g. `skew`, `kurtosis`), the default behavior of `mode` typically preserves the axis it acts along. In SciPy 1.11.0, this behavior will change: the default value of `keepdims` will become False, the `axis` over which the statistic is taken will be eliminated, and the value None will no longer be accepted. Set `keepdims` to True or False to avoid this warning.\n",
            "  mode, _ = stats.mode(_y[neigh_ind, k], axis=1)\n",
            "/usr/local/lib/python3.8/dist-packages/sklearn/neighbors/_classification.py:228: FutureWarning: Unlike other reduction functions (e.g. `skew`, `kurtosis`), the default behavior of `mode` typically preserves the axis it acts along. In SciPy 1.11.0, this behavior will change: the default value of `keepdims` will become False, the `axis` over which the statistic is taken will be eliminated, and the value None will no longer be accepted. Set `keepdims` to True or False to avoid this warning.\n",
            "  mode, _ = stats.mode(_y[neigh_ind, k], axis=1)\n",
            "/usr/local/lib/python3.8/dist-packages/sklearn/neighbors/_classification.py:228: FutureWarning: Unlike other reduction functions (e.g. `skew`, `kurtosis`), the default behavior of `mode` typically preserves the axis it acts along. In SciPy 1.11.0, this behavior will change: the default value of `keepdims` will become False, the `axis` over which the statistic is taken will be eliminated, and the value None will no longer be accepted. Set `keepdims` to True or False to avoid this warning.\n",
            "  mode, _ = stats.mode(_y[neigh_ind, k], axis=1)\n"
          ]
        },
        {
          "output_type": "display_data",
          "data": {
            "text/plain": [
              "<Figure size 432x288 with 1 Axes>"
            ],
            "image/png": "[encoded data removed]"
          },
          "metadata": {
            "needs_background": "light"
          }
        }
      ]
    },
    {
      "cell_type": "markdown",
      "source": [
        "Encontramos que el valor de n_neighbors que maximiza el accuracy es aproximadamente 24."
      ],
      "metadata": {
        "id": "KP_LjvB_5d4U"
      }
    },
    {
      "cell_type": "code",
      "source": [
        "'''\n",
        "#n_neighbors = 24\n",
        "#Instancia el modelo \n",
        "knn24 = KNeighborsClassifier(n_neighbors = 24)\n",
        "\n",
        "# Create a modeling pipeline\n",
        "knn_pipe24 = make_pipeline(pca15, knn24)\n",
        "knn_pipe24.fit(X_train, y_train)\n",
        "'''"
      ],
      "metadata": {
        "id": "FM2enNTk5JTK"
      },
      "execution_count": null,
      "outputs": []
    },
    {
      "cell_type": "code",
      "source": [
        "'''\n",
        "#Evalua el modelo\n",
        "y_test = knn_pipe24.predict(X_test)\n",
        "print('Training accuracy:', knn_pipe24.score(X_train, y_train))\n",
        "print('Testing accuracy:', knn_pipe24.score(X_test, y_test))\n",
        "'''"
      ],
      "metadata": {
        "id": "1-a3rv4s5nSU"
      },
      "execution_count": null,
      "outputs": []
    },
    {
      "cell_type": "code",
      "source": [
        "#Guarda las predicicones\n",
        "knn_preds = knn_pipe.predict(X_train)\n",
        "\n",
        "report_knn = classification_report(y_train, knn_preds)\n",
        "print(report_knn)"
      ],
      "metadata": {
        "colab": {
          "base_uri": "https://localhost:8080/"
        },
        "id": "kvfIETgN5rn1",
        "outputId": "7bd42f93-fe91-4a7f-d44d-09e4962c3c0a"
      },
      "execution_count": null,
      "outputs": [
        {
          "output_type": "stream",
          "name": "stderr",
          "text": [
            "/usr/local/lib/python3.8/dist-packages/sklearn/neighbors/_classification.py:228: FutureWarning: Unlike other reduction functions (e.g. `skew`, `kurtosis`), the default behavior of `mode` typically preserves the axis it acts along. In SciPy 1.11.0, this behavior will change: the default value of `keepdims` will become False, the `axis` over which the statistic is taken will be eliminated, and the value None will no longer be accepted. Set `keepdims` to True or False to avoid this warning.\n",
            "  mode, _ = stats.mode(_y[neigh_ind, k], axis=1)\n"
          ]
        },
        {
          "output_type": "stream",
          "name": "stdout",
          "text": [
            "              precision    recall  f1-score   support\n",
            "\n",
            "           0       0.74      0.86      0.79      4315\n",
            "           1       0.83      0.70      0.76      4363\n",
            "\n",
            "    accuracy                           0.78      8678\n",
            "   macro avg       0.79      0.78      0.78      8678\n",
            "weighted avg       0.79      0.78      0.78      8678\n",
            "\n"
          ]
        }
      ]
    },
    {
      "cell_type": "code",
      "source": [
        "sns.reset_orig() \n",
        "cm_knn = confusion_matrix(y_train, knn_preds, labels = knn_pipe.classes_)\n",
        "disp_knn = ConfusionMatrixDisplay(confusion_matrix = cm_knn,\n",
        "                                   display_labels = knn_pipe.classes_)\n",
        "\n",
        "disp_knn.plot();"
      ],
      "metadata": {
        "colab": {
          "base_uri": "https://localhost:8080/",
          "height": 279
        },
        "id": "jG1Ey1Do52_2",
        "outputId": "71b753a9-ed04-49ac-a0e5-46a0d35510e2"
      },
      "execution_count": null,
      "outputs": [
        {
          "output_type": "display_data",
          "data": {
            "text/plain": [
              "<Figure size 432x288 with 2 Axes>"
            ],
            "image/png": "[encoded data removed]"
          },
          "metadata": {
            "needs_background": "light"
          }
        }
      ]
    },
    {
      "cell_type": "markdown",
      "source": [
        "### **3. Regresión logística**"
      ],
      "metadata": {
        "id": "f28mIOzu6Uq-"
      }
    },
    {
      "cell_type": "code",
      "source": [
        "#Instancia el modelo \n",
        "logreg = LogisticRegression(random_state = 42, max_iter = 1000, \n",
        "                            multi_class = \"ovr\")\n",
        "\n",
        "# Create a modeling pipeline\n",
        "logreg_pipe = make_pipeline(pca15, logreg)\n",
        "logreg_pipe.fit(X_train, y_train)"
      ],
      "metadata": {
        "colab": {
          "base_uri": "https://localhost:8080/",
          "height": 124
        },
        "id": "04MCvTR76OrG",
        "outputId": "8be18dc4-750d-47fc-de96-d77151c0a170"
      },
      "execution_count": null,
      "outputs": [
        {
          "output_type": "execute_result",
          "data": {
            "text/plain": [
              "Pipeline(steps=[('pca', PCA(n_components=15)),\n",
              "                ('logisticregression',\n",
              "                 LogisticRegression(max_iter=1000, multi_class='ovr',\n",
              "                                    random_state=42))])"
            ],
            "text/html": [
              "<style>#sk-0b6addf6-a7be-443a-b175-fe04eded213f {color: black;background-color: white;}#sk-0b6addf6-a7be-443a-b175-fe04eded213f pre{padding: 0;}#sk-0b6addf6-a7be-443a-b175-fe04eded213f div.sk-toggleable {background-color: white;}#sk-0b6addf6-a7be-443a-b175-fe04eded213f label.sk-toggleable__label {cursor: pointer;display: block;width: 100%;margin-bottom: 0;padding: 0.3em;box-sizing: border-box;text-align: center;}#sk-0b6addf6-a7be-443a-b175-fe04eded213f label.sk-toggleable__label-arrow:before {content: \"▸\";float: left;margin-right: 0.25em;color: #696969;}#sk-0b6addf6-a7be-443a-b175-fe04eded213f label.sk-toggleable__label-arrow:hover:before {color: black;}#sk-0b6addf6-a7be-443a-b175-fe04eded213f div.sk-estimator:hover label.sk-toggleable__label-arrow:before {color: black;}#sk-0b6addf6-a7be-443a-b175-fe04eded213f div.sk-toggleable__content {max-height: 0;max-width: 0;overflow: hidden;text-align: left;background-color: #f0f8ff;}#sk-0b6addf6-a7be-443a-b175-fe04eded213f div.sk-toggleable__content pre {margin: 0.2em;color: black;border-radius: 0.25em;background-color: #f0f8ff;}#sk-0b6addf6-a7be-443a-b175-fe04eded213f input.sk-toggleable__control:checked~div.sk-toggleable__content {max-height: 200px;max-width: 100%;overflow: auto;}#sk-0b6addf6-a7be-443a-b175-fe04eded213f input.sk-toggleable__control:checked~label.sk-toggleable__label-arrow:before {content: \"▾\";}#sk-0b6addf6-a7be-443a-b175-fe04eded213f div.sk-estimator input.sk-toggleable__control:checked~label.sk-toggleable__label {background-color: #d4ebff;}#sk-0b6addf6-a7be-443a-b175-fe04eded213f div.sk-label input.sk-toggleable__control:checked~label.sk-toggleable__label {background-color: #d4ebff;}#sk-0b6addf6-a7be-443a-b175-fe04eded213f input.sk-hidden--visually {border: 0;clip: rect(1px 1px 1px 1px);clip: rect(1px, 1px, 1px, 1px);height: 1px;margin: -1px;overflow: hidden;padding: 0;position: absolute;width: 1px;}#sk-0b6addf6-a7be-443a-b175-fe04eded213f div.sk-estimator {font-family: monospace;background-color: #f0f8ff;border: 1px dotted black;border-radius: 0.25em;box-sizing: border-box;margin-bottom: 0.5em;}#sk-0b6addf6-a7be-443a-b175-fe04eded213f div.sk-estimator:hover {background-color: #d4ebff;}#sk-0b6addf6-a7be-443a-b175-fe04eded213f div.sk-parallel-item::after {content: \"\";width: 100%;border-bottom: 1px solid gray;flex-grow: 1;}#sk-0b6addf6-a7be-443a-b175-fe04eded213f div.sk-label:hover label.sk-toggleable__label {background-color: #d4ebff;}#sk-0b6addf6-a7be-443a-b175-fe04eded213f div.sk-serial::before {content: \"\";position: absolute;border-left: 1px solid gray;box-sizing: border-box;top: 2em;bottom: 0;left: 50%;}#sk-0b6addf6-a7be-443a-b175-fe04eded213f div.sk-serial {display: flex;flex-direction: column;align-items: center;background-color: white;padding-right: 0.2em;padding-left: 0.2em;}#sk-0b6addf6-a7be-443a-b175-fe04eded213f div.sk-item {z-index: 1;}#sk-0b6addf6-a7be-443a-b175-fe04eded213f div.sk-parallel {display: flex;align-items: stretch;justify-content: center;background-color: white;}#sk-0b6addf6-a7be-443a-b175-fe04eded213f div.sk-parallel::before {content: \"\";position: absolute;border-left: 1px solid gray;box-sizing: border-box;top: 2em;bottom: 0;left: 50%;}#sk-0b6addf6-a7be-443a-b175-fe04eded213f div.sk-parallel-item {display: flex;flex-direction: column;position: relative;background-color: white;}#sk-0b6addf6-a7be-443a-b175-fe04eded213f div.sk-parallel-item:first-child::after {align-self: flex-end;width: 50%;}#sk-0b6addf6-a7be-443a-b175-fe04eded213f div.sk-parallel-item:last-child::after {align-self: flex-start;width: 50%;}#sk-0b6addf6-a7be-443a-b175-fe04eded213f div.sk-parallel-item:only-child::after {width: 0;}#sk-0b6addf6-a7be-443a-b175-fe04eded213f div.sk-dashed-wrapped {border: 1px dashed gray;margin: 0 0.4em 0.5em 0.4em;box-sizing: border-box;padding-bottom: 0.4em;background-color: white;position: relative;}#sk-0b6addf6-a7be-443a-b175-fe04eded213f div.sk-label label {font-family: monospace;font-weight: bold;background-color: white;display: inline-block;line-height: 1.2em;}#sk-0b6addf6-a7be-443a-b175-fe04eded213f div.sk-label-container {position: relative;z-index: 2;text-align: center;}#sk-0b6addf6-a7be-443a-b175-fe04eded213f div.sk-container {/* jupyter's `normalize.less` sets `[hidden] { display: none; }` but bootstrap.min.css set `[hidden] { display: none !important; }` so we also need the `!important` here to be able to override the default hidden behavior on the sphinx rendered scikit-learn.org. See: https://github.com/scikit-learn/scikit-learn/issues/21755 */display: inline-block !important;position: relative;}#sk-0b6addf6-a7be-443a-b175-fe04eded213f div.sk-text-repr-fallback {display: none;}</style><div id=\"sk-0b6addf6-a7be-443a-b175-fe04eded213f\" class=\"sk-top-container\"><div class=\"sk-text-repr-fallback\"><pre>Pipeline(steps=[(&#x27;pca&#x27;, PCA(n_components=15)),\n",
              "                (&#x27;logisticregression&#x27;,\n",
              "                 LogisticRegression(max_iter=1000, multi_class=&#x27;ovr&#x27;,\n",
              "                                    random_state=42))])</pre><b>Please rerun this cell to show the HTML repr or trust the notebook.</b></div><div class=\"sk-container\" hidden><div class=\"sk-item sk-dashed-wrapped\"><div class=\"sk-label-container\"><div class=\"sk-label sk-toggleable\"><input class=\"sk-toggleable__control sk-hidden--visually\" id=\"d9d28964-1db5-4b93-bc73-55a1bc6d1a0d\" type=\"checkbox\" ><label for=\"d9d28964-1db5-4b93-bc73-55a1bc6d1a0d\" class=\"sk-toggleable__label sk-toggleable__label-arrow\">Pipeline</label><div class=\"sk-toggleable__content\"><pre>Pipeline(steps=[(&#x27;pca&#x27;, PCA(n_components=15)),\n",
              "                (&#x27;logisticregression&#x27;,\n",
              "                 LogisticRegression(max_iter=1000, multi_class=&#x27;ovr&#x27;,\n",
              "                                    random_state=42))])</pre></div></div></div><div class=\"sk-serial\"><div class=\"sk-item\"><div class=\"sk-estimator sk-toggleable\"><input class=\"sk-toggleable__control sk-hidden--visually\" id=\"41b54c5b-206d-425f-a07a-a5669bc8ba00\" type=\"checkbox\" ><label for=\"41b54c5b-206d-425f-a07a-a5669bc8ba00\" class=\"sk-toggleable__label sk-toggleable__label-arrow\">PCA</label><div class=\"sk-toggleable__content\"><pre>PCA(n_components=15)</pre></div></div></div><div class=\"sk-item\"><div class=\"sk-estimator sk-toggleable\"><input class=\"sk-toggleable__control sk-hidden--visually\" id=\"3b4edda1-5338-4f87-86fb-fc59d9984412\" type=\"checkbox\" ><label for=\"3b4edda1-5338-4f87-86fb-fc59d9984412\" class=\"sk-toggleable__label sk-toggleable__label-arrow\">LogisticRegression</label><div class=\"sk-toggleable__content\"><pre>LogisticRegression(max_iter=1000, multi_class=&#x27;ovr&#x27;, random_state=42)</pre></div></div></div></div></div></div></div>"
            ]
          },
          "metadata": {},
          "execution_count": 64
        }
      ]
    },
    {
      "cell_type": "code",
      "source": [
        "#Evalua el modelo\n",
        "y_test = logreg_pipe.predict(X_test)\n",
        "print('Training accuracy:', logreg_pipe.score(X_train, y_train))\n",
        "print('Testing accuracy:', logreg_pipe.score(X_test, y_test))"
      ],
      "metadata": {
        "colab": {
          "base_uri": "https://localhost:8080/"
        },
        "id": "qtKa2Q7z6bUg",
        "outputId": "de465b20-8edd-4544-e35a-7a8ee0a82b1d"
      },
      "execution_count": null,
      "outputs": [
        {
          "output_type": "stream",
          "name": "stdout",
          "text": [
            "Training accuracy: 0.7487900437888915\n",
            "Testing accuracy: 1.0\n"
          ]
        }
      ]
    },
    {
      "cell_type": "code",
      "source": [
        "#Guarda las predicicones\n",
        "logreg_preds = logreg_pipe.predict(X_train)\n",
        "\n",
        "report_logreg = classification_report(y_train, logreg_preds)\n",
        "print(report_logreg)"
      ],
      "metadata": {
        "colab": {
          "base_uri": "https://localhost:8080/"
        },
        "id": "85-scuJy6eHR",
        "outputId": "417ca9ef-e131-4eed-88ba-9ac2d09e63c7"
      },
      "execution_count": null,
      "outputs": [
        {
          "output_type": "stream",
          "name": "stdout",
          "text": [
            "              precision    recall  f1-score   support\n",
            "\n",
            "           0       0.72      0.81      0.76      4315\n",
            "           1       0.79      0.69      0.73      4363\n",
            "\n",
            "    accuracy                           0.75      8678\n",
            "   macro avg       0.75      0.75      0.75      8678\n",
            "weighted avg       0.75      0.75      0.75      8678\n",
            "\n"
          ]
        }
      ]
    },
    {
      "cell_type": "code",
      "source": [
        "sns.reset_orig() \n",
        "cm_logreg = confusion_matrix(y_train, logreg_preds, labels = logreg_pipe.classes_)\n",
        "disp_logreg = ConfusionMatrixDisplay(confusion_matrix = cm_logreg,\n",
        "                                   display_labels = logreg_pipe.classes_)\n",
        "\n",
        "disp_logreg.plot();"
      ],
      "metadata": {
        "colab": {
          "base_uri": "https://localhost:8080/",
          "height": 283
        },
        "id": "R9Uf4yCC6jLf",
        "outputId": "50943ba0-4069-4ca3-b143-71434f9273be"
      },
      "execution_count": null,
      "outputs": [
        {
          "output_type": "display_data",
          "data": {
            "text/plain": [
              "<Figure size 432x288 with 2 Axes>"
            ],
            "image/png": "[encoded data removed]"
          },
          "metadata": {
            "needs_background": "light"
          }
        }
      ]
    },
    {
      "cell_type": "markdown",
      "source": [
        "### **4. XGBoost**"
      ],
      "metadata": {
        "id": "lWIBt4qW6slJ"
      }
    },
    {
      "cell_type": "code",
      "source": [
        "# Instantiate and fit gradient boosting classifier\n",
        "xgb = XGBClassifier()\n",
        "\n",
        "# Create a modeling pipeline\n",
        "xgb_pipe = make_pipeline(pca15, xgb)\n",
        "\n",
        "xgb_pipe.fit(X_train, y_train)"
      ],
      "metadata": {
        "colab": {
          "base_uri": "https://localhost:8080/",
          "height": 124
        },
        "id": "HQVnEz5X6lig",
        "outputId": "e10a7482-b73e-460a-c127-66129489eb1a"
      },
      "execution_count": null,
      "outputs": [
        {
          "output_type": "execute_result",
          "data": {
            "text/plain": [
              "Pipeline(steps=[('pca', PCA(n_components=15)),\n",
              "                ('xgbclassifier', XGBClassifier())])"
            ],
            "text/html": [
              "<style>#sk-bb01aadb-c5e2-45f7-9b81-d14a355352b0 {color: black;background-color: white;}#sk-bb01aadb-c5e2-45f7-9b81-d14a355352b0 pre{padding: 0;}#sk-bb01aadb-c5e2-45f7-9b81-d14a355352b0 div.sk-toggleable {background-color: white;}#sk-bb01aadb-c5e2-45f7-9b81-d14a355352b0 label.sk-toggleable__label {cursor: pointer;display: block;width: 100%;margin-bottom: 0;padding: 0.3em;box-sizing: border-box;text-align: center;}#sk-bb01aadb-c5e2-45f7-9b81-d14a355352b0 label.sk-toggleable__label-arrow:before {content: \"▸\";float: left;margin-right: 0.25em;color: #696969;}#sk-bb01aadb-c5e2-45f7-9b81-d14a355352b0 label.sk-toggleable__label-arrow:hover:before {color: black;}#sk-bb01aadb-c5e2-45f7-9b81-d14a355352b0 div.sk-estimator:hover label.sk-toggleable__label-arrow:before {color: black;}#sk-bb01aadb-c5e2-45f7-9b81-d14a355352b0 div.sk-toggleable__content {max-height: 0;max-width: 0;overflow: hidden;text-align: left;background-color: #f0f8ff;}#sk-bb01aadb-c5e2-45f7-9b81-d14a355352b0 div.sk-toggleable__content pre {margin: 0.2em;color: black;border-radius: 0.25em;background-color: #f0f8ff;}#sk-bb01aadb-c5e2-45f7-9b81-d14a355352b0 input.sk-toggleable__control:checked~div.sk-toggleable__content {max-height: 200px;max-width: 100%;overflow: auto;}#sk-bb01aadb-c5e2-45f7-9b81-d14a355352b0 input.sk-toggleable__control:checked~label.sk-toggleable__label-arrow:before {content: \"▾\";}#sk-bb01aadb-c5e2-45f7-9b81-d14a355352b0 div.sk-estimator input.sk-toggleable__control:checked~label.sk-toggleable__label {background-color: #d4ebff;}#sk-bb01aadb-c5e2-45f7-9b81-d14a355352b0 div.sk-label input.sk-toggleable__control:checked~label.sk-toggleable__label {background-color: #d4ebff;}#sk-bb01aadb-c5e2-45f7-9b81-d14a355352b0 input.sk-hidden--visually {border: 0;clip: rect(1px 1px 1px 1px);clip: rect(1px, 1px, 1px, 1px);height: 1px;margin: -1px;overflow: hidden;padding: 0;position: absolute;width: 1px;}#sk-bb01aadb-c5e2-45f7-9b81-d14a355352b0 div.sk-estimator {font-family: monospace;background-color: #f0f8ff;border: 1px dotted black;border-radius: 0.25em;box-sizing: border-box;margin-bottom: 0.5em;}#sk-bb01aadb-c5e2-45f7-9b81-d14a355352b0 div.sk-estimator:hover {background-color: #d4ebff;}#sk-bb01aadb-c5e2-45f7-9b81-d14a355352b0 div.sk-parallel-item::after {content: \"\";width: 100%;border-bottom: 1px solid gray;flex-grow: 1;}#sk-bb01aadb-c5e2-45f7-9b81-d14a355352b0 div.sk-label:hover label.sk-toggleable__label {background-color: #d4ebff;}#sk-bb01aadb-c5e2-45f7-9b81-d14a355352b0 div.sk-serial::before {content: \"\";position: absolute;border-left: 1px solid gray;box-sizing: border-box;top: 2em;bottom: 0;left: 50%;}#sk-bb01aadb-c5e2-45f7-9b81-d14a355352b0 div.sk-serial {display: flex;flex-direction: column;align-items: center;background-color: white;padding-right: 0.2em;padding-left: 0.2em;}#sk-bb01aadb-c5e2-45f7-9b81-d14a355352b0 div.sk-item {z-index: 1;}#sk-bb01aadb-c5e2-45f7-9b81-d14a355352b0 div.sk-parallel {display: flex;align-items: stretch;justify-content: center;background-color: white;}#sk-bb01aadb-c5e2-45f7-9b81-d14a355352b0 div.sk-parallel::before {content: \"\";position: absolute;border-left: 1px solid gray;box-sizing: border-box;top: 2em;bottom: 0;left: 50%;}#sk-bb01aadb-c5e2-45f7-9b81-d14a355352b0 div.sk-parallel-item {display: flex;flex-direction: column;position: relative;background-color: white;}#sk-bb01aadb-c5e2-45f7-9b81-d14a355352b0 div.sk-parallel-item:first-child::after {align-self: flex-end;width: 50%;}#sk-bb01aadb-c5e2-45f7-9b81-d14a355352b0 div.sk-parallel-item:last-child::after {align-self: flex-start;width: 50%;}#sk-bb01aadb-c5e2-45f7-9b81-d14a355352b0 div.sk-parallel-item:only-child::after {width: 0;}#sk-bb01aadb-c5e2-45f7-9b81-d14a355352b0 div.sk-dashed-wrapped {border: 1px dashed gray;margin: 0 0.4em 0.5em 0.4em;box-sizing: border-box;padding-bottom: 0.4em;background-color: white;position: relative;}#sk-bb01aadb-c5e2-45f7-9b81-d14a355352b0 div.sk-label label {font-family: monospace;font-weight: bold;background-color: white;display: inline-block;line-height: 1.2em;}#sk-bb01aadb-c5e2-45f7-9b81-d14a355352b0 div.sk-label-container {position: relative;z-index: 2;text-align: center;}#sk-bb01aadb-c5e2-45f7-9b81-d14a355352b0 div.sk-container {/* jupyter's `normalize.less` sets `[hidden] { display: none; }` but bootstrap.min.css set `[hidden] { display: none !important; }` so we also need the `!important` here to be able to override the default hidden behavior on the sphinx rendered scikit-learn.org. See: https://github.com/scikit-learn/scikit-learn/issues/21755 */display: inline-block !important;position: relative;}#sk-bb01aadb-c5e2-45f7-9b81-d14a355352b0 div.sk-text-repr-fallback {display: none;}</style><div id=\"sk-bb01aadb-c5e2-45f7-9b81-d14a355352b0\" class=\"sk-top-container\"><div class=\"sk-text-repr-fallback\"><pre>Pipeline(steps=[(&#x27;pca&#x27;, PCA(n_components=15)),\n",
              "                (&#x27;xgbclassifier&#x27;, XGBClassifier())])</pre><b>Please rerun this cell to show the HTML repr or trust the notebook.</b></div><div class=\"sk-container\" hidden><div class=\"sk-item sk-dashed-wrapped\"><div class=\"sk-label-container\"><div class=\"sk-label sk-toggleable\"><input class=\"sk-toggleable__control sk-hidden--visually\" id=\"ae3cdcb0-601d-4556-a699-86075317f264\" type=\"checkbox\" ><label for=\"ae3cdcb0-601d-4556-a699-86075317f264\" class=\"sk-toggleable__label sk-toggleable__label-arrow\">Pipeline</label><div class=\"sk-toggleable__content\"><pre>Pipeline(steps=[(&#x27;pca&#x27;, PCA(n_components=15)),\n",
              "                (&#x27;xgbclassifier&#x27;, XGBClassifier())])</pre></div></div></div><div class=\"sk-serial\"><div class=\"sk-item\"><div class=\"sk-estimator sk-toggleable\"><input class=\"sk-toggleable__control sk-hidden--visually\" id=\"227b1d37-8faa-4c7e-b57d-186d4f810223\" type=\"checkbox\" ><label for=\"227b1d37-8faa-4c7e-b57d-186d4f810223\" class=\"sk-toggleable__label sk-toggleable__label-arrow\">PCA</label><div class=\"sk-toggleable__content\"><pre>PCA(n_components=15)</pre></div></div></div><div class=\"sk-item\"><div class=\"sk-estimator sk-toggleable\"><input class=\"sk-toggleable__control sk-hidden--visually\" id=\"01026bf1-6d8a-4b72-ab44-6af9719fe6be\" type=\"checkbox\" ><label for=\"01026bf1-6d8a-4b72-ab44-6af9719fe6be\" class=\"sk-toggleable__label sk-toggleable__label-arrow\">XGBClassifier</label><div class=\"sk-toggleable__content\"><pre>XGBClassifier()</pre></div></div></div></div></div></div></div>"
            ]
          },
          "metadata": {},
          "execution_count": 69
        }
      ]
    },
    {
      "cell_type": "code",
      "source": [
        "#Evalúe el modelo\n",
        "y_test = xgb_pipe.predict(X_test)\n",
        "print('Training accuracy:', xgb_pipe.score(X_train, y_train))\n",
        "print('Testing accuracy:', xgb_pipe.score(X_test, y_test))"
      ],
      "metadata": {
        "colab": {
          "base_uri": "https://localhost:8080/"
        },
        "id": "tT-TPikI7DsK",
        "outputId": "741b4862-26ad-460a-8c57-f5741176df02"
      },
      "execution_count": null,
      "outputs": [
        {
          "output_type": "stream",
          "name": "stdout",
          "text": [
            "Training accuracy: 0.7818621802258585\n",
            "Testing accuracy: 1.0\n"
          ]
        }
      ]
    },
    {
      "cell_type": "code",
      "source": [
        "#Guarda las predicicones\n",
        "xgb_preds = xgb_pipe.predict(X_train)\n",
        "\n",
        "report_xgb = classification_report(y_train, xgb_preds)\n",
        "print(report_xgb)"
      ],
      "metadata": {
        "colab": {
          "base_uri": "https://localhost:8080/"
        },
        "id": "Fnc1XI6X7ICN",
        "outputId": "a53a4151-2f57-4b14-d36e-1d58cefff7c6"
      },
      "execution_count": null,
      "outputs": [
        {
          "output_type": "stream",
          "name": "stdout",
          "text": [
            "              precision    recall  f1-score   support\n",
            "\n",
            "           0       0.75      0.85      0.79      4315\n",
            "           1       0.82      0.72      0.77      4363\n",
            "\n",
            "    accuracy                           0.78      8678\n",
            "   macro avg       0.79      0.78      0.78      8678\n",
            "weighted avg       0.79      0.78      0.78      8678\n",
            "\n"
          ]
        }
      ]
    },
    {
      "cell_type": "code",
      "source": [
        "sns.reset_orig() \n",
        "cm_xgb = confusion_matrix(y_train, xgb_preds, labels = xgb_pipe.classes_)\n",
        "disp_xgb = ConfusionMatrixDisplay(confusion_matrix = cm_xgb,\n",
        "                                   display_labels = xgb_pipe.classes_)\n",
        "\n",
        "disp_xgb.plot();"
      ],
      "metadata": {
        "colab": {
          "base_uri": "https://localhost:8080/",
          "height": 279
        },
        "id": "urk3QvUW7Xsg",
        "outputId": "f9d0ad78-4fae-47d6-fddf-b7ebe0c846aa"
      },
      "execution_count": null,
      "outputs": [
        {
          "output_type": "display_data",
          "data": {
            "text/plain": [
              "<Figure size 432x288 with 2 Axes>"
            ],
            "image/png": "[encoded data removed]"
          },
          "metadata": {
            "needs_background": "light"
          }
        }
      ]
    },
    {
      "cell_type": "markdown",
      "source": [
        "### **5. LightGBM**"
      ],
      "metadata": {
        "id": "xTk5vb5k7wHF"
      }
    },
    {
      "cell_type": "code",
      "source": [
        "# Instantiate and fit gradient boosting classifier\n",
        "lgbm = LGBMClassifier()\n",
        "\n",
        "# Create a modeling pipeline\n",
        "lgbm_pipe = make_pipeline(pca15, lgbm)\n",
        "\n",
        "lgbm_pipe.fit(X_train, y_train)"
      ],
      "metadata": {
        "colab": {
          "base_uri": "https://localhost:8080/",
          "height": 124
        },
        "id": "JiCVYBn_7ppM",
        "outputId": "68dde6a4-e641-4962-9677-b6455be71e64"
      },
      "execution_count": null,
      "outputs": [
        {
          "output_type": "execute_result",
          "data": {
            "text/plain": [
              "Pipeline(steps=[('pca', PCA(n_components=15)),\n",
              "                ('lgbmclassifier', LGBMClassifier())])"
            ],
            "text/html": [
              "<style>#sk-0d4f89a0-e572-4628-b235-141b31fb7122 {color: black;background-color: white;}#sk-0d4f89a0-e572-4628-b235-141b31fb7122 pre{padding: 0;}#sk-0d4f89a0-e572-4628-b235-141b31fb7122 div.sk-toggleable {background-color: white;}#sk-0d4f89a0-e572-4628-b235-141b31fb7122 label.sk-toggleable__label {cursor: pointer;display: block;width: 100%;margin-bottom: 0;padding: 0.3em;box-sizing: border-box;text-align: center;}#sk-0d4f89a0-e572-4628-b235-141b31fb7122 label.sk-toggleable__label-arrow:before {content: \"▸\";float: left;margin-right: 0.25em;color: #696969;}#sk-0d4f89a0-e572-4628-b235-141b31fb7122 label.sk-toggleable__label-arrow:hover:before {color: black;}#sk-0d4f89a0-e572-4628-b235-141b31fb7122 div.sk-estimator:hover label.sk-toggleable__label-arrow:before {color: black;}#sk-0d4f89a0-e572-4628-b235-141b31fb7122 div.sk-toggleable__content {max-height: 0;max-width: 0;overflow: hidden;text-align: left;background-color: #f0f8ff;}#sk-0d4f89a0-e572-4628-b235-141b31fb7122 div.sk-toggleable__content pre {margin: 0.2em;color: black;border-radius: 0.25em;background-color: #f0f8ff;}#sk-0d4f89a0-e572-4628-b235-141b31fb7122 input.sk-toggleable__control:checked~div.sk-toggleable__content {max-height: 200px;max-width: 100%;overflow: auto;}#sk-0d4f89a0-e572-4628-b235-141b31fb7122 input.sk-toggleable__control:checked~label.sk-toggleable__label-arrow:before {content: \"▾\";}#sk-0d4f89a0-e572-4628-b235-141b31fb7122 div.sk-estimator input.sk-toggleable__control:checked~label.sk-toggleable__label {background-color: #d4ebff;}#sk-0d4f89a0-e572-4628-b235-141b31fb7122 div.sk-label input.sk-toggleable__control:checked~label.sk-toggleable__label {background-color: #d4ebff;}#sk-0d4f89a0-e572-4628-b235-141b31fb7122 input.sk-hidden--visually {border: 0;clip: rect(1px 1px 1px 1px);clip: rect(1px, 1px, 1px, 1px);height: 1px;margin: -1px;overflow: hidden;padding: 0;position: absolute;width: 1px;}#sk-0d4f89a0-e572-4628-b235-141b31fb7122 div.sk-estimator {font-family: monospace;background-color: #f0f8ff;border: 1px dotted black;border-radius: 0.25em;box-sizing: border-box;margin-bottom: 0.5em;}#sk-0d4f89a0-e572-4628-b235-141b31fb7122 div.sk-estimator:hover {background-color: #d4ebff;}#sk-0d4f89a0-e572-4628-b235-141b31fb7122 div.sk-parallel-item::after {content: \"\";width: 100%;border-bottom: 1px solid gray;flex-grow: 1;}#sk-0d4f89a0-e572-4628-b235-141b31fb7122 div.sk-label:hover label.sk-toggleable__label {background-color: #d4ebff;}#sk-0d4f89a0-e572-4628-b235-141b31fb7122 div.sk-serial::before {content: \"\";position: absolute;border-left: 1px solid gray;box-sizing: border-box;top: 2em;bottom: 0;left: 50%;}#sk-0d4f89a0-e572-4628-b235-141b31fb7122 div.sk-serial {display: flex;flex-direction: column;align-items: center;background-color: white;padding-right: 0.2em;padding-left: 0.2em;}#sk-0d4f89a0-e572-4628-b235-141b31fb7122 div.sk-item {z-index: 1;}#sk-0d4f89a0-e572-4628-b235-141b31fb7122 div.sk-parallel {display: flex;align-items: stretch;justify-content: center;background-color: white;}#sk-0d4f89a0-e572-4628-b235-141b31fb7122 div.sk-parallel::before {content: \"\";position: absolute;border-left: 1px solid gray;box-sizing: border-box;top: 2em;bottom: 0;left: 50%;}#sk-0d4f89a0-e572-4628-b235-141b31fb7122 div.sk-parallel-item {display: flex;flex-direction: column;position: relative;background-color: white;}#sk-0d4f89a0-e572-4628-b235-141b31fb7122 div.sk-parallel-item:first-child::after {align-self: flex-end;width: 50%;}#sk-0d4f89a0-e572-4628-b235-141b31fb7122 div.sk-parallel-item:last-child::after {align-self: flex-start;width: 50%;}#sk-0d4f89a0-e572-4628-b235-141b31fb7122 div.sk-parallel-item:only-child::after {width: 0;}#sk-0d4f89a0-e572-4628-b235-141b31fb7122 div.sk-dashed-wrapped {border: 1px dashed gray;margin: 0 0.4em 0.5em 0.4em;box-sizing: border-box;padding-bottom: 0.4em;background-color: white;position: relative;}#sk-0d4f89a0-e572-4628-b235-141b31fb7122 div.sk-label label {font-family: monospace;font-weight: bold;background-color: white;display: inline-block;line-height: 1.2em;}#sk-0d4f89a0-e572-4628-b235-141b31fb7122 div.sk-label-container {position: relative;z-index: 2;text-align: center;}#sk-0d4f89a0-e572-4628-b235-141b31fb7122 div.sk-container {/* jupyter's `normalize.less` sets `[hidden] { display: none; }` but bootstrap.min.css set `[hidden] { display: none !important; }` so we also need the `!important` here to be able to override the default hidden behavior on the sphinx rendered scikit-learn.org. See: https://github.com/scikit-learn/scikit-learn/issues/21755 */display: inline-block !important;position: relative;}#sk-0d4f89a0-e572-4628-b235-141b31fb7122 div.sk-text-repr-fallback {display: none;}</style><div id=\"sk-0d4f89a0-e572-4628-b235-141b31fb7122\" class=\"sk-top-container\"><div class=\"sk-text-repr-fallback\"><pre>Pipeline(steps=[(&#x27;pca&#x27;, PCA(n_components=15)),\n",
              "                (&#x27;lgbmclassifier&#x27;, LGBMClassifier())])</pre><b>Please rerun this cell to show the HTML repr or trust the notebook.</b></div><div class=\"sk-container\" hidden><div class=\"sk-item sk-dashed-wrapped\"><div class=\"sk-label-container\"><div class=\"sk-label sk-toggleable\"><input class=\"sk-toggleable__control sk-hidden--visually\" id=\"db1ce7ac-abfd-468a-a0f6-5743d6a7693c\" type=\"checkbox\" ><label for=\"db1ce7ac-abfd-468a-a0f6-5743d6a7693c\" class=\"sk-toggleable__label sk-toggleable__label-arrow\">Pipeline</label><div class=\"sk-toggleable__content\"><pre>Pipeline(steps=[(&#x27;pca&#x27;, PCA(n_components=15)),\n",
              "                (&#x27;lgbmclassifier&#x27;, LGBMClassifier())])</pre></div></div></div><div class=\"sk-serial\"><div class=\"sk-item\"><div class=\"sk-estimator sk-toggleable\"><input class=\"sk-toggleable__control sk-hidden--visually\" id=\"c2cacd82-1968-4788-ad84-6227aecca544\" type=\"checkbox\" ><label for=\"c2cacd82-1968-4788-ad84-6227aecca544\" class=\"sk-toggleable__label sk-toggleable__label-arrow\">PCA</label><div class=\"sk-toggleable__content\"><pre>PCA(n_components=15)</pre></div></div></div><div class=\"sk-item\"><div class=\"sk-estimator sk-toggleable\"><input class=\"sk-toggleable__control sk-hidden--visually\" id=\"526e69b6-5d71-47b2-a039-bffe1c57152b\" type=\"checkbox\" ><label for=\"526e69b6-5d71-47b2-a039-bffe1c57152b\" class=\"sk-toggleable__label sk-toggleable__label-arrow\">LGBMClassifier</label><div class=\"sk-toggleable__content\"><pre>LGBMClassifier()</pre></div></div></div></div></div></div></div>"
            ]
          },
          "metadata": {},
          "execution_count": 73
        }
      ]
    },
    {
      "cell_type": "code",
      "source": [
        "#Evalúe el modelo\n",
        "y_test = lgbm_pipe.predict(X_test)\n",
        "print('Training accuracy:', lgbm_pipe.score(X_train, y_train))\n",
        "print('Testing accuracy:', lgbm_pipe.score(X_test, y_test))"
      ],
      "metadata": {
        "colab": {
          "base_uri": "https://localhost:8080/"
        },
        "id": "tMyx-6ga78uV",
        "outputId": "a5125cbb-72cb-4ced-b54d-f4846971a11e"
      },
      "execution_count": null,
      "outputs": [
        {
          "output_type": "stream",
          "name": "stdout",
          "text": [
            "Training accuracy: 0.8391334408849965\n",
            "Testing accuracy: 1.0\n"
          ]
        }
      ]
    },
    {
      "cell_type": "code",
      "source": [
        "#Guarda las predicicones\n",
        "lgbm_preds = lgbm_pipe.predict(X_train)\n",
        "\n",
        "report_lgbm = classification_report(y_train, lgbm_preds)\n",
        "print(report_lgbm)"
      ],
      "metadata": {
        "colab": {
          "base_uri": "https://localhost:8080/"
        },
        "id": "plO7BVzV8BcB",
        "outputId": "34ae7968-eed1-4cfb-b6f0-ea20662d56a3"
      },
      "execution_count": null,
      "outputs": [
        {
          "output_type": "stream",
          "name": "stdout",
          "text": [
            "              precision    recall  f1-score   support\n",
            "\n",
            "           0       0.80      0.90      0.85      4315\n",
            "           1       0.88      0.78      0.83      4363\n",
            "\n",
            "    accuracy                           0.84      8678\n",
            "   macro avg       0.84      0.84      0.84      8678\n",
            "weighted avg       0.84      0.84      0.84      8678\n",
            "\n"
          ]
        }
      ]
    },
    {
      "cell_type": "code",
      "source": [
        "sns.reset_orig() \n",
        "cm_lgbm = confusion_matrix(y_train, lgbm_preds, labels = lgbm_pipe.classes_)\n",
        "disp_lgbm = ConfusionMatrixDisplay(confusion_matrix = cm_lgbm,\n",
        "                                   display_labels = lgbm_pipe.classes_)\n",
        "\n",
        "disp_lgbm.plot();"
      ],
      "metadata": {
        "colab": {
          "base_uri": "https://localhost:8080/",
          "height": 279
        },
        "id": "M9sxiXO48MOA",
        "outputId": "b08cfd0a-93db-41a1-f04c-ab5d0ab202ad"
      },
      "execution_count": null,
      "outputs": [
        {
          "output_type": "display_data",
          "data": {
            "text/plain": [
              "<Figure size 432x288 with 2 Axes>"
            ],
            "image/png": "[encoded data removed]"
          },
          "metadata": {
            "needs_background": "light"
          }
        }
      ]
    },
    {
      "cell_type": "markdown",
      "source": [
        "### **6. Gradient Boosting**"
      ],
      "metadata": {
        "id": "xzuHxOq48aEu"
      }
    },
    {
      "cell_type": "code",
      "source": [
        "# Instantiate and fit gradient boosting classifier\n",
        "gbc = GradientBoostingClassifier()\n",
        "\n",
        "# Create a modeling pipeline\n",
        "gbc_pipe = make_pipeline(pca15, gbc)\n",
        "\n",
        "gbc_pipe.fit(X_train, y_train)"
      ],
      "metadata": {
        "colab": {
          "base_uri": "https://localhost:8080/",
          "height": 124
        },
        "id": "e0Faq6M88WgT",
        "outputId": "4d7c63ca-45c0-4b01-f134-d3fe59153bfa"
      },
      "execution_count": null,
      "outputs": [
        {
          "output_type": "execute_result",
          "data": {
            "text/plain": [
              "Pipeline(steps=[('pca', PCA(n_components=15)),\n",
              "                ('gradientboostingclassifier', GradientBoostingClassifier())])"
            ],
            "text/html": [
              "<style>#sk-6d168761-8a69-4de7-80bb-14a0de102c4e {color: black;background-color: white;}#sk-6d168761-8a69-4de7-80bb-14a0de102c4e pre{padding: 0;}#sk-6d168761-8a69-4de7-80bb-14a0de102c4e div.sk-toggleable {background-color: white;}#sk-6d168761-8a69-4de7-80bb-14a0de102c4e label.sk-toggleable__label {cursor: pointer;display: block;width: 100%;margin-bottom: 0;padding: 0.3em;box-sizing: border-box;text-align: center;}#sk-6d168761-8a69-4de7-80bb-14a0de102c4e label.sk-toggleable__label-arrow:before {content: \"▸\";float: left;margin-right: 0.25em;color: #696969;}#sk-6d168761-8a69-4de7-80bb-14a0de102c4e label.sk-toggleable__label-arrow:hover:before {color: black;}#sk-6d168761-8a69-4de7-80bb-14a0de102c4e div.sk-estimator:hover label.sk-toggleable__label-arrow:before {color: black;}#sk-6d168761-8a69-4de7-80bb-14a0de102c4e div.sk-toggleable__content {max-height: 0;max-width: 0;overflow: hidden;text-align: left;background-color: #f0f8ff;}#sk-6d168761-8a69-4de7-80bb-14a0de102c4e div.sk-toggleable__content pre {margin: 0.2em;color: black;border-radius: 0.25em;background-color: #f0f8ff;}#sk-6d168761-8a69-4de7-80bb-14a0de102c4e input.sk-toggleable__control:checked~div.sk-toggleable__content {max-height: 200px;max-width: 100%;overflow: auto;}#sk-6d168761-8a69-4de7-80bb-14a0de102c4e input.sk-toggleable__control:checked~label.sk-toggleable__label-arrow:before {content: \"▾\";}#sk-6d168761-8a69-4de7-80bb-14a0de102c4e div.sk-estimator input.sk-toggleable__control:checked~label.sk-toggleable__label {background-color: #d4ebff;}#sk-6d168761-8a69-4de7-80bb-14a0de102c4e div.sk-label input.sk-toggleable__control:checked~label.sk-toggleable__label {background-color: #d4ebff;}#sk-6d168761-8a69-4de7-80bb-14a0de102c4e input.sk-hidden--visually {border: 0;clip: rect(1px 1px 1px 1px);clip: rect(1px, 1px, 1px, 1px);height: 1px;margin: -1px;overflow: hidden;padding: 0;position: absolute;width: 1px;}#sk-6d168761-8a69-4de7-80bb-14a0de102c4e div.sk-estimator {font-family: monospace;background-color: #f0f8ff;border: 1px dotted black;border-radius: 0.25em;box-sizing: border-box;margin-bottom: 0.5em;}#sk-6d168761-8a69-4de7-80bb-14a0de102c4e div.sk-estimator:hover {background-color: #d4ebff;}#sk-6d168761-8a69-4de7-80bb-14a0de102c4e div.sk-parallel-item::after {content: \"\";width: 100%;border-bottom: 1px solid gray;flex-grow: 1;}#sk-6d168761-8a69-4de7-80bb-14a0de102c4e div.sk-label:hover label.sk-toggleable__label {background-color: #d4ebff;}#sk-6d168761-8a69-4de7-80bb-14a0de102c4e div.sk-serial::before {content: \"\";position: absolute;border-left: 1px solid gray;box-sizing: border-box;top: 2em;bottom: 0;left: 50%;}#sk-6d168761-8a69-4de7-80bb-14a0de102c4e div.sk-serial {display: flex;flex-direction: column;align-items: center;background-color: white;padding-right: 0.2em;padding-left: 0.2em;}#sk-6d168761-8a69-4de7-80bb-14a0de102c4e div.sk-item {z-index: 1;}#sk-6d168761-8a69-4de7-80bb-14a0de102c4e div.sk-parallel {display: flex;align-items: stretch;justify-content: center;background-color: white;}#sk-6d168761-8a69-4de7-80bb-14a0de102c4e div.sk-parallel::before {content: \"\";position: absolute;border-left: 1px solid gray;box-sizing: border-box;top: 2em;bottom: 0;left: 50%;}#sk-6d168761-8a69-4de7-80bb-14a0de102c4e div.sk-parallel-item {display: flex;flex-direction: column;position: relative;background-color: white;}#sk-6d168761-8a69-4de7-80bb-14a0de102c4e div.sk-parallel-item:first-child::after {align-self: flex-end;width: 50%;}#sk-6d168761-8a69-4de7-80bb-14a0de102c4e div.sk-parallel-item:last-child::after {align-self: flex-start;width: 50%;}#sk-6d168761-8a69-4de7-80bb-14a0de102c4e div.sk-parallel-item:only-child::after {width: 0;}#sk-6d168761-8a69-4de7-80bb-14a0de102c4e div.sk-dashed-wrapped {border: 1px dashed gray;margin: 0 0.4em 0.5em 0.4em;box-sizing: border-box;padding-bottom: 0.4em;background-color: white;position: relative;}#sk-6d168761-8a69-4de7-80bb-14a0de102c4e div.sk-label label {font-family: monospace;font-weight: bold;background-color: white;display: inline-block;line-height: 1.2em;}#sk-6d168761-8a69-4de7-80bb-14a0de102c4e div.sk-label-container {position: relative;z-index: 2;text-align: center;}#sk-6d168761-8a69-4de7-80bb-14a0de102c4e div.sk-container {/* jupyter's `normalize.less` sets `[hidden] { display: none; }` but bootstrap.min.css set `[hidden] { display: none !important; }` so we also need the `!important` here to be able to override the default hidden behavior on the sphinx rendered scikit-learn.org. See: https://github.com/scikit-learn/scikit-learn/issues/21755 */display: inline-block !important;position: relative;}#sk-6d168761-8a69-4de7-80bb-14a0de102c4e div.sk-text-repr-fallback {display: none;}</style><div id=\"sk-6d168761-8a69-4de7-80bb-14a0de102c4e\" class=\"sk-top-container\"><div class=\"sk-text-repr-fallback\"><pre>Pipeline(steps=[(&#x27;pca&#x27;, PCA(n_components=15)),\n",
              "                (&#x27;gradientboostingclassifier&#x27;, GradientBoostingClassifier())])</pre><b>Please rerun this cell to show the HTML repr or trust the notebook.</b></div><div class=\"sk-container\" hidden><div class=\"sk-item sk-dashed-wrapped\"><div class=\"sk-label-container\"><div class=\"sk-label sk-toggleable\"><input class=\"sk-toggleable__control sk-hidden--visually\" id=\"620a3a5c-9f30-4f1b-8c75-2796744a472b\" type=\"checkbox\" ><label for=\"620a3a5c-9f30-4f1b-8c75-2796744a472b\" class=\"sk-toggleable__label sk-toggleable__label-arrow\">Pipeline</label><div class=\"sk-toggleable__content\"><pre>Pipeline(steps=[(&#x27;pca&#x27;, PCA(n_components=15)),\n",
              "                (&#x27;gradientboostingclassifier&#x27;, GradientBoostingClassifier())])</pre></div></div></div><div class=\"sk-serial\"><div class=\"sk-item\"><div class=\"sk-estimator sk-toggleable\"><input class=\"sk-toggleable__control sk-hidden--visually\" id=\"87714b86-7a4c-40c3-ae55-835d395682da\" type=\"checkbox\" ><label for=\"87714b86-7a4c-40c3-ae55-835d395682da\" class=\"sk-toggleable__label sk-toggleable__label-arrow\">PCA</label><div class=\"sk-toggleable__content\"><pre>PCA(n_components=15)</pre></div></div></div><div class=\"sk-item\"><div class=\"sk-estimator sk-toggleable\"><input class=\"sk-toggleable__control sk-hidden--visually\" id=\"e0909a72-c51d-4e89-9205-c60fe30b23c9\" type=\"checkbox\" ><label for=\"e0909a72-c51d-4e89-9205-c60fe30b23c9\" class=\"sk-toggleable__label sk-toggleable__label-arrow\">GradientBoostingClassifier</label><div class=\"sk-toggleable__content\"><pre>GradientBoostingClassifier()</pre></div></div></div></div></div></div></div>"
            ]
          },
          "metadata": {},
          "execution_count": 77
        }
      ]
    },
    {
      "cell_type": "code",
      "source": [
        "#Evalue el modelo\n",
        "y_test = gbc_pipe.predict(X_test)\n",
        "print('Training accuracy:', gbc_pipe.score(X_train, y_train))\n",
        "print('Testing accuracy:', gbc_pipe.score(X_test, y_test))"
      ],
      "metadata": {
        "colab": {
          "base_uri": "https://localhost:8080/"
        },
        "id": "1f08Nm1Y8l2z",
        "outputId": "ff0203f9-9f07-46f4-cd1b-d483d27ab3a5"
      },
      "execution_count": null,
      "outputs": [
        {
          "output_type": "stream",
          "name": "stdout",
          "text": [
            "Training accuracy: 0.7856648997464853\n",
            "Testing accuracy: 1.0\n"
          ]
        }
      ]
    },
    {
      "cell_type": "code",
      "source": [
        "#Guarda las predicicones\n",
        "gbc_preds = gbc_pipe.predict(X_train)\n",
        "\n",
        "report_gbc = classification_report(y_train, gbc_preds)\n",
        "print(report_gbc)"
      ],
      "metadata": {
        "colab": {
          "base_uri": "https://localhost:8080/"
        },
        "id": "qaKmreT_8pwm",
        "outputId": "2bafa4b4-a4e5-4b65-928e-7debdd28a1a6"
      },
      "execution_count": null,
      "outputs": [
        {
          "output_type": "stream",
          "name": "stdout",
          "text": [
            "              precision    recall  f1-score   support\n",
            "\n",
            "           0       0.75      0.85      0.80      4315\n",
            "           1       0.83      0.73      0.77      4363\n",
            "\n",
            "    accuracy                           0.79      8678\n",
            "   macro avg       0.79      0.79      0.79      8678\n",
            "weighted avg       0.79      0.79      0.78      8678\n",
            "\n"
          ]
        }
      ]
    },
    {
      "cell_type": "code",
      "source": [
        "sns.reset_orig() \n",
        "cm_gbc = confusion_matrix(y_train, gbc_preds, labels = gbc_pipe.classes_)\n",
        "disp_gbc = ConfusionMatrixDisplay(confusion_matrix = cm_gbc,\n",
        "                                   display_labels = gbc_pipe.classes_)\n",
        "\n",
        "disp_gbc.plot();"
      ],
      "metadata": {
        "colab": {
          "base_uri": "https://localhost:8080/",
          "height": 279
        },
        "id": "1cbwrQ3e8yJz",
        "outputId": "0294b3a5-c5f5-431d-a063-eb45d8dec6b6"
      },
      "execution_count": null,
      "outputs": [
        {
          "output_type": "display_data",
          "data": {
            "text/plain": [
              "<Figure size 432x288 with 2 Axes>"
            ],
            "image/png": "[encoded data removed]"
          },
          "metadata": {
            "needs_background": "light"
          }
        }
      ]
    },
    {
      "cell_type": "markdown",
      "source": [
        "### **Modelo de Deep Learning**"
      ],
      "metadata": {
        "id": "IBY426po89A8"
      }
    },
    {
      "cell_type": "code",
      "source": [
        "input_shape = X_train.shape[1]\n",
        "input_shape"
      ],
      "metadata": {
        "colab": {
          "base_uri": "https://localhost:8080/"
        },
        "id": "ziB0ysXC87u3",
        "outputId": "51a791d1-38ad-4ac8-91b1-a30d83a213f5"
      },
      "execution_count": null,
      "outputs": [
        {
          "output_type": "execute_result",
          "data": {
            "text/plain": [
              "1844"
            ]
          },
          "metadata": {},
          "execution_count": 83
        }
      ]
    },
    {
      "cell_type": "code",
      "source": [
        "#Define el tipo de modelo\n",
        "model = Sequential()\n",
        "\n",
        "#Capas ocultas\n",
        "# Primera\n",
        "model.add(Dense(1844, \n",
        "                input_dim = input_shape, \n",
        "                activation = 'relu')) \n",
        "\n",
        "# Segunda\n",
        "model.add(Dense(1024, \n",
        "                activation = 'relu')) \n",
        "\n",
        "# Tercera\n",
        "model.add(Dense(512, \n",
        "                activation = 'relu')) \n",
        "\n",
        "# Cuarta\n",
        "model.add(Dense(256, \n",
        "                activation = 'relu')) \n",
        "\n",
        "# Quinta\n",
        "model.add(Dense(128, \n",
        "                activation = 'relu')) \n",
        "\n",
        "# Sexta\n",
        "model.add(Dense(64, \n",
        "                activation = 'relu')) \n",
        "\n",
        "#Capa de salida\n",
        "model.add(Dense(1, activation = 'sigmoid'))"
      ],
      "metadata": {
        "id": "5JzZAHxd9OqG"
      },
      "execution_count": null,
      "outputs": []
    },
    {
      "cell_type": "code",
      "source": [
        "model.compile(loss = 'bce', optimizer = 'adam', metrics = [\"accuracy\"])\n",
        "\n",
        "#early_stopping = EarlyStopping(patience = 5)\n",
        "\n",
        "history = model.fit(X_train, y_train,\n",
        "                    validation_data = (X_test, y_test),\n",
        "                    epochs = 100)#, callbacks = [early_stopping])\n"
      ],
      "metadata": {
        "colab": {
          "base_uri": "https://localhost:8080/"
        },
        "id": "ol24g4yp91gI",
        "outputId": "276ec315-441d-4e7b-d15c-606ba459dc2a"
      },
      "execution_count": null,
      "outputs": [
        {
          "output_type": "stream",
          "name": "stdout",
          "text": [
            "Epoch 1/100\n",
            "272/272 [==============================] - 17s 55ms/step - loss: 0.5162 - accuracy: 0.7493 - val_loss: 0.4171 - val_accuracy: 0.8924\n",
            "Epoch 2/100\n",
            "272/272 [==============================] - 15s 55ms/step - loss: 0.4304 - accuracy: 0.7947 - val_loss: 0.3016 - val_accuracy: 0.9180\n",
            "Epoch 3/100\n",
            "272/272 [==============================] - 14s 52ms/step - loss: 0.3087 - accuracy: 0.8617 - val_loss: 0.4722 - val_accuracy: 0.7672\n",
            "Epoch 4/100\n",
            "272/272 [==============================] - 15s 54ms/step - loss: 0.1874 - accuracy: 0.9201 - val_loss: 0.4909 - val_accuracy: 0.7700\n",
            "Epoch 5/100\n",
            "272/272 [==============================] - 14s 53ms/step - loss: 0.1210 - accuracy: 0.9501 - val_loss: 0.5768 - val_accuracy: 0.7614\n",
            "Epoch 6/100\n",
            "272/272 [==============================] - 14s 52ms/step - loss: 0.0880 - accuracy: 0.9654 - val_loss: 0.7408 - val_accuracy: 0.7588\n",
            "Epoch 7/100\n",
            "272/272 [==============================] - 14s 52ms/step - loss: 0.0644 - accuracy: 0.9727 - val_loss: 1.0951 - val_accuracy: 0.7590\n",
            "Epoch 8/100\n",
            "272/272 [==============================] - 14s 52ms/step - loss: 0.0572 - accuracy: 0.9765 - val_loss: 0.9534 - val_accuracy: 0.7700\n",
            "Epoch 9/100\n",
            "272/272 [==============================] - 16s 58ms/step - loss: 0.0496 - accuracy: 0.9759 - val_loss: 0.7686 - val_accuracy: 0.7672\n",
            "Epoch 10/100\n",
            "272/272 [==============================] - 20s 74ms/step - loss: 0.0649 - accuracy: 0.9759 - val_loss: 1.0962 - val_accuracy: 0.7698\n",
            "Epoch 11/100\n",
            "272/272 [==============================] - 15s 54ms/step - loss: 0.0428 - accuracy: 0.9801 - val_loss: 0.7706 - val_accuracy: 0.8108\n",
            "Epoch 12/100\n",
            "272/272 [==============================] - 14s 52ms/step - loss: 0.0402 - accuracy: 0.9827 - val_loss: 0.6242 - val_accuracy: 0.7893\n",
            "Epoch 13/100\n",
            "272/272 [==============================] - 14s 53ms/step - loss: 0.0373 - accuracy: 0.9832 - val_loss: 1.3436 - val_accuracy: 0.7431\n",
            "Epoch 14/100\n",
            "272/272 [==============================] - 14s 52ms/step - loss: 0.0357 - accuracy: 0.9820 - val_loss: 1.1621 - val_accuracy: 0.7705\n",
            "Epoch 15/100\n",
            "272/272 [==============================] - 14s 53ms/step - loss: 0.0321 - accuracy: 0.9833 - val_loss: 1.3206 - val_accuracy: 0.7414\n",
            "Epoch 16/100\n",
            "272/272 [==============================] - 15s 55ms/step - loss: 0.0359 - accuracy: 0.9833 - val_loss: 1.1139 - val_accuracy: 0.7513\n",
            "Epoch 17/100\n",
            "272/272 [==============================] - 14s 53ms/step - loss: 0.0319 - accuracy: 0.9856 - val_loss: 0.8497 - val_accuracy: 0.7921\n",
            "Epoch 18/100\n",
            "272/272 [==============================] - 14s 52ms/step - loss: 0.0381 - accuracy: 0.9841 - val_loss: 0.8597 - val_accuracy: 0.7766\n",
            "Epoch 19/100\n",
            "272/272 [==============================] - 15s 54ms/step - loss: 0.0279 - accuracy: 0.9862 - val_loss: 1.1646 - val_accuracy: 0.7302\n",
            "Epoch 20/100\n",
            "272/272 [==============================] - 17s 64ms/step - loss: 0.0381 - accuracy: 0.9805 - val_loss: 1.0828 - val_accuracy: 0.7454\n",
            "Epoch 21/100\n",
            "272/272 [==============================] - 17s 64ms/step - loss: 0.0322 - accuracy: 0.9839 - val_loss: 1.0932 - val_accuracy: 0.7485\n",
            "Epoch 22/100\n",
            "272/272 [==============================] - 14s 53ms/step - loss: 0.0325 - accuracy: 0.9856 - val_loss: 1.1045 - val_accuracy: 0.7536\n",
            "Epoch 23/100\n",
            "272/272 [==============================] - 14s 53ms/step - loss: 0.0261 - accuracy: 0.9874 - val_loss: 0.9863 - val_accuracy: 0.8104\n",
            "Epoch 24/100\n",
            "272/272 [==============================] - 14s 52ms/step - loss: 0.0344 - accuracy: 0.9872 - val_loss: 1.2384 - val_accuracy: 0.7356\n",
            "Epoch 25/100\n",
            "272/272 [==============================] - 14s 53ms/step - loss: 0.0332 - accuracy: 0.9857 - val_loss: 1.1041 - val_accuracy: 0.7515\n",
            "Epoch 26/100\n",
            "272/272 [==============================] - 14s 52ms/step - loss: 0.0273 - accuracy: 0.9867 - val_loss: 1.0554 - val_accuracy: 0.7726\n",
            "Epoch 27/100\n",
            "272/272 [==============================] - 14s 52ms/step - loss: 0.0265 - accuracy: 0.9861 - val_loss: 2.0929 - val_accuracy: 0.7264\n",
            "Epoch 28/100\n",
            "272/272 [==============================] - 14s 52ms/step - loss: 0.0279 - accuracy: 0.9866 - val_loss: 1.1871 - val_accuracy: 0.7536\n",
            "Epoch 29/100\n",
            "272/272 [==============================] - 14s 52ms/step - loss: 0.0208 - accuracy: 0.9873 - val_loss: 1.4537 - val_accuracy: 0.7632\n",
            "Epoch 30/100\n",
            "272/272 [==============================] - 17s 64ms/step - loss: 0.0205 - accuracy: 0.9887 - val_loss: 1.7445 - val_accuracy: 0.7372\n",
            "Epoch 31/100\n",
            "272/272 [==============================] - 18s 65ms/step - loss: 0.0261 - accuracy: 0.9879 - val_loss: 0.8919 - val_accuracy: 0.7579\n",
            "Epoch 32/100\n",
            "272/272 [==============================] - 14s 53ms/step - loss: 0.0338 - accuracy: 0.9861 - val_loss: 1.0629 - val_accuracy: 0.7647\n",
            "Epoch 33/100\n",
            "272/272 [==============================] - 14s 53ms/step - loss: 0.0319 - accuracy: 0.9865 - val_loss: 1.7354 - val_accuracy: 0.7534\n",
            "Epoch 34/100\n",
            "272/272 [==============================] - 14s 53ms/step - loss: 0.0272 - accuracy: 0.9891 - val_loss: 1.2423 - val_accuracy: 0.7489\n",
            "Epoch 35/100\n",
            "272/272 [==============================] - 14s 53ms/step - loss: 0.0301 - accuracy: 0.9861 - val_loss: 1.0439 - val_accuracy: 0.7729\n",
            "Epoch 36/100\n",
            "272/272 [==============================] - 14s 53ms/step - loss: 0.0231 - accuracy: 0.9887 - val_loss: 1.3237 - val_accuracy: 0.7349\n",
            "Epoch 37/100\n",
            "272/272 [==============================] - 14s 53ms/step - loss: 0.0231 - accuracy: 0.9892 - val_loss: 1.2318 - val_accuracy: 0.7426\n",
            "Epoch 38/100\n",
            "272/272 [==============================] - 14s 53ms/step - loss: 0.0227 - accuracy: 0.9880 - val_loss: 1.4357 - val_accuracy: 0.7691\n",
            "Epoch 39/100\n",
            "272/272 [==============================] - 14s 53ms/step - loss: 0.0374 - accuracy: 0.9850 - val_loss: 1.3304 - val_accuracy: 0.7358\n",
            "Epoch 40/100\n",
            "272/272 [==============================] - 17s 62ms/step - loss: 0.0228 - accuracy: 0.9887 - val_loss: 1.2048 - val_accuracy: 0.7548\n",
            "Epoch 41/100\n",
            "272/272 [==============================] - 18s 66ms/step - loss: 0.0211 - accuracy: 0.9889 - val_loss: 1.2744 - val_accuracy: 0.7569\n",
            "Epoch 42/100\n",
            "272/272 [==============================] - 14s 53ms/step - loss: 0.0209 - accuracy: 0.9885 - val_loss: 1.5798 - val_accuracy: 0.7675\n",
            "Epoch 43/100\n",
            "272/272 [==============================] - 14s 53ms/step - loss: 0.0207 - accuracy: 0.9892 - val_loss: 1.4421 - val_accuracy: 0.7670\n",
            "Epoch 44/100\n",
            "272/272 [==============================] - 14s 53ms/step - loss: 0.0207 - accuracy: 0.9889 - val_loss: 1.5697 - val_accuracy: 0.7846\n",
            "Epoch 45/100\n",
            "272/272 [==============================] - 14s 53ms/step - loss: 0.0354 - accuracy: 0.9864 - val_loss: 1.4696 - val_accuracy: 0.7529\n",
            "Epoch 46/100\n",
            "272/272 [==============================] - 15s 53ms/step - loss: 0.0235 - accuracy: 0.9893 - val_loss: 1.7429 - val_accuracy: 0.7309\n",
            "Epoch 47/100\n",
            "272/272 [==============================] - 15s 54ms/step - loss: 0.0203 - accuracy: 0.9893 - val_loss: 1.4106 - val_accuracy: 0.7075\n",
            "Epoch 48/100\n",
            "272/272 [==============================] - 14s 53ms/step - loss: 0.0442 - accuracy: 0.9832 - val_loss: 1.6950 - val_accuracy: 0.6545\n",
            "Epoch 49/100\n",
            "272/272 [==============================] - 14s 53ms/step - loss: 0.0286 - accuracy: 0.9884 - val_loss: 1.1302 - val_accuracy: 0.7389\n",
            "Epoch 50/100\n",
            "272/272 [==============================] - 14s 53ms/step - loss: 0.0223 - accuracy: 0.9896 - val_loss: 1.7312 - val_accuracy: 0.7525\n",
            "Epoch 51/100\n",
            "272/272 [==============================] - 19s 71ms/step - loss: 0.0268 - accuracy: 0.9873 - val_loss: 2.5117 - val_accuracy: 0.7093\n",
            "Epoch 52/100\n",
            "272/272 [==============================] - 16s 58ms/step - loss: 0.0237 - accuracy: 0.9894 - val_loss: 1.7438 - val_accuracy: 0.7236\n",
            "Epoch 53/100\n",
            "272/272 [==============================] - 14s 53ms/step - loss: 0.0189 - accuracy: 0.9904 - val_loss: 1.5276 - val_accuracy: 0.7386\n",
            "Epoch 54/100\n",
            "272/272 [==============================] - 14s 53ms/step - loss: 0.0179 - accuracy: 0.9906 - val_loss: 1.7133 - val_accuracy: 0.7550\n",
            "Epoch 55/100\n",
            "272/272 [==============================] - 14s 53ms/step - loss: 0.0178 - accuracy: 0.9907 - val_loss: 1.5221 - val_accuracy: 0.7658\n",
            "Epoch 56/100\n",
            "272/272 [==============================] - 14s 52ms/step - loss: 0.0180 - accuracy: 0.9909 - val_loss: 1.5118 - val_accuracy: 0.7536\n",
            "Epoch 57/100\n",
            "272/272 [==============================] - 14s 53ms/step - loss: 0.0178 - accuracy: 0.9916 - val_loss: 1.2982 - val_accuracy: 0.7597\n",
            "Epoch 58/100\n",
            "272/272 [==============================] - 14s 53ms/step - loss: 0.0179 - accuracy: 0.9916 - val_loss: 1.6534 - val_accuracy: 0.6946\n",
            "Epoch 59/100\n",
            "272/272 [==============================] - 14s 53ms/step - loss: 0.0243 - accuracy: 0.9893 - val_loss: 1.3104 - val_accuracy: 0.7060\n",
            "Epoch 60/100\n",
            "272/272 [==============================] - 14s 53ms/step - loss: 0.0221 - accuracy: 0.9882 - val_loss: 1.1264 - val_accuracy: 0.7407\n",
            "Epoch 61/100\n",
            "272/272 [==============================] - 14s 53ms/step - loss: 0.0279 - accuracy: 0.9897 - val_loss: 1.2935 - val_accuracy: 0.7902\n",
            "Epoch 62/100\n",
            "272/272 [==============================] - 15s 54ms/step - loss: 0.0188 - accuracy: 0.9906 - val_loss: 1.7448 - val_accuracy: 0.7759\n",
            "Epoch 63/100\n",
            "272/272 [==============================] - 15s 54ms/step - loss: 0.0181 - accuracy: 0.9909 - val_loss: 1.9814 - val_accuracy: 0.7211\n",
            "Epoch 64/100\n",
            "272/272 [==============================] - 14s 53ms/step - loss: 0.0220 - accuracy: 0.9908 - val_loss: 1.7435 - val_accuracy: 0.7534\n",
            "Epoch 65/100\n",
            "272/272 [==============================] - 21s 77ms/step - loss: 0.0250 - accuracy: 0.9888 - val_loss: 1.5955 - val_accuracy: 0.7754\n",
            "Epoch 66/100\n",
            "272/272 [==============================] - 14s 53ms/step - loss: 0.0219 - accuracy: 0.9892 - val_loss: 1.5050 - val_accuracy: 0.7318\n",
            "Epoch 67/100\n",
            "272/272 [==============================] - 14s 53ms/step - loss: 0.0191 - accuracy: 0.9912 - val_loss: 1.2692 - val_accuracy: 0.7782\n",
            "Epoch 68/100\n",
            "272/272 [==============================] - 15s 53ms/step - loss: 0.0167 - accuracy: 0.9914 - val_loss: 1.4707 - val_accuracy: 0.7440\n",
            "Epoch 69/100\n",
            "272/272 [==============================] - 14s 53ms/step - loss: 0.0162 - accuracy: 0.9915 - val_loss: 1.9816 - val_accuracy: 0.7501\n",
            "Epoch 70/100\n",
            "272/272 [==============================] - 15s 53ms/step - loss: 0.0162 - accuracy: 0.9923 - val_loss: 2.1515 - val_accuracy: 0.7574\n",
            "Epoch 71/100\n",
            "272/272 [==============================] - 15s 53ms/step - loss: 0.0162 - accuracy: 0.9922 - val_loss: 1.5983 - val_accuracy: 0.7377\n",
            "Epoch 72/100\n",
            "272/272 [==============================] - 14s 53ms/step - loss: 0.0160 - accuracy: 0.9918 - val_loss: 1.3235 - val_accuracy: 0.7452\n",
            "Epoch 73/100\n",
            "272/272 [==============================] - 14s 53ms/step - loss: 0.0202 - accuracy: 0.9922 - val_loss: 1.9984 - val_accuracy: 0.7039\n",
            "Epoch 74/100\n",
            "272/272 [==============================] - 14s 53ms/step - loss: 0.0274 - accuracy: 0.9880 - val_loss: 1.2765 - val_accuracy: 0.7789\n",
            "Epoch 75/100\n",
            "272/272 [==============================] - 14s 53ms/step - loss: 0.0208 - accuracy: 0.9910 - val_loss: 1.1549 - val_accuracy: 0.7262\n",
            "Epoch 76/100\n",
            "272/272 [==============================] - 14s 53ms/step - loss: 0.0169 - accuracy: 0.9912 - val_loss: 1.3807 - val_accuracy: 0.7438\n",
            "Epoch 77/100\n",
            "272/272 [==============================] - 14s 53ms/step - loss: 0.0170 - accuracy: 0.9923 - val_loss: 1.4836 - val_accuracy: 0.7220\n",
            "Epoch 78/100\n",
            "272/272 [==============================] - 19s 71ms/step - loss: 0.0159 - accuracy: 0.9927 - val_loss: 1.5550 - val_accuracy: 0.7515\n",
            "Epoch 79/100\n",
            "272/272 [==============================] - 16s 59ms/step - loss: 0.0149 - accuracy: 0.9914 - val_loss: 1.2061 - val_accuracy: 0.7468\n",
            "Epoch 80/100\n",
            "272/272 [==============================] - 14s 52ms/step - loss: 0.0161 - accuracy: 0.9918 - val_loss: 1.0693 - val_accuracy: 0.7562\n",
            "Epoch 81/100\n",
            "272/272 [==============================] - 14s 53ms/step - loss: 0.0168 - accuracy: 0.9927 - val_loss: 1.5321 - val_accuracy: 0.7452\n",
            "Epoch 82/100\n",
            "272/272 [==============================] - 14s 53ms/step - loss: 0.0228 - accuracy: 0.9902 - val_loss: 1.4288 - val_accuracy: 0.7532\n",
            "Epoch 83/100\n",
            "272/272 [==============================] - 14s 53ms/step - loss: 0.0250 - accuracy: 0.9909 - val_loss: 1.7610 - val_accuracy: 0.7192\n",
            "Epoch 84/100\n",
            "272/272 [==============================] - 14s 53ms/step - loss: 0.0216 - accuracy: 0.9906 - val_loss: 1.3295 - val_accuracy: 0.7504\n",
            "Epoch 85/100\n",
            "272/272 [==============================] - 14s 53ms/step - loss: 0.0176 - accuracy: 0.9900 - val_loss: 1.6345 - val_accuracy: 0.7349\n",
            "Epoch 86/100\n",
            "272/272 [==============================] - 15s 53ms/step - loss: 0.0159 - accuracy: 0.9924 - val_loss: 0.8491 - val_accuracy: 0.7426\n",
            "Epoch 87/100\n",
            "272/272 [==============================] - 14s 53ms/step - loss: 0.0154 - accuracy: 0.9925 - val_loss: 2.1771 - val_accuracy: 0.7405\n",
            "Epoch 88/100\n",
            "272/272 [==============================] - 14s 53ms/step - loss: 0.0161 - accuracy: 0.9915 - val_loss: 1.5013 - val_accuracy: 0.7414\n",
            "Epoch 89/100\n",
            "272/272 [==============================] - 14s 53ms/step - loss: 0.0156 - accuracy: 0.9918 - val_loss: 1.6777 - val_accuracy: 0.7731\n",
            "Epoch 90/100\n",
            "272/272 [==============================] - 14s 53ms/step - loss: 0.0141 - accuracy: 0.9917 - val_loss: 2.0287 - val_accuracy: 0.7255\n",
            "Epoch 91/100\n",
            "272/272 [==============================] - 14s 53ms/step - loss: 0.0195 - accuracy: 0.9922 - val_loss: 1.5171 - val_accuracy: 0.7290\n",
            "Epoch 92/100\n",
            "272/272 [==============================] - 16s 58ms/step - loss: 0.0201 - accuracy: 0.9914 - val_loss: 1.4206 - val_accuracy: 0.7541\n",
            "Epoch 93/100\n",
            "272/272 [==============================] - 20s 73ms/step - loss: 0.0157 - accuracy: 0.9915 - val_loss: 1.6791 - val_accuracy: 0.7466\n",
            "Epoch 94/100\n",
            "272/272 [==============================] - 14s 53ms/step - loss: 0.0155 - accuracy: 0.9922 - val_loss: 1.8490 - val_accuracy: 0.7290\n",
            "Epoch 95/100\n",
            "272/272 [==============================] - 14s 53ms/step - loss: 0.0150 - accuracy: 0.9923 - val_loss: 1.9134 - val_accuracy: 0.7004\n",
            "Epoch 96/100\n",
            "272/272 [==============================] - 14s 53ms/step - loss: 0.0301 - accuracy: 0.9900 - val_loss: 1.3672 - val_accuracy: 0.7773\n",
            "Epoch 97/100\n",
            "272/272 [==============================] - 14s 53ms/step - loss: 0.0170 - accuracy: 0.9917 - val_loss: 1.2800 - val_accuracy: 0.7665\n",
            "Epoch 98/100\n",
            "272/272 [==============================] - 14s 53ms/step - loss: 0.0167 - accuracy: 0.9923 - val_loss: 1.0920 - val_accuracy: 0.7506\n",
            "Epoch 99/100\n",
            "272/272 [==============================] - 14s 53ms/step - loss: 0.0138 - accuracy: 0.9930 - val_loss: 1.8877 - val_accuracy: 0.7553\n",
            "Epoch 100/100\n",
            "272/272 [==============================] - 14s 53ms/step - loss: 0.0136 - accuracy: 0.9924 - val_loss: 1.6212 - val_accuracy: 0.7426\n"
          ]
        }
      ]
    },
    {
      "cell_type": "code",
      "source": [],
      "metadata": {
        "id": "XNrbf6o6-GQs"
      },
      "execution_count": null,
      "outputs": []
    }
  ]
}