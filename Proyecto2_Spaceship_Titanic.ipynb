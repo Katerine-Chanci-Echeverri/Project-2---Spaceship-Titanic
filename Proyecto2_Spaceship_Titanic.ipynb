{
  "nbformat": 4,
  "nbformat_minor": 0,
  "metadata": {
    "colab": {
      "provenance": [],
      "mount_file_id": "1_qmyHmRFA-GvQMyjDuY77AWTQ_YMX6xR",
      "authorship_tag": "ABX9TyNUVAIKqfLXvq9y9ZmcoFL7",
      "include_colab_link": true
    },
    "kernelspec": {
      "name": "python3",
      "display_name": "Python 3"
    },
    "language_info": {
      "name": "python"
    }
  },
  "cells": [
    {
      "cell_type": "markdown",
      "metadata": {
        "id": "view-in-github",
        "colab_type": "text"
      },
      "source": [
        "<a href=\"https://colab.research.google.com/github/Katerine-Chanci-Echeverri/Project-2---Spaceship-Titanic/blob/main/Proyecto2_Spaceship_Titanic.ipynb\" target=\"_parent\"><img src=\"https://colab.research.google.com/assets/colab-badge.svg\" alt=\"Open In Colab\"/></a>"
      ]
    },
    {
      "cell_type": "markdown",
      "source": [
        "# **Proyecto 2 - Parte 1 (base)**\n",
        "\n",
        "## **Datos personales**\n",
        "\n",
        "*   **Nombre:** Katerine Chancí Echeverri\n",
        "*   **ID Coding Dojo:** 80837\n",
        "*   **Track:** Machine Learning\n"
      ],
      "metadata": {
        "id": "M9_ux1HE9Gey"
      }
    },
    {
      "cell_type": "markdown",
      "source": [
        "## **Descripción del problema**\n",
        "\n",
        "Welcome to the year 2912, where your data science skills are needed to solve a cosmic mystery. We've received a transmission from four lightyears away and things aren't looking good.\n",
        "\n",
        "The Spaceship Titanic was an interstellar passenger liner launched a month ago. With almost 13,000 passengers on board, the vessel set out on its maiden voyage transporting emigrants from our solar system to three newly habitable exoplanets orbiting nearby stars.\n",
        "\n",
        "While rounding Alpha Centauri en route to its first destination—the torrid 55 Cancri E—the unwary Spaceship Titanic collided with a spacetime anomaly hidden within a dust cloud. Sadly, it met a similar fate as its namesake from 1000 years before. Though the ship stayed intact, almost half of the passengers were transported to an alternate dimension!\n",
        "\n",
        "To help rescue crews and retrieve the lost passengers, you are challenged to predict which passengers were transported by the anomaly using records recovered from the spaceship’s damaged computer system."
      ],
      "metadata": {
        "id": "X-a_-bo19Pv5"
      }
    },
    {
      "cell_type": "markdown",
      "source": [
        "## **Descripción del conjunto de datos**\n",
        "\n",
        "| Column                                            | Description                                                                                                                                                                                                                       |\n",
        "|---------------------------------------------------|-----------------------------------------------------------------------------------------------------------------------------------------------------------------------------------------------------------------------------------|\n",
        "| PassengerId                                       | A unique Id for each passenger. Each Id takes the form gggg_pp where gggg indicates a group the passenger is travelling with and pp is their number within the group. People in a group are often family members, but not always. |\n",
        "| HomePlanet                                        | The planet the passenger departed from, typically their planet of permanent residence.                                                                                                                                            |\n",
        "| CryoSleep                                         | Indicates whether the passenger elected to be put into suspended animation for the duration of the voyage. Passengers in cryosleep are confined to their cabins.                                                                  |\n",
        "| Cabin                                             | The cabin number where the passenger is staying. Takes the form deck/num/side, where side can be either P for Port or S for Starboard.                                                                                            |\n",
        "| Destination                                       | The planet the passenger will be debarking to.                                                                                                                                                                                    |\n",
        "| Age                                               | The age of the passenger.                                                                                                                                                                                                         |\n",
        "| VIP                                               | Whether the passenger has paid for special VIP service during the voyage.                                                                                                                                                         |\n",
        "| RoomService, FoodCourt, ShoppingMall, Spa, VRDeck | Amount the passenger has billed at each of the Spaceship Titanic's many luxury amenities.                                                                                                                                         |\n",
        "| Name                                              | The first and last names of the passenger.                                                                                                                                                                                        |\n",
        "| Transported                                       | Whether the passenger was transported to another dimension. This is the target, the column you are trying to predict.                                                                                                             |\n"
      ],
      "metadata": {
        "id": "Xc4rA5Vn_qc5"
      }
    },
    {
      "cell_type": "markdown",
      "source": [
        "## **Tarea 1**\n",
        "\n",
        "Para esta tarea:\n",
        "\n",
        "Creen un cuaderno de Colab donde hayan subido y mostrado el .head() de cada uno de los conjuntos de datos.  Para cada uno de los conjuntos de datos propuestos, respondan las siguientes preguntas:\n",
        "\n",
        "\n",
        "1) Fuente de datos.\n",
        "\n",
        "2) Breve descripción de datos.\n",
        "\n",
        "3) ¿Cuál es el objetivo?\n",
        "\n",
        "4) ¿Este es un problema de clasificación o regresión?\n",
        "\n",
        "5) ¿Cuántas características hay?\n",
        "\n",
        "6) ¿Cuántas filas de datos hay?\n",
        "\n",
        "7) ¿Qué retos, si es que hay alguno, prevén en la limpieza, exploración o modelización con este conjunto de datos?"
      ],
      "metadata": {
        "id": "rUaWjmfpAA64"
      }
    },
    {
      "cell_type": "markdown",
      "source": [
        "## **Solución**\n"
      ],
      "metadata": {
        "id": "rSJrQxZeAQXJ"
      }
    },
    {
      "cell_type": "markdown",
      "source": [
        "### **Importar librerías**"
      ],
      "metadata": {
        "id": "YS1yCu1FAUfo"
      }
    },
    {
      "cell_type": "code",
      "execution_count": 43,
      "metadata": {
        "id": "z-SpRxaA2dNh"
      },
      "outputs": [],
      "source": [
        "from google.colab import drive\n",
        "import pandas as pd\n",
        "import numpy as np\n",
        "import seaborn as sns\n",
        "import matplotlib.pyplot as plt\n",
        "from dython import nominal\n",
        "from sklearn.preprocessing import StandardScaler, OneHotEncoder\n",
        "from sklearn.impute import SimpleImputer\n",
        "from sklearn.compose import make_column_transformer, make_column_selector\n",
        "from sklearn.pipeline import make_pipeline\n",
        "from sklearn.model_selection import train_test_split\n",
        "from sklearn.tree import DecisionTreeClassifier\n",
        "from sklearn.neighbors import KNeighborsClassifier\n",
        "from sklearn.ensemble import BaggingClassifier\n",
        "from sklearn.ensemble import RandomForestClassifier\n",
        "from sklearn.linear_model import LogisticRegression\n",
        "from sklearn.metrics import accuracy_score, precision_score, recall_score, classification_report, ConfusionMatrixDisplay\n",
        "from sklearn.metrics import confusion_matrix\n",
        "from sklearn.metrics import roc_auc_score, RocCurveDisplay\n",
        "from sklearn import set_config\n",
        "set_config(display='diagram')"
      ]
    },
    {
      "cell_type": "markdown",
      "source": [
        "### **Cargar el conjunto de datos**"
      ],
      "metadata": {
        "id": "6sw4hl52AbdQ"
      }
    },
    {
      "cell_type": "code",
      "source": [
        "drive.mount(\"/content/drive\")\n",
        "train = \"/content/drive/MyDrive/Colab Notebooks/Coding Dojo 🐉/Proyecto 2/train.csv\"\n",
        "train_df = pd.read_csv(train)\n",
        "train_df.head()"
      ],
      "metadata": {
        "colab": {
          "base_uri": "https://localhost:8080/",
          "height": 374
        },
        "id": "eSbAybO_AZ1R",
        "outputId": "6a79a32e-a2f9-434d-c368-855b3a02943a"
      },
      "execution_count": 2,
      "outputs": [
        {
          "output_type": "stream",
          "name": "stdout",
          "text": [
            "Drive already mounted at /content/drive; to attempt to forcibly remount, call drive.mount(\"/content/drive\", force_remount=True).\n"
          ]
        },
        {
          "output_type": "execute_result",
          "data": {
            "text/plain": [
              "  PassengerId HomePlanet CryoSleep  Cabin  Destination   Age    VIP  \\\n",
              "0     0001_01     Europa     False  B/0/P  TRAPPIST-1e  39.0  False   \n",
              "1     0002_01      Earth     False  F/0/S  TRAPPIST-1e  24.0  False   \n",
              "2     0003_01     Europa     False  A/0/S  TRAPPIST-1e  58.0   True   \n",
              "3     0003_02     Europa     False  A/0/S  TRAPPIST-1e  33.0  False   \n",
              "4     0004_01      Earth     False  F/1/S  TRAPPIST-1e  16.0  False   \n",
              "\n",
              "   RoomService  FoodCourt  ShoppingMall     Spa  VRDeck               Name  \\\n",
              "0          0.0        0.0           0.0     0.0     0.0    Maham Ofracculy   \n",
              "1        109.0        9.0          25.0   549.0    44.0       Juanna Vines   \n",
              "2         43.0     3576.0           0.0  6715.0    49.0      Altark Susent   \n",
              "3          0.0     1283.0         371.0  3329.0   193.0       Solam Susent   \n",
              "4        303.0       70.0         151.0   565.0     2.0  Willy Santantines   \n",
              "\n",
              "   Transported  \n",
              "0        False  \n",
              "1         True  \n",
              "2        False  \n",
              "3        False  \n",
              "4         True  "
            ],
            "text/html": [
              "\n",
              "  <div id=\"df-44a9f17a-23e4-47fe-b39f-ee7908e10b1c\">\n",
              "    <div class=\"colab-df-container\">\n",
              "      <div>\n",
              "<style scoped>\n",
              "    .dataframe tbody tr th:only-of-type {\n",
              "        vertical-align: middle;\n",
              "    }\n",
              "\n",
              "    .dataframe tbody tr th {\n",
              "        vertical-align: top;\n",
              "    }\n",
              "\n",
              "    .dataframe thead th {\n",
              "        text-align: right;\n",
              "    }\n",
              "</style>\n",
              "<table border=\"1\" class=\"dataframe\">\n",
              "  <thead>\n",
              "    <tr style=\"text-align: right;\">\n",
              "      <th></th>\n",
              "      <th>PassengerId</th>\n",
              "      <th>HomePlanet</th>\n",
              "      <th>CryoSleep</th>\n",
              "      <th>Cabin</th>\n",
              "      <th>Destination</th>\n",
              "      <th>Age</th>\n",
              "      <th>VIP</th>\n",
              "      <th>RoomService</th>\n",
              "      <th>FoodCourt</th>\n",
              "      <th>ShoppingMall</th>\n",
              "      <th>Spa</th>\n",
              "      <th>VRDeck</th>\n",
              "      <th>Name</th>\n",
              "      <th>Transported</th>\n",
              "    </tr>\n",
              "  </thead>\n",
              "  <tbody>\n",
              "    <tr>\n",
              "      <th>0</th>\n",
              "      <td>0001_01</td>\n",
              "      <td>Europa</td>\n",
              "      <td>False</td>\n",
              "      <td>B/0/P</td>\n",
              "      <td>TRAPPIST-1e</td>\n",
              "      <td>39.0</td>\n",
              "      <td>False</td>\n",
              "      <td>0.0</td>\n",
              "      <td>0.0</td>\n",
              "      <td>0.0</td>\n",
              "      <td>0.0</td>\n",
              "      <td>0.0</td>\n",
              "      <td>Maham Ofracculy</td>\n",
              "      <td>False</td>\n",
              "    </tr>\n",
              "    <tr>\n",
              "      <th>1</th>\n",
              "      <td>0002_01</td>\n",
              "      <td>Earth</td>\n",
              "      <td>False</td>\n",
              "      <td>F/0/S</td>\n",
              "      <td>TRAPPIST-1e</td>\n",
              "      <td>24.0</td>\n",
              "      <td>False</td>\n",
              "      <td>109.0</td>\n",
              "      <td>9.0</td>\n",
              "      <td>25.0</td>\n",
              "      <td>549.0</td>\n",
              "      <td>44.0</td>\n",
              "      <td>Juanna Vines</td>\n",
              "      <td>True</td>\n",
              "    </tr>\n",
              "    <tr>\n",
              "      <th>2</th>\n",
              "      <td>0003_01</td>\n",
              "      <td>Europa</td>\n",
              "      <td>False</td>\n",
              "      <td>A/0/S</td>\n",
              "      <td>TRAPPIST-1e</td>\n",
              "      <td>58.0</td>\n",
              "      <td>True</td>\n",
              "      <td>43.0</td>\n",
              "      <td>3576.0</td>\n",
              "      <td>0.0</td>\n",
              "      <td>6715.0</td>\n",
              "      <td>49.0</td>\n",
              "      <td>Altark Susent</td>\n",
              "      <td>False</td>\n",
              "    </tr>\n",
              "    <tr>\n",
              "      <th>3</th>\n",
              "      <td>0003_02</td>\n",
              "      <td>Europa</td>\n",
              "      <td>False</td>\n",
              "      <td>A/0/S</td>\n",
              "      <td>TRAPPIST-1e</td>\n",
              "      <td>33.0</td>\n",
              "      <td>False</td>\n",
              "      <td>0.0</td>\n",
              "      <td>1283.0</td>\n",
              "      <td>371.0</td>\n",
              "      <td>3329.0</td>\n",
              "      <td>193.0</td>\n",
              "      <td>Solam Susent</td>\n",
              "      <td>False</td>\n",
              "    </tr>\n",
              "    <tr>\n",
              "      <th>4</th>\n",
              "      <td>0004_01</td>\n",
              "      <td>Earth</td>\n",
              "      <td>False</td>\n",
              "      <td>F/1/S</td>\n",
              "      <td>TRAPPIST-1e</td>\n",
              "      <td>16.0</td>\n",
              "      <td>False</td>\n",
              "      <td>303.0</td>\n",
              "      <td>70.0</td>\n",
              "      <td>151.0</td>\n",
              "      <td>565.0</td>\n",
              "      <td>2.0</td>\n",
              "      <td>Willy Santantines</td>\n",
              "      <td>True</td>\n",
              "    </tr>\n",
              "  </tbody>\n",
              "</table>\n",
              "</div>\n",
              "      <button class=\"colab-df-convert\" onclick=\"convertToInteractive('df-44a9f17a-23e4-47fe-b39f-ee7908e10b1c')\"\n",
              "              title=\"Convert this dataframe to an interactive table.\"\n",
              "              style=\"display:none;\">\n",
              "        \n",
              "  <svg xmlns=\"http://www.w3.org/2000/svg\" height=\"24px\"viewBox=\"0 0 24 24\"\n",
              "       width=\"24px\">\n",
              "    <path d=\"M0 0h24v24H0V0z\" fill=\"none\"/>\n",
              "    <path d=\"M18.56 5.44l.94 2.06.94-2.06 2.06-.94-2.06-.94-.94-2.06-.94 2.06-2.06.94zm-11 1L8.5 8.5l.94-2.06 2.06-.94-2.06-.94L8.5 2.5l-.94 2.06-2.06.94zm10 10l.94 2.06.94-2.06 2.06-.94-2.06-.94-.94-2.06-.94 2.06-2.06.94z\"/><path d=\"M17.41 7.96l-1.37-1.37c-.4-.4-.92-.59-1.43-.59-.52 0-1.04.2-1.43.59L10.3 9.45l-7.72 7.72c-.78.78-.78 2.05 0 2.83L4 21.41c.39.39.9.59 1.41.59.51 0 1.02-.2 1.41-.59l7.78-7.78 2.81-2.81c.8-.78.8-2.07 0-2.86zM5.41 20L4 18.59l7.72-7.72 1.47 1.35L5.41 20z\"/>\n",
              "  </svg>\n",
              "      </button>\n",
              "      \n",
              "  <style>\n",
              "    .colab-df-container {\n",
              "      display:flex;\n",
              "      flex-wrap:wrap;\n",
              "      gap: 12px;\n",
              "    }\n",
              "\n",
              "    .colab-df-convert {\n",
              "      background-color: #E8F0FE;\n",
              "      border: none;\n",
              "      border-radius: 50%;\n",
              "      cursor: pointer;\n",
              "      display: none;\n",
              "      fill: #1967D2;\n",
              "      height: 32px;\n",
              "      padding: 0 0 0 0;\n",
              "      width: 32px;\n",
              "    }\n",
              "\n",
              "    .colab-df-convert:hover {\n",
              "      background-color: #E2EBFA;\n",
              "      box-shadow: 0px 1px 2px rgba(60, 64, 67, 0.3), 0px 1px 3px 1px rgba(60, 64, 67, 0.15);\n",
              "      fill: #174EA6;\n",
              "    }\n",
              "\n",
              "    [theme=dark] .colab-df-convert {\n",
              "      background-color: #3B4455;\n",
              "      fill: #D2E3FC;\n",
              "    }\n",
              "\n",
              "    [theme=dark] .colab-df-convert:hover {\n",
              "      background-color: #434B5C;\n",
              "      box-shadow: 0px 1px 3px 1px rgba(0, 0, 0, 0.15);\n",
              "      filter: drop-shadow(0px 1px 2px rgba(0, 0, 0, 0.3));\n",
              "      fill: #FFFFFF;\n",
              "    }\n",
              "  </style>\n",
              "\n",
              "      <script>\n",
              "        const buttonEl =\n",
              "          document.querySelector('#df-44a9f17a-23e4-47fe-b39f-ee7908e10b1c button.colab-df-convert');\n",
              "        buttonEl.style.display =\n",
              "          google.colab.kernel.accessAllowed ? 'block' : 'none';\n",
              "\n",
              "        async function convertToInteractive(key) {\n",
              "          const element = document.querySelector('#df-44a9f17a-23e4-47fe-b39f-ee7908e10b1c');\n",
              "          const dataTable =\n",
              "            await google.colab.kernel.invokeFunction('convertToInteractive',\n",
              "                                                     [key], {});\n",
              "          if (!dataTable) return;\n",
              "\n",
              "          const docLinkHtml = 'Like what you see? Visit the ' +\n",
              "            '<a target=\"_blank\" href=https://colab.research.google.com/notebooks/data_table.ipynb>data table notebook</a>'\n",
              "            + ' to learn more about interactive tables.';\n",
              "          element.innerHTML = '';\n",
              "          dataTable['output_type'] = 'display_data';\n",
              "          await google.colab.output.renderOutput(dataTable, element);\n",
              "          const docLink = document.createElement('div');\n",
              "          docLink.innerHTML = docLinkHtml;\n",
              "          element.appendChild(docLink);\n",
              "        }\n",
              "      </script>\n",
              "    </div>\n",
              "  </div>\n",
              "  "
            ]
          },
          "metadata": {},
          "execution_count": 2
        }
      ]
    },
    {
      "cell_type": "code",
      "source": [
        "train_df.shape"
      ],
      "metadata": {
        "colab": {
          "base_uri": "https://localhost:8080/"
        },
        "id": "-mMEVhR4C5Qj",
        "outputId": "b4588475-5850-474e-d462-85de1a553a6f"
      },
      "execution_count": 3,
      "outputs": [
        {
          "output_type": "execute_result",
          "data": {
            "text/plain": [
              "(8693, 14)"
            ]
          },
          "metadata": {},
          "execution_count": 3
        }
      ]
    },
    {
      "cell_type": "code",
      "source": [
        "test = \"/content/drive/MyDrive/Colab Notebooks/Coding Dojo 🐉/Proyecto 2/test.csv\"\n",
        "test_df = pd.read_csv(test)\n",
        "test_df.head()"
      ],
      "metadata": {
        "colab": {
          "base_uri": "https://localhost:8080/",
          "height": 250
        },
        "id": "7UrSzKlrBEVd",
        "outputId": "9b4f70c7-a5b0-4e8c-ffa9-59bd7b1fdfa8"
      },
      "execution_count": 4,
      "outputs": [
        {
          "output_type": "execute_result",
          "data": {
            "text/plain": [
              "  PassengerId HomePlanet CryoSleep  Cabin  Destination   Age    VIP  \\\n",
              "0     0013_01      Earth      True  G/3/S  TRAPPIST-1e  27.0  False   \n",
              "1     0018_01      Earth     False  F/4/S  TRAPPIST-1e  19.0  False   \n",
              "2     0019_01     Europa      True  C/0/S  55 Cancri e  31.0  False   \n",
              "3     0021_01     Europa     False  C/1/S  TRAPPIST-1e  38.0  False   \n",
              "4     0023_01      Earth     False  F/5/S  TRAPPIST-1e  20.0  False   \n",
              "\n",
              "   RoomService  FoodCourt  ShoppingMall     Spa  VRDeck              Name  \n",
              "0          0.0        0.0           0.0     0.0     0.0   Nelly Carsoning  \n",
              "1          0.0        9.0           0.0  2823.0     0.0    Lerome Peckers  \n",
              "2          0.0        0.0           0.0     0.0     0.0   Sabih Unhearfus  \n",
              "3          0.0     6652.0           0.0   181.0   585.0  Meratz Caltilter  \n",
              "4         10.0        0.0         635.0     0.0     0.0   Brence Harperez  "
            ],
            "text/html": [
              "\n",
              "  <div id=\"df-b206df2a-4ecc-43da-be61-27971f019ea1\">\n",
              "    <div class=\"colab-df-container\">\n",
              "      <div>\n",
              "<style scoped>\n",
              "    .dataframe tbody tr th:only-of-type {\n",
              "        vertical-align: middle;\n",
              "    }\n",
              "\n",
              "    .dataframe tbody tr th {\n",
              "        vertical-align: top;\n",
              "    }\n",
              "\n",
              "    .dataframe thead th {\n",
              "        text-align: right;\n",
              "    }\n",
              "</style>\n",
              "<table border=\"1\" class=\"dataframe\">\n",
              "  <thead>\n",
              "    <tr style=\"text-align: right;\">\n",
              "      <th></th>\n",
              "      <th>PassengerId</th>\n",
              "      <th>HomePlanet</th>\n",
              "      <th>CryoSleep</th>\n",
              "      <th>Cabin</th>\n",
              "      <th>Destination</th>\n",
              "      <th>Age</th>\n",
              "      <th>VIP</th>\n",
              "      <th>RoomService</th>\n",
              "      <th>FoodCourt</th>\n",
              "      <th>ShoppingMall</th>\n",
              "      <th>Spa</th>\n",
              "      <th>VRDeck</th>\n",
              "      <th>Name</th>\n",
              "    </tr>\n",
              "  </thead>\n",
              "  <tbody>\n",
              "    <tr>\n",
              "      <th>0</th>\n",
              "      <td>0013_01</td>\n",
              "      <td>Earth</td>\n",
              "      <td>True</td>\n",
              "      <td>G/3/S</td>\n",
              "      <td>TRAPPIST-1e</td>\n",
              "      <td>27.0</td>\n",
              "      <td>False</td>\n",
              "      <td>0.0</td>\n",
              "      <td>0.0</td>\n",
              "      <td>0.0</td>\n",
              "      <td>0.0</td>\n",
              "      <td>0.0</td>\n",
              "      <td>Nelly Carsoning</td>\n",
              "    </tr>\n",
              "    <tr>\n",
              "      <th>1</th>\n",
              "      <td>0018_01</td>\n",
              "      <td>Earth</td>\n",
              "      <td>False</td>\n",
              "      <td>F/4/S</td>\n",
              "      <td>TRAPPIST-1e</td>\n",
              "      <td>19.0</td>\n",
              "      <td>False</td>\n",
              "      <td>0.0</td>\n",
              "      <td>9.0</td>\n",
              "      <td>0.0</td>\n",
              "      <td>2823.0</td>\n",
              "      <td>0.0</td>\n",
              "      <td>Lerome Peckers</td>\n",
              "    </tr>\n",
              "    <tr>\n",
              "      <th>2</th>\n",
              "      <td>0019_01</td>\n",
              "      <td>Europa</td>\n",
              "      <td>True</td>\n",
              "      <td>C/0/S</td>\n",
              "      <td>55 Cancri e</td>\n",
              "      <td>31.0</td>\n",
              "      <td>False</td>\n",
              "      <td>0.0</td>\n",
              "      <td>0.0</td>\n",
              "      <td>0.0</td>\n",
              "      <td>0.0</td>\n",
              "      <td>0.0</td>\n",
              "      <td>Sabih Unhearfus</td>\n",
              "    </tr>\n",
              "    <tr>\n",
              "      <th>3</th>\n",
              "      <td>0021_01</td>\n",
              "      <td>Europa</td>\n",
              "      <td>False</td>\n",
              "      <td>C/1/S</td>\n",
              "      <td>TRAPPIST-1e</td>\n",
              "      <td>38.0</td>\n",
              "      <td>False</td>\n",
              "      <td>0.0</td>\n",
              "      <td>6652.0</td>\n",
              "      <td>0.0</td>\n",
              "      <td>181.0</td>\n",
              "      <td>585.0</td>\n",
              "      <td>Meratz Caltilter</td>\n",
              "    </tr>\n",
              "    <tr>\n",
              "      <th>4</th>\n",
              "      <td>0023_01</td>\n",
              "      <td>Earth</td>\n",
              "      <td>False</td>\n",
              "      <td>F/5/S</td>\n",
              "      <td>TRAPPIST-1e</td>\n",
              "      <td>20.0</td>\n",
              "      <td>False</td>\n",
              "      <td>10.0</td>\n",
              "      <td>0.0</td>\n",
              "      <td>635.0</td>\n",
              "      <td>0.0</td>\n",
              "      <td>0.0</td>\n",
              "      <td>Brence Harperez</td>\n",
              "    </tr>\n",
              "  </tbody>\n",
              "</table>\n",
              "</div>\n",
              "      <button class=\"colab-df-convert\" onclick=\"convertToInteractive('df-b206df2a-4ecc-43da-be61-27971f019ea1')\"\n",
              "              title=\"Convert this dataframe to an interactive table.\"\n",
              "              style=\"display:none;\">\n",
              "        \n",
              "  <svg xmlns=\"http://www.w3.org/2000/svg\" height=\"24px\"viewBox=\"0 0 24 24\"\n",
              "       width=\"24px\">\n",
              "    <path d=\"M0 0h24v24H0V0z\" fill=\"none\"/>\n",
              "    <path d=\"M18.56 5.44l.94 2.06.94-2.06 2.06-.94-2.06-.94-.94-2.06-.94 2.06-2.06.94zm-11 1L8.5 8.5l.94-2.06 2.06-.94-2.06-.94L8.5 2.5l-.94 2.06-2.06.94zm10 10l.94 2.06.94-2.06 2.06-.94-2.06-.94-.94-2.06-.94 2.06-2.06.94z\"/><path d=\"M17.41 7.96l-1.37-1.37c-.4-.4-.92-.59-1.43-.59-.52 0-1.04.2-1.43.59L10.3 9.45l-7.72 7.72c-.78.78-.78 2.05 0 2.83L4 21.41c.39.39.9.59 1.41.59.51 0 1.02-.2 1.41-.59l7.78-7.78 2.81-2.81c.8-.78.8-2.07 0-2.86zM5.41 20L4 18.59l7.72-7.72 1.47 1.35L5.41 20z\"/>\n",
              "  </svg>\n",
              "      </button>\n",
              "      \n",
              "  <style>\n",
              "    .colab-df-container {\n",
              "      display:flex;\n",
              "      flex-wrap:wrap;\n",
              "      gap: 12px;\n",
              "    }\n",
              "\n",
              "    .colab-df-convert {\n",
              "      background-color: #E8F0FE;\n",
              "      border: none;\n",
              "      border-radius: 50%;\n",
              "      cursor: pointer;\n",
              "      display: none;\n",
              "      fill: #1967D2;\n",
              "      height: 32px;\n",
              "      padding: 0 0 0 0;\n",
              "      width: 32px;\n",
              "    }\n",
              "\n",
              "    .colab-df-convert:hover {\n",
              "      background-color: #E2EBFA;\n",
              "      box-shadow: 0px 1px 2px rgba(60, 64, 67, 0.3), 0px 1px 3px 1px rgba(60, 64, 67, 0.15);\n",
              "      fill: #174EA6;\n",
              "    }\n",
              "\n",
              "    [theme=dark] .colab-df-convert {\n",
              "      background-color: #3B4455;\n",
              "      fill: #D2E3FC;\n",
              "    }\n",
              "\n",
              "    [theme=dark] .colab-df-convert:hover {\n",
              "      background-color: #434B5C;\n",
              "      box-shadow: 0px 1px 3px 1px rgba(0, 0, 0, 0.15);\n",
              "      filter: drop-shadow(0px 1px 2px rgba(0, 0, 0, 0.3));\n",
              "      fill: #FFFFFF;\n",
              "    }\n",
              "  </style>\n",
              "\n",
              "      <script>\n",
              "        const buttonEl =\n",
              "          document.querySelector('#df-b206df2a-4ecc-43da-be61-27971f019ea1 button.colab-df-convert');\n",
              "        buttonEl.style.display =\n",
              "          google.colab.kernel.accessAllowed ? 'block' : 'none';\n",
              "\n",
              "        async function convertToInteractive(key) {\n",
              "          const element = document.querySelector('#df-b206df2a-4ecc-43da-be61-27971f019ea1');\n",
              "          const dataTable =\n",
              "            await google.colab.kernel.invokeFunction('convertToInteractive',\n",
              "                                                     [key], {});\n",
              "          if (!dataTable) return;\n",
              "\n",
              "          const docLinkHtml = 'Like what you see? Visit the ' +\n",
              "            '<a target=\"_blank\" href=https://colab.research.google.com/notebooks/data_table.ipynb>data table notebook</a>'\n",
              "            + ' to learn more about interactive tables.';\n",
              "          element.innerHTML = '';\n",
              "          dataTable['output_type'] = 'display_data';\n",
              "          await google.colab.output.renderOutput(dataTable, element);\n",
              "          const docLink = document.createElement('div');\n",
              "          docLink.innerHTML = docLinkHtml;\n",
              "          element.appendChild(docLink);\n",
              "        }\n",
              "      </script>\n",
              "    </div>\n",
              "  </div>\n",
              "  "
            ]
          },
          "metadata": {},
          "execution_count": 4
        }
      ]
    },
    {
      "cell_type": "markdown",
      "source": [
        "### **Preguntas:**\n",
        "\n",
        "1) Fuente de datos.\n",
        "\n",
        "El conjunto de datos hace parte del dataset de una de las competencias de Kaggle. Puede encontrarlo [aquí](https://www.kaggle.com/competitions/spaceship-titanic/overview). \n",
        "\n",
        "2) Breve descripción de datos. \n",
        "\n",
        "Se hace una descripción de los datos al comienzo de este Notebook. \n",
        "\n",
        "3) ¿Cuál es el objetivo?\n",
        "\n",
        "El objetivo es predecir cuáles pasajeros fueron transportados por la anomalía espaciotemporal, usando los registros del sistema de computadora dañado de la nave. \n",
        "\n",
        "4) ¿Este es un problema de clasificación o regresión?\n",
        "\n",
        "Ya que las clases en el vector objetivo son \"True\" o \"False\" (variables categóricas), este es un problema de clasificación. \n",
        "\n",
        "5) ¿Cuántas características hay?\n",
        "\n",
        "El conjunto de datos posee 13 características. Esto es, posee 13 columnas, sin contar la columna que será el vector objetivo llamada \"Transported\".\n",
        "\n",
        "6) ¿Cuántas filas de datos hay?\n",
        "\n",
        "En el conjunto de datos de entrenamiento hay 8693 filas. \n",
        "\n",
        "7) ¿Qué retos, si es que hay alguno, prevén en la limpieza, exploración o modelización con este conjunto de datos?\n",
        "\n",
        "Los principales retos que preveo para este conjunto de datos es la posibilidad de existencia de datos nulos, la poca colinealidad entre las columnas y el vector objetivo, modelos sobreajustados, existencia de errores de tipo I o II, entre otros. "
      ],
      "metadata": {
        "id": "-rjv8yPxBlkj"
      }
    },
    {
      "cell_type": "markdown",
      "source": [
        "# **Proyecto 2 - Parte 2 (base)**\n",
        "\n",
        "Al usar el conjunto de datos aprobado que propusieron para el proyecto 2, parte 1 la semana pasada, limpiarán y explorarán el conjunto de datos.  \n",
        "\n",
        "Para cumplir con los requisitos para esta semana, deben haber:\n",
        "\n",
        "\n",
        "\n",
        "*   Eliminado las columnas innecesarias.\n",
        "*   Eliminado las filas duplicadas.\n",
        "*   Identificado y abordado los valores faltantes. \n",
        "*   Identificado y corregido las inconsistencias en los datos para los valores categóricos (es decir, Cat, cat, cats).\n",
        "*   Producido visuales univariantes para el objetivo y todas las características.\n",
        "*   Identificado los valores atípicos.\n",
        "*   Producido un mapa de calor de correlación e identificado cualquier correlaciones moderadas o fuertes entre el objetivo y las características y/o entre una característica y otra.\n",
        "*   Comentado todos los pasos de limpieza y descrito todas las decisiones que tomaron."
      ],
      "metadata": {
        "id": "F69cmmMveUWm"
      }
    },
    {
      "cell_type": "markdown",
      "source": [
        "## **Solución**"
      ],
      "metadata": {
        "id": "033cJmP8kVBg"
      }
    },
    {
      "cell_type": "markdown",
      "source": [
        "### **Elimina columnas innecesarias**"
      ],
      "metadata": {
        "id": "bRWc9KWthye2"
      }
    },
    {
      "cell_type": "code",
      "source": [
        "#Elimina columnas innecesarias\n",
        "#Conjunto de entrenamiento\n",
        "train_df = train_df.drop(columns = [\"PassengerId\", \"Cabin\", \"Name\"])\n",
        "\n",
        "#Conjunto de prueba\n",
        "test_df = test_df.drop(columns = [\"PassengerId\", \"Cabin\", \"Name\"])"
      ],
      "metadata": {
        "id": "n-8FSonIfMSQ"
      },
      "execution_count": 5,
      "outputs": []
    },
    {
      "cell_type": "code",
      "source": [
        "train_df.head()"
      ],
      "metadata": {
        "colab": {
          "base_uri": "https://localhost:8080/",
          "height": 206
        },
        "id": "OIOoAqR2gcsI",
        "outputId": "18987f45-6174-4029-f595-fcb60ed9b2ef"
      },
      "execution_count": 6,
      "outputs": [
        {
          "output_type": "execute_result",
          "data": {
            "text/plain": [
              "  HomePlanet CryoSleep  Destination   Age    VIP  RoomService  FoodCourt  \\\n",
              "0     Europa     False  TRAPPIST-1e  39.0  False          0.0        0.0   \n",
              "1      Earth     False  TRAPPIST-1e  24.0  False        109.0        9.0   \n",
              "2     Europa     False  TRAPPIST-1e  58.0   True         43.0     3576.0   \n",
              "3     Europa     False  TRAPPIST-1e  33.0  False          0.0     1283.0   \n",
              "4      Earth     False  TRAPPIST-1e  16.0  False        303.0       70.0   \n",
              "\n",
              "   ShoppingMall     Spa  VRDeck  Transported  \n",
              "0           0.0     0.0     0.0        False  \n",
              "1          25.0   549.0    44.0         True  \n",
              "2           0.0  6715.0    49.0        False  \n",
              "3         371.0  3329.0   193.0        False  \n",
              "4         151.0   565.0     2.0         True  "
            ],
            "text/html": [
              "\n",
              "  <div id=\"df-78fc7be5-f807-427a-9f37-c6a4050fda7f\">\n",
              "    <div class=\"colab-df-container\">\n",
              "      <div>\n",
              "<style scoped>\n",
              "    .dataframe tbody tr th:only-of-type {\n",
              "        vertical-align: middle;\n",
              "    }\n",
              "\n",
              "    .dataframe tbody tr th {\n",
              "        vertical-align: top;\n",
              "    }\n",
              "\n",
              "    .dataframe thead th {\n",
              "        text-align: right;\n",
              "    }\n",
              "</style>\n",
              "<table border=\"1\" class=\"dataframe\">\n",
              "  <thead>\n",
              "    <tr style=\"text-align: right;\">\n",
              "      <th></th>\n",
              "      <th>HomePlanet</th>\n",
              "      <th>CryoSleep</th>\n",
              "      <th>Destination</th>\n",
              "      <th>Age</th>\n",
              "      <th>VIP</th>\n",
              "      <th>RoomService</th>\n",
              "      <th>FoodCourt</th>\n",
              "      <th>ShoppingMall</th>\n",
              "      <th>Spa</th>\n",
              "      <th>VRDeck</th>\n",
              "      <th>Transported</th>\n",
              "    </tr>\n",
              "  </thead>\n",
              "  <tbody>\n",
              "    <tr>\n",
              "      <th>0</th>\n",
              "      <td>Europa</td>\n",
              "      <td>False</td>\n",
              "      <td>TRAPPIST-1e</td>\n",
              "      <td>39.0</td>\n",
              "      <td>False</td>\n",
              "      <td>0.0</td>\n",
              "      <td>0.0</td>\n",
              "      <td>0.0</td>\n",
              "      <td>0.0</td>\n",
              "      <td>0.0</td>\n",
              "      <td>False</td>\n",
              "    </tr>\n",
              "    <tr>\n",
              "      <th>1</th>\n",
              "      <td>Earth</td>\n",
              "      <td>False</td>\n",
              "      <td>TRAPPIST-1e</td>\n",
              "      <td>24.0</td>\n",
              "      <td>False</td>\n",
              "      <td>109.0</td>\n",
              "      <td>9.0</td>\n",
              "      <td>25.0</td>\n",
              "      <td>549.0</td>\n",
              "      <td>44.0</td>\n",
              "      <td>True</td>\n",
              "    </tr>\n",
              "    <tr>\n",
              "      <th>2</th>\n",
              "      <td>Europa</td>\n",
              "      <td>False</td>\n",
              "      <td>TRAPPIST-1e</td>\n",
              "      <td>58.0</td>\n",
              "      <td>True</td>\n",
              "      <td>43.0</td>\n",
              "      <td>3576.0</td>\n",
              "      <td>0.0</td>\n",
              "      <td>6715.0</td>\n",
              "      <td>49.0</td>\n",
              "      <td>False</td>\n",
              "    </tr>\n",
              "    <tr>\n",
              "      <th>3</th>\n",
              "      <td>Europa</td>\n",
              "      <td>False</td>\n",
              "      <td>TRAPPIST-1e</td>\n",
              "      <td>33.0</td>\n",
              "      <td>False</td>\n",
              "      <td>0.0</td>\n",
              "      <td>1283.0</td>\n",
              "      <td>371.0</td>\n",
              "      <td>3329.0</td>\n",
              "      <td>193.0</td>\n",
              "      <td>False</td>\n",
              "    </tr>\n",
              "    <tr>\n",
              "      <th>4</th>\n",
              "      <td>Earth</td>\n",
              "      <td>False</td>\n",
              "      <td>TRAPPIST-1e</td>\n",
              "      <td>16.0</td>\n",
              "      <td>False</td>\n",
              "      <td>303.0</td>\n",
              "      <td>70.0</td>\n",
              "      <td>151.0</td>\n",
              "      <td>565.0</td>\n",
              "      <td>2.0</td>\n",
              "      <td>True</td>\n",
              "    </tr>\n",
              "  </tbody>\n",
              "</table>\n",
              "</div>\n",
              "      <button class=\"colab-df-convert\" onclick=\"convertToInteractive('df-78fc7be5-f807-427a-9f37-c6a4050fda7f')\"\n",
              "              title=\"Convert this dataframe to an interactive table.\"\n",
              "              style=\"display:none;\">\n",
              "        \n",
              "  <svg xmlns=\"http://www.w3.org/2000/svg\" height=\"24px\"viewBox=\"0 0 24 24\"\n",
              "       width=\"24px\">\n",
              "    <path d=\"M0 0h24v24H0V0z\" fill=\"none\"/>\n",
              "    <path d=\"M18.56 5.44l.94 2.06.94-2.06 2.06-.94-2.06-.94-.94-2.06-.94 2.06-2.06.94zm-11 1L8.5 8.5l.94-2.06 2.06-.94-2.06-.94L8.5 2.5l-.94 2.06-2.06.94zm10 10l.94 2.06.94-2.06 2.06-.94-2.06-.94-.94-2.06-.94 2.06-2.06.94z\"/><path d=\"M17.41 7.96l-1.37-1.37c-.4-.4-.92-.59-1.43-.59-.52 0-1.04.2-1.43.59L10.3 9.45l-7.72 7.72c-.78.78-.78 2.05 0 2.83L4 21.41c.39.39.9.59 1.41.59.51 0 1.02-.2 1.41-.59l7.78-7.78 2.81-2.81c.8-.78.8-2.07 0-2.86zM5.41 20L4 18.59l7.72-7.72 1.47 1.35L5.41 20z\"/>\n",
              "  </svg>\n",
              "      </button>\n",
              "      \n",
              "  <style>\n",
              "    .colab-df-container {\n",
              "      display:flex;\n",
              "      flex-wrap:wrap;\n",
              "      gap: 12px;\n",
              "    }\n",
              "\n",
              "    .colab-df-convert {\n",
              "      background-color: #E8F0FE;\n",
              "      border: none;\n",
              "      border-radius: 50%;\n",
              "      cursor: pointer;\n",
              "      display: none;\n",
              "      fill: #1967D2;\n",
              "      height: 32px;\n",
              "      padding: 0 0 0 0;\n",
              "      width: 32px;\n",
              "    }\n",
              "\n",
              "    .colab-df-convert:hover {\n",
              "      background-color: #E2EBFA;\n",
              "      box-shadow: 0px 1px 2px rgba(60, 64, 67, 0.3), 0px 1px 3px 1px rgba(60, 64, 67, 0.15);\n",
              "      fill: #174EA6;\n",
              "    }\n",
              "\n",
              "    [theme=dark] .colab-df-convert {\n",
              "      background-color: #3B4455;\n",
              "      fill: #D2E3FC;\n",
              "    }\n",
              "\n",
              "    [theme=dark] .colab-df-convert:hover {\n",
              "      background-color: #434B5C;\n",
              "      box-shadow: 0px 1px 3px 1px rgba(0, 0, 0, 0.15);\n",
              "      filter: drop-shadow(0px 1px 2px rgba(0, 0, 0, 0.3));\n",
              "      fill: #FFFFFF;\n",
              "    }\n",
              "  </style>\n",
              "\n",
              "      <script>\n",
              "        const buttonEl =\n",
              "          document.querySelector('#df-78fc7be5-f807-427a-9f37-c6a4050fda7f button.colab-df-convert');\n",
              "        buttonEl.style.display =\n",
              "          google.colab.kernel.accessAllowed ? 'block' : 'none';\n",
              "\n",
              "        async function convertToInteractive(key) {\n",
              "          const element = document.querySelector('#df-78fc7be5-f807-427a-9f37-c6a4050fda7f');\n",
              "          const dataTable =\n",
              "            await google.colab.kernel.invokeFunction('convertToInteractive',\n",
              "                                                     [key], {});\n",
              "          if (!dataTable) return;\n",
              "\n",
              "          const docLinkHtml = 'Like what you see? Visit the ' +\n",
              "            '<a target=\"_blank\" href=https://colab.research.google.com/notebooks/data_table.ipynb>data table notebook</a>'\n",
              "            + ' to learn more about interactive tables.';\n",
              "          element.innerHTML = '';\n",
              "          dataTable['output_type'] = 'display_data';\n",
              "          await google.colab.output.renderOutput(dataTable, element);\n",
              "          const docLink = document.createElement('div');\n",
              "          docLink.innerHTML = docLinkHtml;\n",
              "          element.appendChild(docLink);\n",
              "        }\n",
              "      </script>\n",
              "    </div>\n",
              "  </div>\n",
              "  "
            ]
          },
          "metadata": {},
          "execution_count": 6
        }
      ]
    },
    {
      "cell_type": "markdown",
      "source": [
        "### **Elimina filas duplicadas**"
      ],
      "metadata": {
        "id": "mAwsFHOgh4o4"
      }
    },
    {
      "cell_type": "markdown",
      "source": [
        "### Conjunto de entrenamiento"
      ],
      "metadata": {
        "id": "bBwMPfapZZwO"
      }
    },
    {
      "cell_type": "code",
      "source": [
        "train_df.duplicated().sum() #Revisa cuantos duplicados hay"
      ],
      "metadata": {
        "colab": {
          "base_uri": "https://localhost:8080/"
        },
        "id": "3zwgjl0Qg6ys",
        "outputId": "fb2fb6a5-8ba3-4e26-c429-225e84451a1d"
      },
      "execution_count": 7,
      "outputs": [
        {
          "output_type": "execute_result",
          "data": {
            "text/plain": [
              "2266"
            ]
          },
          "metadata": {},
          "execution_count": 7
        }
      ]
    },
    {
      "cell_type": "code",
      "source": [
        "#Elimina los duplicados en el conjunto de entrenamiento \n",
        "train_df = train_df.drop_duplicates()\n",
        "train_df.duplicated().sum()"
      ],
      "metadata": {
        "colab": {
          "base_uri": "https://localhost:8080/"
        },
        "id": "2yUXvKv0hKZW",
        "outputId": "6fbbeae2-09f4-47e8-c87d-6da5a0f0e4c4"
      },
      "execution_count": 8,
      "outputs": [
        {
          "output_type": "execute_result",
          "data": {
            "text/plain": [
              "0"
            ]
          },
          "metadata": {},
          "execution_count": 8
        }
      ]
    },
    {
      "cell_type": "markdown",
      "source": [
        "### Conjunto de prueba"
      ],
      "metadata": {
        "id": "KX5n2q10Ze81"
      }
    },
    {
      "cell_type": "code",
      "source": [
        "test_df.duplicated().sum() #Revisa cuantos duplicados hay"
      ],
      "metadata": {
        "colab": {
          "base_uri": "https://localhost:8080/"
        },
        "id": "0T9XqWVZhhHA",
        "outputId": "9ef8ec8b-6280-43cc-aaef-721e26d1fca9"
      },
      "execution_count": 9,
      "outputs": [
        {
          "output_type": "execute_result",
          "data": {
            "text/plain": [
              "1065"
            ]
          },
          "metadata": {},
          "execution_count": 9
        }
      ]
    },
    {
      "cell_type": "code",
      "source": [
        "#Elimina los duplicados en el conjunto de prueba\n",
        "test_df = test_df.drop_duplicates()\n",
        "test_df.duplicated().sum()"
      ],
      "metadata": {
        "colab": {
          "base_uri": "https://localhost:8080/"
        },
        "id": "rU8bgCXAhsA8",
        "outputId": "f3b51433-c04e-4e6b-c684-553483d7b21f"
      },
      "execution_count": 10,
      "outputs": [
        {
          "output_type": "execute_result",
          "data": {
            "text/plain": [
              "0"
            ]
          },
          "metadata": {},
          "execution_count": 10
        }
      ]
    },
    {
      "cell_type": "markdown",
      "source": [
        "### **Identifica y aborda valores faltantes**"
      ],
      "metadata": {
        "id": "z6T_0ngKh-YE"
      }
    },
    {
      "cell_type": "markdown",
      "source": [
        "### Conjunto de entrenamiento"
      ],
      "metadata": {
        "id": "8wk-f89mZk8U"
      }
    },
    {
      "cell_type": "code",
      "source": [
        "train_df.info()"
      ],
      "metadata": {
        "colab": {
          "base_uri": "https://localhost:8080/"
        },
        "id": "rpLt1Nor5mc-",
        "outputId": "925209a6-ea36-4cc5-93c8-3bfd97b5c9f8"
      },
      "execution_count": 11,
      "outputs": [
        {
          "output_type": "stream",
          "name": "stdout",
          "text": [
            "<class 'pandas.core.frame.DataFrame'>\n",
            "Int64Index: 6427 entries, 0 to 8692\n",
            "Data columns (total 11 columns):\n",
            " #   Column        Non-Null Count  Dtype  \n",
            "---  ------        --------------  -----  \n",
            " 0   HomePlanet    6241 non-null   object \n",
            " 1   CryoSleep     6219 non-null   object \n",
            " 2   Destination   6249 non-null   object \n",
            " 3   Age           6307 non-null   float64\n",
            " 4   VIP           6236 non-null   object \n",
            " 5   RoomService   6249 non-null   float64\n",
            " 6   FoodCourt     6252 non-null   float64\n",
            " 7   ShoppingMall  6228 non-null   float64\n",
            " 8   Spa           6245 non-null   float64\n",
            " 9   VRDeck        6245 non-null   float64\n",
            " 10  Transported   6427 non-null   bool   \n",
            "dtypes: bool(1), float64(6), object(4)\n",
            "memory usage: 558.6+ KB\n"
          ]
        }
      ]
    },
    {
      "cell_type": "code",
      "source": [
        "#Conjunto de entrenamiento \n",
        "train_df.isna().sum()"
      ],
      "metadata": {
        "colab": {
          "base_uri": "https://localhost:8080/"
        },
        "id": "Q0C8cxZnhxKo",
        "outputId": "0013fc13-a74f-4162-e1db-a9a612e4c40a"
      },
      "execution_count": 12,
      "outputs": [
        {
          "output_type": "execute_result",
          "data": {
            "text/plain": [
              "HomePlanet      186\n",
              "CryoSleep       208\n",
              "Destination     178\n",
              "Age             120\n",
              "VIP             191\n",
              "RoomService     178\n",
              "FoodCourt       175\n",
              "ShoppingMall    199\n",
              "Spa             182\n",
              "VRDeck          182\n",
              "Transported       0\n",
              "dtype: int64"
            ]
          },
          "metadata": {},
          "execution_count": 12
        }
      ]
    },
    {
      "cell_type": "markdown",
      "source": [
        "Los valores faltantes del conjunto de datos de entremiento serán abordados como sigue: \n",
        "\n",
        ">**HomePlanet:** Se reemplazará por el valor más frecuente. \n",
        "\n",
        ">**CryoSleep:** Se reemplazará por el valor más frecuente. \n",
        "\n",
        ">**Destination:** Se reemplazará por el valor más frecuente. \n",
        "\n",
        ">**Age:** Se reemplazará por la media.\n",
        "\n",
        ">**VIP:** Se reemplazará por el valor más frecuente. \n",
        "\n",
        ">**RoomService, FoodCourt, ShoppingMall, Spa, VRDeck:** Se reeamplzarán por la media. \n",
        "\n",
        "Como puede observar, los valores faltantes en las columnas categóricas se reemplazarán por el valor más frecuente, mientras que para las columnas numéricas, con la media. \n",
        "\n"
      ],
      "metadata": {
        "id": "_LkbtMA8jCYe"
      }
    },
    {
      "cell_type": "code",
      "source": [
        "#Simple Imputer\n",
        "train_df.isna().any()"
      ],
      "metadata": {
        "colab": {
          "base_uri": "https://localhost:8080/"
        },
        "id": "wotlgiPHlczl",
        "outputId": "43f3d323-9443-4638-b843-fb057aff1a0a"
      },
      "execution_count": 13,
      "outputs": [
        {
          "output_type": "execute_result",
          "data": {
            "text/plain": [
              "HomePlanet       True\n",
              "CryoSleep        True\n",
              "Destination      True\n",
              "Age              True\n",
              "VIP              True\n",
              "RoomService      True\n",
              "FoodCourt        True\n",
              "ShoppingMall     True\n",
              "Spa              True\n",
              "VRDeck           True\n",
              "Transported     False\n",
              "dtype: bool"
            ]
          },
          "metadata": {},
          "execution_count": 13
        }
      ]
    },
    {
      "cell_type": "code",
      "source": [
        "#Instancien los selectores de acuerdo a los tipos de columnas \n",
        "num_selector = make_column_selector(dtype_include = \"number\")\n",
        "cat_selector = make_column_selector(dtype_include = \"object\")"
      ],
      "metadata": {
        "id": "8zzlbhIOokYG"
      },
      "execution_count": 14,
      "outputs": []
    },
    {
      "cell_type": "code",
      "source": [
        "num_column = num_selector(train_df)\n",
        "print(num_column)"
      ],
      "metadata": {
        "colab": {
          "base_uri": "https://localhost:8080/"
        },
        "id": "ZY8i6FGg6LeA",
        "outputId": "5b7c4b23-5c02-4538-b6bb-e2c772f6df98"
      },
      "execution_count": 15,
      "outputs": [
        {
          "output_type": "stream",
          "name": "stdout",
          "text": [
            "['Age', 'RoomService', 'FoodCourt', 'ShoppingMall', 'Spa', 'VRDeck']\n"
          ]
        }
      ]
    },
    {
      "cell_type": "code",
      "source": [
        "cat_column  = cat_selector(train_df)\n",
        "print(cat_column)"
      ],
      "metadata": {
        "colab": {
          "base_uri": "https://localhost:8080/"
        },
        "id": "W9TKEuuB6Vu-",
        "outputId": "28ec5114-a66f-4f52-f095-f3e7c37e8754"
      },
      "execution_count": 16,
      "outputs": [
        {
          "output_type": "stream",
          "name": "stdout",
          "text": [
            "['HomePlanet', 'CryoSleep', 'Destination', 'VIP']\n"
          ]
        }
      ]
    },
    {
      "cell_type": "code",
      "source": [
        "#Instanciar SimpleImputer con strategias de most_frequent, median y mean\n",
        "freq_imputer   = SimpleImputer(strategy = \"most_frequent\")\n",
        "mean_imputer   = SimpleImputer(strategy = \"mean\")"
      ],
      "metadata": {
        "id": "yFEi3Zj9o09W"
      },
      "execution_count": 17,
      "outputs": []
    },
    {
      "cell_type": "code",
      "source": [
        "#Crea tuplas (imputer, selector) para cada tipo de dato \n",
        "num_tuple = (mean_imputer, num_selector)\n",
        "cat_tuple = (freq_imputer, cat_selector)\n",
        "\n",
        "#Instancia ColumnTransformer\n",
        "col_transformer = make_column_transformer(num_tuple, cat_tuple, remainder = \"passthrough\")\n",
        "col_transformer"
      ],
      "metadata": {
        "colab": {
          "base_uri": "https://localhost:8080/",
          "height": 118
        },
        "id": "3HYDViXOpCpN",
        "outputId": "4b729a4c-6e57-4b99-da84-844d76f75141"
      },
      "execution_count": 18,
      "outputs": [
        {
          "output_type": "execute_result",
          "data": {
            "text/plain": [
              "ColumnTransformer(remainder='passthrough',\n",
              "                  transformers=[('simpleimputer-1', SimpleImputer(),\n",
              "                                 <sklearn.compose._column_transformer.make_column_selector object at 0x7f038c8ffa60>),\n",
              "                                ('simpleimputer-2',\n",
              "                                 SimpleImputer(strategy='most_frequent'),\n",
              "                                 <sklearn.compose._column_transformer.make_column_selector object at 0x7f038c8ffd00>)])"
            ],
            "text/html": [
              "<style>#sk-61d6f6c3-fa05-4661-bacf-77e18ba5c729 {color: black;background-color: white;}#sk-61d6f6c3-fa05-4661-bacf-77e18ba5c729 pre{padding: 0;}#sk-61d6f6c3-fa05-4661-bacf-77e18ba5c729 div.sk-toggleable {background-color: white;}#sk-61d6f6c3-fa05-4661-bacf-77e18ba5c729 label.sk-toggleable__label {cursor: pointer;display: block;width: 100%;margin-bottom: 0;padding: 0.3em;box-sizing: border-box;text-align: center;}#sk-61d6f6c3-fa05-4661-bacf-77e18ba5c729 label.sk-toggleable__label-arrow:before {content: \"▸\";float: left;margin-right: 0.25em;color: #696969;}#sk-61d6f6c3-fa05-4661-bacf-77e18ba5c729 label.sk-toggleable__label-arrow:hover:before {color: black;}#sk-61d6f6c3-fa05-4661-bacf-77e18ba5c729 div.sk-estimator:hover label.sk-toggleable__label-arrow:before {color: black;}#sk-61d6f6c3-fa05-4661-bacf-77e18ba5c729 div.sk-toggleable__content {max-height: 0;max-width: 0;overflow: hidden;text-align: left;background-color: #f0f8ff;}#sk-61d6f6c3-fa05-4661-bacf-77e18ba5c729 div.sk-toggleable__content pre {margin: 0.2em;color: black;border-radius: 0.25em;background-color: #f0f8ff;}#sk-61d6f6c3-fa05-4661-bacf-77e18ba5c729 input.sk-toggleable__control:checked~div.sk-toggleable__content {max-height: 200px;max-width: 100%;overflow: auto;}#sk-61d6f6c3-fa05-4661-bacf-77e18ba5c729 input.sk-toggleable__control:checked~label.sk-toggleable__label-arrow:before {content: \"▾\";}#sk-61d6f6c3-fa05-4661-bacf-77e18ba5c729 div.sk-estimator input.sk-toggleable__control:checked~label.sk-toggleable__label {background-color: #d4ebff;}#sk-61d6f6c3-fa05-4661-bacf-77e18ba5c729 div.sk-label input.sk-toggleable__control:checked~label.sk-toggleable__label {background-color: #d4ebff;}#sk-61d6f6c3-fa05-4661-bacf-77e18ba5c729 input.sk-hidden--visually {border: 0;clip: rect(1px 1px 1px 1px);clip: rect(1px, 1px, 1px, 1px);height: 1px;margin: -1px;overflow: hidden;padding: 0;position: absolute;width: 1px;}#sk-61d6f6c3-fa05-4661-bacf-77e18ba5c729 div.sk-estimator {font-family: monospace;background-color: #f0f8ff;border: 1px dotted black;border-radius: 0.25em;box-sizing: border-box;margin-bottom: 0.5em;}#sk-61d6f6c3-fa05-4661-bacf-77e18ba5c729 div.sk-estimator:hover {background-color: #d4ebff;}#sk-61d6f6c3-fa05-4661-bacf-77e18ba5c729 div.sk-parallel-item::after {content: \"\";width: 100%;border-bottom: 1px solid gray;flex-grow: 1;}#sk-61d6f6c3-fa05-4661-bacf-77e18ba5c729 div.sk-label:hover label.sk-toggleable__label {background-color: #d4ebff;}#sk-61d6f6c3-fa05-4661-bacf-77e18ba5c729 div.sk-serial::before {content: \"\";position: absolute;border-left: 1px solid gray;box-sizing: border-box;top: 2em;bottom: 0;left: 50%;}#sk-61d6f6c3-fa05-4661-bacf-77e18ba5c729 div.sk-serial {display: flex;flex-direction: column;align-items: center;background-color: white;padding-right: 0.2em;padding-left: 0.2em;}#sk-61d6f6c3-fa05-4661-bacf-77e18ba5c729 div.sk-item {z-index: 1;}#sk-61d6f6c3-fa05-4661-bacf-77e18ba5c729 div.sk-parallel {display: flex;align-items: stretch;justify-content: center;background-color: white;}#sk-61d6f6c3-fa05-4661-bacf-77e18ba5c729 div.sk-parallel::before {content: \"\";position: absolute;border-left: 1px solid gray;box-sizing: border-box;top: 2em;bottom: 0;left: 50%;}#sk-61d6f6c3-fa05-4661-bacf-77e18ba5c729 div.sk-parallel-item {display: flex;flex-direction: column;position: relative;background-color: white;}#sk-61d6f6c3-fa05-4661-bacf-77e18ba5c729 div.sk-parallel-item:first-child::after {align-self: flex-end;width: 50%;}#sk-61d6f6c3-fa05-4661-bacf-77e18ba5c729 div.sk-parallel-item:last-child::after {align-self: flex-start;width: 50%;}#sk-61d6f6c3-fa05-4661-bacf-77e18ba5c729 div.sk-parallel-item:only-child::after {width: 0;}#sk-61d6f6c3-fa05-4661-bacf-77e18ba5c729 div.sk-dashed-wrapped {border: 1px dashed gray;margin: 0 0.4em 0.5em 0.4em;box-sizing: border-box;padding-bottom: 0.4em;background-color: white;position: relative;}#sk-61d6f6c3-fa05-4661-bacf-77e18ba5c729 div.sk-label label {font-family: monospace;font-weight: bold;background-color: white;display: inline-block;line-height: 1.2em;}#sk-61d6f6c3-fa05-4661-bacf-77e18ba5c729 div.sk-label-container {position: relative;z-index: 2;text-align: center;}#sk-61d6f6c3-fa05-4661-bacf-77e18ba5c729 div.sk-container {/* jupyter's `normalize.less` sets `[hidden] { display: none; }` but bootstrap.min.css set `[hidden] { display: none !important; }` so we also need the `!important` here to be able to override the default hidden behavior on the sphinx rendered scikit-learn.org. See: https://github.com/scikit-learn/scikit-learn/issues/21755 */display: inline-block !important;position: relative;}#sk-61d6f6c3-fa05-4661-bacf-77e18ba5c729 div.sk-text-repr-fallback {display: none;}</style><div id=\"sk-61d6f6c3-fa05-4661-bacf-77e18ba5c729\" class=\"sk-top-container\"><div class=\"sk-text-repr-fallback\"><pre>ColumnTransformer(remainder=&#x27;passthrough&#x27;,\n",
              "                  transformers=[(&#x27;simpleimputer-1&#x27;, SimpleImputer(),\n",
              "                                 &lt;sklearn.compose._column_transformer.make_column_selector object at 0x7f038c8ffa60&gt;),\n",
              "                                (&#x27;simpleimputer-2&#x27;,\n",
              "                                 SimpleImputer(strategy=&#x27;most_frequent&#x27;),\n",
              "                                 &lt;sklearn.compose._column_transformer.make_column_selector object at 0x7f038c8ffd00&gt;)])</pre><b>Please rerun this cell to show the HTML repr or trust the notebook.</b></div><div class=\"sk-container\" hidden><div class=\"sk-item sk-dashed-wrapped\"><div class=\"sk-label-container\"><div class=\"sk-label sk-toggleable\"><input class=\"sk-toggleable__control sk-hidden--visually\" id=\"59d08c47-3f69-4058-b248-49730c7060fd\" type=\"checkbox\" ><label for=\"59d08c47-3f69-4058-b248-49730c7060fd\" class=\"sk-toggleable__label sk-toggleable__label-arrow\">ColumnTransformer</label><div class=\"sk-toggleable__content\"><pre>ColumnTransformer(remainder=&#x27;passthrough&#x27;,\n",
              "                  transformers=[(&#x27;simpleimputer-1&#x27;, SimpleImputer(),\n",
              "                                 &lt;sklearn.compose._column_transformer.make_column_selector object at 0x7f038c8ffa60&gt;),\n",
              "                                (&#x27;simpleimputer-2&#x27;,\n",
              "                                 SimpleImputer(strategy=&#x27;most_frequent&#x27;),\n",
              "                                 &lt;sklearn.compose._column_transformer.make_column_selector object at 0x7f038c8ffd00&gt;)])</pre></div></div></div><div class=\"sk-parallel\"><div class=\"sk-parallel-item\"><div class=\"sk-item\"><div class=\"sk-label-container\"><div class=\"sk-label sk-toggleable\"><input class=\"sk-toggleable__control sk-hidden--visually\" id=\"bc33dc7f-a495-4603-b2b1-a9998653cfe8\" type=\"checkbox\" ><label for=\"bc33dc7f-a495-4603-b2b1-a9998653cfe8\" class=\"sk-toggleable__label sk-toggleable__label-arrow\">simpleimputer-1</label><div class=\"sk-toggleable__content\"><pre>&lt;sklearn.compose._column_transformer.make_column_selector object at 0x7f038c8ffa60&gt;</pre></div></div></div><div class=\"sk-serial\"><div class=\"sk-item\"><div class=\"sk-estimator sk-toggleable\"><input class=\"sk-toggleable__control sk-hidden--visually\" id=\"735d54e6-e5bb-4508-8d6f-40b3ab7e003a\" type=\"checkbox\" ><label for=\"735d54e6-e5bb-4508-8d6f-40b3ab7e003a\" class=\"sk-toggleable__label sk-toggleable__label-arrow\">SimpleImputer</label><div class=\"sk-toggleable__content\"><pre>SimpleImputer()</pre></div></div></div></div></div></div><div class=\"sk-parallel-item\"><div class=\"sk-item\"><div class=\"sk-label-container\"><div class=\"sk-label sk-toggleable\"><input class=\"sk-toggleable__control sk-hidden--visually\" id=\"24b70c0c-2b6b-4aec-92cc-94ef3107fc29\" type=\"checkbox\" ><label for=\"24b70c0c-2b6b-4aec-92cc-94ef3107fc29\" class=\"sk-toggleable__label sk-toggleable__label-arrow\">simpleimputer-2</label><div class=\"sk-toggleable__content\"><pre>&lt;sklearn.compose._column_transformer.make_column_selector object at 0x7f038c8ffd00&gt;</pre></div></div></div><div class=\"sk-serial\"><div class=\"sk-item\"><div class=\"sk-estimator sk-toggleable\"><input class=\"sk-toggleable__control sk-hidden--visually\" id=\"c8e605ed-83be-4522-945f-539aa6026f7e\" type=\"checkbox\" ><label for=\"c8e605ed-83be-4522-945f-539aa6026f7e\" class=\"sk-toggleable__label sk-toggleable__label-arrow\">SimpleImputer</label><div class=\"sk-toggleable__content\"><pre>SimpleImputer(strategy=&#x27;most_frequent&#x27;)</pre></div></div></div></div></div></div><div class=\"sk-parallel-item\"><div class=\"sk-item\"><div class=\"sk-label-container\"><div class=\"sk-label sk-toggleable\"><input class=\"sk-toggleable__control sk-hidden--visually\" id=\"e697aaf0-bf00-4fae-92fc-091984136f66\" type=\"checkbox\" ><label for=\"e697aaf0-bf00-4fae-92fc-091984136f66\" class=\"sk-toggleable__label sk-toggleable__label-arrow\">remainder</label><div class=\"sk-toggleable__content\"><pre></pre></div></div></div><div class=\"sk-serial\"><div class=\"sk-item\"><div class=\"sk-estimator sk-toggleable\"><input class=\"sk-toggleable__control sk-hidden--visually\" id=\"7994e4a3-d466-4c55-8467-1bdaf68ef556\" type=\"checkbox\" ><label for=\"7994e4a3-d466-4c55-8467-1bdaf68ef556\" class=\"sk-toggleable__label sk-toggleable__label-arrow\">passthrough</label><div class=\"sk-toggleable__content\"><pre>passthrough</pre></div></div></div></div></div></div></div></div></div></div>"
            ]
          },
          "metadata": {},
          "execution_count": 18
        }
      ]
    },
    {
      "cell_type": "code",
      "source": [
        "#Ajusta ColumnTransformer en los datos de entrenamiento \n",
        "col_transformer.fit(train_df)\n",
        "\n",
        "#Transforma los datos de train_df (genera un Numpy Array)\n",
        "train_imputed = col_transformer.transform(train_df)\n",
        "\n",
        "#Cambia el resultado anterior a un DataFrame\n",
        "name_columns = num_column + cat_column + [\"Transported\"]\n",
        "train_imputed = pd.DataFrame(train_imputed, columns = name_columns)\n",
        "train_imputed.isna().any()"
      ],
      "metadata": {
        "colab": {
          "base_uri": "https://localhost:8080/"
        },
        "id": "Lh3G84WisNv1",
        "outputId": "cdeb46da-ad13-4b5e-c149-a7f208638959"
      },
      "execution_count": 19,
      "outputs": [
        {
          "output_type": "execute_result",
          "data": {
            "text/plain": [
              "Age             False\n",
              "RoomService     False\n",
              "FoodCourt       False\n",
              "ShoppingMall    False\n",
              "Spa             False\n",
              "VRDeck          False\n",
              "HomePlanet      False\n",
              "CryoSleep       False\n",
              "Destination     False\n",
              "VIP             False\n",
              "Transported     False\n",
              "dtype: bool"
            ]
          },
          "metadata": {},
          "execution_count": 19
        }
      ]
    },
    {
      "cell_type": "code",
      "source": [
        "train_imputed.head()"
      ],
      "metadata": {
        "colab": {
          "base_uri": "https://localhost:8080/",
          "height": 206
        },
        "id": "yk8Q-GOR5W1o",
        "outputId": "8db53b9b-ef72-4311-f34f-64a7dc866a36"
      },
      "execution_count": 20,
      "outputs": [
        {
          "output_type": "execute_result",
          "data": {
            "text/plain": [
              "    Age RoomService FoodCourt ShoppingMall     Spa VRDeck HomePlanet  \\\n",
              "0  39.0         0.0       0.0          0.0     0.0    0.0     Europa   \n",
              "1  24.0       109.0       9.0         25.0   549.0   44.0      Earth   \n",
              "2  58.0        43.0    3576.0          0.0  6715.0   49.0     Europa   \n",
              "3  33.0         0.0    1283.0        371.0  3329.0  193.0     Europa   \n",
              "4  16.0       303.0      70.0        151.0   565.0    2.0      Earth   \n",
              "\n",
              "  CryoSleep  Destination    VIP Transported  \n",
              "0     False  TRAPPIST-1e  False       False  \n",
              "1     False  TRAPPIST-1e  False        True  \n",
              "2     False  TRAPPIST-1e   True       False  \n",
              "3     False  TRAPPIST-1e  False       False  \n",
              "4     False  TRAPPIST-1e  False        True  "
            ],
            "text/html": [
              "\n",
              "  <div id=\"df-b5a9f0a5-e0b6-4a52-81c8-690b20c8b792\">\n",
              "    <div class=\"colab-df-container\">\n",
              "      <div>\n",
              "<style scoped>\n",
              "    .dataframe tbody tr th:only-of-type {\n",
              "        vertical-align: middle;\n",
              "    }\n",
              "\n",
              "    .dataframe tbody tr th {\n",
              "        vertical-align: top;\n",
              "    }\n",
              "\n",
              "    .dataframe thead th {\n",
              "        text-align: right;\n",
              "    }\n",
              "</style>\n",
              "<table border=\"1\" class=\"dataframe\">\n",
              "  <thead>\n",
              "    <tr style=\"text-align: right;\">\n",
              "      <th></th>\n",
              "      <th>Age</th>\n",
              "      <th>RoomService</th>\n",
              "      <th>FoodCourt</th>\n",
              "      <th>ShoppingMall</th>\n",
              "      <th>Spa</th>\n",
              "      <th>VRDeck</th>\n",
              "      <th>HomePlanet</th>\n",
              "      <th>CryoSleep</th>\n",
              "      <th>Destination</th>\n",
              "      <th>VIP</th>\n",
              "      <th>Transported</th>\n",
              "    </tr>\n",
              "  </thead>\n",
              "  <tbody>\n",
              "    <tr>\n",
              "      <th>0</th>\n",
              "      <td>39.0</td>\n",
              "      <td>0.0</td>\n",
              "      <td>0.0</td>\n",
              "      <td>0.0</td>\n",
              "      <td>0.0</td>\n",
              "      <td>0.0</td>\n",
              "      <td>Europa</td>\n",
              "      <td>False</td>\n",
              "      <td>TRAPPIST-1e</td>\n",
              "      <td>False</td>\n",
              "      <td>False</td>\n",
              "    </tr>\n",
              "    <tr>\n",
              "      <th>1</th>\n",
              "      <td>24.0</td>\n",
              "      <td>109.0</td>\n",
              "      <td>9.0</td>\n",
              "      <td>25.0</td>\n",
              "      <td>549.0</td>\n",
              "      <td>44.0</td>\n",
              "      <td>Earth</td>\n",
              "      <td>False</td>\n",
              "      <td>TRAPPIST-1e</td>\n",
              "      <td>False</td>\n",
              "      <td>True</td>\n",
              "    </tr>\n",
              "    <tr>\n",
              "      <th>2</th>\n",
              "      <td>58.0</td>\n",
              "      <td>43.0</td>\n",
              "      <td>3576.0</td>\n",
              "      <td>0.0</td>\n",
              "      <td>6715.0</td>\n",
              "      <td>49.0</td>\n",
              "      <td>Europa</td>\n",
              "      <td>False</td>\n",
              "      <td>TRAPPIST-1e</td>\n",
              "      <td>True</td>\n",
              "      <td>False</td>\n",
              "    </tr>\n",
              "    <tr>\n",
              "      <th>3</th>\n",
              "      <td>33.0</td>\n",
              "      <td>0.0</td>\n",
              "      <td>1283.0</td>\n",
              "      <td>371.0</td>\n",
              "      <td>3329.0</td>\n",
              "      <td>193.0</td>\n",
              "      <td>Europa</td>\n",
              "      <td>False</td>\n",
              "      <td>TRAPPIST-1e</td>\n",
              "      <td>False</td>\n",
              "      <td>False</td>\n",
              "    </tr>\n",
              "    <tr>\n",
              "      <th>4</th>\n",
              "      <td>16.0</td>\n",
              "      <td>303.0</td>\n",
              "      <td>70.0</td>\n",
              "      <td>151.0</td>\n",
              "      <td>565.0</td>\n",
              "      <td>2.0</td>\n",
              "      <td>Earth</td>\n",
              "      <td>False</td>\n",
              "      <td>TRAPPIST-1e</td>\n",
              "      <td>False</td>\n",
              "      <td>True</td>\n",
              "    </tr>\n",
              "  </tbody>\n",
              "</table>\n",
              "</div>\n",
              "      <button class=\"colab-df-convert\" onclick=\"convertToInteractive('df-b5a9f0a5-e0b6-4a52-81c8-690b20c8b792')\"\n",
              "              title=\"Convert this dataframe to an interactive table.\"\n",
              "              style=\"display:none;\">\n",
              "        \n",
              "  <svg xmlns=\"http://www.w3.org/2000/svg\" height=\"24px\"viewBox=\"0 0 24 24\"\n",
              "       width=\"24px\">\n",
              "    <path d=\"M0 0h24v24H0V0z\" fill=\"none\"/>\n",
              "    <path d=\"M18.56 5.44l.94 2.06.94-2.06 2.06-.94-2.06-.94-.94-2.06-.94 2.06-2.06.94zm-11 1L8.5 8.5l.94-2.06 2.06-.94-2.06-.94L8.5 2.5l-.94 2.06-2.06.94zm10 10l.94 2.06.94-2.06 2.06-.94-2.06-.94-.94-2.06-.94 2.06-2.06.94z\"/><path d=\"M17.41 7.96l-1.37-1.37c-.4-.4-.92-.59-1.43-.59-.52 0-1.04.2-1.43.59L10.3 9.45l-7.72 7.72c-.78.78-.78 2.05 0 2.83L4 21.41c.39.39.9.59 1.41.59.51 0 1.02-.2 1.41-.59l7.78-7.78 2.81-2.81c.8-.78.8-2.07 0-2.86zM5.41 20L4 18.59l7.72-7.72 1.47 1.35L5.41 20z\"/>\n",
              "  </svg>\n",
              "      </button>\n",
              "      \n",
              "  <style>\n",
              "    .colab-df-container {\n",
              "      display:flex;\n",
              "      flex-wrap:wrap;\n",
              "      gap: 12px;\n",
              "    }\n",
              "\n",
              "    .colab-df-convert {\n",
              "      background-color: #E8F0FE;\n",
              "      border: none;\n",
              "      border-radius: 50%;\n",
              "      cursor: pointer;\n",
              "      display: none;\n",
              "      fill: #1967D2;\n",
              "      height: 32px;\n",
              "      padding: 0 0 0 0;\n",
              "      width: 32px;\n",
              "    }\n",
              "\n",
              "    .colab-df-convert:hover {\n",
              "      background-color: #E2EBFA;\n",
              "      box-shadow: 0px 1px 2px rgba(60, 64, 67, 0.3), 0px 1px 3px 1px rgba(60, 64, 67, 0.15);\n",
              "      fill: #174EA6;\n",
              "    }\n",
              "\n",
              "    [theme=dark] .colab-df-convert {\n",
              "      background-color: #3B4455;\n",
              "      fill: #D2E3FC;\n",
              "    }\n",
              "\n",
              "    [theme=dark] .colab-df-convert:hover {\n",
              "      background-color: #434B5C;\n",
              "      box-shadow: 0px 1px 3px 1px rgba(0, 0, 0, 0.15);\n",
              "      filter: drop-shadow(0px 1px 2px rgba(0, 0, 0, 0.3));\n",
              "      fill: #FFFFFF;\n",
              "    }\n",
              "  </style>\n",
              "\n",
              "      <script>\n",
              "        const buttonEl =\n",
              "          document.querySelector('#df-b5a9f0a5-e0b6-4a52-81c8-690b20c8b792 button.colab-df-convert');\n",
              "        buttonEl.style.display =\n",
              "          google.colab.kernel.accessAllowed ? 'block' : 'none';\n",
              "\n",
              "        async function convertToInteractive(key) {\n",
              "          const element = document.querySelector('#df-b5a9f0a5-e0b6-4a52-81c8-690b20c8b792');\n",
              "          const dataTable =\n",
              "            await google.colab.kernel.invokeFunction('convertToInteractive',\n",
              "                                                     [key], {});\n",
              "          if (!dataTable) return;\n",
              "\n",
              "          const docLinkHtml = 'Like what you see? Visit the ' +\n",
              "            '<a target=\"_blank\" href=https://colab.research.google.com/notebooks/data_table.ipynb>data table notebook</a>'\n",
              "            + ' to learn more about interactive tables.';\n",
              "          element.innerHTML = '';\n",
              "          dataTable['output_type'] = 'display_data';\n",
              "          await google.colab.output.renderOutput(dataTable, element);\n",
              "          const docLink = document.createElement('div');\n",
              "          docLink.innerHTML = docLinkHtml;\n",
              "          element.appendChild(docLink);\n",
              "        }\n",
              "      </script>\n",
              "    </div>\n",
              "  </div>\n",
              "  "
            ]
          },
          "metadata": {},
          "execution_count": 20
        }
      ]
    },
    {
      "cell_type": "code",
      "source": [
        "train_imputed.info()"
      ],
      "metadata": {
        "colab": {
          "base_uri": "https://localhost:8080/"
        },
        "id": "PLg_AG5YWaWG",
        "outputId": "f79e9207-36f1-4ab8-fca0-6ba0bf4b6a8d"
      },
      "execution_count": 21,
      "outputs": [
        {
          "output_type": "stream",
          "name": "stdout",
          "text": [
            "<class 'pandas.core.frame.DataFrame'>\n",
            "RangeIndex: 6427 entries, 0 to 6426\n",
            "Data columns (total 11 columns):\n",
            " #   Column        Non-Null Count  Dtype \n",
            "---  ------        --------------  ----- \n",
            " 0   Age           6427 non-null   object\n",
            " 1   RoomService   6427 non-null   object\n",
            " 2   FoodCourt     6427 non-null   object\n",
            " 3   ShoppingMall  6427 non-null   object\n",
            " 4   Spa           6427 non-null   object\n",
            " 5   VRDeck        6427 non-null   object\n",
            " 6   HomePlanet    6427 non-null   object\n",
            " 7   CryoSleep     6427 non-null   object\n",
            " 8   Destination   6427 non-null   object\n",
            " 9   VIP           6427 non-null   object\n",
            " 10  Transported   6427 non-null   object\n",
            "dtypes: object(11)\n",
            "memory usage: 552.4+ KB\n"
          ]
        }
      ]
    },
    {
      "cell_type": "markdown",
      "source": [
        "Después de realizar el Simple Imputer, todos los tipos de dato de las columnas quedan transformados en \"object\". Ahora, vamos a realizar las transformaciones correspondientes para que queden con e tipo de dato que le pertenecen. "
      ],
      "metadata": {
        "id": "fH1QDO6Dkszu"
      }
    },
    {
      "cell_type": "code",
      "source": [
        "#Transforma la columna \"Age\"\n",
        "train_imputed[\"Age\"] = train_imputed[\"Age\"].astype(int)\n",
        "\n",
        "#Transforma la columna \"RoomService\"\n",
        "train_imputed[\"RoomService\"] = train_imputed[\"RoomService\"].astype(float)\n",
        "\n",
        "#Transforma la columna \"FoodCourt\"\n",
        "train_imputed[\"FoodCourt\"] = train_imputed[\"FoodCourt\"].astype(float)\n",
        "\n",
        "#Transforma la columna \"ShoppingMall\"\n",
        "train_imputed[\"ShoppingMall\"] = train_imputed[\"ShoppingMall\"].astype(float)\n",
        "\n",
        "#Transforma la columna \"Spa\"\n",
        "train_imputed[\"Spa\"] = train_imputed[\"Spa\"].astype(float)\n",
        "\n",
        "#Transforma la columna \"VRDeck\"\n",
        "train_imputed[\"VRDeck\"] = train_imputed[\"VRDeck\"].astype(float)\n",
        "\n",
        "#Transforma la columna \"CryoSleep\"\n",
        "train_imputed[\"CryoSleep\"] = train_imputed[\"CryoSleep\"].astype(bool)\n",
        "\n",
        "#Transforma la columna \"VIP\"\n",
        "train_imputed[\"VIP\"] = train_imputed[\"VIP\"].astype(bool)\n",
        "\n",
        "#Transforma la columna \"Transported\"\n",
        "train_imputed[\"Transported\"] = train_imputed[\"Transported\"].astype(bool)"
      ],
      "metadata": {
        "id": "oTyueEpykJy_"
      },
      "execution_count": 22,
      "outputs": []
    },
    {
      "cell_type": "code",
      "source": [
        "train_imputed.info()"
      ],
      "metadata": {
        "id": "MUXyohcSsZFX",
        "colab": {
          "base_uri": "https://localhost:8080/"
        },
        "outputId": "6dbb241b-8590-4131-8856-cfe13b601ef1"
      },
      "execution_count": 23,
      "outputs": [
        {
          "output_type": "stream",
          "name": "stdout",
          "text": [
            "<class 'pandas.core.frame.DataFrame'>\n",
            "RangeIndex: 6427 entries, 0 to 6426\n",
            "Data columns (total 11 columns):\n",
            " #   Column        Non-Null Count  Dtype  \n",
            "---  ------        --------------  -----  \n",
            " 0   Age           6427 non-null   int64  \n",
            " 1   RoomService   6427 non-null   float64\n",
            " 2   FoodCourt     6427 non-null   float64\n",
            " 3   ShoppingMall  6427 non-null   float64\n",
            " 4   Spa           6427 non-null   float64\n",
            " 5   VRDeck        6427 non-null   float64\n",
            " 6   HomePlanet    6427 non-null   object \n",
            " 7   CryoSleep     6427 non-null   bool   \n",
            " 8   Destination   6427 non-null   object \n",
            " 9   VIP           6427 non-null   bool   \n",
            " 10  Transported   6427 non-null   bool   \n",
            "dtypes: bool(3), float64(5), int64(1), object(2)\n",
            "memory usage: 420.6+ KB\n"
          ]
        }
      ]
    },
    {
      "cell_type": "markdown",
      "source": [
        "### Conjunto de prueba "
      ],
      "metadata": {
        "id": "lI2pZQpRZ1SW"
      }
    },
    {
      "cell_type": "code",
      "source": [
        "test_df.info()"
      ],
      "metadata": {
        "colab": {
          "base_uri": "https://localhost:8080/"
        },
        "id": "7AivfYpMY0lQ",
        "outputId": "20fa521b-3093-4bb2-e70b-af01655d86b2"
      },
      "execution_count": 24,
      "outputs": [
        {
          "output_type": "stream",
          "name": "stdout",
          "text": [
            "<class 'pandas.core.frame.DataFrame'>\n",
            "Int64Index: 3212 entries, 0 to 4275\n",
            "Data columns (total 10 columns):\n",
            " #   Column        Non-Null Count  Dtype  \n",
            "---  ------        --------------  -----  \n",
            " 0   HomePlanet    3127 non-null   object \n",
            " 1   CryoSleep     3120 non-null   object \n",
            " 2   Destination   3123 non-null   object \n",
            " 3   Age           3144 non-null   float64\n",
            " 4   VIP           3119 non-null   object \n",
            " 5   RoomService   3130 non-null   float64\n",
            " 6   FoodCourt     3107 non-null   float64\n",
            " 7   ShoppingMall  3118 non-null   float64\n",
            " 8   Spa           3112 non-null   float64\n",
            " 9   VRDeck        3134 non-null   float64\n",
            "dtypes: float64(6), object(4)\n",
            "memory usage: 276.0+ KB\n"
          ]
        }
      ]
    },
    {
      "cell_type": "code",
      "source": [
        "test_df.isna().any()"
      ],
      "metadata": {
        "colab": {
          "base_uri": "https://localhost:8080/"
        },
        "id": "EaqrLq6mZ8KL",
        "outputId": "013bfbe0-87cd-4efe-95f0-f4182e33e53e"
      },
      "execution_count": 25,
      "outputs": [
        {
          "output_type": "execute_result",
          "data": {
            "text/plain": [
              "HomePlanet      True\n",
              "CryoSleep       True\n",
              "Destination     True\n",
              "Age             True\n",
              "VIP             True\n",
              "RoomService     True\n",
              "FoodCourt       True\n",
              "ShoppingMall    True\n",
              "Spa             True\n",
              "VRDeck          True\n",
              "dtype: bool"
            ]
          },
          "metadata": {},
          "execution_count": 25
        }
      ]
    },
    {
      "cell_type": "code",
      "source": [
        "#Realiza Simple Imputer con las mismas configuraciones que usamos para \n",
        "#el conjunto de datos de entrenamiento \n",
        "\n",
        "#Ajusta ColumnTransformer en los datos de entrenamiento \n",
        "col_transformer.fit(test_df)\n",
        "\n",
        "#Transforma los datos de train_df (genera un Numpy Array)\n",
        "test_imputed = col_transformer.transform(test_df)\n",
        "\n",
        "#Cambia el resultado anterior a un DataFrame\n",
        "name_columns = num_column + cat_column \n",
        "test_imputed = pd.DataFrame(test_imputed, columns = name_columns)\n",
        "test_imputed.isna().any()"
      ],
      "metadata": {
        "colab": {
          "base_uri": "https://localhost:8080/"
        },
        "id": "cs44ncCPaXLl",
        "outputId": "be7e9538-f298-45d4-bb9f-34b43993f11f"
      },
      "execution_count": 26,
      "outputs": [
        {
          "output_type": "execute_result",
          "data": {
            "text/plain": [
              "Age             False\n",
              "RoomService     False\n",
              "FoodCourt       False\n",
              "ShoppingMall    False\n",
              "Spa             False\n",
              "VRDeck          False\n",
              "HomePlanet      False\n",
              "CryoSleep       False\n",
              "Destination     False\n",
              "VIP             False\n",
              "dtype: bool"
            ]
          },
          "metadata": {},
          "execution_count": 26
        }
      ]
    },
    {
      "cell_type": "code",
      "source": [
        "test_imputed.head()"
      ],
      "metadata": {
        "colab": {
          "base_uri": "https://localhost:8080/",
          "height": 206
        },
        "id": "dAtfxe0BamVr",
        "outputId": "cef1288a-3f4a-4413-f234-8e8d358fbf58"
      },
      "execution_count": 27,
      "outputs": [
        {
          "output_type": "execute_result",
          "data": {
            "text/plain": [
              "    Age RoomService FoodCourt ShoppingMall     Spa VRDeck HomePlanet  \\\n",
              "0  27.0         0.0       0.0          0.0     0.0    0.0      Earth   \n",
              "1  19.0         0.0       9.0          0.0  2823.0    0.0      Earth   \n",
              "2  31.0         0.0       0.0          0.0     0.0    0.0     Europa   \n",
              "3  38.0         0.0    6652.0          0.0   181.0  585.0     Europa   \n",
              "4  20.0        10.0       0.0        635.0     0.0    0.0      Earth   \n",
              "\n",
              "  CryoSleep  Destination    VIP  \n",
              "0      True  TRAPPIST-1e  False  \n",
              "1     False  TRAPPIST-1e  False  \n",
              "2      True  55 Cancri e  False  \n",
              "3     False  TRAPPIST-1e  False  \n",
              "4     False  TRAPPIST-1e  False  "
            ],
            "text/html": [
              "\n",
              "  <div id=\"df-cdae5951-95a0-48d5-8379-fd12a5fd8bbf\">\n",
              "    <div class=\"colab-df-container\">\n",
              "      <div>\n",
              "<style scoped>\n",
              "    .dataframe tbody tr th:only-of-type {\n",
              "        vertical-align: middle;\n",
              "    }\n",
              "\n",
              "    .dataframe tbody tr th {\n",
              "        vertical-align: top;\n",
              "    }\n",
              "\n",
              "    .dataframe thead th {\n",
              "        text-align: right;\n",
              "    }\n",
              "</style>\n",
              "<table border=\"1\" class=\"dataframe\">\n",
              "  <thead>\n",
              "    <tr style=\"text-align: right;\">\n",
              "      <th></th>\n",
              "      <th>Age</th>\n",
              "      <th>RoomService</th>\n",
              "      <th>FoodCourt</th>\n",
              "      <th>ShoppingMall</th>\n",
              "      <th>Spa</th>\n",
              "      <th>VRDeck</th>\n",
              "      <th>HomePlanet</th>\n",
              "      <th>CryoSleep</th>\n",
              "      <th>Destination</th>\n",
              "      <th>VIP</th>\n",
              "    </tr>\n",
              "  </thead>\n",
              "  <tbody>\n",
              "    <tr>\n",
              "      <th>0</th>\n",
              "      <td>27.0</td>\n",
              "      <td>0.0</td>\n",
              "      <td>0.0</td>\n",
              "      <td>0.0</td>\n",
              "      <td>0.0</td>\n",
              "      <td>0.0</td>\n",
              "      <td>Earth</td>\n",
              "      <td>True</td>\n",
              "      <td>TRAPPIST-1e</td>\n",
              "      <td>False</td>\n",
              "    </tr>\n",
              "    <tr>\n",
              "      <th>1</th>\n",
              "      <td>19.0</td>\n",
              "      <td>0.0</td>\n",
              "      <td>9.0</td>\n",
              "      <td>0.0</td>\n",
              "      <td>2823.0</td>\n",
              "      <td>0.0</td>\n",
              "      <td>Earth</td>\n",
              "      <td>False</td>\n",
              "      <td>TRAPPIST-1e</td>\n",
              "      <td>False</td>\n",
              "    </tr>\n",
              "    <tr>\n",
              "      <th>2</th>\n",
              "      <td>31.0</td>\n",
              "      <td>0.0</td>\n",
              "      <td>0.0</td>\n",
              "      <td>0.0</td>\n",
              "      <td>0.0</td>\n",
              "      <td>0.0</td>\n",
              "      <td>Europa</td>\n",
              "      <td>True</td>\n",
              "      <td>55 Cancri e</td>\n",
              "      <td>False</td>\n",
              "    </tr>\n",
              "    <tr>\n",
              "      <th>3</th>\n",
              "      <td>38.0</td>\n",
              "      <td>0.0</td>\n",
              "      <td>6652.0</td>\n",
              "      <td>0.0</td>\n",
              "      <td>181.0</td>\n",
              "      <td>585.0</td>\n",
              "      <td>Europa</td>\n",
              "      <td>False</td>\n",
              "      <td>TRAPPIST-1e</td>\n",
              "      <td>False</td>\n",
              "    </tr>\n",
              "    <tr>\n",
              "      <th>4</th>\n",
              "      <td>20.0</td>\n",
              "      <td>10.0</td>\n",
              "      <td>0.0</td>\n",
              "      <td>635.0</td>\n",
              "      <td>0.0</td>\n",
              "      <td>0.0</td>\n",
              "      <td>Earth</td>\n",
              "      <td>False</td>\n",
              "      <td>TRAPPIST-1e</td>\n",
              "      <td>False</td>\n",
              "    </tr>\n",
              "  </tbody>\n",
              "</table>\n",
              "</div>\n",
              "      <button class=\"colab-df-convert\" onclick=\"convertToInteractive('df-cdae5951-95a0-48d5-8379-fd12a5fd8bbf')\"\n",
              "              title=\"Convert this dataframe to an interactive table.\"\n",
              "              style=\"display:none;\">\n",
              "        \n",
              "  <svg xmlns=\"http://www.w3.org/2000/svg\" height=\"24px\"viewBox=\"0 0 24 24\"\n",
              "       width=\"24px\">\n",
              "    <path d=\"M0 0h24v24H0V0z\" fill=\"none\"/>\n",
              "    <path d=\"M18.56 5.44l.94 2.06.94-2.06 2.06-.94-2.06-.94-.94-2.06-.94 2.06-2.06.94zm-11 1L8.5 8.5l.94-2.06 2.06-.94-2.06-.94L8.5 2.5l-.94 2.06-2.06.94zm10 10l.94 2.06.94-2.06 2.06-.94-2.06-.94-.94-2.06-.94 2.06-2.06.94z\"/><path d=\"M17.41 7.96l-1.37-1.37c-.4-.4-.92-.59-1.43-.59-.52 0-1.04.2-1.43.59L10.3 9.45l-7.72 7.72c-.78.78-.78 2.05 0 2.83L4 21.41c.39.39.9.59 1.41.59.51 0 1.02-.2 1.41-.59l7.78-7.78 2.81-2.81c.8-.78.8-2.07 0-2.86zM5.41 20L4 18.59l7.72-7.72 1.47 1.35L5.41 20z\"/>\n",
              "  </svg>\n",
              "      </button>\n",
              "      \n",
              "  <style>\n",
              "    .colab-df-container {\n",
              "      display:flex;\n",
              "      flex-wrap:wrap;\n",
              "      gap: 12px;\n",
              "    }\n",
              "\n",
              "    .colab-df-convert {\n",
              "      background-color: #E8F0FE;\n",
              "      border: none;\n",
              "      border-radius: 50%;\n",
              "      cursor: pointer;\n",
              "      display: none;\n",
              "      fill: #1967D2;\n",
              "      height: 32px;\n",
              "      padding: 0 0 0 0;\n",
              "      width: 32px;\n",
              "    }\n",
              "\n",
              "    .colab-df-convert:hover {\n",
              "      background-color: #E2EBFA;\n",
              "      box-shadow: 0px 1px 2px rgba(60, 64, 67, 0.3), 0px 1px 3px 1px rgba(60, 64, 67, 0.15);\n",
              "      fill: #174EA6;\n",
              "    }\n",
              "\n",
              "    [theme=dark] .colab-df-convert {\n",
              "      background-color: #3B4455;\n",
              "      fill: #D2E3FC;\n",
              "    }\n",
              "\n",
              "    [theme=dark] .colab-df-convert:hover {\n",
              "      background-color: #434B5C;\n",
              "      box-shadow: 0px 1px 3px 1px rgba(0, 0, 0, 0.15);\n",
              "      filter: drop-shadow(0px 1px 2px rgba(0, 0, 0, 0.3));\n",
              "      fill: #FFFFFF;\n",
              "    }\n",
              "  </style>\n",
              "\n",
              "      <script>\n",
              "        const buttonEl =\n",
              "          document.querySelector('#df-cdae5951-95a0-48d5-8379-fd12a5fd8bbf button.colab-df-convert');\n",
              "        buttonEl.style.display =\n",
              "          google.colab.kernel.accessAllowed ? 'block' : 'none';\n",
              "\n",
              "        async function convertToInteractive(key) {\n",
              "          const element = document.querySelector('#df-cdae5951-95a0-48d5-8379-fd12a5fd8bbf');\n",
              "          const dataTable =\n",
              "            await google.colab.kernel.invokeFunction('convertToInteractive',\n",
              "                                                     [key], {});\n",
              "          if (!dataTable) return;\n",
              "\n",
              "          const docLinkHtml = 'Like what you see? Visit the ' +\n",
              "            '<a target=\"_blank\" href=https://colab.research.google.com/notebooks/data_table.ipynb>data table notebook</a>'\n",
              "            + ' to learn more about interactive tables.';\n",
              "          element.innerHTML = '';\n",
              "          dataTable['output_type'] = 'display_data';\n",
              "          await google.colab.output.renderOutput(dataTable, element);\n",
              "          const docLink = document.createElement('div');\n",
              "          docLink.innerHTML = docLinkHtml;\n",
              "          element.appendChild(docLink);\n",
              "        }\n",
              "      </script>\n",
              "    </div>\n",
              "  </div>\n",
              "  "
            ]
          },
          "metadata": {},
          "execution_count": 27
        }
      ]
    },
    {
      "cell_type": "code",
      "source": [
        "#Transforma la columna \"Age\"\n",
        "test_imputed[\"Age\"] = test_imputed[\"Age\"].astype(int)\n",
        "\n",
        "#Transforma la columna \"RoomService\"\n",
        "test_imputed[\"RoomService\"] = test_imputed[\"RoomService\"].astype(float)\n",
        "\n",
        "#Transforma la columna \"FoodCourt\"\n",
        "test_imputed[\"FoodCourt\"] = test_imputed[\"FoodCourt\"].astype(float)\n",
        "\n",
        "#Transforma la columna \"ShoppingMall\"\n",
        "test_imputed[\"ShoppingMall\"] = test_imputed[\"ShoppingMall\"].astype(float)\n",
        "\n",
        "#Transforma la columna \"Spa\"\n",
        "test_imputed[\"Spa\"] = test_imputed[\"Spa\"].astype(float)\n",
        "\n",
        "#Transforma la columna \"VRDeck\"\n",
        "test_imputed[\"VRDeck\"] = test_imputed[\"VRDeck\"].astype(float)\n",
        "\n",
        "#Transforma la columna \"CryoSleep\"\n",
        "test_imputed[\"CryoSleep\"] = test_imputed[\"CryoSleep\"].astype(bool)\n",
        "\n",
        "#Transforma la columna \"VIP\"\n",
        "test_imputed[\"VIP\"] = test_imputed[\"VIP\"].astype(bool)"
      ],
      "metadata": {
        "id": "SsKUrDAYa2Mx"
      },
      "execution_count": 28,
      "outputs": []
    },
    {
      "cell_type": "code",
      "source": [
        "test_imputed.info()"
      ],
      "metadata": {
        "colab": {
          "base_uri": "https://localhost:8080/"
        },
        "id": "jfi1ghIGa62L",
        "outputId": "661a5d8b-6efc-4f60-eda4-a0dd17356271"
      },
      "execution_count": 29,
      "outputs": [
        {
          "output_type": "stream",
          "name": "stdout",
          "text": [
            "<class 'pandas.core.frame.DataFrame'>\n",
            "RangeIndex: 3212 entries, 0 to 3211\n",
            "Data columns (total 10 columns):\n",
            " #   Column        Non-Null Count  Dtype  \n",
            "---  ------        --------------  -----  \n",
            " 0   Age           3212 non-null   int64  \n",
            " 1   RoomService   3212 non-null   float64\n",
            " 2   FoodCourt     3212 non-null   float64\n",
            " 3   ShoppingMall  3212 non-null   float64\n",
            " 4   Spa           3212 non-null   float64\n",
            " 5   VRDeck        3212 non-null   float64\n",
            " 6   HomePlanet    3212 non-null   object \n",
            " 7   CryoSleep     3212 non-null   bool   \n",
            " 8   Destination   3212 non-null   object \n",
            " 9   VIP           3212 non-null   bool   \n",
            "dtypes: bool(2), float64(5), int64(1), object(2)\n",
            "memory usage: 207.1+ KB\n"
          ]
        }
      ]
    },
    {
      "cell_type": "markdown",
      "source": [
        "### **Identifica y corrige las inconsistencias en los datos para los valores categóricos**"
      ],
      "metadata": {
        "id": "MiRhJ3hgbQ3I"
      }
    },
    {
      "cell_type": "markdown",
      "source": [
        "### Conjunto de entrenamiento "
      ],
      "metadata": {
        "id": "BVWIFSSXbaqM"
      }
    },
    {
      "cell_type": "code",
      "source": [
        "#\"HomePlanet\" \n",
        "train_imputed[\"HomePlanet\"].value_counts()"
      ],
      "metadata": {
        "colab": {
          "base_uri": "https://localhost:8080/"
        },
        "id": "H0cjYoUjbLYI",
        "outputId": "f4ab10e1-38a0-489c-f119-8dcf2d11e09b"
      },
      "execution_count": 30,
      "outputs": [
        {
          "output_type": "execute_result",
          "data": {
            "text/plain": [
              "Earth     3693\n",
              "Europa    1464\n",
              "Mars      1270\n",
              "Name: HomePlanet, dtype: int64"
            ]
          },
          "metadata": {},
          "execution_count": 30
        }
      ]
    },
    {
      "cell_type": "code",
      "source": [
        "#\"CryoSleep\"\n",
        "train_imputed[\"CryoSleep\"].value_counts()"
      ],
      "metadata": {
        "colab": {
          "base_uri": "https://localhost:8080/"
        },
        "id": "UNLD6X5vbt_H",
        "outputId": "27b19189-df60-43a4-b6d4-b66507459da5"
      },
      "execution_count": 31,
      "outputs": [
        {
          "output_type": "execute_result",
          "data": {
            "text/plain": [
              "False    5373\n",
              "True     1054\n",
              "Name: CryoSleep, dtype: int64"
            ]
          },
          "metadata": {},
          "execution_count": 31
        }
      ]
    },
    {
      "cell_type": "code",
      "source": [
        "#\"Destination\"\n",
        "train_imputed[\"Destination\"].value_counts()"
      ],
      "metadata": {
        "colab": {
          "base_uri": "https://localhost:8080/"
        },
        "id": "D8ioNqP-b4rI",
        "outputId": "1d2bd813-65c4-46d6-f05a-129f302f4824"
      },
      "execution_count": 32,
      "outputs": [
        {
          "output_type": "execute_result",
          "data": {
            "text/plain": [
              "TRAPPIST-1e      4571\n",
              "55 Cancri e      1289\n",
              "PSO J318.5-22     567\n",
              "Name: Destination, dtype: int64"
            ]
          },
          "metadata": {},
          "execution_count": 32
        }
      ]
    },
    {
      "cell_type": "code",
      "source": [
        "#\"VIP\"\n",
        "train_imputed[\"VIP\"].value_counts()"
      ],
      "metadata": {
        "colab": {
          "base_uri": "https://localhost:8080/"
        },
        "id": "x0uMWeUxcAJL",
        "outputId": "3308b52b-bf96-464b-caad-f083ee0ffa10"
      },
      "execution_count": 33,
      "outputs": [
        {
          "output_type": "execute_result",
          "data": {
            "text/plain": [
              "False    6230\n",
              "True      197\n",
              "Name: VIP, dtype: int64"
            ]
          },
          "metadata": {},
          "execution_count": 33
        }
      ]
    },
    {
      "cell_type": "markdown",
      "source": [
        "No se encontró inconsistencia en los datos categóricos del conjunto de entrenamiento. "
      ],
      "metadata": {
        "id": "TxwvP4EFcJHN"
      }
    },
    {
      "cell_type": "markdown",
      "source": [
        "### Conjunto de prueba "
      ],
      "metadata": {
        "id": "CHcMpkHXcPMu"
      }
    },
    {
      "cell_type": "code",
      "source": [
        "#\"HomePlanet\" \n",
        "test_imputed[\"HomePlanet\"].value_counts()"
      ],
      "metadata": {
        "colab": {
          "base_uri": "https://localhost:8080/"
        },
        "id": "5XrETxMjcGiX",
        "outputId": "cd2dccf0-947a-4a84-c6a5-73eb91481daa"
      },
      "execution_count": 34,
      "outputs": [
        {
          "output_type": "execute_result",
          "data": {
            "text/plain": [
              "Earth     1813\n",
              "Europa     711\n",
              "Mars       688\n",
              "Name: HomePlanet, dtype: int64"
            ]
          },
          "metadata": {},
          "execution_count": 34
        }
      ]
    },
    {
      "cell_type": "code",
      "source": [
        "#\"CryoSleep\"\n",
        "test_imputed[\"CryoSleep\"].value_counts()"
      ],
      "metadata": {
        "colab": {
          "base_uri": "https://localhost:8080/"
        },
        "id": "A9DtZOeHcTbr",
        "outputId": "c621a920-8067-40bf-bac8-6712b6af4715"
      },
      "execution_count": 35,
      "outputs": [
        {
          "output_type": "execute_result",
          "data": {
            "text/plain": [
              "False    2622\n",
              "True      590\n",
              "Name: CryoSleep, dtype: int64"
            ]
          },
          "metadata": {},
          "execution_count": 35
        }
      ]
    },
    {
      "cell_type": "code",
      "source": [
        "#\"Destination\"\n",
        "test_imputed[\"Destination\"].value_counts()"
      ],
      "metadata": {
        "colab": {
          "base_uri": "https://localhost:8080/"
        },
        "id": "SfDM7oZHcWyp",
        "outputId": "96f65211-359b-438d-e4fb-c3f4c9c5d5bc"
      },
      "execution_count": 36,
      "outputs": [
        {
          "output_type": "execute_result",
          "data": {
            "text/plain": [
              "TRAPPIST-1e      2301\n",
              "55 Cancri e       638\n",
              "PSO J318.5-22     273\n",
              "Name: Destination, dtype: int64"
            ]
          },
          "metadata": {},
          "execution_count": 36
        }
      ]
    },
    {
      "cell_type": "code",
      "source": [
        "#\"VIP\"\n",
        "test_imputed[\"VIP\"].value_counts()"
      ],
      "metadata": {
        "colab": {
          "base_uri": "https://localhost:8080/"
        },
        "id": "wsRKHytWcZ8P",
        "outputId": "824f9306-f549-427e-a548-a8e4d8b0266f"
      },
      "execution_count": 37,
      "outputs": [
        {
          "output_type": "execute_result",
          "data": {
            "text/plain": [
              "False    3138\n",
              "True       74\n",
              "Name: VIP, dtype: int64"
            ]
          },
          "metadata": {},
          "execution_count": 37
        }
      ]
    },
    {
      "cell_type": "markdown",
      "source": [
        "Tampoco se encontró inconsistencia en los datos categóricos del conjunto de prueba."
      ],
      "metadata": {
        "id": "MfwDM1YzclQG"
      }
    },
    {
      "cell_type": "markdown",
      "source": [
        "### **Producir visuales univariantes para el objetivo y todas las características**"
      ],
      "metadata": {
        "id": "-rjSkzHzc4h2"
      }
    },
    {
      "cell_type": "code",
      "source": [
        "#Histogram (\"Age\" column)\n",
        "plt.style.use(\"seaborn\")\n",
        "train_imputed[\"Age\"].hist(bins = 20, edgecolor = \"black\");\n",
        "plt.title(\"Age Histogram\", fontsize = 20)\n",
        "plt.xticks(fontsize = 16);\n",
        "plt.yticks(fontsize = 16);"
      ],
      "metadata": {
        "colab": {
          "base_uri": "https://localhost:8080/",
          "height": 428
        },
        "id": "mJ-2zq4uchIm",
        "outputId": "9d2f2112-39cd-453d-f174-ba35857b8249"
      },
      "execution_count": 38,
      "outputs": [
        {
          "output_type": "stream",
          "name": "stderr",
          "text": [
            "<ipython-input-38-ed5f0041667e>:2: MatplotlibDeprecationWarning: The seaborn styles shipped by Matplotlib are deprecated since 3.6, as they no longer correspond to the styles shipped by seaborn. However, they will remain available as 'seaborn-v0_8-<style>'. Alternatively, directly use the seaborn API instead.\n",
            "  plt.style.use(\"seaborn\")\n"
          ]
        },
        {
          "output_type": "display_data",
          "data": {
            "text/plain": [
              "<Figure size 576x396 with 1 Axes>"
            ],
            "image/png": "[encoded data removed]"
          },
          "metadata": {}
        }
      ]
    },
    {
      "cell_type": "code",
      "source": [
        "#Pie Chart\n",
        "plt.figure(figsize = (13,5))\n",
        "\n",
        "#\"HomePlanet\"\n",
        "plt.subplot(1,2,1)\n",
        "homep_counts = train_imputed[\"HomePlanet\"].value_counts()\n",
        "labels = [\"Earth\", \"Europa\", \"Mars\"]\n",
        "colors = sns.color_palette('pastel')[0:5]\n",
        "\n",
        "plt.pie(homep_counts, labels = labels, textprops={'fontsize': 14}, colors = colors, autopct='%.0f%%');\n",
        "plt.title(\"Home Planet\", fontsize = 20);\n",
        "\n",
        "#\"Destination\"\n",
        "plt.subplot(1,2,2)\n",
        "destination_counts = train_imputed[\"Destination\"].value_counts()\n",
        "labels = [\"TRAPPIST-1e\", \"55 Cancri e\", \"PSO J318.5-22\"]\n",
        "colors = sns.color_palette('pastel')[0:5]\n",
        "\n",
        "plt.pie(destination_counts, labels = labels, textprops={'fontsize': 14}, colors = colors, autopct='%.0f%%');\n",
        "plt.title(\"Destination\", fontsize = 20);"
      ],
      "metadata": {
        "colab": {
          "base_uri": "https://localhost:8080/",
          "height": 324
        },
        "id": "Zusua-b3e51H",
        "outputId": "ba47e479-e29e-49bc-ea65-242886f4da95"
      },
      "execution_count": 39,
      "outputs": [
        {
          "output_type": "display_data",
          "data": {
            "text/plain": [
              "<Figure size 936x360 with 2 Axes>"
            ],
            "image/png": "[encoded data removed]"
          },
          "metadata": {}
        }
      ]
    },
    {
      "cell_type": "code",
      "source": [
        "#Histogram \n",
        "plt.figure(figsize = (20,5))\n",
        "\n",
        "#\"CryoSleep\"\n",
        "plt.subplot(1,3,1)\n",
        "plt.style.use(\"seaborn\")\n",
        "train_imputed[\"CryoSleep\"].astype(int).hist(edgecolor = \"black\");\n",
        "plt.title(\"Cryo Sleep\", fontsize = 20)\n",
        "plt.xticks(fontsize = 16);\n",
        "plt.yticks(fontsize = 16);\n",
        "\n",
        "#\"VIP\"\n",
        "plt.subplot(1,3,2)\n",
        "plt.style.use(\"seaborn\")\n",
        "train_imputed[\"VIP\"].astype(int).hist(edgecolor = \"black\");\n",
        "plt.title(\"VIP\", fontsize = 20)\n",
        "plt.xticks(fontsize = 16);\n",
        "plt.yticks(fontsize = 16);\n",
        "\n",
        "#\"Transported\"\n",
        "plt.subplot(1,3,3)\n",
        "plt.style.use(\"seaborn\")\n",
        "train_imputed[\"Transported\"].astype(int).hist(edgecolor = \"black\");\n",
        "plt.title(\"Transported\", fontsize = 20)\n",
        "plt.xticks(fontsize = 16);\n",
        "plt.yticks(fontsize = 16);"
      ],
      "metadata": {
        "colab": {
          "base_uri": "https://localhost:8080/",
          "height": 452
        },
        "id": "ONoT03N_gNdp",
        "outputId": "747b18ff-113a-4deb-e022-72be2525a3b8"
      },
      "execution_count": 40,
      "outputs": [
        {
          "output_type": "stream",
          "name": "stderr",
          "text": [
            "<ipython-input-40-909e1ce852f5>:6: MatplotlibDeprecationWarning: The seaborn styles shipped by Matplotlib are deprecated since 3.6, as they no longer correspond to the styles shipped by seaborn. However, they will remain available as 'seaborn-v0_8-<style>'. Alternatively, directly use the seaborn API instead.\n",
            "  plt.style.use(\"seaborn\")\n",
            "<ipython-input-40-909e1ce852f5>:14: MatplotlibDeprecationWarning: The seaborn styles shipped by Matplotlib are deprecated since 3.6, as they no longer correspond to the styles shipped by seaborn. However, they will remain available as 'seaborn-v0_8-<style>'. Alternatively, directly use the seaborn API instead.\n",
            "  plt.style.use(\"seaborn\")\n",
            "<ipython-input-40-909e1ce852f5>:22: MatplotlibDeprecationWarning: The seaborn styles shipped by Matplotlib are deprecated since 3.6, as they no longer correspond to the styles shipped by seaborn. However, they will remain available as 'seaborn-v0_8-<style>'. Alternatively, directly use the seaborn API instead.\n",
            "  plt.style.use(\"seaborn\")\n"
          ]
        },
        {
          "output_type": "display_data",
          "data": {
            "text/plain": [
              "<Figure size 1440x360 with 3 Axes>"
            ],
            "image/png": "[encoded data removed]"
          },
          "metadata": {}
        }
      ]
    },
    {
      "cell_type": "markdown",
      "source": [
        "### **Producir un mapa de calor de correlación e identificar cualquier correlaciones moderadas o fuertes entre el objetivo y las características y/o entre una característica y otra**"
      ],
      "metadata": {
        "id": "ogvbPvS-in7G"
      }
    },
    {
      "cell_type": "code",
      "source": [
        "#Necesitaremos la librería dython \n",
        "#!pip install dython"
      ],
      "metadata": {
        "id": "lGOUqjkthlH1"
      },
      "execution_count": 41,
      "outputs": []
    },
    {
      "cell_type": "code",
      "source": [
        "nominal.associations(train_imputed, nominal_columns = [\"HomePlanet\", \"CryoSleep\", \n",
        "                                                       \"Destination\", \"VIP\", \n",
        "                                                       \"Transported\"]);"
      ],
      "metadata": {
        "colab": {
          "base_uri": "https://localhost:8080/",
          "height": 401
        },
        "id": "sWTxQQP4hn7b",
        "outputId": "d7e9bb9a-6bfc-4d01-c5e0-2cd7b8810d78"
      },
      "execution_count": 44,
      "outputs": [
        {
          "output_type": "display_data",
          "data": {
            "text/plain": [
              "<Figure size 576x396 with 2 Axes>"
            ],
            "image/png": "[encoded data removed]"
          },
          "metadata": {}
        }
      ]
    },
    {
      "cell_type": "code",
      "source": [],
      "metadata": {
        "id": "6nJ0ZTlujKVG"
      },
      "execution_count": 41,
      "outputs": []
    }
  ]
}