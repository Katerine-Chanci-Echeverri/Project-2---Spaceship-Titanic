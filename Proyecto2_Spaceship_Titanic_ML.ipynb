{
  "nbformat": 4,
  "nbformat_minor": 0,
  "metadata": {
    "colab": {
      "provenance": [],
      "mount_file_id": "1_qmyHmRFA-GvQMyjDuY77AWTQ_YMX6xR",
      "authorship_tag": "ABX9TyOCKQOyp5PCrJhebyttrRX9",
      "include_colab_link": true
    },
    "kernelspec": {
      "name": "python3",
      "display_name": "Python 3"
    },
    "language_info": {
      "name": "python"
    }
  },
  "cells": [
    {
      "cell_type": "markdown",
      "metadata": {
        "id": "view-in-github",
        "colab_type": "text"
      },
      "source": [
        "<a href=\"https://colab.research.google.com/github/Katerine-Chanci-Echeverri/Project-2---Spaceship-Titanic/blob/main/Proyecto2_Spaceship_Titanic_ML.ipynb\" target=\"_parent\"><img src=\"https://colab.research.google.com/assets/colab-badge.svg\" alt=\"Open In Colab\"/></a>"
      ]
    },
    {
      "cell_type": "markdown",
      "source": [
        "# **Proyecto 2 - Parte 4 (base)**\n",
        "\n",
        "## **Datos personales**\n",
        "\n",
        "*   **Nombre:** Katerine Chancí Echeverri\n",
        "*   **ID Coding Dojo:** 80837\n",
        "*   **Track:** Advanced Machine Learning \n",
        "\n"
      ],
      "metadata": {
        "id": "M9_ux1HE9Gey"
      }
    },
    {
      "cell_type": "markdown",
      "source": [
        "## **Descripción del problema**\n",
        "\n",
        "Welcome to the year 2912, where your data science skills are needed to solve a cosmic mystery. We've received a transmission from four lightyears away and things aren't looking good.\n",
        "\n",
        "The Spaceship Titanic was an interstellar passenger liner launched a month ago. With almost 13,000 passengers on board, the vessel set out on its maiden voyage transporting emigrants from our solar system to three newly habitable exoplanets orbiting nearby stars.\n",
        "\n",
        "While rounding Alpha Centauri en route to its first destination—the torrid 55 Cancri E—the unwary Spaceship Titanic collided with a spacetime anomaly hidden within a dust cloud. Sadly, it met a similar fate as its namesake from 1000 years before. Though the ship stayed intact, almost half of the passengers were transported to an alternate dimension!\n",
        "\n",
        "To help rescue crews and retrieve the lost passengers, you are challenged to predict which passengers were transported by the anomaly using records recovered from the spaceship’s damaged computer system."
      ],
      "metadata": {
        "id": "X-a_-bo19Pv5"
      }
    },
    {
      "cell_type": "markdown",
      "source": [
        "## **Descripción del conjunto de datos**\n",
        "\n",
        "| Column                                            | Description                                                                                                                                                                                                                       |\n",
        "|---------------------------------------------------|-----------------------------------------------------------------------------------------------------------------------------------------------------------------------------------------------------------------------------------|\n",
        "| PassengerId                                       | A unique Id for each passenger. Each Id takes the form gggg_pp where gggg indicates a group the passenger is travelling with and pp is their number within the group. People in a group are often family members, but not always. |\n",
        "| HomePlanet                                        | The planet the passenger departed from, typically their planet of permanent residence.                                                                                                                                            |\n",
        "| CryoSleep                                         | Indicates whether the passenger elected to be put into suspended animation for the duration of the voyage. Passengers in cryosleep are confined to their cabins.                                                                  |\n",
        "| Cabin                                             | The cabin number where the passenger is staying. Takes the form deck/num/side, where side can be either P for Port or S for Starboard.                                                                                            |\n",
        "| Destination                                       | The planet the passenger will be debarking to.                                                                                                                                                                                    |\n",
        "| Age                                               | The age of the passenger.                                                                                                                                                                                                         |\n",
        "| VIP                                               | Whether the passenger has paid for special VIP service during the voyage.                                                                                                                                                         |\n",
        "| RoomService, FoodCourt, ShoppingMall, Spa, VRDeck | Amount the passenger has billed at each of the Spaceship Titanic's many luxury amenities.                                                                                                                                         |\n",
        "| Name                                              | The first and last names of the passenger.                                                                                                                                                                                        |\n",
        "| Transported                                       | Whether the passenger was transported to another dimension. This is the target, the column you are trying to predict.                                                                                                             |\n"
      ],
      "metadata": {
        "id": "Xc4rA5Vn_qc5"
      }
    },
    {
      "cell_type": "markdown",
      "source": [
        "¡Ahora estás entrando a la fase de desarrollo del modelo del proyecto!\n",
        "\n",
        ">*   Garantiza que completes los pasos de preprocesamiento adecuados.\n",
        ">*   Intenta múltiples modelos y afina los hiperparámetros de cada modelo para optimizar el rendimiento del modelo (incluye todos los modelos e hiperparámetros probados además del modelo final).\n",
        ">*   Evalúa el rendimiento del modelo con las métricas adecuados para el modelo.\n",
        ">*   Elije tu modelo de “producción” y justifica esta decisión.\n",
        ">*   Vuelve a revisar tu código y garantiza que has proporcionados comentarios claros (recuerda que esto es para tu portafolio).\n",
        ">*   Compromete tu código a GitHub.\n",
        "\n",
        "\n"
      ],
      "metadata": {
        "id": "zaaIRFvMhv2T"
      }
    },
    {
      "cell_type": "markdown",
      "source": [
        "## **Solución**\n"
      ],
      "metadata": {
        "id": "rSJrQxZeAQXJ"
      }
    },
    {
      "cell_type": "markdown",
      "source": [
        "### **Importar librerías**"
      ],
      "metadata": {
        "id": "YS1yCu1FAUfo"
      }
    },
    {
      "cell_type": "code",
      "execution_count": 43,
      "metadata": {
        "id": "z-SpRxaA2dNh"
      },
      "outputs": [],
      "source": [
        "from google.colab import drive\n",
        "import pandas as pd\n",
        "import numpy as np\n",
        "import seaborn as sns\n",
        "import matplotlib.pyplot as plt\n",
        "#from dython import nominal\n",
        "from sklearn.preprocessing import StandardScaler, OneHotEncoder\n",
        "from sklearn.impute import SimpleImputer\n",
        "from sklearn.compose import make_column_transformer, make_column_selector\n",
        "from sklearn.pipeline import make_pipeline\n",
        "from sklearn.model_selection import train_test_split\n",
        "from sklearn.tree import DecisionTreeClassifier\n",
        "from sklearn.neighbors import KNeighborsClassifier\n",
        "from sklearn.ensemble import BaggingClassifier\n",
        "from sklearn.ensemble import RandomForestClassifier\n",
        "from sklearn.linear_model import LogisticRegression\n",
        "from sklearn.metrics import accuracy_score, precision_score, recall_score, classification_report, ConfusionMatrixDisplay\n",
        "from sklearn.metrics import confusion_matrix\n",
        "from sklearn.metrics import roc_auc_score, RocCurveDisplay\n",
        "from sklearn import set_config\n",
        "from sklearn.decomposition import PCA\n",
        "set_config(display='diagram')"
      ]
    },
    {
      "cell_type": "markdown",
      "source": [
        "### **Cargar el conjunto de datos**"
      ],
      "metadata": {
        "id": "6sw4hl52AbdQ"
      }
    },
    {
      "cell_type": "code",
      "source": [
        "drive.mount(\"/content/drive\")\n",
        "train = \"/content/drive/MyDrive/Colab Notebooks/Coding Dojo 🐉/Proyecto 2/train.csv\"\n",
        "train_df = pd.read_csv(train)\n",
        "train_df.head()"
      ],
      "metadata": {
        "colab": {
          "base_uri": "https://localhost:8080/",
          "height": 374
        },
        "id": "eSbAybO_AZ1R",
        "outputId": "aa8191ce-e6da-4f90-8734-7c1e113d3a94"
      },
      "execution_count": 2,
      "outputs": [
        {
          "output_type": "stream",
          "name": "stdout",
          "text": [
            "Drive already mounted at /content/drive; to attempt to forcibly remount, call drive.mount(\"/content/drive\", force_remount=True).\n"
          ]
        },
        {
          "output_type": "execute_result",
          "data": {
            "text/plain": [
              "  PassengerId HomePlanet CryoSleep  Cabin  Destination   Age    VIP  \\\n",
              "0     0001_01     Europa     False  B/0/P  TRAPPIST-1e  39.0  False   \n",
              "1     0002_01      Earth     False  F/0/S  TRAPPIST-1e  24.0  False   \n",
              "2     0003_01     Europa     False  A/0/S  TRAPPIST-1e  58.0   True   \n",
              "3     0003_02     Europa     False  A/0/S  TRAPPIST-1e  33.0  False   \n",
              "4     0004_01      Earth     False  F/1/S  TRAPPIST-1e  16.0  False   \n",
              "\n",
              "   RoomService  FoodCourt  ShoppingMall     Spa  VRDeck               Name  \\\n",
              "0          0.0        0.0           0.0     0.0     0.0    Maham Ofracculy   \n",
              "1        109.0        9.0          25.0   549.0    44.0       Juanna Vines   \n",
              "2         43.0     3576.0           0.0  6715.0    49.0      Altark Susent   \n",
              "3          0.0     1283.0         371.0  3329.0   193.0       Solam Susent   \n",
              "4        303.0       70.0         151.0   565.0     2.0  Willy Santantines   \n",
              "\n",
              "   Transported  \n",
              "0        False  \n",
              "1         True  \n",
              "2        False  \n",
              "3        False  \n",
              "4         True  "
            ],
            "text/html": [
              "\n",
              "  <div id=\"df-1af0317b-3a78-443f-a565-c2bdafffd67f\">\n",
              "    <div class=\"colab-df-container\">\n",
              "      <div>\n",
              "<style scoped>\n",
              "    .dataframe tbody tr th:only-of-type {\n",
              "        vertical-align: middle;\n",
              "    }\n",
              "\n",
              "    .dataframe tbody tr th {\n",
              "        vertical-align: top;\n",
              "    }\n",
              "\n",
              "    .dataframe thead th {\n",
              "        text-align: right;\n",
              "    }\n",
              "</style>\n",
              "<table border=\"1\" class=\"dataframe\">\n",
              "  <thead>\n",
              "    <tr style=\"text-align: right;\">\n",
              "      <th></th>\n",
              "      <th>PassengerId</th>\n",
              "      <th>HomePlanet</th>\n",
              "      <th>CryoSleep</th>\n",
              "      <th>Cabin</th>\n",
              "      <th>Destination</th>\n",
              "      <th>Age</th>\n",
              "      <th>VIP</th>\n",
              "      <th>RoomService</th>\n",
              "      <th>FoodCourt</th>\n",
              "      <th>ShoppingMall</th>\n",
              "      <th>Spa</th>\n",
              "      <th>VRDeck</th>\n",
              "      <th>Name</th>\n",
              "      <th>Transported</th>\n",
              "    </tr>\n",
              "  </thead>\n",
              "  <tbody>\n",
              "    <tr>\n",
              "      <th>0</th>\n",
              "      <td>0001_01</td>\n",
              "      <td>Europa</td>\n",
              "      <td>False</td>\n",
              "      <td>B/0/P</td>\n",
              "      <td>TRAPPIST-1e</td>\n",
              "      <td>39.0</td>\n",
              "      <td>False</td>\n",
              "      <td>0.0</td>\n",
              "      <td>0.0</td>\n",
              "      <td>0.0</td>\n",
              "      <td>0.0</td>\n",
              "      <td>0.0</td>\n",
              "      <td>Maham Ofracculy</td>\n",
              "      <td>False</td>\n",
              "    </tr>\n",
              "    <tr>\n",
              "      <th>1</th>\n",
              "      <td>0002_01</td>\n",
              "      <td>Earth</td>\n",
              "      <td>False</td>\n",
              "      <td>F/0/S</td>\n",
              "      <td>TRAPPIST-1e</td>\n",
              "      <td>24.0</td>\n",
              "      <td>False</td>\n",
              "      <td>109.0</td>\n",
              "      <td>9.0</td>\n",
              "      <td>25.0</td>\n",
              "      <td>549.0</td>\n",
              "      <td>44.0</td>\n",
              "      <td>Juanna Vines</td>\n",
              "      <td>True</td>\n",
              "    </tr>\n",
              "    <tr>\n",
              "      <th>2</th>\n",
              "      <td>0003_01</td>\n",
              "      <td>Europa</td>\n",
              "      <td>False</td>\n",
              "      <td>A/0/S</td>\n",
              "      <td>TRAPPIST-1e</td>\n",
              "      <td>58.0</td>\n",
              "      <td>True</td>\n",
              "      <td>43.0</td>\n",
              "      <td>3576.0</td>\n",
              "      <td>0.0</td>\n",
              "      <td>6715.0</td>\n",
              "      <td>49.0</td>\n",
              "      <td>Altark Susent</td>\n",
              "      <td>False</td>\n",
              "    </tr>\n",
              "    <tr>\n",
              "      <th>3</th>\n",
              "      <td>0003_02</td>\n",
              "      <td>Europa</td>\n",
              "      <td>False</td>\n",
              "      <td>A/0/S</td>\n",
              "      <td>TRAPPIST-1e</td>\n",
              "      <td>33.0</td>\n",
              "      <td>False</td>\n",
              "      <td>0.0</td>\n",
              "      <td>1283.0</td>\n",
              "      <td>371.0</td>\n",
              "      <td>3329.0</td>\n",
              "      <td>193.0</td>\n",
              "      <td>Solam Susent</td>\n",
              "      <td>False</td>\n",
              "    </tr>\n",
              "    <tr>\n",
              "      <th>4</th>\n",
              "      <td>0004_01</td>\n",
              "      <td>Earth</td>\n",
              "      <td>False</td>\n",
              "      <td>F/1/S</td>\n",
              "      <td>TRAPPIST-1e</td>\n",
              "      <td>16.0</td>\n",
              "      <td>False</td>\n",
              "      <td>303.0</td>\n",
              "      <td>70.0</td>\n",
              "      <td>151.0</td>\n",
              "      <td>565.0</td>\n",
              "      <td>2.0</td>\n",
              "      <td>Willy Santantines</td>\n",
              "      <td>True</td>\n",
              "    </tr>\n",
              "  </tbody>\n",
              "</table>\n",
              "</div>\n",
              "      <button class=\"colab-df-convert\" onclick=\"convertToInteractive('df-1af0317b-3a78-443f-a565-c2bdafffd67f')\"\n",
              "              title=\"Convert this dataframe to an interactive table.\"\n",
              "              style=\"display:none;\">\n",
              "        \n",
              "  <svg xmlns=\"http://www.w3.org/2000/svg\" height=\"24px\"viewBox=\"0 0 24 24\"\n",
              "       width=\"24px\">\n",
              "    <path d=\"M0 0h24v24H0V0z\" fill=\"none\"/>\n",
              "    <path d=\"M18.56 5.44l.94 2.06.94-2.06 2.06-.94-2.06-.94-.94-2.06-.94 2.06-2.06.94zm-11 1L8.5 8.5l.94-2.06 2.06-.94-2.06-.94L8.5 2.5l-.94 2.06-2.06.94zm10 10l.94 2.06.94-2.06 2.06-.94-2.06-.94-.94-2.06-.94 2.06-2.06.94z\"/><path d=\"M17.41 7.96l-1.37-1.37c-.4-.4-.92-.59-1.43-.59-.52 0-1.04.2-1.43.59L10.3 9.45l-7.72 7.72c-.78.78-.78 2.05 0 2.83L4 21.41c.39.39.9.59 1.41.59.51 0 1.02-.2 1.41-.59l7.78-7.78 2.81-2.81c.8-.78.8-2.07 0-2.86zM5.41 20L4 18.59l7.72-7.72 1.47 1.35L5.41 20z\"/>\n",
              "  </svg>\n",
              "      </button>\n",
              "      \n",
              "  <style>\n",
              "    .colab-df-container {\n",
              "      display:flex;\n",
              "      flex-wrap:wrap;\n",
              "      gap: 12px;\n",
              "    }\n",
              "\n",
              "    .colab-df-convert {\n",
              "      background-color: #E8F0FE;\n",
              "      border: none;\n",
              "      border-radius: 50%;\n",
              "      cursor: pointer;\n",
              "      display: none;\n",
              "      fill: #1967D2;\n",
              "      height: 32px;\n",
              "      padding: 0 0 0 0;\n",
              "      width: 32px;\n",
              "    }\n",
              "\n",
              "    .colab-df-convert:hover {\n",
              "      background-color: #E2EBFA;\n",
              "      box-shadow: 0px 1px 2px rgba(60, 64, 67, 0.3), 0px 1px 3px 1px rgba(60, 64, 67, 0.15);\n",
              "      fill: #174EA6;\n",
              "    }\n",
              "\n",
              "    [theme=dark] .colab-df-convert {\n",
              "      background-color: #3B4455;\n",
              "      fill: #D2E3FC;\n",
              "    }\n",
              "\n",
              "    [theme=dark] .colab-df-convert:hover {\n",
              "      background-color: #434B5C;\n",
              "      box-shadow: 0px 1px 3px 1px rgba(0, 0, 0, 0.15);\n",
              "      filter: drop-shadow(0px 1px 2px rgba(0, 0, 0, 0.3));\n",
              "      fill: #FFFFFF;\n",
              "    }\n",
              "  </style>\n",
              "\n",
              "      <script>\n",
              "        const buttonEl =\n",
              "          document.querySelector('#df-1af0317b-3a78-443f-a565-c2bdafffd67f button.colab-df-convert');\n",
              "        buttonEl.style.display =\n",
              "          google.colab.kernel.accessAllowed ? 'block' : 'none';\n",
              "\n",
              "        async function convertToInteractive(key) {\n",
              "          const element = document.querySelector('#df-1af0317b-3a78-443f-a565-c2bdafffd67f');\n",
              "          const dataTable =\n",
              "            await google.colab.kernel.invokeFunction('convertToInteractive',\n",
              "                                                     [key], {});\n",
              "          if (!dataTable) return;\n",
              "\n",
              "          const docLinkHtml = 'Like what you see? Visit the ' +\n",
              "            '<a target=\"_blank\" href=https://colab.research.google.com/notebooks/data_table.ipynb>data table notebook</a>'\n",
              "            + ' to learn more about interactive tables.';\n",
              "          element.innerHTML = '';\n",
              "          dataTable['output_type'] = 'display_data';\n",
              "          await google.colab.output.renderOutput(dataTable, element);\n",
              "          const docLink = document.createElement('div');\n",
              "          docLink.innerHTML = docLinkHtml;\n",
              "          element.appendChild(docLink);\n",
              "        }\n",
              "      </script>\n",
              "    </div>\n",
              "  </div>\n",
              "  "
            ]
          },
          "metadata": {},
          "execution_count": 2
        }
      ]
    },
    {
      "cell_type": "code",
      "source": [
        "#Tamaño del DataFrame\n",
        "train_df.shape"
      ],
      "metadata": {
        "colab": {
          "base_uri": "https://localhost:8080/"
        },
        "id": "-mMEVhR4C5Qj",
        "outputId": "fa8e04a4-05b2-4133-b98a-6213783dee6e"
      },
      "execution_count": 3,
      "outputs": [
        {
          "output_type": "execute_result",
          "data": {
            "text/plain": [
              "(8693, 14)"
            ]
          },
          "metadata": {},
          "execution_count": 3
        }
      ]
    },
    {
      "cell_type": "markdown",
      "source": [
        "### **Elimina columnas innecesarias**"
      ],
      "metadata": {
        "id": "bRWc9KWthye2"
      }
    },
    {
      "cell_type": "code",
      "source": [
        "#Elimina columnas innecesarias\n",
        "#Conjunto de entrenamiento\n",
        "train_df = train_df.drop(columns = [\"PassengerId\", \"Name\", \"Cabin\"])"
      ],
      "metadata": {
        "id": "n-8FSonIfMSQ"
      },
      "execution_count": 4,
      "outputs": []
    },
    {
      "cell_type": "code",
      "source": [
        "train_df.head()"
      ],
      "metadata": {
        "colab": {
          "base_uri": "https://localhost:8080/",
          "height": 206
        },
        "id": "OIOoAqR2gcsI",
        "outputId": "174b3329-1b5e-484b-98a1-e98ce1b5be3c"
      },
      "execution_count": 5,
      "outputs": [
        {
          "output_type": "execute_result",
          "data": {
            "text/plain": [
              "  HomePlanet CryoSleep  Destination   Age    VIP  RoomService  FoodCourt  \\\n",
              "0     Europa     False  TRAPPIST-1e  39.0  False          0.0        0.0   \n",
              "1      Earth     False  TRAPPIST-1e  24.0  False        109.0        9.0   \n",
              "2     Europa     False  TRAPPIST-1e  58.0   True         43.0     3576.0   \n",
              "3     Europa     False  TRAPPIST-1e  33.0  False          0.0     1283.0   \n",
              "4      Earth     False  TRAPPIST-1e  16.0  False        303.0       70.0   \n",
              "\n",
              "   ShoppingMall     Spa  VRDeck  Transported  \n",
              "0           0.0     0.0     0.0        False  \n",
              "1          25.0   549.0    44.0         True  \n",
              "2           0.0  6715.0    49.0        False  \n",
              "3         371.0  3329.0   193.0        False  \n",
              "4         151.0   565.0     2.0         True  "
            ],
            "text/html": [
              "\n",
              "  <div id=\"df-e254f58d-36af-43ca-9469-ce46763c6216\">\n",
              "    <div class=\"colab-df-container\">\n",
              "      <div>\n",
              "<style scoped>\n",
              "    .dataframe tbody tr th:only-of-type {\n",
              "        vertical-align: middle;\n",
              "    }\n",
              "\n",
              "    .dataframe tbody tr th {\n",
              "        vertical-align: top;\n",
              "    }\n",
              "\n",
              "    .dataframe thead th {\n",
              "        text-align: right;\n",
              "    }\n",
              "</style>\n",
              "<table border=\"1\" class=\"dataframe\">\n",
              "  <thead>\n",
              "    <tr style=\"text-align: right;\">\n",
              "      <th></th>\n",
              "      <th>HomePlanet</th>\n",
              "      <th>CryoSleep</th>\n",
              "      <th>Destination</th>\n",
              "      <th>Age</th>\n",
              "      <th>VIP</th>\n",
              "      <th>RoomService</th>\n",
              "      <th>FoodCourt</th>\n",
              "      <th>ShoppingMall</th>\n",
              "      <th>Spa</th>\n",
              "      <th>VRDeck</th>\n",
              "      <th>Transported</th>\n",
              "    </tr>\n",
              "  </thead>\n",
              "  <tbody>\n",
              "    <tr>\n",
              "      <th>0</th>\n",
              "      <td>Europa</td>\n",
              "      <td>False</td>\n",
              "      <td>TRAPPIST-1e</td>\n",
              "      <td>39.0</td>\n",
              "      <td>False</td>\n",
              "      <td>0.0</td>\n",
              "      <td>0.0</td>\n",
              "      <td>0.0</td>\n",
              "      <td>0.0</td>\n",
              "      <td>0.0</td>\n",
              "      <td>False</td>\n",
              "    </tr>\n",
              "    <tr>\n",
              "      <th>1</th>\n",
              "      <td>Earth</td>\n",
              "      <td>False</td>\n",
              "      <td>TRAPPIST-1e</td>\n",
              "      <td>24.0</td>\n",
              "      <td>False</td>\n",
              "      <td>109.0</td>\n",
              "      <td>9.0</td>\n",
              "      <td>25.0</td>\n",
              "      <td>549.0</td>\n",
              "      <td>44.0</td>\n",
              "      <td>True</td>\n",
              "    </tr>\n",
              "    <tr>\n",
              "      <th>2</th>\n",
              "      <td>Europa</td>\n",
              "      <td>False</td>\n",
              "      <td>TRAPPIST-1e</td>\n",
              "      <td>58.0</td>\n",
              "      <td>True</td>\n",
              "      <td>43.0</td>\n",
              "      <td>3576.0</td>\n",
              "      <td>0.0</td>\n",
              "      <td>6715.0</td>\n",
              "      <td>49.0</td>\n",
              "      <td>False</td>\n",
              "    </tr>\n",
              "    <tr>\n",
              "      <th>3</th>\n",
              "      <td>Europa</td>\n",
              "      <td>False</td>\n",
              "      <td>TRAPPIST-1e</td>\n",
              "      <td>33.0</td>\n",
              "      <td>False</td>\n",
              "      <td>0.0</td>\n",
              "      <td>1283.0</td>\n",
              "      <td>371.0</td>\n",
              "      <td>3329.0</td>\n",
              "      <td>193.0</td>\n",
              "      <td>False</td>\n",
              "    </tr>\n",
              "    <tr>\n",
              "      <th>4</th>\n",
              "      <td>Earth</td>\n",
              "      <td>False</td>\n",
              "      <td>TRAPPIST-1e</td>\n",
              "      <td>16.0</td>\n",
              "      <td>False</td>\n",
              "      <td>303.0</td>\n",
              "      <td>70.0</td>\n",
              "      <td>151.0</td>\n",
              "      <td>565.0</td>\n",
              "      <td>2.0</td>\n",
              "      <td>True</td>\n",
              "    </tr>\n",
              "  </tbody>\n",
              "</table>\n",
              "</div>\n",
              "      <button class=\"colab-df-convert\" onclick=\"convertToInteractive('df-e254f58d-36af-43ca-9469-ce46763c6216')\"\n",
              "              title=\"Convert this dataframe to an interactive table.\"\n",
              "              style=\"display:none;\">\n",
              "        \n",
              "  <svg xmlns=\"http://www.w3.org/2000/svg\" height=\"24px\"viewBox=\"0 0 24 24\"\n",
              "       width=\"24px\">\n",
              "    <path d=\"M0 0h24v24H0V0z\" fill=\"none\"/>\n",
              "    <path d=\"M18.56 5.44l.94 2.06.94-2.06 2.06-.94-2.06-.94-.94-2.06-.94 2.06-2.06.94zm-11 1L8.5 8.5l.94-2.06 2.06-.94-2.06-.94L8.5 2.5l-.94 2.06-2.06.94zm10 10l.94 2.06.94-2.06 2.06-.94-2.06-.94-.94-2.06-.94 2.06-2.06.94z\"/><path d=\"M17.41 7.96l-1.37-1.37c-.4-.4-.92-.59-1.43-.59-.52 0-1.04.2-1.43.59L10.3 9.45l-7.72 7.72c-.78.78-.78 2.05 0 2.83L4 21.41c.39.39.9.59 1.41.59.51 0 1.02-.2 1.41-.59l7.78-7.78 2.81-2.81c.8-.78.8-2.07 0-2.86zM5.41 20L4 18.59l7.72-7.72 1.47 1.35L5.41 20z\"/>\n",
              "  </svg>\n",
              "      </button>\n",
              "      \n",
              "  <style>\n",
              "    .colab-df-container {\n",
              "      display:flex;\n",
              "      flex-wrap:wrap;\n",
              "      gap: 12px;\n",
              "    }\n",
              "\n",
              "    .colab-df-convert {\n",
              "      background-color: #E8F0FE;\n",
              "      border: none;\n",
              "      border-radius: 50%;\n",
              "      cursor: pointer;\n",
              "      display: none;\n",
              "      fill: #1967D2;\n",
              "      height: 32px;\n",
              "      padding: 0 0 0 0;\n",
              "      width: 32px;\n",
              "    }\n",
              "\n",
              "    .colab-df-convert:hover {\n",
              "      background-color: #E2EBFA;\n",
              "      box-shadow: 0px 1px 2px rgba(60, 64, 67, 0.3), 0px 1px 3px 1px rgba(60, 64, 67, 0.15);\n",
              "      fill: #174EA6;\n",
              "    }\n",
              "\n",
              "    [theme=dark] .colab-df-convert {\n",
              "      background-color: #3B4455;\n",
              "      fill: #D2E3FC;\n",
              "    }\n",
              "\n",
              "    [theme=dark] .colab-df-convert:hover {\n",
              "      background-color: #434B5C;\n",
              "      box-shadow: 0px 1px 3px 1px rgba(0, 0, 0, 0.15);\n",
              "      filter: drop-shadow(0px 1px 2px rgba(0, 0, 0, 0.3));\n",
              "      fill: #FFFFFF;\n",
              "    }\n",
              "  </style>\n",
              "\n",
              "      <script>\n",
              "        const buttonEl =\n",
              "          document.querySelector('#df-e254f58d-36af-43ca-9469-ce46763c6216 button.colab-df-convert');\n",
              "        buttonEl.style.display =\n",
              "          google.colab.kernel.accessAllowed ? 'block' : 'none';\n",
              "\n",
              "        async function convertToInteractive(key) {\n",
              "          const element = document.querySelector('#df-e254f58d-36af-43ca-9469-ce46763c6216');\n",
              "          const dataTable =\n",
              "            await google.colab.kernel.invokeFunction('convertToInteractive',\n",
              "                                                     [key], {});\n",
              "          if (!dataTable) return;\n",
              "\n",
              "          const docLinkHtml = 'Like what you see? Visit the ' +\n",
              "            '<a target=\"_blank\" href=https://colab.research.google.com/notebooks/data_table.ipynb>data table notebook</a>'\n",
              "            + ' to learn more about interactive tables.';\n",
              "          element.innerHTML = '';\n",
              "          dataTable['output_type'] = 'display_data';\n",
              "          await google.colab.output.renderOutput(dataTable, element);\n",
              "          const docLink = document.createElement('div');\n",
              "          docLink.innerHTML = docLinkHtml;\n",
              "          element.appendChild(docLink);\n",
              "        }\n",
              "      </script>\n",
              "    </div>\n",
              "  </div>\n",
              "  "
            ]
          },
          "metadata": {},
          "execution_count": 5
        }
      ]
    },
    {
      "cell_type": "markdown",
      "source": [
        "### **Elimina filas duplicadas**"
      ],
      "metadata": {
        "id": "mAwsFHOgh4o4"
      }
    },
    {
      "cell_type": "markdown",
      "source": [
        "### Conjunto de entrenamiento"
      ],
      "metadata": {
        "id": "bBwMPfapZZwO"
      }
    },
    {
      "cell_type": "code",
      "source": [
        "train_df.duplicated().sum() #Revisa cuantos duplicados hay"
      ],
      "metadata": {
        "colab": {
          "base_uri": "https://localhost:8080/"
        },
        "id": "3zwgjl0Qg6ys",
        "outputId": "28f7d8b7-d7e7-49a1-ec59-c65bdf958423"
      },
      "execution_count": 6,
      "outputs": [
        {
          "output_type": "execute_result",
          "data": {
            "text/plain": [
              "2266"
            ]
          },
          "metadata": {},
          "execution_count": 6
        }
      ]
    },
    {
      "cell_type": "code",
      "source": [
        "#Elimina los duplicados en el conjunto de entrenamiento \n",
        "train_df = train_df.drop_duplicates()\n",
        "train_df.duplicated().sum()"
      ],
      "metadata": {
        "colab": {
          "base_uri": "https://localhost:8080/"
        },
        "id": "2yUXvKv0hKZW",
        "outputId": "bad8280e-ab4e-433f-82cb-62518afcdb6d"
      },
      "execution_count": 7,
      "outputs": [
        {
          "output_type": "execute_result",
          "data": {
            "text/plain": [
              "0"
            ]
          },
          "metadata": {},
          "execution_count": 7
        }
      ]
    },
    {
      "cell_type": "markdown",
      "source": [
        "### **Identifica y aborda valores faltantes**"
      ],
      "metadata": {
        "id": "z6T_0ngKh-YE"
      }
    },
    {
      "cell_type": "code",
      "source": [
        "train_df.info()"
      ],
      "metadata": {
        "colab": {
          "base_uri": "https://localhost:8080/"
        },
        "id": "rpLt1Nor5mc-",
        "outputId": "1962b5ef-5d6c-4fa9-a38b-98a995b8e07b"
      },
      "execution_count": 8,
      "outputs": [
        {
          "output_type": "stream",
          "name": "stdout",
          "text": [
            "<class 'pandas.core.frame.DataFrame'>\n",
            "Int64Index: 6427 entries, 0 to 8692\n",
            "Data columns (total 11 columns):\n",
            " #   Column        Non-Null Count  Dtype  \n",
            "---  ------        --------------  -----  \n",
            " 0   HomePlanet    6241 non-null   object \n",
            " 1   CryoSleep     6219 non-null   object \n",
            " 2   Destination   6249 non-null   object \n",
            " 3   Age           6307 non-null   float64\n",
            " 4   VIP           6236 non-null   object \n",
            " 5   RoomService   6249 non-null   float64\n",
            " 6   FoodCourt     6252 non-null   float64\n",
            " 7   ShoppingMall  6228 non-null   float64\n",
            " 8   Spa           6245 non-null   float64\n",
            " 9   VRDeck        6245 non-null   float64\n",
            " 10  Transported   6427 non-null   bool   \n",
            "dtypes: bool(1), float64(6), object(4)\n",
            "memory usage: 558.6+ KB\n"
          ]
        }
      ]
    },
    {
      "cell_type": "markdown",
      "source": [
        "Los tipos de datos de todas las columnas concuerdan con el tipo de dato proporcionado en el diccionario. La única escepción es la columna \"Age\", que si bien es de tipo numérico, es flotante, es mejor trabajar este tipo de dato como entero. Posteriormente nos encargaremos de él. "
      ],
      "metadata": {
        "id": "ETJla8eTjowq"
      }
    },
    {
      "cell_type": "code",
      "source": [
        "train_df.isna().sum()"
      ],
      "metadata": {
        "colab": {
          "base_uri": "https://localhost:8080/"
        },
        "id": "Q0C8cxZnhxKo",
        "outputId": "72d4c3f6-aac9-4bb2-822b-7cf60ca4f864"
      },
      "execution_count": 9,
      "outputs": [
        {
          "output_type": "execute_result",
          "data": {
            "text/plain": [
              "HomePlanet      186\n",
              "CryoSleep       208\n",
              "Destination     178\n",
              "Age             120\n",
              "VIP             191\n",
              "RoomService     178\n",
              "FoodCourt       175\n",
              "ShoppingMall    199\n",
              "Spa             182\n",
              "VRDeck          182\n",
              "Transported       0\n",
              "dtype: int64"
            ]
          },
          "metadata": {},
          "execution_count": 9
        }
      ]
    },
    {
      "cell_type": "markdown",
      "source": [
        "Los valores faltantes del conjunto de datos de entremiento serán abordados como sigue: \n",
        "\n",
        ">**HomePlanet:** Se reemplazará por el valor más frecuente. \n",
        "\n",
        ">**CryoSleep:** Se reemplazará por el valor más frecuente. \n",
        "\n",
        ">**Destination:** Se reemplazará por el valor más frecuente. \n",
        "\n",
        ">**Age:** Se reemplazará por la media.\n",
        "\n",
        ">**VIP:** Se reemplazará por el valor más frecuente. \n",
        "\n",
        ">**RoomService, FoodCourt, ShoppingMall, Spa, VRDeck:** Se reeamplzarán por la media. \n",
        "\n",
        "Como puede observar, los valores faltantes en las columnas categóricas se reemplazarán por el valor más frecuente, mientras que para las columnas numéricas, con la media. \n",
        "\n"
      ],
      "metadata": {
        "id": "_LkbtMA8jCYe"
      }
    },
    {
      "cell_type": "code",
      "source": [
        "#Simple Imputer\n",
        "train_df.isna().any()"
      ],
      "metadata": {
        "colab": {
          "base_uri": "https://localhost:8080/"
        },
        "id": "wotlgiPHlczl",
        "outputId": "03951c0c-53e0-487e-c699-31920b3a63d2"
      },
      "execution_count": 10,
      "outputs": [
        {
          "output_type": "execute_result",
          "data": {
            "text/plain": [
              "HomePlanet       True\n",
              "CryoSleep        True\n",
              "Destination      True\n",
              "Age              True\n",
              "VIP              True\n",
              "RoomService      True\n",
              "FoodCourt        True\n",
              "ShoppingMall     True\n",
              "Spa              True\n",
              "VRDeck           True\n",
              "Transported     False\n",
              "dtype: bool"
            ]
          },
          "metadata": {},
          "execution_count": 10
        }
      ]
    },
    {
      "cell_type": "code",
      "source": [
        "#Instancien los selectores de acuerdo a los tipos de columnas \n",
        "num_selector = make_column_selector(dtype_include = \"number\")\n",
        "cat_selector = make_column_selector(dtype_include = \"object\")"
      ],
      "metadata": {
        "id": "8zzlbhIOokYG"
      },
      "execution_count": 11,
      "outputs": []
    },
    {
      "cell_type": "code",
      "source": [
        "num_column = num_selector(train_df)\n",
        "print(num_column)"
      ],
      "metadata": {
        "colab": {
          "base_uri": "https://localhost:8080/"
        },
        "id": "ZY8i6FGg6LeA",
        "outputId": "d3be4adf-ab28-41db-8fab-a23d8be39378"
      },
      "execution_count": 12,
      "outputs": [
        {
          "output_type": "stream",
          "name": "stdout",
          "text": [
            "['Age', 'RoomService', 'FoodCourt', 'ShoppingMall', 'Spa', 'VRDeck']\n"
          ]
        }
      ]
    },
    {
      "cell_type": "code",
      "source": [
        "cat_column  = cat_selector(train_df)\n",
        "print(cat_column)"
      ],
      "metadata": {
        "colab": {
          "base_uri": "https://localhost:8080/"
        },
        "id": "W9TKEuuB6Vu-",
        "outputId": "c0ba3ee0-21a6-43e0-d57d-e8815184ebf6"
      },
      "execution_count": 13,
      "outputs": [
        {
          "output_type": "stream",
          "name": "stdout",
          "text": [
            "['HomePlanet', 'CryoSleep', 'Destination', 'VIP']\n"
          ]
        }
      ]
    },
    {
      "cell_type": "code",
      "source": [
        "#Instanciar SimpleImputer con strategias de most_frequent, median y mean\n",
        "freq_imputer   = SimpleImputer(strategy = \"most_frequent\")\n",
        "mean_imputer   = SimpleImputer(strategy = \"mean\")"
      ],
      "metadata": {
        "id": "yFEi3Zj9o09W"
      },
      "execution_count": 14,
      "outputs": []
    },
    {
      "cell_type": "code",
      "source": [
        "#Crea tuplas (imputer, selector) para cada tipo de dato \n",
        "num_tuple = (mean_imputer, num_selector)\n",
        "cat_tuple = (freq_imputer, cat_selector)\n",
        "\n",
        "#Instancia ColumnTransformer\n",
        "col_transformer = make_column_transformer(num_tuple, cat_tuple, remainder = \"passthrough\")\n",
        "col_transformer"
      ],
      "metadata": {
        "colab": {
          "base_uri": "https://localhost:8080/",
          "height": 116
        },
        "id": "3HYDViXOpCpN",
        "outputId": "23f67d90-a112-4603-ee5b-3c92c0f325f5"
      },
      "execution_count": 15,
      "outputs": [
        {
          "output_type": "execute_result",
          "data": {
            "text/plain": [
              "ColumnTransformer(remainder='passthrough',\n",
              "                  transformers=[('simpleimputer-1', SimpleImputer(),\n",
              "                                 <sklearn.compose._column_transformer.make_column_selector object at 0x7f94b7c05f70>),\n",
              "                                ('simpleimputer-2',\n",
              "                                 SimpleImputer(strategy='most_frequent'),\n",
              "                                 <sklearn.compose._column_transformer.make_column_selector object at 0x7f94b7c05e20>)])"
            ],
            "text/html": [
              "<style>#sk-47b1beb0-3039-482b-b17b-9d3451f97c3c {color: black;background-color: white;}#sk-47b1beb0-3039-482b-b17b-9d3451f97c3c pre{padding: 0;}#sk-47b1beb0-3039-482b-b17b-9d3451f97c3c div.sk-toggleable {background-color: white;}#sk-47b1beb0-3039-482b-b17b-9d3451f97c3c label.sk-toggleable__label {cursor: pointer;display: block;width: 100%;margin-bottom: 0;padding: 0.3em;box-sizing: border-box;text-align: center;}#sk-47b1beb0-3039-482b-b17b-9d3451f97c3c label.sk-toggleable__label-arrow:before {content: \"▸\";float: left;margin-right: 0.25em;color: #696969;}#sk-47b1beb0-3039-482b-b17b-9d3451f97c3c label.sk-toggleable__label-arrow:hover:before {color: black;}#sk-47b1beb0-3039-482b-b17b-9d3451f97c3c div.sk-estimator:hover label.sk-toggleable__label-arrow:before {color: black;}#sk-47b1beb0-3039-482b-b17b-9d3451f97c3c div.sk-toggleable__content {max-height: 0;max-width: 0;overflow: hidden;text-align: left;background-color: #f0f8ff;}#sk-47b1beb0-3039-482b-b17b-9d3451f97c3c div.sk-toggleable__content pre {margin: 0.2em;color: black;border-radius: 0.25em;background-color: #f0f8ff;}#sk-47b1beb0-3039-482b-b17b-9d3451f97c3c input.sk-toggleable__control:checked~div.sk-toggleable__content {max-height: 200px;max-width: 100%;overflow: auto;}#sk-47b1beb0-3039-482b-b17b-9d3451f97c3c input.sk-toggleable__control:checked~label.sk-toggleable__label-arrow:before {content: \"▾\";}#sk-47b1beb0-3039-482b-b17b-9d3451f97c3c div.sk-estimator input.sk-toggleable__control:checked~label.sk-toggleable__label {background-color: #d4ebff;}#sk-47b1beb0-3039-482b-b17b-9d3451f97c3c div.sk-label input.sk-toggleable__control:checked~label.sk-toggleable__label {background-color: #d4ebff;}#sk-47b1beb0-3039-482b-b17b-9d3451f97c3c input.sk-hidden--visually {border: 0;clip: rect(1px 1px 1px 1px);clip: rect(1px, 1px, 1px, 1px);height: 1px;margin: -1px;overflow: hidden;padding: 0;position: absolute;width: 1px;}#sk-47b1beb0-3039-482b-b17b-9d3451f97c3c div.sk-estimator {font-family: monospace;background-color: #f0f8ff;border: 1px dotted black;border-radius: 0.25em;box-sizing: border-box;margin-bottom: 0.5em;}#sk-47b1beb0-3039-482b-b17b-9d3451f97c3c div.sk-estimator:hover {background-color: #d4ebff;}#sk-47b1beb0-3039-482b-b17b-9d3451f97c3c div.sk-parallel-item::after {content: \"\";width: 100%;border-bottom: 1px solid gray;flex-grow: 1;}#sk-47b1beb0-3039-482b-b17b-9d3451f97c3c div.sk-label:hover label.sk-toggleable__label {background-color: #d4ebff;}#sk-47b1beb0-3039-482b-b17b-9d3451f97c3c div.sk-serial::before {content: \"\";position: absolute;border-left: 1px solid gray;box-sizing: border-box;top: 2em;bottom: 0;left: 50%;}#sk-47b1beb0-3039-482b-b17b-9d3451f97c3c div.sk-serial {display: flex;flex-direction: column;align-items: center;background-color: white;padding-right: 0.2em;padding-left: 0.2em;}#sk-47b1beb0-3039-482b-b17b-9d3451f97c3c div.sk-item {z-index: 1;}#sk-47b1beb0-3039-482b-b17b-9d3451f97c3c div.sk-parallel {display: flex;align-items: stretch;justify-content: center;background-color: white;}#sk-47b1beb0-3039-482b-b17b-9d3451f97c3c div.sk-parallel::before {content: \"\";position: absolute;border-left: 1px solid gray;box-sizing: border-box;top: 2em;bottom: 0;left: 50%;}#sk-47b1beb0-3039-482b-b17b-9d3451f97c3c div.sk-parallel-item {display: flex;flex-direction: column;position: relative;background-color: white;}#sk-47b1beb0-3039-482b-b17b-9d3451f97c3c div.sk-parallel-item:first-child::after {align-self: flex-end;width: 50%;}#sk-47b1beb0-3039-482b-b17b-9d3451f97c3c div.sk-parallel-item:last-child::after {align-self: flex-start;width: 50%;}#sk-47b1beb0-3039-482b-b17b-9d3451f97c3c div.sk-parallel-item:only-child::after {width: 0;}#sk-47b1beb0-3039-482b-b17b-9d3451f97c3c div.sk-dashed-wrapped {border: 1px dashed gray;margin: 0 0.4em 0.5em 0.4em;box-sizing: border-box;padding-bottom: 0.4em;background-color: white;position: relative;}#sk-47b1beb0-3039-482b-b17b-9d3451f97c3c div.sk-label label {font-family: monospace;font-weight: bold;background-color: white;display: inline-block;line-height: 1.2em;}#sk-47b1beb0-3039-482b-b17b-9d3451f97c3c div.sk-label-container {position: relative;z-index: 2;text-align: center;}#sk-47b1beb0-3039-482b-b17b-9d3451f97c3c div.sk-container {/* jupyter's `normalize.less` sets `[hidden] { display: none; }` but bootstrap.min.css set `[hidden] { display: none !important; }` so we also need the `!important` here to be able to override the default hidden behavior on the sphinx rendered scikit-learn.org. See: https://github.com/scikit-learn/scikit-learn/issues/21755 */display: inline-block !important;position: relative;}#sk-47b1beb0-3039-482b-b17b-9d3451f97c3c div.sk-text-repr-fallback {display: none;}</style><div id=\"sk-47b1beb0-3039-482b-b17b-9d3451f97c3c\" class=\"sk-top-container\"><div class=\"sk-text-repr-fallback\"><pre>ColumnTransformer(remainder=&#x27;passthrough&#x27;,\n",
              "                  transformers=[(&#x27;simpleimputer-1&#x27;, SimpleImputer(),\n",
              "                                 &lt;sklearn.compose._column_transformer.make_column_selector object at 0x7f94b7c05f70&gt;),\n",
              "                                (&#x27;simpleimputer-2&#x27;,\n",
              "                                 SimpleImputer(strategy=&#x27;most_frequent&#x27;),\n",
              "                                 &lt;sklearn.compose._column_transformer.make_column_selector object at 0x7f94b7c05e20&gt;)])</pre><b>Please rerun this cell to show the HTML repr or trust the notebook.</b></div><div class=\"sk-container\" hidden><div class=\"sk-item sk-dashed-wrapped\"><div class=\"sk-label-container\"><div class=\"sk-label sk-toggleable\"><input class=\"sk-toggleable__control sk-hidden--visually\" id=\"0bb929a7-edad-4620-8b83-c4f57bc567a1\" type=\"checkbox\" ><label for=\"0bb929a7-edad-4620-8b83-c4f57bc567a1\" class=\"sk-toggleable__label sk-toggleable__label-arrow\">ColumnTransformer</label><div class=\"sk-toggleable__content\"><pre>ColumnTransformer(remainder=&#x27;passthrough&#x27;,\n",
              "                  transformers=[(&#x27;simpleimputer-1&#x27;, SimpleImputer(),\n",
              "                                 &lt;sklearn.compose._column_transformer.make_column_selector object at 0x7f94b7c05f70&gt;),\n",
              "                                (&#x27;simpleimputer-2&#x27;,\n",
              "                                 SimpleImputer(strategy=&#x27;most_frequent&#x27;),\n",
              "                                 &lt;sklearn.compose._column_transformer.make_column_selector object at 0x7f94b7c05e20&gt;)])</pre></div></div></div><div class=\"sk-parallel\"><div class=\"sk-parallel-item\"><div class=\"sk-item\"><div class=\"sk-label-container\"><div class=\"sk-label sk-toggleable\"><input class=\"sk-toggleable__control sk-hidden--visually\" id=\"c0f5e50a-4acb-4905-9a8f-8e7bdb1f4273\" type=\"checkbox\" ><label for=\"c0f5e50a-4acb-4905-9a8f-8e7bdb1f4273\" class=\"sk-toggleable__label sk-toggleable__label-arrow\">simpleimputer-1</label><div class=\"sk-toggleable__content\"><pre>&lt;sklearn.compose._column_transformer.make_column_selector object at 0x7f94b7c05f70&gt;</pre></div></div></div><div class=\"sk-serial\"><div class=\"sk-item\"><div class=\"sk-estimator sk-toggleable\"><input class=\"sk-toggleable__control sk-hidden--visually\" id=\"49159712-572d-446a-92e2-10037d8029d9\" type=\"checkbox\" ><label for=\"49159712-572d-446a-92e2-10037d8029d9\" class=\"sk-toggleable__label sk-toggleable__label-arrow\">SimpleImputer</label><div class=\"sk-toggleable__content\"><pre>SimpleImputer()</pre></div></div></div></div></div></div><div class=\"sk-parallel-item\"><div class=\"sk-item\"><div class=\"sk-label-container\"><div class=\"sk-label sk-toggleable\"><input class=\"sk-toggleable__control sk-hidden--visually\" id=\"8738a174-9372-4cea-bdfc-9b73a5f9eecf\" type=\"checkbox\" ><label for=\"8738a174-9372-4cea-bdfc-9b73a5f9eecf\" class=\"sk-toggleable__label sk-toggleable__label-arrow\">simpleimputer-2</label><div class=\"sk-toggleable__content\"><pre>&lt;sklearn.compose._column_transformer.make_column_selector object at 0x7f94b7c05e20&gt;</pre></div></div></div><div class=\"sk-serial\"><div class=\"sk-item\"><div class=\"sk-estimator sk-toggleable\"><input class=\"sk-toggleable__control sk-hidden--visually\" id=\"a45bdd7e-82d2-4fd7-8a04-caba22c3a83f\" type=\"checkbox\" ><label for=\"a45bdd7e-82d2-4fd7-8a04-caba22c3a83f\" class=\"sk-toggleable__label sk-toggleable__label-arrow\">SimpleImputer</label><div class=\"sk-toggleable__content\"><pre>SimpleImputer(strategy=&#x27;most_frequent&#x27;)</pre></div></div></div></div></div></div><div class=\"sk-parallel-item\"><div class=\"sk-item\"><div class=\"sk-label-container\"><div class=\"sk-label sk-toggleable\"><input class=\"sk-toggleable__control sk-hidden--visually\" id=\"93d73074-6049-4571-9e24-92edb77830e8\" type=\"checkbox\" ><label for=\"93d73074-6049-4571-9e24-92edb77830e8\" class=\"sk-toggleable__label sk-toggleable__label-arrow\">remainder</label><div class=\"sk-toggleable__content\"><pre></pre></div></div></div><div class=\"sk-serial\"><div class=\"sk-item\"><div class=\"sk-estimator sk-toggleable\"><input class=\"sk-toggleable__control sk-hidden--visually\" id=\"f92bb787-2000-4ecf-89d7-db3ee9284667\" type=\"checkbox\" ><label for=\"f92bb787-2000-4ecf-89d7-db3ee9284667\" class=\"sk-toggleable__label sk-toggleable__label-arrow\">passthrough</label><div class=\"sk-toggleable__content\"><pre>passthrough</pre></div></div></div></div></div></div></div></div></div></div>"
            ]
          },
          "metadata": {},
          "execution_count": 15
        }
      ]
    },
    {
      "cell_type": "code",
      "source": [
        "#Ajusta ColumnTransformer en los datos de entrenamiento \n",
        "col_transformer.fit(train_df)\n",
        "\n",
        "#Transforma los datos de train_df (genera un Numpy Array)\n",
        "train_imputed = col_transformer.transform(train_df)\n",
        "\n",
        "#Cambia el resultado anterior a un DataFrame\n",
        "name_columns = num_column + cat_column + [\"Transported\"]\n",
        "train_imputed = pd.DataFrame(train_imputed, columns = name_columns)\n",
        "train_imputed.isna().any()"
      ],
      "metadata": {
        "colab": {
          "base_uri": "https://localhost:8080/"
        },
        "id": "Lh3G84WisNv1",
        "outputId": "0556c67d-2b3f-4a20-efcb-8c7535069272"
      },
      "execution_count": 16,
      "outputs": [
        {
          "output_type": "execute_result",
          "data": {
            "text/plain": [
              "Age             False\n",
              "RoomService     False\n",
              "FoodCourt       False\n",
              "ShoppingMall    False\n",
              "Spa             False\n",
              "VRDeck          False\n",
              "HomePlanet      False\n",
              "CryoSleep       False\n",
              "Destination     False\n",
              "VIP             False\n",
              "Transported     False\n",
              "dtype: bool"
            ]
          },
          "metadata": {},
          "execution_count": 16
        }
      ]
    },
    {
      "cell_type": "code",
      "source": [
        "train_imputed.head()"
      ],
      "metadata": {
        "colab": {
          "base_uri": "https://localhost:8080/",
          "height": 206
        },
        "id": "yk8Q-GOR5W1o",
        "outputId": "852d0676-72b2-4083-d9c3-b4babdc64c92"
      },
      "execution_count": 17,
      "outputs": [
        {
          "output_type": "execute_result",
          "data": {
            "text/plain": [
              "    Age RoomService FoodCourt ShoppingMall     Spa VRDeck HomePlanet  \\\n",
              "0  39.0         0.0       0.0          0.0     0.0    0.0     Europa   \n",
              "1  24.0       109.0       9.0         25.0   549.0   44.0      Earth   \n",
              "2  58.0        43.0    3576.0          0.0  6715.0   49.0     Europa   \n",
              "3  33.0         0.0    1283.0        371.0  3329.0  193.0     Europa   \n",
              "4  16.0       303.0      70.0        151.0   565.0    2.0      Earth   \n",
              "\n",
              "  CryoSleep  Destination    VIP Transported  \n",
              "0     False  TRAPPIST-1e  False       False  \n",
              "1     False  TRAPPIST-1e  False        True  \n",
              "2     False  TRAPPIST-1e   True       False  \n",
              "3     False  TRAPPIST-1e  False       False  \n",
              "4     False  TRAPPIST-1e  False        True  "
            ],
            "text/html": [
              "\n",
              "  <div id=\"df-ceb40bc6-e234-48a8-bf00-33091e8c8918\">\n",
              "    <div class=\"colab-df-container\">\n",
              "      <div>\n",
              "<style scoped>\n",
              "    .dataframe tbody tr th:only-of-type {\n",
              "        vertical-align: middle;\n",
              "    }\n",
              "\n",
              "    .dataframe tbody tr th {\n",
              "        vertical-align: top;\n",
              "    }\n",
              "\n",
              "    .dataframe thead th {\n",
              "        text-align: right;\n",
              "    }\n",
              "</style>\n",
              "<table border=\"1\" class=\"dataframe\">\n",
              "  <thead>\n",
              "    <tr style=\"text-align: right;\">\n",
              "      <th></th>\n",
              "      <th>Age</th>\n",
              "      <th>RoomService</th>\n",
              "      <th>FoodCourt</th>\n",
              "      <th>ShoppingMall</th>\n",
              "      <th>Spa</th>\n",
              "      <th>VRDeck</th>\n",
              "      <th>HomePlanet</th>\n",
              "      <th>CryoSleep</th>\n",
              "      <th>Destination</th>\n",
              "      <th>VIP</th>\n",
              "      <th>Transported</th>\n",
              "    </tr>\n",
              "  </thead>\n",
              "  <tbody>\n",
              "    <tr>\n",
              "      <th>0</th>\n",
              "      <td>39.0</td>\n",
              "      <td>0.0</td>\n",
              "      <td>0.0</td>\n",
              "      <td>0.0</td>\n",
              "      <td>0.0</td>\n",
              "      <td>0.0</td>\n",
              "      <td>Europa</td>\n",
              "      <td>False</td>\n",
              "      <td>TRAPPIST-1e</td>\n",
              "      <td>False</td>\n",
              "      <td>False</td>\n",
              "    </tr>\n",
              "    <tr>\n",
              "      <th>1</th>\n",
              "      <td>24.0</td>\n",
              "      <td>109.0</td>\n",
              "      <td>9.0</td>\n",
              "      <td>25.0</td>\n",
              "      <td>549.0</td>\n",
              "      <td>44.0</td>\n",
              "      <td>Earth</td>\n",
              "      <td>False</td>\n",
              "      <td>TRAPPIST-1e</td>\n",
              "      <td>False</td>\n",
              "      <td>True</td>\n",
              "    </tr>\n",
              "    <tr>\n",
              "      <th>2</th>\n",
              "      <td>58.0</td>\n",
              "      <td>43.0</td>\n",
              "      <td>3576.0</td>\n",
              "      <td>0.0</td>\n",
              "      <td>6715.0</td>\n",
              "      <td>49.0</td>\n",
              "      <td>Europa</td>\n",
              "      <td>False</td>\n",
              "      <td>TRAPPIST-1e</td>\n",
              "      <td>True</td>\n",
              "      <td>False</td>\n",
              "    </tr>\n",
              "    <tr>\n",
              "      <th>3</th>\n",
              "      <td>33.0</td>\n",
              "      <td>0.0</td>\n",
              "      <td>1283.0</td>\n",
              "      <td>371.0</td>\n",
              "      <td>3329.0</td>\n",
              "      <td>193.0</td>\n",
              "      <td>Europa</td>\n",
              "      <td>False</td>\n",
              "      <td>TRAPPIST-1e</td>\n",
              "      <td>False</td>\n",
              "      <td>False</td>\n",
              "    </tr>\n",
              "    <tr>\n",
              "      <th>4</th>\n",
              "      <td>16.0</td>\n",
              "      <td>303.0</td>\n",
              "      <td>70.0</td>\n",
              "      <td>151.0</td>\n",
              "      <td>565.0</td>\n",
              "      <td>2.0</td>\n",
              "      <td>Earth</td>\n",
              "      <td>False</td>\n",
              "      <td>TRAPPIST-1e</td>\n",
              "      <td>False</td>\n",
              "      <td>True</td>\n",
              "    </tr>\n",
              "  </tbody>\n",
              "</table>\n",
              "</div>\n",
              "      <button class=\"colab-df-convert\" onclick=\"convertToInteractive('df-ceb40bc6-e234-48a8-bf00-33091e8c8918')\"\n",
              "              title=\"Convert this dataframe to an interactive table.\"\n",
              "              style=\"display:none;\">\n",
              "        \n",
              "  <svg xmlns=\"http://www.w3.org/2000/svg\" height=\"24px\"viewBox=\"0 0 24 24\"\n",
              "       width=\"24px\">\n",
              "    <path d=\"M0 0h24v24H0V0z\" fill=\"none\"/>\n",
              "    <path d=\"M18.56 5.44l.94 2.06.94-2.06 2.06-.94-2.06-.94-.94-2.06-.94 2.06-2.06.94zm-11 1L8.5 8.5l.94-2.06 2.06-.94-2.06-.94L8.5 2.5l-.94 2.06-2.06.94zm10 10l.94 2.06.94-2.06 2.06-.94-2.06-.94-.94-2.06-.94 2.06-2.06.94z\"/><path d=\"M17.41 7.96l-1.37-1.37c-.4-.4-.92-.59-1.43-.59-.52 0-1.04.2-1.43.59L10.3 9.45l-7.72 7.72c-.78.78-.78 2.05 0 2.83L4 21.41c.39.39.9.59 1.41.59.51 0 1.02-.2 1.41-.59l7.78-7.78 2.81-2.81c.8-.78.8-2.07 0-2.86zM5.41 20L4 18.59l7.72-7.72 1.47 1.35L5.41 20z\"/>\n",
              "  </svg>\n",
              "      </button>\n",
              "      \n",
              "  <style>\n",
              "    .colab-df-container {\n",
              "      display:flex;\n",
              "      flex-wrap:wrap;\n",
              "      gap: 12px;\n",
              "    }\n",
              "\n",
              "    .colab-df-convert {\n",
              "      background-color: #E8F0FE;\n",
              "      border: none;\n",
              "      border-radius: 50%;\n",
              "      cursor: pointer;\n",
              "      display: none;\n",
              "      fill: #1967D2;\n",
              "      height: 32px;\n",
              "      padding: 0 0 0 0;\n",
              "      width: 32px;\n",
              "    }\n",
              "\n",
              "    .colab-df-convert:hover {\n",
              "      background-color: #E2EBFA;\n",
              "      box-shadow: 0px 1px 2px rgba(60, 64, 67, 0.3), 0px 1px 3px 1px rgba(60, 64, 67, 0.15);\n",
              "      fill: #174EA6;\n",
              "    }\n",
              "\n",
              "    [theme=dark] .colab-df-convert {\n",
              "      background-color: #3B4455;\n",
              "      fill: #D2E3FC;\n",
              "    }\n",
              "\n",
              "    [theme=dark] .colab-df-convert:hover {\n",
              "      background-color: #434B5C;\n",
              "      box-shadow: 0px 1px 3px 1px rgba(0, 0, 0, 0.15);\n",
              "      filter: drop-shadow(0px 1px 2px rgba(0, 0, 0, 0.3));\n",
              "      fill: #FFFFFF;\n",
              "    }\n",
              "  </style>\n",
              "\n",
              "      <script>\n",
              "        const buttonEl =\n",
              "          document.querySelector('#df-ceb40bc6-e234-48a8-bf00-33091e8c8918 button.colab-df-convert');\n",
              "        buttonEl.style.display =\n",
              "          google.colab.kernel.accessAllowed ? 'block' : 'none';\n",
              "\n",
              "        async function convertToInteractive(key) {\n",
              "          const element = document.querySelector('#df-ceb40bc6-e234-48a8-bf00-33091e8c8918');\n",
              "          const dataTable =\n",
              "            await google.colab.kernel.invokeFunction('convertToInteractive',\n",
              "                                                     [key], {});\n",
              "          if (!dataTable) return;\n",
              "\n",
              "          const docLinkHtml = 'Like what you see? Visit the ' +\n",
              "            '<a target=\"_blank\" href=https://colab.research.google.com/notebooks/data_table.ipynb>data table notebook</a>'\n",
              "            + ' to learn more about interactive tables.';\n",
              "          element.innerHTML = '';\n",
              "          dataTable['output_type'] = 'display_data';\n",
              "          await google.colab.output.renderOutput(dataTable, element);\n",
              "          const docLink = document.createElement('div');\n",
              "          docLink.innerHTML = docLinkHtml;\n",
              "          element.appendChild(docLink);\n",
              "        }\n",
              "      </script>\n",
              "    </div>\n",
              "  </div>\n",
              "  "
            ]
          },
          "metadata": {},
          "execution_count": 17
        }
      ]
    },
    {
      "cell_type": "code",
      "source": [
        "train_imputed.info()"
      ],
      "metadata": {
        "colab": {
          "base_uri": "https://localhost:8080/"
        },
        "id": "PLg_AG5YWaWG",
        "outputId": "9ac2fa02-4898-42b0-f756-bf42c323ee20"
      },
      "execution_count": 18,
      "outputs": [
        {
          "output_type": "stream",
          "name": "stdout",
          "text": [
            "<class 'pandas.core.frame.DataFrame'>\n",
            "RangeIndex: 6427 entries, 0 to 6426\n",
            "Data columns (total 11 columns):\n",
            " #   Column        Non-Null Count  Dtype \n",
            "---  ------        --------------  ----- \n",
            " 0   Age           6427 non-null   object\n",
            " 1   RoomService   6427 non-null   object\n",
            " 2   FoodCourt     6427 non-null   object\n",
            " 3   ShoppingMall  6427 non-null   object\n",
            " 4   Spa           6427 non-null   object\n",
            " 5   VRDeck        6427 non-null   object\n",
            " 6   HomePlanet    6427 non-null   object\n",
            " 7   CryoSleep     6427 non-null   object\n",
            " 8   Destination   6427 non-null   object\n",
            " 9   VIP           6427 non-null   object\n",
            " 10  Transported   6427 non-null   object\n",
            "dtypes: object(11)\n",
            "memory usage: 552.4+ KB\n"
          ]
        }
      ]
    },
    {
      "cell_type": "markdown",
      "source": [
        "Después de realizar el Simple Imputer, todos los tipos de dato de las columnas quedan transformados en \"object\". Ahora, vamos a realizar las transformaciones correspondientes para que queden con e tipo de dato que le pertenecen. "
      ],
      "metadata": {
        "id": "fH1QDO6Dkszu"
      }
    },
    {
      "cell_type": "code",
      "source": [
        "#Transforma la columna \"Age\"\n",
        "train_imputed[\"Age\"] = train_imputed[\"Age\"].astype(int)\n",
        "\n",
        "#Transforma la columna \"RoomService\"\n",
        "train_imputed[\"RoomService\"] = train_imputed[\"RoomService\"].astype(float)\n",
        "\n",
        "#Transforma la columna \"FoodCourt\"\n",
        "train_imputed[\"FoodCourt\"] = train_imputed[\"FoodCourt\"].astype(float)\n",
        "\n",
        "#Transforma la columna \"ShoppingMall\"\n",
        "train_imputed[\"ShoppingMall\"] = train_imputed[\"ShoppingMall\"].astype(float)\n",
        "\n",
        "#Transforma la columna \"Spa\"\n",
        "train_imputed[\"Spa\"] = train_imputed[\"Spa\"].astype(float)\n",
        "\n",
        "#Transforma la columna \"VRDeck\"\n",
        "train_imputed[\"VRDeck\"] = train_imputed[\"VRDeck\"].astype(float)\n",
        "\n",
        "#Transforma la columna \"CryoSleep\"\n",
        "train_imputed[\"CryoSleep\"] = train_imputed[\"CryoSleep\"].astype(str)\n",
        "\n",
        "#Transforma la columna \"VIP\"\n",
        "train_imputed[\"VIP\"] = train_imputed[\"VIP\"].astype(str)\n",
        "\n",
        "#Transforma la columna \"Transported\"\n",
        "train_imputed[\"Transported\"] = train_imputed[\"Transported\"].astype(str)"
      ],
      "metadata": {
        "id": "oTyueEpykJy_"
      },
      "execution_count": 19,
      "outputs": []
    },
    {
      "cell_type": "code",
      "source": [
        "train_imputed.info()"
      ],
      "metadata": {
        "id": "MUXyohcSsZFX",
        "colab": {
          "base_uri": "https://localhost:8080/"
        },
        "outputId": "670cda87-ea9a-4110-d2b1-ea4820e60b6d"
      },
      "execution_count": 20,
      "outputs": [
        {
          "output_type": "stream",
          "name": "stdout",
          "text": [
            "<class 'pandas.core.frame.DataFrame'>\n",
            "RangeIndex: 6427 entries, 0 to 6426\n",
            "Data columns (total 11 columns):\n",
            " #   Column        Non-Null Count  Dtype  \n",
            "---  ------        --------------  -----  \n",
            " 0   Age           6427 non-null   int64  \n",
            " 1   RoomService   6427 non-null   float64\n",
            " 2   FoodCourt     6427 non-null   float64\n",
            " 3   ShoppingMall  6427 non-null   float64\n",
            " 4   Spa           6427 non-null   float64\n",
            " 5   VRDeck        6427 non-null   float64\n",
            " 6   HomePlanet    6427 non-null   object \n",
            " 7   CryoSleep     6427 non-null   object \n",
            " 8   Destination   6427 non-null   object \n",
            " 9   VIP           6427 non-null   object \n",
            " 10  Transported   6427 non-null   object \n",
            "dtypes: float64(5), int64(1), object(5)\n",
            "memory usage: 552.4+ KB\n"
          ]
        }
      ]
    },
    {
      "cell_type": "markdown",
      "source": [
        "### **Identifica y corrige las inconsistencias en los datos para los valores categóricos**"
      ],
      "metadata": {
        "id": "MiRhJ3hgbQ3I"
      }
    },
    {
      "cell_type": "markdown",
      "source": [
        "### Conjunto de entrenamiento "
      ],
      "metadata": {
        "id": "BVWIFSSXbaqM"
      }
    },
    {
      "cell_type": "code",
      "source": [
        "#\"HomePlanet\" \n",
        "train_imputed[\"HomePlanet\"].value_counts()"
      ],
      "metadata": {
        "colab": {
          "base_uri": "https://localhost:8080/"
        },
        "id": "H0cjYoUjbLYI",
        "outputId": "476a1a08-9e76-4a7e-bf6f-8424bcc8f22e"
      },
      "execution_count": 21,
      "outputs": [
        {
          "output_type": "execute_result",
          "data": {
            "text/plain": [
              "Earth     3693\n",
              "Europa    1464\n",
              "Mars      1270\n",
              "Name: HomePlanet, dtype: int64"
            ]
          },
          "metadata": {},
          "execution_count": 21
        }
      ]
    },
    {
      "cell_type": "code",
      "source": [
        "#\"CryoSleep\"\n",
        "train_imputed[\"CryoSleep\"].value_counts()"
      ],
      "metadata": {
        "colab": {
          "base_uri": "https://localhost:8080/"
        },
        "id": "UNLD6X5vbt_H",
        "outputId": "888d3912-f38f-4e11-9e43-27dc1c427550"
      },
      "execution_count": 22,
      "outputs": [
        {
          "output_type": "execute_result",
          "data": {
            "text/plain": [
              "False    5373\n",
              "True     1054\n",
              "Name: CryoSleep, dtype: int64"
            ]
          },
          "metadata": {},
          "execution_count": 22
        }
      ]
    },
    {
      "cell_type": "code",
      "source": [
        "#\"Destination\"\n",
        "train_imputed[\"Destination\"].value_counts()"
      ],
      "metadata": {
        "colab": {
          "base_uri": "https://localhost:8080/"
        },
        "id": "D8ioNqP-b4rI",
        "outputId": "5ea54a08-80e3-44f1-a66a-c4e099cba226"
      },
      "execution_count": 23,
      "outputs": [
        {
          "output_type": "execute_result",
          "data": {
            "text/plain": [
              "TRAPPIST-1e      4571\n",
              "55 Cancri e      1289\n",
              "PSO J318.5-22     567\n",
              "Name: Destination, dtype: int64"
            ]
          },
          "metadata": {},
          "execution_count": 23
        }
      ]
    },
    {
      "cell_type": "code",
      "source": [
        "#\"VIP\"\n",
        "train_imputed[\"VIP\"].value_counts()"
      ],
      "metadata": {
        "colab": {
          "base_uri": "https://localhost:8080/"
        },
        "id": "x0uMWeUxcAJL",
        "outputId": "29d2d197-ea3a-4b81-831e-2eb5c33ef80c"
      },
      "execution_count": 24,
      "outputs": [
        {
          "output_type": "execute_result",
          "data": {
            "text/plain": [
              "False    6230\n",
              "True      197\n",
              "Name: VIP, dtype: int64"
            ]
          },
          "metadata": {},
          "execution_count": 24
        }
      ]
    },
    {
      "cell_type": "markdown",
      "source": [
        "No se encontró inconsistencia en los datos categóricos del conjunto de entrenamiento. "
      ],
      "metadata": {
        "id": "TxwvP4EFcJHN"
      }
    },
    {
      "cell_type": "markdown",
      "source": [
        "### **Producir visuales univariantes para el objetivo y todas las características**"
      ],
      "metadata": {
        "id": "-rjSkzHzc4h2"
      }
    },
    {
      "cell_type": "code",
      "source": [
        "#Histogram (\"Age\" column)\n",
        "plt.style.use(\"seaborn\")\n",
        "train_imputed[\"Age\"].hist(bins = 20, edgecolor = \"black\");\n",
        "plt.title(\"Age Histogram\", fontsize = 20)\n",
        "plt.xticks(fontsize = 16);\n",
        "plt.yticks(fontsize = 16);"
      ],
      "metadata": {
        "colab": {
          "base_uri": "https://localhost:8080/",
          "height": 373
        },
        "id": "mJ-2zq4uchIm",
        "outputId": "d707f05c-bc8c-4b56-ad0b-ca0afe0db92e"
      },
      "execution_count": 25,
      "outputs": [
        {
          "output_type": "display_data",
          "data": {
            "text/plain": [
              "<Figure size 576x396 with 1 Axes>"
            ],
            "image/png": "[encoded data removed]"
          },
          "metadata": {}
        }
      ]
    },
    {
      "cell_type": "code",
      "source": [
        "#Pie Chart\n",
        "plt.figure(figsize = (13,5))\n",
        "\n",
        "#\"HomePlanet\"\n",
        "plt.subplot(1,2,1)\n",
        "homep_counts = train_imputed[\"HomePlanet\"].value_counts()\n",
        "labels = [\"Earth\", \"Europa\", \"Mars\"]\n",
        "colors = sns.color_palette('pastel')[0:5]\n",
        "\n",
        "plt.pie(homep_counts, labels = labels, textprops={'fontsize': 14}, colors = colors, autopct='%.0f%%');\n",
        "plt.title(\"Home Planet\", fontsize = 20);\n",
        "\n",
        "#\"Destination\"\n",
        "plt.subplot(1,2,2)\n",
        "destination_counts = train_imputed[\"Destination\"].value_counts()\n",
        "labels = [\"TRAPPIST-1e\", \"55 Cancri e\", \"PSO J318.5-22\"]\n",
        "colors = sns.color_palette('pastel')[0:5]\n",
        "\n",
        "plt.pie(destination_counts, labels = labels, textprops={'fontsize': 14}, colors = colors, autopct='%.0f%%');\n",
        "plt.title(\"Destination\", fontsize = 20);"
      ],
      "metadata": {
        "colab": {
          "base_uri": "https://localhost:8080/",
          "height": 324
        },
        "id": "Zusua-b3e51H",
        "outputId": "ccb3d827-3383-4825-9eec-9bae6c60e2cb"
      },
      "execution_count": 26,
      "outputs": [
        {
          "output_type": "display_data",
          "data": {
            "text/plain": [
              "<Figure size 936x360 with 2 Axes>"
            ],
            "image/png": "[encoded data removed]"
          },
          "metadata": {}
        }
      ]
    },
    {
      "cell_type": "code",
      "source": [
        "#Histogram \n",
        "plt.figure(figsize = (20,5))\n",
        "\n",
        "#\"CryoSleep\"\n",
        "plt.subplot(1,3,1)\n",
        "plt.style.use(\"seaborn\")\n",
        "train_imputed[\"CryoSleep\"].astype(int).hist(edgecolor = \"black\");\n",
        "plt.title(\"Cryo Sleep\", fontsize = 20)\n",
        "plt.xticks(fontsize = 16);\n",
        "plt.yticks(fontsize = 16);\n",
        "\n",
        "#\"VIP\"\n",
        "plt.subplot(1,3,2)\n",
        "plt.style.use(\"seaborn\")\n",
        "train_imputed[\"VIP\"].astype(int).hist(edgecolor = \"black\");\n",
        "plt.title(\"VIP\", fontsize = 20)\n",
        "plt.xticks(fontsize = 16);\n",
        "plt.yticks(fontsize = 16);\n",
        "\n",
        "#\"Transported\"\n",
        "plt.subplot(1,3,3)\n",
        "plt.style.use(\"seaborn\")\n",
        "train_imputed[\"Transported\"].astype(int).hist(edgecolor = \"black\");\n",
        "plt.title(\"Transported\", fontsize = 20)\n",
        "plt.xticks(fontsize = 16);\n",
        "plt.yticks(fontsize = 16);"
      ],
      "metadata": {
        "colab": {
          "base_uri": "https://localhost:8080/",
          "height": 602
        },
        "id": "ONoT03N_gNdp",
        "outputId": "36f4762d-6449-43f0-bb12-14370c523486"
      },
      "execution_count": 27,
      "outputs": [
        {
          "output_type": "error",
          "ename": "ValueError",
          "evalue": "ignored",
          "traceback": [
            "\u001b[0;31m---------------------------------------------------------------------------\u001b[0m",
            "\u001b[0;31mValueError\u001b[0m                                Traceback (most recent call last)",
            "\u001b[0;32m<ipython-input-27-909e1ce852f5>\u001b[0m in \u001b[0;36m<module>\u001b[0;34m\u001b[0m\n\u001b[1;32m      5\u001b[0m \u001b[0mplt\u001b[0m\u001b[0;34m.\u001b[0m\u001b[0msubplot\u001b[0m\u001b[0;34m(\u001b[0m\u001b[0;36m1\u001b[0m\u001b[0;34m,\u001b[0m\u001b[0;36m3\u001b[0m\u001b[0;34m,\u001b[0m\u001b[0;36m1\u001b[0m\u001b[0;34m)\u001b[0m\u001b[0;34m\u001b[0m\u001b[0;34m\u001b[0m\u001b[0m\n\u001b[1;32m      6\u001b[0m \u001b[0mplt\u001b[0m\u001b[0;34m.\u001b[0m\u001b[0mstyle\u001b[0m\u001b[0;34m.\u001b[0m\u001b[0muse\u001b[0m\u001b[0;34m(\u001b[0m\u001b[0;34m\"seaborn\"\u001b[0m\u001b[0;34m)\u001b[0m\u001b[0;34m\u001b[0m\u001b[0;34m\u001b[0m\u001b[0m\n\u001b[0;32m----> 7\u001b[0;31m \u001b[0mtrain_imputed\u001b[0m\u001b[0;34m[\u001b[0m\u001b[0;34m\"CryoSleep\"\u001b[0m\u001b[0;34m]\u001b[0m\u001b[0;34m.\u001b[0m\u001b[0mastype\u001b[0m\u001b[0;34m(\u001b[0m\u001b[0mint\u001b[0m\u001b[0;34m)\u001b[0m\u001b[0;34m.\u001b[0m\u001b[0mhist\u001b[0m\u001b[0;34m(\u001b[0m\u001b[0medgecolor\u001b[0m \u001b[0;34m=\u001b[0m \u001b[0;34m\"black\"\u001b[0m\u001b[0;34m)\u001b[0m\u001b[0;34m;\u001b[0m\u001b[0;34m\u001b[0m\u001b[0;34m\u001b[0m\u001b[0m\n\u001b[0m\u001b[1;32m      8\u001b[0m \u001b[0mplt\u001b[0m\u001b[0;34m.\u001b[0m\u001b[0mtitle\u001b[0m\u001b[0;34m(\u001b[0m\u001b[0;34m\"Cryo Sleep\"\u001b[0m\u001b[0;34m,\u001b[0m \u001b[0mfontsize\u001b[0m \u001b[0;34m=\u001b[0m \u001b[0;36m20\u001b[0m\u001b[0;34m)\u001b[0m\u001b[0;34m\u001b[0m\u001b[0;34m\u001b[0m\u001b[0m\n\u001b[1;32m      9\u001b[0m \u001b[0mplt\u001b[0m\u001b[0;34m.\u001b[0m\u001b[0mxticks\u001b[0m\u001b[0;34m(\u001b[0m\u001b[0mfontsize\u001b[0m \u001b[0;34m=\u001b[0m \u001b[0;36m16\u001b[0m\u001b[0;34m)\u001b[0m\u001b[0;34m;\u001b[0m\u001b[0;34m\u001b[0m\u001b[0;34m\u001b[0m\u001b[0m\n",
            "\u001b[0;32m/usr/local/lib/python3.8/dist-packages/pandas/core/generic.py\u001b[0m in \u001b[0;36mastype\u001b[0;34m(self, dtype, copy, errors)\u001b[0m\n\u001b[1;32m   5813\u001b[0m         \u001b[0;32melse\u001b[0m\u001b[0;34m:\u001b[0m\u001b[0;34m\u001b[0m\u001b[0;34m\u001b[0m\u001b[0m\n\u001b[1;32m   5814\u001b[0m             \u001b[0;31m# else, only a single dtype is given\u001b[0m\u001b[0;34m\u001b[0m\u001b[0;34m\u001b[0m\u001b[0;34m\u001b[0m\u001b[0m\n\u001b[0;32m-> 5815\u001b[0;31m             \u001b[0mnew_data\u001b[0m \u001b[0;34m=\u001b[0m \u001b[0mself\u001b[0m\u001b[0;34m.\u001b[0m\u001b[0m_mgr\u001b[0m\u001b[0;34m.\u001b[0m\u001b[0mastype\u001b[0m\u001b[0;34m(\u001b[0m\u001b[0mdtype\u001b[0m\u001b[0;34m=\u001b[0m\u001b[0mdtype\u001b[0m\u001b[0;34m,\u001b[0m \u001b[0mcopy\u001b[0m\u001b[0;34m=\u001b[0m\u001b[0mcopy\u001b[0m\u001b[0;34m,\u001b[0m \u001b[0merrors\u001b[0m\u001b[0;34m=\u001b[0m\u001b[0merrors\u001b[0m\u001b[0;34m)\u001b[0m\u001b[0;34m\u001b[0m\u001b[0;34m\u001b[0m\u001b[0m\n\u001b[0m\u001b[1;32m   5816\u001b[0m             \u001b[0;32mreturn\u001b[0m \u001b[0mself\u001b[0m\u001b[0;34m.\u001b[0m\u001b[0m_constructor\u001b[0m\u001b[0;34m(\u001b[0m\u001b[0mnew_data\u001b[0m\u001b[0;34m)\u001b[0m\u001b[0;34m.\u001b[0m\u001b[0m__finalize__\u001b[0m\u001b[0;34m(\u001b[0m\u001b[0mself\u001b[0m\u001b[0;34m,\u001b[0m \u001b[0mmethod\u001b[0m\u001b[0;34m=\u001b[0m\u001b[0;34m\"astype\"\u001b[0m\u001b[0;34m)\u001b[0m\u001b[0;34m\u001b[0m\u001b[0;34m\u001b[0m\u001b[0m\n\u001b[1;32m   5817\u001b[0m \u001b[0;34m\u001b[0m\u001b[0m\n",
            "\u001b[0;32m/usr/local/lib/python3.8/dist-packages/pandas/core/internals/managers.py\u001b[0m in \u001b[0;36mastype\u001b[0;34m(self, dtype, copy, errors)\u001b[0m\n\u001b[1;32m    416\u001b[0m \u001b[0;34m\u001b[0m\u001b[0m\n\u001b[1;32m    417\u001b[0m     \u001b[0;32mdef\u001b[0m \u001b[0mastype\u001b[0m\u001b[0;34m(\u001b[0m\u001b[0mself\u001b[0m\u001b[0;34m:\u001b[0m \u001b[0mT\u001b[0m\u001b[0;34m,\u001b[0m \u001b[0mdtype\u001b[0m\u001b[0;34m,\u001b[0m \u001b[0mcopy\u001b[0m\u001b[0;34m:\u001b[0m \u001b[0mbool\u001b[0m \u001b[0;34m=\u001b[0m \u001b[0;32mFalse\u001b[0m\u001b[0;34m,\u001b[0m \u001b[0merrors\u001b[0m\u001b[0;34m:\u001b[0m \u001b[0mstr\u001b[0m \u001b[0;34m=\u001b[0m \u001b[0;34m\"raise\"\u001b[0m\u001b[0;34m)\u001b[0m \u001b[0;34m->\u001b[0m \u001b[0mT\u001b[0m\u001b[0;34m:\u001b[0m\u001b[0;34m\u001b[0m\u001b[0;34m\u001b[0m\u001b[0m\n\u001b[0;32m--> 418\u001b[0;31m         \u001b[0;32mreturn\u001b[0m \u001b[0mself\u001b[0m\u001b[0;34m.\u001b[0m\u001b[0mapply\u001b[0m\u001b[0;34m(\u001b[0m\u001b[0;34m\"astype\"\u001b[0m\u001b[0;34m,\u001b[0m \u001b[0mdtype\u001b[0m\u001b[0;34m=\u001b[0m\u001b[0mdtype\u001b[0m\u001b[0;34m,\u001b[0m \u001b[0mcopy\u001b[0m\u001b[0;34m=\u001b[0m\u001b[0mcopy\u001b[0m\u001b[0;34m,\u001b[0m \u001b[0merrors\u001b[0m\u001b[0;34m=\u001b[0m\u001b[0merrors\u001b[0m\u001b[0;34m)\u001b[0m\u001b[0;34m\u001b[0m\u001b[0;34m\u001b[0m\u001b[0m\n\u001b[0m\u001b[1;32m    419\u001b[0m \u001b[0;34m\u001b[0m\u001b[0m\n\u001b[1;32m    420\u001b[0m     def convert(\n",
            "\u001b[0;32m/usr/local/lib/python3.8/dist-packages/pandas/core/internals/managers.py\u001b[0m in \u001b[0;36mapply\u001b[0;34m(self, f, align_keys, ignore_failures, **kwargs)\u001b[0m\n\u001b[1;32m    325\u001b[0m                     \u001b[0mapplied\u001b[0m \u001b[0;34m=\u001b[0m \u001b[0mb\u001b[0m\u001b[0;34m.\u001b[0m\u001b[0mapply\u001b[0m\u001b[0;34m(\u001b[0m\u001b[0mf\u001b[0m\u001b[0;34m,\u001b[0m \u001b[0;34m**\u001b[0m\u001b[0mkwargs\u001b[0m\u001b[0;34m)\u001b[0m\u001b[0;34m\u001b[0m\u001b[0;34m\u001b[0m\u001b[0m\n\u001b[1;32m    326\u001b[0m                 \u001b[0;32melse\u001b[0m\u001b[0;34m:\u001b[0m\u001b[0;34m\u001b[0m\u001b[0;34m\u001b[0m\u001b[0m\n\u001b[0;32m--> 327\u001b[0;31m                     \u001b[0mapplied\u001b[0m \u001b[0;34m=\u001b[0m \u001b[0mgetattr\u001b[0m\u001b[0;34m(\u001b[0m\u001b[0mb\u001b[0m\u001b[0;34m,\u001b[0m \u001b[0mf\u001b[0m\u001b[0;34m)\u001b[0m\u001b[0;34m(\u001b[0m\u001b[0;34m**\u001b[0m\u001b[0mkwargs\u001b[0m\u001b[0;34m)\u001b[0m\u001b[0;34m\u001b[0m\u001b[0;34m\u001b[0m\u001b[0m\n\u001b[0m\u001b[1;32m    328\u001b[0m             \u001b[0;32mexcept\u001b[0m \u001b[0;34m(\u001b[0m\u001b[0mTypeError\u001b[0m\u001b[0;34m,\u001b[0m \u001b[0mNotImplementedError\u001b[0m\u001b[0;34m)\u001b[0m\u001b[0;34m:\u001b[0m\u001b[0;34m\u001b[0m\u001b[0;34m\u001b[0m\u001b[0m\n\u001b[1;32m    329\u001b[0m                 \u001b[0;32mif\u001b[0m \u001b[0;32mnot\u001b[0m \u001b[0mignore_failures\u001b[0m\u001b[0;34m:\u001b[0m\u001b[0;34m\u001b[0m\u001b[0;34m\u001b[0m\u001b[0m\n",
            "\u001b[0;32m/usr/local/lib/python3.8/dist-packages/pandas/core/internals/blocks.py\u001b[0m in \u001b[0;36mastype\u001b[0;34m(self, dtype, copy, errors)\u001b[0m\n\u001b[1;32m    589\u001b[0m         \u001b[0mvalues\u001b[0m \u001b[0;34m=\u001b[0m \u001b[0mself\u001b[0m\u001b[0;34m.\u001b[0m\u001b[0mvalues\u001b[0m\u001b[0;34m\u001b[0m\u001b[0;34m\u001b[0m\u001b[0m\n\u001b[1;32m    590\u001b[0m \u001b[0;34m\u001b[0m\u001b[0m\n\u001b[0;32m--> 591\u001b[0;31m         \u001b[0mnew_values\u001b[0m \u001b[0;34m=\u001b[0m \u001b[0mastype_array_safe\u001b[0m\u001b[0;34m(\u001b[0m\u001b[0mvalues\u001b[0m\u001b[0;34m,\u001b[0m \u001b[0mdtype\u001b[0m\u001b[0;34m,\u001b[0m \u001b[0mcopy\u001b[0m\u001b[0;34m=\u001b[0m\u001b[0mcopy\u001b[0m\u001b[0;34m,\u001b[0m \u001b[0merrors\u001b[0m\u001b[0;34m=\u001b[0m\u001b[0merrors\u001b[0m\u001b[0;34m)\u001b[0m\u001b[0;34m\u001b[0m\u001b[0;34m\u001b[0m\u001b[0m\n\u001b[0m\u001b[1;32m    592\u001b[0m \u001b[0;34m\u001b[0m\u001b[0m\n\u001b[1;32m    593\u001b[0m         \u001b[0mnew_values\u001b[0m \u001b[0;34m=\u001b[0m \u001b[0mmaybe_coerce_values\u001b[0m\u001b[0;34m(\u001b[0m\u001b[0mnew_values\u001b[0m\u001b[0;34m)\u001b[0m\u001b[0;34m\u001b[0m\u001b[0;34m\u001b[0m\u001b[0m\n",
            "\u001b[0;32m/usr/local/lib/python3.8/dist-packages/pandas/core/dtypes/cast.py\u001b[0m in \u001b[0;36mastype_array_safe\u001b[0;34m(values, dtype, copy, errors)\u001b[0m\n\u001b[1;32m   1307\u001b[0m \u001b[0;34m\u001b[0m\u001b[0m\n\u001b[1;32m   1308\u001b[0m     \u001b[0;32mtry\u001b[0m\u001b[0;34m:\u001b[0m\u001b[0;34m\u001b[0m\u001b[0;34m\u001b[0m\u001b[0m\n\u001b[0;32m-> 1309\u001b[0;31m         \u001b[0mnew_values\u001b[0m \u001b[0;34m=\u001b[0m \u001b[0mastype_array\u001b[0m\u001b[0;34m(\u001b[0m\u001b[0mvalues\u001b[0m\u001b[0;34m,\u001b[0m \u001b[0mdtype\u001b[0m\u001b[0;34m,\u001b[0m \u001b[0mcopy\u001b[0m\u001b[0;34m=\u001b[0m\u001b[0mcopy\u001b[0m\u001b[0;34m)\u001b[0m\u001b[0;34m\u001b[0m\u001b[0;34m\u001b[0m\u001b[0m\n\u001b[0m\u001b[1;32m   1310\u001b[0m     \u001b[0;32mexcept\u001b[0m \u001b[0;34m(\u001b[0m\u001b[0mValueError\u001b[0m\u001b[0;34m,\u001b[0m \u001b[0mTypeError\u001b[0m\u001b[0;34m)\u001b[0m\u001b[0;34m:\u001b[0m\u001b[0;34m\u001b[0m\u001b[0;34m\u001b[0m\u001b[0m\n\u001b[1;32m   1311\u001b[0m         \u001b[0;31m# e.g. astype_nansafe can fail on object-dtype of strings\u001b[0m\u001b[0;34m\u001b[0m\u001b[0;34m\u001b[0m\u001b[0;34m\u001b[0m\u001b[0m\n",
            "\u001b[0;32m/usr/local/lib/python3.8/dist-packages/pandas/core/dtypes/cast.py\u001b[0m in \u001b[0;36mastype_array\u001b[0;34m(values, dtype, copy)\u001b[0m\n\u001b[1;32m   1255\u001b[0m \u001b[0;34m\u001b[0m\u001b[0m\n\u001b[1;32m   1256\u001b[0m     \u001b[0;32melse\u001b[0m\u001b[0;34m:\u001b[0m\u001b[0;34m\u001b[0m\u001b[0;34m\u001b[0m\u001b[0m\n\u001b[0;32m-> 1257\u001b[0;31m         \u001b[0mvalues\u001b[0m \u001b[0;34m=\u001b[0m \u001b[0mastype_nansafe\u001b[0m\u001b[0;34m(\u001b[0m\u001b[0mvalues\u001b[0m\u001b[0;34m,\u001b[0m \u001b[0mdtype\u001b[0m\u001b[0;34m,\u001b[0m \u001b[0mcopy\u001b[0m\u001b[0;34m=\u001b[0m\u001b[0mcopy\u001b[0m\u001b[0;34m)\u001b[0m\u001b[0;34m\u001b[0m\u001b[0;34m\u001b[0m\u001b[0m\n\u001b[0m\u001b[1;32m   1258\u001b[0m \u001b[0;34m\u001b[0m\u001b[0m\n\u001b[1;32m   1259\u001b[0m     \u001b[0;31m# in pandas we don't store numpy str dtypes, so convert to object\u001b[0m\u001b[0;34m\u001b[0m\u001b[0;34m\u001b[0m\u001b[0;34m\u001b[0m\u001b[0m\n",
            "\u001b[0;32m/usr/local/lib/python3.8/dist-packages/pandas/core/dtypes/cast.py\u001b[0m in \u001b[0;36mastype_nansafe\u001b[0;34m(arr, dtype, copy, skipna)\u001b[0m\n\u001b[1;32m   1172\u001b[0m         \u001b[0;31m# work around NumPy brokenness, #1987\u001b[0m\u001b[0;34m\u001b[0m\u001b[0;34m\u001b[0m\u001b[0;34m\u001b[0m\u001b[0m\n\u001b[1;32m   1173\u001b[0m         \u001b[0;32mif\u001b[0m \u001b[0mnp\u001b[0m\u001b[0;34m.\u001b[0m\u001b[0missubdtype\u001b[0m\u001b[0;34m(\u001b[0m\u001b[0mdtype\u001b[0m\u001b[0;34m.\u001b[0m\u001b[0mtype\u001b[0m\u001b[0;34m,\u001b[0m \u001b[0mnp\u001b[0m\u001b[0;34m.\u001b[0m\u001b[0minteger\u001b[0m\u001b[0;34m)\u001b[0m\u001b[0;34m:\u001b[0m\u001b[0;34m\u001b[0m\u001b[0;34m\u001b[0m\u001b[0m\n\u001b[0;32m-> 1174\u001b[0;31m             \u001b[0;32mreturn\u001b[0m \u001b[0mlib\u001b[0m\u001b[0;34m.\u001b[0m\u001b[0mastype_intsafe\u001b[0m\u001b[0;34m(\u001b[0m\u001b[0marr\u001b[0m\u001b[0;34m,\u001b[0m \u001b[0mdtype\u001b[0m\u001b[0;34m)\u001b[0m\u001b[0;34m\u001b[0m\u001b[0;34m\u001b[0m\u001b[0m\n\u001b[0m\u001b[1;32m   1175\u001b[0m \u001b[0;34m\u001b[0m\u001b[0m\n\u001b[1;32m   1176\u001b[0m         \u001b[0;31m# if we have a datetime/timedelta array of objects\u001b[0m\u001b[0;34m\u001b[0m\u001b[0;34m\u001b[0m\u001b[0;34m\u001b[0m\u001b[0m\n",
            "\u001b[0;32m/usr/local/lib/python3.8/dist-packages/pandas/_libs/lib.pyx\u001b[0m in \u001b[0;36mpandas._libs.lib.astype_intsafe\u001b[0;34m()\u001b[0m\n",
            "\u001b[0;31mValueError\u001b[0m: invalid literal for int() with base 10: 'False'"
          ]
        },
        {
          "output_type": "display_data",
          "data": {
            "text/plain": [
              "<Figure size 1440x360 with 1 Axes>"
            ],
            "image/png": "[encoded data removed]"
          },
          "metadata": {}
        }
      ]
    },
    {
      "cell_type": "markdown",
      "source": [
        "### **Producir un mapa de calor de correlación e identificar cualquier correlaciones moderadas o fuertes entre el objetivo y las características y/o entre una característica y otra**"
      ],
      "metadata": {
        "id": "ogvbPvS-in7G"
      }
    },
    {
      "cell_type": "code",
      "source": [
        "#Necesitaremos la librería dython \n",
        "#!pip install dython"
      ],
      "metadata": {
        "id": "lGOUqjkthlH1"
      },
      "execution_count": null,
      "outputs": []
    },
    {
      "cell_type": "code",
      "source": [
        "#nominal.associations(train_imputed, nominal_columns = [\"HomePlanet\", \"CryoSleep\", \n",
        "#                                                       \"Destination\", \"VIP\", \n",
        "#                                                      \"Transported\"]);"
      ],
      "metadata": {
        "id": "sWTxQQP4hn7b"
      },
      "execution_count": null,
      "outputs": []
    },
    {
      "cell_type": "markdown",
      "source": [
        "### **Featuring Engineering**\n",
        "\n",
        "Se sumaran las entradas de las columnas \"RoomService\", \"FoodCourt\", \"ShoppingMall\", \"Spa\", y \"VRDeck\", ya que representa los gastos de los pasajeros en los servicios de lujo del Titanic. Todos, están en las mismas unidades. "
      ],
      "metadata": {
        "id": "JXp6u1AduyAT"
      }
    },
    {
      "cell_type": "code",
      "source": [
        "train_imputed[\"TotalExpenses\"] = train_imputed[\"RoomService\"] + train_imputed[\"FoodCourt\"] + train_imputed[\"ShoppingMall\"] + train_imputed[\"Spa\"] + train_imputed[\"VRDeck\"]\n",
        "train_imputed = train_imputed.drop(columns = [\"RoomService\", \"FoodCourt\",\n",
        "                                              \"ShoppingMall\", \"Spa\", \"VRDeck\"], axis = 1)\n",
        "train_imputed.head()"
      ],
      "metadata": {
        "id": "6nJ0ZTlujKVG",
        "colab": {
          "base_uri": "https://localhost:8080/",
          "height": 206
        },
        "outputId": "bb42c00d-8c3f-46eb-a4c1-4aab2d2702bc"
      },
      "execution_count": 28,
      "outputs": [
        {
          "output_type": "execute_result",
          "data": {
            "text/plain": [
              "   Age HomePlanet CryoSleep  Destination    VIP Transported  TotalExpenses\n",
              "0   39     Europa     False  TRAPPIST-1e  False       False            0.0\n",
              "1   24      Earth     False  TRAPPIST-1e  False        True          736.0\n",
              "2   58     Europa     False  TRAPPIST-1e   True       False        10383.0\n",
              "3   33     Europa     False  TRAPPIST-1e  False       False         5176.0\n",
              "4   16      Earth     False  TRAPPIST-1e  False        True         1091.0"
            ],
            "text/html": [
              "\n",
              "  <div id=\"df-9663b8b1-6be5-418c-a612-a06ce14d4307\">\n",
              "    <div class=\"colab-df-container\">\n",
              "      <div>\n",
              "<style scoped>\n",
              "    .dataframe tbody tr th:only-of-type {\n",
              "        vertical-align: middle;\n",
              "    }\n",
              "\n",
              "    .dataframe tbody tr th {\n",
              "        vertical-align: top;\n",
              "    }\n",
              "\n",
              "    .dataframe thead th {\n",
              "        text-align: right;\n",
              "    }\n",
              "</style>\n",
              "<table border=\"1\" class=\"dataframe\">\n",
              "  <thead>\n",
              "    <tr style=\"text-align: right;\">\n",
              "      <th></th>\n",
              "      <th>Age</th>\n",
              "      <th>HomePlanet</th>\n",
              "      <th>CryoSleep</th>\n",
              "      <th>Destination</th>\n",
              "      <th>VIP</th>\n",
              "      <th>Transported</th>\n",
              "      <th>TotalExpenses</th>\n",
              "    </tr>\n",
              "  </thead>\n",
              "  <tbody>\n",
              "    <tr>\n",
              "      <th>0</th>\n",
              "      <td>39</td>\n",
              "      <td>Europa</td>\n",
              "      <td>False</td>\n",
              "      <td>TRAPPIST-1e</td>\n",
              "      <td>False</td>\n",
              "      <td>False</td>\n",
              "      <td>0.0</td>\n",
              "    </tr>\n",
              "    <tr>\n",
              "      <th>1</th>\n",
              "      <td>24</td>\n",
              "      <td>Earth</td>\n",
              "      <td>False</td>\n",
              "      <td>TRAPPIST-1e</td>\n",
              "      <td>False</td>\n",
              "      <td>True</td>\n",
              "      <td>736.0</td>\n",
              "    </tr>\n",
              "    <tr>\n",
              "      <th>2</th>\n",
              "      <td>58</td>\n",
              "      <td>Europa</td>\n",
              "      <td>False</td>\n",
              "      <td>TRAPPIST-1e</td>\n",
              "      <td>True</td>\n",
              "      <td>False</td>\n",
              "      <td>10383.0</td>\n",
              "    </tr>\n",
              "    <tr>\n",
              "      <th>3</th>\n",
              "      <td>33</td>\n",
              "      <td>Europa</td>\n",
              "      <td>False</td>\n",
              "      <td>TRAPPIST-1e</td>\n",
              "      <td>False</td>\n",
              "      <td>False</td>\n",
              "      <td>5176.0</td>\n",
              "    </tr>\n",
              "    <tr>\n",
              "      <th>4</th>\n",
              "      <td>16</td>\n",
              "      <td>Earth</td>\n",
              "      <td>False</td>\n",
              "      <td>TRAPPIST-1e</td>\n",
              "      <td>False</td>\n",
              "      <td>True</td>\n",
              "      <td>1091.0</td>\n",
              "    </tr>\n",
              "  </tbody>\n",
              "</table>\n",
              "</div>\n",
              "      <button class=\"colab-df-convert\" onclick=\"convertToInteractive('df-9663b8b1-6be5-418c-a612-a06ce14d4307')\"\n",
              "              title=\"Convert this dataframe to an interactive table.\"\n",
              "              style=\"display:none;\">\n",
              "        \n",
              "  <svg xmlns=\"http://www.w3.org/2000/svg\" height=\"24px\"viewBox=\"0 0 24 24\"\n",
              "       width=\"24px\">\n",
              "    <path d=\"M0 0h24v24H0V0z\" fill=\"none\"/>\n",
              "    <path d=\"M18.56 5.44l.94 2.06.94-2.06 2.06-.94-2.06-.94-.94-2.06-.94 2.06-2.06.94zm-11 1L8.5 8.5l.94-2.06 2.06-.94-2.06-.94L8.5 2.5l-.94 2.06-2.06.94zm10 10l.94 2.06.94-2.06 2.06-.94-2.06-.94-.94-2.06-.94 2.06-2.06.94z\"/><path d=\"M17.41 7.96l-1.37-1.37c-.4-.4-.92-.59-1.43-.59-.52 0-1.04.2-1.43.59L10.3 9.45l-7.72 7.72c-.78.78-.78 2.05 0 2.83L4 21.41c.39.39.9.59 1.41.59.51 0 1.02-.2 1.41-.59l7.78-7.78 2.81-2.81c.8-.78.8-2.07 0-2.86zM5.41 20L4 18.59l7.72-7.72 1.47 1.35L5.41 20z\"/>\n",
              "  </svg>\n",
              "      </button>\n",
              "      \n",
              "  <style>\n",
              "    .colab-df-container {\n",
              "      display:flex;\n",
              "      flex-wrap:wrap;\n",
              "      gap: 12px;\n",
              "    }\n",
              "\n",
              "    .colab-df-convert {\n",
              "      background-color: #E8F0FE;\n",
              "      border: none;\n",
              "      border-radius: 50%;\n",
              "      cursor: pointer;\n",
              "      display: none;\n",
              "      fill: #1967D2;\n",
              "      height: 32px;\n",
              "      padding: 0 0 0 0;\n",
              "      width: 32px;\n",
              "    }\n",
              "\n",
              "    .colab-df-convert:hover {\n",
              "      background-color: #E2EBFA;\n",
              "      box-shadow: 0px 1px 2px rgba(60, 64, 67, 0.3), 0px 1px 3px 1px rgba(60, 64, 67, 0.15);\n",
              "      fill: #174EA6;\n",
              "    }\n",
              "\n",
              "    [theme=dark] .colab-df-convert {\n",
              "      background-color: #3B4455;\n",
              "      fill: #D2E3FC;\n",
              "    }\n",
              "\n",
              "    [theme=dark] .colab-df-convert:hover {\n",
              "      background-color: #434B5C;\n",
              "      box-shadow: 0px 1px 3px 1px rgba(0, 0, 0, 0.15);\n",
              "      filter: drop-shadow(0px 1px 2px rgba(0, 0, 0, 0.3));\n",
              "      fill: #FFFFFF;\n",
              "    }\n",
              "  </style>\n",
              "\n",
              "      <script>\n",
              "        const buttonEl =\n",
              "          document.querySelector('#df-9663b8b1-6be5-418c-a612-a06ce14d4307 button.colab-df-convert');\n",
              "        buttonEl.style.display =\n",
              "          google.colab.kernel.accessAllowed ? 'block' : 'none';\n",
              "\n",
              "        async function convertToInteractive(key) {\n",
              "          const element = document.querySelector('#df-9663b8b1-6be5-418c-a612-a06ce14d4307');\n",
              "          const dataTable =\n",
              "            await google.colab.kernel.invokeFunction('convertToInteractive',\n",
              "                                                     [key], {});\n",
              "          if (!dataTable) return;\n",
              "\n",
              "          const docLinkHtml = 'Like what you see? Visit the ' +\n",
              "            '<a target=\"_blank\" href=https://colab.research.google.com/notebooks/data_table.ipynb>data table notebook</a>'\n",
              "            + ' to learn more about interactive tables.';\n",
              "          element.innerHTML = '';\n",
              "          dataTable['output_type'] = 'display_data';\n",
              "          await google.colab.output.renderOutput(dataTable, element);\n",
              "          const docLink = document.createElement('div');\n",
              "          docLink.innerHTML = docLinkHtml;\n",
              "          element.appendChild(docLink);\n",
              "        }\n",
              "      </script>\n",
              "    </div>\n",
              "  </div>\n",
              "  "
            ]
          },
          "metadata": {},
          "execution_count": 28
        }
      ]
    },
    {
      "cell_type": "markdown",
      "source": [
        "### **Definde la matriz de características y el vector objetivo**"
      ],
      "metadata": {
        "id": "9RW45R3LzA2Y"
      }
    },
    {
      "cell_type": "code",
      "source": [
        "#Binariza la columna objetivo \n",
        "train_imputed[\"Transported\"] = train_imputed[\"Transported\"].map({\"False\": 0, \n",
        "                                                                 \"True\": 1})\n",
        "train_imputed.head()"
      ],
      "metadata": {
        "colab": {
          "base_uri": "https://localhost:8080/",
          "height": 206
        },
        "id": "DOdSQev0yPfu",
        "outputId": "25f5aad9-50b8-47f4-d065-f4ff8d5fd4b6"
      },
      "execution_count": 30,
      "outputs": [
        {
          "output_type": "execute_result",
          "data": {
            "text/plain": [
              "   Age HomePlanet CryoSleep  Destination    VIP  Transported  TotalExpenses\n",
              "0   39     Europa     False  TRAPPIST-1e  False            0            0.0\n",
              "1   24      Earth     False  TRAPPIST-1e  False            1          736.0\n",
              "2   58     Europa     False  TRAPPIST-1e   True            0        10383.0\n",
              "3   33     Europa     False  TRAPPIST-1e  False            0         5176.0\n",
              "4   16      Earth     False  TRAPPIST-1e  False            1         1091.0"
            ],
            "text/html": [
              "\n",
              "  <div id=\"df-535e3f55-d10c-4a15-940d-18f336250fc9\">\n",
              "    <div class=\"colab-df-container\">\n",
              "      <div>\n",
              "<style scoped>\n",
              "    .dataframe tbody tr th:only-of-type {\n",
              "        vertical-align: middle;\n",
              "    }\n",
              "\n",
              "    .dataframe tbody tr th {\n",
              "        vertical-align: top;\n",
              "    }\n",
              "\n",
              "    .dataframe thead th {\n",
              "        text-align: right;\n",
              "    }\n",
              "</style>\n",
              "<table border=\"1\" class=\"dataframe\">\n",
              "  <thead>\n",
              "    <tr style=\"text-align: right;\">\n",
              "      <th></th>\n",
              "      <th>Age</th>\n",
              "      <th>HomePlanet</th>\n",
              "      <th>CryoSleep</th>\n",
              "      <th>Destination</th>\n",
              "      <th>VIP</th>\n",
              "      <th>Transported</th>\n",
              "      <th>TotalExpenses</th>\n",
              "    </tr>\n",
              "  </thead>\n",
              "  <tbody>\n",
              "    <tr>\n",
              "      <th>0</th>\n",
              "      <td>39</td>\n",
              "      <td>Europa</td>\n",
              "      <td>False</td>\n",
              "      <td>TRAPPIST-1e</td>\n",
              "      <td>False</td>\n",
              "      <td>0</td>\n",
              "      <td>0.0</td>\n",
              "    </tr>\n",
              "    <tr>\n",
              "      <th>1</th>\n",
              "      <td>24</td>\n",
              "      <td>Earth</td>\n",
              "      <td>False</td>\n",
              "      <td>TRAPPIST-1e</td>\n",
              "      <td>False</td>\n",
              "      <td>1</td>\n",
              "      <td>736.0</td>\n",
              "    </tr>\n",
              "    <tr>\n",
              "      <th>2</th>\n",
              "      <td>58</td>\n",
              "      <td>Europa</td>\n",
              "      <td>False</td>\n",
              "      <td>TRAPPIST-1e</td>\n",
              "      <td>True</td>\n",
              "      <td>0</td>\n",
              "      <td>10383.0</td>\n",
              "    </tr>\n",
              "    <tr>\n",
              "      <th>3</th>\n",
              "      <td>33</td>\n",
              "      <td>Europa</td>\n",
              "      <td>False</td>\n",
              "      <td>TRAPPIST-1e</td>\n",
              "      <td>False</td>\n",
              "      <td>0</td>\n",
              "      <td>5176.0</td>\n",
              "    </tr>\n",
              "    <tr>\n",
              "      <th>4</th>\n",
              "      <td>16</td>\n",
              "      <td>Earth</td>\n",
              "      <td>False</td>\n",
              "      <td>TRAPPIST-1e</td>\n",
              "      <td>False</td>\n",
              "      <td>1</td>\n",
              "      <td>1091.0</td>\n",
              "    </tr>\n",
              "  </tbody>\n",
              "</table>\n",
              "</div>\n",
              "      <button class=\"colab-df-convert\" onclick=\"convertToInteractive('df-535e3f55-d10c-4a15-940d-18f336250fc9')\"\n",
              "              title=\"Convert this dataframe to an interactive table.\"\n",
              "              style=\"display:none;\">\n",
              "        \n",
              "  <svg xmlns=\"http://www.w3.org/2000/svg\" height=\"24px\"viewBox=\"0 0 24 24\"\n",
              "       width=\"24px\">\n",
              "    <path d=\"M0 0h24v24H0V0z\" fill=\"none\"/>\n",
              "    <path d=\"M18.56 5.44l.94 2.06.94-2.06 2.06-.94-2.06-.94-.94-2.06-.94 2.06-2.06.94zm-11 1L8.5 8.5l.94-2.06 2.06-.94-2.06-.94L8.5 2.5l-.94 2.06-2.06.94zm10 10l.94 2.06.94-2.06 2.06-.94-2.06-.94-.94-2.06-.94 2.06-2.06.94z\"/><path d=\"M17.41 7.96l-1.37-1.37c-.4-.4-.92-.59-1.43-.59-.52 0-1.04.2-1.43.59L10.3 9.45l-7.72 7.72c-.78.78-.78 2.05 0 2.83L4 21.41c.39.39.9.59 1.41.59.51 0 1.02-.2 1.41-.59l7.78-7.78 2.81-2.81c.8-.78.8-2.07 0-2.86zM5.41 20L4 18.59l7.72-7.72 1.47 1.35L5.41 20z\"/>\n",
              "  </svg>\n",
              "      </button>\n",
              "      \n",
              "  <style>\n",
              "    .colab-df-container {\n",
              "      display:flex;\n",
              "      flex-wrap:wrap;\n",
              "      gap: 12px;\n",
              "    }\n",
              "\n",
              "    .colab-df-convert {\n",
              "      background-color: #E8F0FE;\n",
              "      border: none;\n",
              "      border-radius: 50%;\n",
              "      cursor: pointer;\n",
              "      display: none;\n",
              "      fill: #1967D2;\n",
              "      height: 32px;\n",
              "      padding: 0 0 0 0;\n",
              "      width: 32px;\n",
              "    }\n",
              "\n",
              "    .colab-df-convert:hover {\n",
              "      background-color: #E2EBFA;\n",
              "      box-shadow: 0px 1px 2px rgba(60, 64, 67, 0.3), 0px 1px 3px 1px rgba(60, 64, 67, 0.15);\n",
              "      fill: #174EA6;\n",
              "    }\n",
              "\n",
              "    [theme=dark] .colab-df-convert {\n",
              "      background-color: #3B4455;\n",
              "      fill: #D2E3FC;\n",
              "    }\n",
              "\n",
              "    [theme=dark] .colab-df-convert:hover {\n",
              "      background-color: #434B5C;\n",
              "      box-shadow: 0px 1px 3px 1px rgba(0, 0, 0, 0.15);\n",
              "      filter: drop-shadow(0px 1px 2px rgba(0, 0, 0, 0.3));\n",
              "      fill: #FFFFFF;\n",
              "    }\n",
              "  </style>\n",
              "\n",
              "      <script>\n",
              "        const buttonEl =\n",
              "          document.querySelector('#df-535e3f55-d10c-4a15-940d-18f336250fc9 button.colab-df-convert');\n",
              "        buttonEl.style.display =\n",
              "          google.colab.kernel.accessAllowed ? 'block' : 'none';\n",
              "\n",
              "        async function convertToInteractive(key) {\n",
              "          const element = document.querySelector('#df-535e3f55-d10c-4a15-940d-18f336250fc9');\n",
              "          const dataTable =\n",
              "            await google.colab.kernel.invokeFunction('convertToInteractive',\n",
              "                                                     [key], {});\n",
              "          if (!dataTable) return;\n",
              "\n",
              "          const docLinkHtml = 'Like what you see? Visit the ' +\n",
              "            '<a target=\"_blank\" href=https://colab.research.google.com/notebooks/data_table.ipynb>data table notebook</a>'\n",
              "            + ' to learn more about interactive tables.';\n",
              "          element.innerHTML = '';\n",
              "          dataTable['output_type'] = 'display_data';\n",
              "          await google.colab.output.renderOutput(dataTable, element);\n",
              "          const docLink = document.createElement('div');\n",
              "          docLink.innerHTML = docLinkHtml;\n",
              "          element.appendChild(docLink);\n",
              "        }\n",
              "      </script>\n",
              "    </div>\n",
              "  </div>\n",
              "  "
            ]
          },
          "metadata": {},
          "execution_count": 30
        }
      ]
    },
    {
      "cell_type": "code",
      "source": [
        "X = train_imputed.drop(columns = \"Transported\")\n",
        "y = train_imputed[\"Transported\"]"
      ],
      "metadata": {
        "id": "1y4rMcMTzYZr"
      },
      "execution_count": 31,
      "outputs": []
    },
    {
      "cell_type": "markdown",
      "source": [
        "### **Train-test split**"
      ],
      "metadata": {
        "id": "YxYtlbe_zk1R"
      }
    },
    {
      "cell_type": "code",
      "source": [
        "X_train, X_test, y_train, y_test = train_test_split(X, y, random_state = 42)"
      ],
      "metadata": {
        "id": "KL37xGe0zj4e"
      },
      "execution_count": 32,
      "outputs": []
    },
    {
      "cell_type": "markdown",
      "source": [
        "### **Escala los datos numéricos y aplica OHE para los datos categóricos**"
      ],
      "metadata": {
        "id": "8_QDFZfDz21n"
      }
    },
    {
      "cell_type": "code",
      "source": [
        "#Scaler\n",
        "scaler = StandardScaler()\n",
        "\n",
        "#OHE\n",
        "ohe = OneHotEncoder(handle_unknown = \"ignore\", sparse = False)"
      ],
      "metadata": {
        "id": "dqdkzUQ2zuZp"
      },
      "execution_count": 33,
      "outputs": []
    },
    {
      "cell_type": "code",
      "source": [
        "#Tuplas para el preprocesamiento \n",
        "num_tuple = (scaler, num_selector)\n",
        "cat_tuple = (ohe, cat_selector)\n",
        "\n",
        "#Hace ColumnTransformer\n",
        "col_transformer = make_column_transformer(num_tuple, cat_tuple, \n",
        "                                          remainder = \"passthrough\")\n",
        "\n",
        "col_transformer.fit(X_train)"
      ],
      "metadata": {
        "colab": {
          "base_uri": "https://localhost:8080/",
          "height": 116
        },
        "id": "eu_1Kfv31_Yn",
        "outputId": "f6087bab-7ce7-47f5-ccc4-e175a8e4d896"
      },
      "execution_count": 40,
      "outputs": [
        {
          "output_type": "execute_result",
          "data": {
            "text/plain": [
              "ColumnTransformer(remainder='passthrough',\n",
              "                  transformers=[('standardscaler', StandardScaler(),\n",
              "                                 <sklearn.compose._column_transformer.make_column_selector object at 0x7f94b7c05f70>),\n",
              "                                ('onehotencoder',\n",
              "                                 OneHotEncoder(handle_unknown='ignore',\n",
              "                                               sparse=False),\n",
              "                                 <sklearn.compose._column_transformer.make_column_selector object at 0x7f94b7c05e20>)])"
            ],
            "text/html": [
              "<style>#sk-0ffc7707-f12d-4a5a-bf83-59c965a228c3 {color: black;background-color: white;}#sk-0ffc7707-f12d-4a5a-bf83-59c965a228c3 pre{padding: 0;}#sk-0ffc7707-f12d-4a5a-bf83-59c965a228c3 div.sk-toggleable {background-color: white;}#sk-0ffc7707-f12d-4a5a-bf83-59c965a228c3 label.sk-toggleable__label {cursor: pointer;display: block;width: 100%;margin-bottom: 0;padding: 0.3em;box-sizing: border-box;text-align: center;}#sk-0ffc7707-f12d-4a5a-bf83-59c965a228c3 label.sk-toggleable__label-arrow:before {content: \"▸\";float: left;margin-right: 0.25em;color: #696969;}#sk-0ffc7707-f12d-4a5a-bf83-59c965a228c3 label.sk-toggleable__label-arrow:hover:before {color: black;}#sk-0ffc7707-f12d-4a5a-bf83-59c965a228c3 div.sk-estimator:hover label.sk-toggleable__label-arrow:before {color: black;}#sk-0ffc7707-f12d-4a5a-bf83-59c965a228c3 div.sk-toggleable__content {max-height: 0;max-width: 0;overflow: hidden;text-align: left;background-color: #f0f8ff;}#sk-0ffc7707-f12d-4a5a-bf83-59c965a228c3 div.sk-toggleable__content pre {margin: 0.2em;color: black;border-radius: 0.25em;background-color: #f0f8ff;}#sk-0ffc7707-f12d-4a5a-bf83-59c965a228c3 input.sk-toggleable__control:checked~div.sk-toggleable__content {max-height: 200px;max-width: 100%;overflow: auto;}#sk-0ffc7707-f12d-4a5a-bf83-59c965a228c3 input.sk-toggleable__control:checked~label.sk-toggleable__label-arrow:before {content: \"▾\";}#sk-0ffc7707-f12d-4a5a-bf83-59c965a228c3 div.sk-estimator input.sk-toggleable__control:checked~label.sk-toggleable__label {background-color: #d4ebff;}#sk-0ffc7707-f12d-4a5a-bf83-59c965a228c3 div.sk-label input.sk-toggleable__control:checked~label.sk-toggleable__label {background-color: #d4ebff;}#sk-0ffc7707-f12d-4a5a-bf83-59c965a228c3 input.sk-hidden--visually {border: 0;clip: rect(1px 1px 1px 1px);clip: rect(1px, 1px, 1px, 1px);height: 1px;margin: -1px;overflow: hidden;padding: 0;position: absolute;width: 1px;}#sk-0ffc7707-f12d-4a5a-bf83-59c965a228c3 div.sk-estimator {font-family: monospace;background-color: #f0f8ff;border: 1px dotted black;border-radius: 0.25em;box-sizing: border-box;margin-bottom: 0.5em;}#sk-0ffc7707-f12d-4a5a-bf83-59c965a228c3 div.sk-estimator:hover {background-color: #d4ebff;}#sk-0ffc7707-f12d-4a5a-bf83-59c965a228c3 div.sk-parallel-item::after {content: \"\";width: 100%;border-bottom: 1px solid gray;flex-grow: 1;}#sk-0ffc7707-f12d-4a5a-bf83-59c965a228c3 div.sk-label:hover label.sk-toggleable__label {background-color: #d4ebff;}#sk-0ffc7707-f12d-4a5a-bf83-59c965a228c3 div.sk-serial::before {content: \"\";position: absolute;border-left: 1px solid gray;box-sizing: border-box;top: 2em;bottom: 0;left: 50%;}#sk-0ffc7707-f12d-4a5a-bf83-59c965a228c3 div.sk-serial {display: flex;flex-direction: column;align-items: center;background-color: white;padding-right: 0.2em;padding-left: 0.2em;}#sk-0ffc7707-f12d-4a5a-bf83-59c965a228c3 div.sk-item {z-index: 1;}#sk-0ffc7707-f12d-4a5a-bf83-59c965a228c3 div.sk-parallel {display: flex;align-items: stretch;justify-content: center;background-color: white;}#sk-0ffc7707-f12d-4a5a-bf83-59c965a228c3 div.sk-parallel::before {content: \"\";position: absolute;border-left: 1px solid gray;box-sizing: border-box;top: 2em;bottom: 0;left: 50%;}#sk-0ffc7707-f12d-4a5a-bf83-59c965a228c3 div.sk-parallel-item {display: flex;flex-direction: column;position: relative;background-color: white;}#sk-0ffc7707-f12d-4a5a-bf83-59c965a228c3 div.sk-parallel-item:first-child::after {align-self: flex-end;width: 50%;}#sk-0ffc7707-f12d-4a5a-bf83-59c965a228c3 div.sk-parallel-item:last-child::after {align-self: flex-start;width: 50%;}#sk-0ffc7707-f12d-4a5a-bf83-59c965a228c3 div.sk-parallel-item:only-child::after {width: 0;}#sk-0ffc7707-f12d-4a5a-bf83-59c965a228c3 div.sk-dashed-wrapped {border: 1px dashed gray;margin: 0 0.4em 0.5em 0.4em;box-sizing: border-box;padding-bottom: 0.4em;background-color: white;position: relative;}#sk-0ffc7707-f12d-4a5a-bf83-59c965a228c3 div.sk-label label {font-family: monospace;font-weight: bold;background-color: white;display: inline-block;line-height: 1.2em;}#sk-0ffc7707-f12d-4a5a-bf83-59c965a228c3 div.sk-label-container {position: relative;z-index: 2;text-align: center;}#sk-0ffc7707-f12d-4a5a-bf83-59c965a228c3 div.sk-container {/* jupyter's `normalize.less` sets `[hidden] { display: none; }` but bootstrap.min.css set `[hidden] { display: none !important; }` so we also need the `!important` here to be able to override the default hidden behavior on the sphinx rendered scikit-learn.org. See: https://github.com/scikit-learn/scikit-learn/issues/21755 */display: inline-block !important;position: relative;}#sk-0ffc7707-f12d-4a5a-bf83-59c965a228c3 div.sk-text-repr-fallback {display: none;}</style><div id=\"sk-0ffc7707-f12d-4a5a-bf83-59c965a228c3\" class=\"sk-top-container\"><div class=\"sk-text-repr-fallback\"><pre>ColumnTransformer(remainder=&#x27;passthrough&#x27;,\n",
              "                  transformers=[(&#x27;standardscaler&#x27;, StandardScaler(),\n",
              "                                 &lt;sklearn.compose._column_transformer.make_column_selector object at 0x7f94b7c05f70&gt;),\n",
              "                                (&#x27;onehotencoder&#x27;,\n",
              "                                 OneHotEncoder(handle_unknown=&#x27;ignore&#x27;,\n",
              "                                               sparse=False),\n",
              "                                 &lt;sklearn.compose._column_transformer.make_column_selector object at 0x7f94b7c05e20&gt;)])</pre><b>Please rerun this cell to show the HTML repr or trust the notebook.</b></div><div class=\"sk-container\" hidden><div class=\"sk-item sk-dashed-wrapped\"><div class=\"sk-label-container\"><div class=\"sk-label sk-toggleable\"><input class=\"sk-toggleable__control sk-hidden--visually\" id=\"90044e0f-a159-4cdd-affd-a0570eba5290\" type=\"checkbox\" ><label for=\"90044e0f-a159-4cdd-affd-a0570eba5290\" class=\"sk-toggleable__label sk-toggleable__label-arrow\">ColumnTransformer</label><div class=\"sk-toggleable__content\"><pre>ColumnTransformer(remainder=&#x27;passthrough&#x27;,\n",
              "                  transformers=[(&#x27;standardscaler&#x27;, StandardScaler(),\n",
              "                                 &lt;sklearn.compose._column_transformer.make_column_selector object at 0x7f94b7c05f70&gt;),\n",
              "                                (&#x27;onehotencoder&#x27;,\n",
              "                                 OneHotEncoder(handle_unknown=&#x27;ignore&#x27;,\n",
              "                                               sparse=False),\n",
              "                                 &lt;sklearn.compose._column_transformer.make_column_selector object at 0x7f94b7c05e20&gt;)])</pre></div></div></div><div class=\"sk-parallel\"><div class=\"sk-parallel-item\"><div class=\"sk-item\"><div class=\"sk-label-container\"><div class=\"sk-label sk-toggleable\"><input class=\"sk-toggleable__control sk-hidden--visually\" id=\"1cd25e1c-7629-431d-94e5-12428f4dcebb\" type=\"checkbox\" ><label for=\"1cd25e1c-7629-431d-94e5-12428f4dcebb\" class=\"sk-toggleable__label sk-toggleable__label-arrow\">standardscaler</label><div class=\"sk-toggleable__content\"><pre>&lt;sklearn.compose._column_transformer.make_column_selector object at 0x7f94b7c05f70&gt;</pre></div></div></div><div class=\"sk-serial\"><div class=\"sk-item\"><div class=\"sk-estimator sk-toggleable\"><input class=\"sk-toggleable__control sk-hidden--visually\" id=\"2ac6ec59-b40a-4455-bc47-522a5392c56c\" type=\"checkbox\" ><label for=\"2ac6ec59-b40a-4455-bc47-522a5392c56c\" class=\"sk-toggleable__label sk-toggleable__label-arrow\">StandardScaler</label><div class=\"sk-toggleable__content\"><pre>StandardScaler()</pre></div></div></div></div></div></div><div class=\"sk-parallel-item\"><div class=\"sk-item\"><div class=\"sk-label-container\"><div class=\"sk-label sk-toggleable\"><input class=\"sk-toggleable__control sk-hidden--visually\" id=\"944f7d6a-a1bb-4130-ab0f-41aaac3b4a03\" type=\"checkbox\" ><label for=\"944f7d6a-a1bb-4130-ab0f-41aaac3b4a03\" class=\"sk-toggleable__label sk-toggleable__label-arrow\">onehotencoder</label><div class=\"sk-toggleable__content\"><pre>&lt;sklearn.compose._column_transformer.make_column_selector object at 0x7f94b7c05e20&gt;</pre></div></div></div><div class=\"sk-serial\"><div class=\"sk-item\"><div class=\"sk-estimator sk-toggleable\"><input class=\"sk-toggleable__control sk-hidden--visually\" id=\"27236603-6e40-49dc-9f01-3dc4ea5b3475\" type=\"checkbox\" ><label for=\"27236603-6e40-49dc-9f01-3dc4ea5b3475\" class=\"sk-toggleable__label sk-toggleable__label-arrow\">OneHotEncoder</label><div class=\"sk-toggleable__content\"><pre>OneHotEncoder(handle_unknown=&#x27;ignore&#x27;, sparse=False)</pre></div></div></div></div></div></div><div class=\"sk-parallel-item\"><div class=\"sk-item\"><div class=\"sk-label-container\"><div class=\"sk-label sk-toggleable\"><input class=\"sk-toggleable__control sk-hidden--visually\" id=\"59037ce2-8734-493a-8d80-5f5f8a44a726\" type=\"checkbox\" ><label for=\"59037ce2-8734-493a-8d80-5f5f8a44a726\" class=\"sk-toggleable__label sk-toggleable__label-arrow\">remainder</label><div class=\"sk-toggleable__content\"><pre>[]</pre></div></div></div><div class=\"sk-serial\"><div class=\"sk-item\"><div class=\"sk-estimator sk-toggleable\"><input class=\"sk-toggleable__control sk-hidden--visually\" id=\"61ae572f-fe08-4795-a259-3244fce34996\" type=\"checkbox\" ><label for=\"61ae572f-fe08-4795-a259-3244fce34996\" class=\"sk-toggleable__label sk-toggleable__label-arrow\">passthrough</label><div class=\"sk-toggleable__content\"><pre>passthrough</pre></div></div></div></div></div></div></div></div></div></div>"
            ]
          },
          "metadata": {},
          "execution_count": 40
        }
      ]
    },
    {
      "cell_type": "code",
      "source": [
        "#Transforma los datos\n",
        "X_train_processed = col_transformer.transform(X_train)\n",
        "X_test_processed  = col_transformer.transform(X_test)"
      ],
      "metadata": {
        "id": "P7GW_sHK2Fhz"
      },
      "execution_count": 41,
      "outputs": []
    },
    {
      "cell_type": "code",
      "source": [
        "#Visualiza las transformaciones en forma de DataFrame\n",
        "column_names = col_transformer.get_feature_names_out(X_train.columns)\n",
        "X_train = pd.DataFrame(X_train_processed, columns = column_names)\n",
        "X_test = pd.DataFrame(X_test_processed, columns = column_names)\n",
        "X_train.head()"
      ],
      "metadata": {
        "colab": {
          "base_uri": "https://localhost:8080/",
          "height": 287
        },
        "id": "tG41vBOY079P",
        "outputId": "e338246a-cb20-4e57-b0df-990cb3dcd784"
      },
      "execution_count": 42,
      "outputs": [
        {
          "output_type": "execute_result",
          "data": {
            "text/plain": [
              "   standardscaler__Age  standardscaler__TotalExpenses  \\\n",
              "0            -0.481156                      -0.413585   \n",
              "1            -0.334785                      -0.635668   \n",
              "2            -0.042044                      -0.371450   \n",
              "3            -2.018049                      -0.501346   \n",
              "4            -1.286195                      -0.294466   \n",
              "\n",
              "   onehotencoder__HomePlanet_Earth  onehotencoder__HomePlanet_Europa  \\\n",
              "0                              1.0                               0.0   \n",
              "1                              1.0                               0.0   \n",
              "2                              1.0                               0.0   \n",
              "3                              1.0                               0.0   \n",
              "4                              1.0                               0.0   \n",
              "\n",
              "   onehotencoder__HomePlanet_Mars  onehotencoder__CryoSleep_False  \\\n",
              "0                             0.0                             1.0   \n",
              "1                             0.0                             0.0   \n",
              "2                             0.0                             1.0   \n",
              "3                             0.0                             0.0   \n",
              "4                             0.0                             1.0   \n",
              "\n",
              "   onehotencoder__CryoSleep_True  onehotencoder__Destination_55 Cancri e  \\\n",
              "0                            0.0                                     0.0   \n",
              "1                            1.0                                     0.0   \n",
              "2                            0.0                                     0.0   \n",
              "3                            1.0                                     0.0   \n",
              "4                            0.0                                     0.0   \n",
              "\n",
              "   onehotencoder__Destination_PSO J318.5-22  \\\n",
              "0                                       0.0   \n",
              "1                                       0.0   \n",
              "2                                       0.0   \n",
              "3                                       0.0   \n",
              "4                                       0.0   \n",
              "\n",
              "   onehotencoder__Destination_TRAPPIST-1e  onehotencoder__VIP_False  \\\n",
              "0                                     1.0                       1.0   \n",
              "1                                     1.0                       1.0   \n",
              "2                                     1.0                       1.0   \n",
              "3                                     1.0                       1.0   \n",
              "4                                     1.0                       1.0   \n",
              "\n",
              "   onehotencoder__VIP_True  \n",
              "0                      0.0  \n",
              "1                      0.0  \n",
              "2                      0.0  \n",
              "3                      0.0  \n",
              "4                      0.0  "
            ],
            "text/html": [
              "\n",
              "  <div id=\"df-f6ccd605-f56a-4a8e-921d-c088f7bbc2c0\">\n",
              "    <div class=\"colab-df-container\">\n",
              "      <div>\n",
              "<style scoped>\n",
              "    .dataframe tbody tr th:only-of-type {\n",
              "        vertical-align: middle;\n",
              "    }\n",
              "\n",
              "    .dataframe tbody tr th {\n",
              "        vertical-align: top;\n",
              "    }\n",
              "\n",
              "    .dataframe thead th {\n",
              "        text-align: right;\n",
              "    }\n",
              "</style>\n",
              "<table border=\"1\" class=\"dataframe\">\n",
              "  <thead>\n",
              "    <tr style=\"text-align: right;\">\n",
              "      <th></th>\n",
              "      <th>standardscaler__Age</th>\n",
              "      <th>standardscaler__TotalExpenses</th>\n",
              "      <th>onehotencoder__HomePlanet_Earth</th>\n",
              "      <th>onehotencoder__HomePlanet_Europa</th>\n",
              "      <th>onehotencoder__HomePlanet_Mars</th>\n",
              "      <th>onehotencoder__CryoSleep_False</th>\n",
              "      <th>onehotencoder__CryoSleep_True</th>\n",
              "      <th>onehotencoder__Destination_55 Cancri e</th>\n",
              "      <th>onehotencoder__Destination_PSO J318.5-22</th>\n",
              "      <th>onehotencoder__Destination_TRAPPIST-1e</th>\n",
              "      <th>onehotencoder__VIP_False</th>\n",
              "      <th>onehotencoder__VIP_True</th>\n",
              "    </tr>\n",
              "  </thead>\n",
              "  <tbody>\n",
              "    <tr>\n",
              "      <th>0</th>\n",
              "      <td>-0.481156</td>\n",
              "      <td>-0.413585</td>\n",
              "      <td>1.0</td>\n",
              "      <td>0.0</td>\n",
              "      <td>0.0</td>\n",
              "      <td>1.0</td>\n",
              "      <td>0.0</td>\n",
              "      <td>0.0</td>\n",
              "      <td>0.0</td>\n",
              "      <td>1.0</td>\n",
              "      <td>1.0</td>\n",
              "      <td>0.0</td>\n",
              "    </tr>\n",
              "    <tr>\n",
              "      <th>1</th>\n",
              "      <td>-0.334785</td>\n",
              "      <td>-0.635668</td>\n",
              "      <td>1.0</td>\n",
              "      <td>0.0</td>\n",
              "      <td>0.0</td>\n",
              "      <td>0.0</td>\n",
              "      <td>1.0</td>\n",
              "      <td>0.0</td>\n",
              "      <td>0.0</td>\n",
              "      <td>1.0</td>\n",
              "      <td>1.0</td>\n",
              "      <td>0.0</td>\n",
              "    </tr>\n",
              "    <tr>\n",
              "      <th>2</th>\n",
              "      <td>-0.042044</td>\n",
              "      <td>-0.371450</td>\n",
              "      <td>1.0</td>\n",
              "      <td>0.0</td>\n",
              "      <td>0.0</td>\n",
              "      <td>1.0</td>\n",
              "      <td>0.0</td>\n",
              "      <td>0.0</td>\n",
              "      <td>0.0</td>\n",
              "      <td>1.0</td>\n",
              "      <td>1.0</td>\n",
              "      <td>0.0</td>\n",
              "    </tr>\n",
              "    <tr>\n",
              "      <th>3</th>\n",
              "      <td>-2.018049</td>\n",
              "      <td>-0.501346</td>\n",
              "      <td>1.0</td>\n",
              "      <td>0.0</td>\n",
              "      <td>0.0</td>\n",
              "      <td>0.0</td>\n",
              "      <td>1.0</td>\n",
              "      <td>0.0</td>\n",
              "      <td>0.0</td>\n",
              "      <td>1.0</td>\n",
              "      <td>1.0</td>\n",
              "      <td>0.0</td>\n",
              "    </tr>\n",
              "    <tr>\n",
              "      <th>4</th>\n",
              "      <td>-1.286195</td>\n",
              "      <td>-0.294466</td>\n",
              "      <td>1.0</td>\n",
              "      <td>0.0</td>\n",
              "      <td>0.0</td>\n",
              "      <td>1.0</td>\n",
              "      <td>0.0</td>\n",
              "      <td>0.0</td>\n",
              "      <td>0.0</td>\n",
              "      <td>1.0</td>\n",
              "      <td>1.0</td>\n",
              "      <td>0.0</td>\n",
              "    </tr>\n",
              "  </tbody>\n",
              "</table>\n",
              "</div>\n",
              "      <button class=\"colab-df-convert\" onclick=\"convertToInteractive('df-f6ccd605-f56a-4a8e-921d-c088f7bbc2c0')\"\n",
              "              title=\"Convert this dataframe to an interactive table.\"\n",
              "              style=\"display:none;\">\n",
              "        \n",
              "  <svg xmlns=\"http://www.w3.org/2000/svg\" height=\"24px\"viewBox=\"0 0 24 24\"\n",
              "       width=\"24px\">\n",
              "    <path d=\"M0 0h24v24H0V0z\" fill=\"none\"/>\n",
              "    <path d=\"M18.56 5.44l.94 2.06.94-2.06 2.06-.94-2.06-.94-.94-2.06-.94 2.06-2.06.94zm-11 1L8.5 8.5l.94-2.06 2.06-.94-2.06-.94L8.5 2.5l-.94 2.06-2.06.94zm10 10l.94 2.06.94-2.06 2.06-.94-2.06-.94-.94-2.06-.94 2.06-2.06.94z\"/><path d=\"M17.41 7.96l-1.37-1.37c-.4-.4-.92-.59-1.43-.59-.52 0-1.04.2-1.43.59L10.3 9.45l-7.72 7.72c-.78.78-.78 2.05 0 2.83L4 21.41c.39.39.9.59 1.41.59.51 0 1.02-.2 1.41-.59l7.78-7.78 2.81-2.81c.8-.78.8-2.07 0-2.86zM5.41 20L4 18.59l7.72-7.72 1.47 1.35L5.41 20z\"/>\n",
              "  </svg>\n",
              "      </button>\n",
              "      \n",
              "  <style>\n",
              "    .colab-df-container {\n",
              "      display:flex;\n",
              "      flex-wrap:wrap;\n",
              "      gap: 12px;\n",
              "    }\n",
              "\n",
              "    .colab-df-convert {\n",
              "      background-color: #E8F0FE;\n",
              "      border: none;\n",
              "      border-radius: 50%;\n",
              "      cursor: pointer;\n",
              "      display: none;\n",
              "      fill: #1967D2;\n",
              "      height: 32px;\n",
              "      padding: 0 0 0 0;\n",
              "      width: 32px;\n",
              "    }\n",
              "\n",
              "    .colab-df-convert:hover {\n",
              "      background-color: #E2EBFA;\n",
              "      box-shadow: 0px 1px 2px rgba(60, 64, 67, 0.3), 0px 1px 3px 1px rgba(60, 64, 67, 0.15);\n",
              "      fill: #174EA6;\n",
              "    }\n",
              "\n",
              "    [theme=dark] .colab-df-convert {\n",
              "      background-color: #3B4455;\n",
              "      fill: #D2E3FC;\n",
              "    }\n",
              "\n",
              "    [theme=dark] .colab-df-convert:hover {\n",
              "      background-color: #434B5C;\n",
              "      box-shadow: 0px 1px 3px 1px rgba(0, 0, 0, 0.15);\n",
              "      filter: drop-shadow(0px 1px 2px rgba(0, 0, 0, 0.3));\n",
              "      fill: #FFFFFF;\n",
              "    }\n",
              "  </style>\n",
              "\n",
              "      <script>\n",
              "        const buttonEl =\n",
              "          document.querySelector('#df-f6ccd605-f56a-4a8e-921d-c088f7bbc2c0 button.colab-df-convert');\n",
              "        buttonEl.style.display =\n",
              "          google.colab.kernel.accessAllowed ? 'block' : 'none';\n",
              "\n",
              "        async function convertToInteractive(key) {\n",
              "          const element = document.querySelector('#df-f6ccd605-f56a-4a8e-921d-c088f7bbc2c0');\n",
              "          const dataTable =\n",
              "            await google.colab.kernel.invokeFunction('convertToInteractive',\n",
              "                                                     [key], {});\n",
              "          if (!dataTable) return;\n",
              "\n",
              "          const docLinkHtml = 'Like what you see? Visit the ' +\n",
              "            '<a target=\"_blank\" href=https://colab.research.google.com/notebooks/data_table.ipynb>data table notebook</a>'\n",
              "            + ' to learn more about interactive tables.';\n",
              "          element.innerHTML = '';\n",
              "          dataTable['output_type'] = 'display_data';\n",
              "          await google.colab.output.renderOutput(dataTable, element);\n",
              "          const docLink = document.createElement('div');\n",
              "          docLink.innerHTML = docLinkHtml;\n",
              "          element.appendChild(docLink);\n",
              "        }\n",
              "      </script>\n",
              "    </div>\n",
              "  </div>\n",
              "  "
            ]
          },
          "metadata": {},
          "execution_count": 42
        }
      ]
    },
    {
      "cell_type": "code",
      "source": [
        "X_train.shape"
      ],
      "metadata": {
        "colab": {
          "base_uri": "https://localhost:8080/"
        },
        "id": "3Hz02MQj2-mf",
        "outputId": "bf18d3f6-b8c9-48b9-cd2f-191354692ed3"
      },
      "execution_count": 46,
      "outputs": [
        {
          "output_type": "execute_result",
          "data": {
            "text/plain": [
              "(4820, 12)"
            ]
          },
          "metadata": {},
          "execution_count": 46
        }
      ]
    },
    {
      "cell_type": "markdown",
      "source": [
        "### **Reducción de dimensionalidad (PCA)**"
      ],
      "metadata": {
        "id": "gclfrlaE2kaU"
      }
    },
    {
      "cell_type": "code",
      "source": [
        "# Instantiate & fit data using PCA\n",
        "pca = PCA()\n",
        "pca.fit(X_train)"
      ],
      "metadata": {
        "colab": {
          "base_uri": "https://localhost:8080/",
          "height": 74
        },
        "id": "-M35InX81nKI",
        "outputId": "68c7dd2f-d356-4dec-d762-72ed97673b78"
      },
      "execution_count": 44,
      "outputs": [
        {
          "output_type": "execute_result",
          "data": {
            "text/plain": [
              "PCA()"
            ],
            "text/html": [
              "<style>#sk-5f9440d0-c51c-4403-9101-dc288068b813 {color: black;background-color: white;}#sk-5f9440d0-c51c-4403-9101-dc288068b813 pre{padding: 0;}#sk-5f9440d0-c51c-4403-9101-dc288068b813 div.sk-toggleable {background-color: white;}#sk-5f9440d0-c51c-4403-9101-dc288068b813 label.sk-toggleable__label {cursor: pointer;display: block;width: 100%;margin-bottom: 0;padding: 0.3em;box-sizing: border-box;text-align: center;}#sk-5f9440d0-c51c-4403-9101-dc288068b813 label.sk-toggleable__label-arrow:before {content: \"▸\";float: left;margin-right: 0.25em;color: #696969;}#sk-5f9440d0-c51c-4403-9101-dc288068b813 label.sk-toggleable__label-arrow:hover:before {color: black;}#sk-5f9440d0-c51c-4403-9101-dc288068b813 div.sk-estimator:hover label.sk-toggleable__label-arrow:before {color: black;}#sk-5f9440d0-c51c-4403-9101-dc288068b813 div.sk-toggleable__content {max-height: 0;max-width: 0;overflow: hidden;text-align: left;background-color: #f0f8ff;}#sk-5f9440d0-c51c-4403-9101-dc288068b813 div.sk-toggleable__content pre {margin: 0.2em;color: black;border-radius: 0.25em;background-color: #f0f8ff;}#sk-5f9440d0-c51c-4403-9101-dc288068b813 input.sk-toggleable__control:checked~div.sk-toggleable__content {max-height: 200px;max-width: 100%;overflow: auto;}#sk-5f9440d0-c51c-4403-9101-dc288068b813 input.sk-toggleable__control:checked~label.sk-toggleable__label-arrow:before {content: \"▾\";}#sk-5f9440d0-c51c-4403-9101-dc288068b813 div.sk-estimator input.sk-toggleable__control:checked~label.sk-toggleable__label {background-color: #d4ebff;}#sk-5f9440d0-c51c-4403-9101-dc288068b813 div.sk-label input.sk-toggleable__control:checked~label.sk-toggleable__label {background-color: #d4ebff;}#sk-5f9440d0-c51c-4403-9101-dc288068b813 input.sk-hidden--visually {border: 0;clip: rect(1px 1px 1px 1px);clip: rect(1px, 1px, 1px, 1px);height: 1px;margin: -1px;overflow: hidden;padding: 0;position: absolute;width: 1px;}#sk-5f9440d0-c51c-4403-9101-dc288068b813 div.sk-estimator {font-family: monospace;background-color: #f0f8ff;border: 1px dotted black;border-radius: 0.25em;box-sizing: border-box;margin-bottom: 0.5em;}#sk-5f9440d0-c51c-4403-9101-dc288068b813 div.sk-estimator:hover {background-color: #d4ebff;}#sk-5f9440d0-c51c-4403-9101-dc288068b813 div.sk-parallel-item::after {content: \"\";width: 100%;border-bottom: 1px solid gray;flex-grow: 1;}#sk-5f9440d0-c51c-4403-9101-dc288068b813 div.sk-label:hover label.sk-toggleable__label {background-color: #d4ebff;}#sk-5f9440d0-c51c-4403-9101-dc288068b813 div.sk-serial::before {content: \"\";position: absolute;border-left: 1px solid gray;box-sizing: border-box;top: 2em;bottom: 0;left: 50%;}#sk-5f9440d0-c51c-4403-9101-dc288068b813 div.sk-serial {display: flex;flex-direction: column;align-items: center;background-color: white;padding-right: 0.2em;padding-left: 0.2em;}#sk-5f9440d0-c51c-4403-9101-dc288068b813 div.sk-item {z-index: 1;}#sk-5f9440d0-c51c-4403-9101-dc288068b813 div.sk-parallel {display: flex;align-items: stretch;justify-content: center;background-color: white;}#sk-5f9440d0-c51c-4403-9101-dc288068b813 div.sk-parallel::before {content: \"\";position: absolute;border-left: 1px solid gray;box-sizing: border-box;top: 2em;bottom: 0;left: 50%;}#sk-5f9440d0-c51c-4403-9101-dc288068b813 div.sk-parallel-item {display: flex;flex-direction: column;position: relative;background-color: white;}#sk-5f9440d0-c51c-4403-9101-dc288068b813 div.sk-parallel-item:first-child::after {align-self: flex-end;width: 50%;}#sk-5f9440d0-c51c-4403-9101-dc288068b813 div.sk-parallel-item:last-child::after {align-self: flex-start;width: 50%;}#sk-5f9440d0-c51c-4403-9101-dc288068b813 div.sk-parallel-item:only-child::after {width: 0;}#sk-5f9440d0-c51c-4403-9101-dc288068b813 div.sk-dashed-wrapped {border: 1px dashed gray;margin: 0 0.4em 0.5em 0.4em;box-sizing: border-box;padding-bottom: 0.4em;background-color: white;position: relative;}#sk-5f9440d0-c51c-4403-9101-dc288068b813 div.sk-label label {font-family: monospace;font-weight: bold;background-color: white;display: inline-block;line-height: 1.2em;}#sk-5f9440d0-c51c-4403-9101-dc288068b813 div.sk-label-container {position: relative;z-index: 2;text-align: center;}#sk-5f9440d0-c51c-4403-9101-dc288068b813 div.sk-container {/* jupyter's `normalize.less` sets `[hidden] { display: none; }` but bootstrap.min.css set `[hidden] { display: none !important; }` so we also need the `!important` here to be able to override the default hidden behavior on the sphinx rendered scikit-learn.org. See: https://github.com/scikit-learn/scikit-learn/issues/21755 */display: inline-block !important;position: relative;}#sk-5f9440d0-c51c-4403-9101-dc288068b813 div.sk-text-repr-fallback {display: none;}</style><div id=\"sk-5f9440d0-c51c-4403-9101-dc288068b813\" class=\"sk-top-container\"><div class=\"sk-text-repr-fallback\"><pre>PCA()</pre><b>Please rerun this cell to show the HTML repr or trust the notebook.</b></div><div class=\"sk-container\" hidden><div class=\"sk-item\"><div class=\"sk-estimator sk-toggleable\"><input class=\"sk-toggleable__control sk-hidden--visually\" id=\"2e631479-b3c4-4d28-9c84-22076d248727\" type=\"checkbox\" checked><label for=\"2e631479-b3c4-4d28-9c84-22076d248727\" class=\"sk-toggleable__label sk-toggleable__label-arrow\">PCA</label><div class=\"sk-toggleable__content\"><pre>PCA()</pre></div></div></div></div></div>"
            ]
          },
          "metadata": {},
          "execution_count": 44
        }
      ]
    },
    {
      "cell_type": "code",
      "source": [
        "# plot the cumulative sum of the percentage of explained variance for each component and those before it.\n",
        "plt.plot(range(1, 13), pca.explained_variance_ratio_.cumsum(), marker= '.')\n",
        "plt.xticks(ticks = range(1,13), fontsize = 12);\n",
        "plt.xlabel(\"Número de componentes\", fontsize = 14)\n",
        "plt.ylabel(\"Varianza acumulada\", fontsize = 14);"
      ],
      "metadata": {
        "colab": {
          "base_uri": "https://localhost:8080/",
          "height": 367
        },
        "id": "w5E-vlpg2t66",
        "outputId": "5074d865-e973-4be8-f803-f3dad6c42405"
      },
      "execution_count": 52,
      "outputs": [
        {
          "output_type": "display_data",
          "data": {
            "text/plain": [
              "<Figure size 576x396 with 1 Axes>"
            ],
            "image/png": "[encoded data removed]"
          },
          "metadata": {}
        }
      ]
    },
    {
      "cell_type": "markdown",
      "source": [
        "El gráfico anterior muestra la varianza acumulada explicada a medida que aumenta el número de componentes principales devueltos.  Como puedes ver, existen aumentos drásticos en la proporción de una varianza explicada al principio, pero esto comienza a nivelarse a medida que vamos añadiendo más componentes. El primer componente principal siempre explicará la mayor parte de la varianza. Los componentes sucesivos seguirán explicando más, pero para reducir el número de características, necesitamos estar dispuestos a sacrificar parte de esta explicación.\n",
        "\n",
        "**Visualización del gráfico de sedimentación**\n",
        "\n",
        "Podemos visualizar la contribución individual de cada componente principal utilizando un gráfico de sedimentación (scree plot):"
      ],
      "metadata": {
        "id": "j9e0EmtV3l--"
      }
    },
    {
      "cell_type": "code",
      "source": [
        "# Plot the explained variance ratios of the first 30 principal components\n",
        "plt.plot(range(1, 13), pca.explained_variance_ratio_, marker = '.')\n",
        "plt.xticks(ticks = range(1, 13), fontsize = 12)\n",
        "plt.xlabel('Principal Component', fontsize = 14)\n",
        "plt.ylabel('Proportion of Explained Variance', fontsize = 14);"
      ],
      "metadata": {
        "colab": {
          "base_uri": "https://localhost:8080/",
          "height": 367
        },
        "id": "v40lPJFu23z3",
        "outputId": "2af89521-a83e-42c5-b393-fd1fdb51f269"
      },
      "execution_count": 55,
      "outputs": [
        {
          "output_type": "display_data",
          "data": {
            "text/plain": [
              "<Figure size 576x396 with 1 Axes>"
            ],
            "image/png": "[encoded data removed]"
          },
          "metadata": {}
        }
      ]
    },
    {
      "cell_type": "markdown",
      "source": [
        "Un gráfico de sedimentación transmite la misma información que un gráfico acumulado, pero hace un seguimiento de la contribución de cada componente por separado.  Como pueden observar, el primer componente explicar la proporción más grande de la varianza, y cada componente adicional contribuye cada vez menos.  Aunque este gráfico está disminuyendo, recuerda que al aumentar el número de los componentes siempre disminuye la varianza (acumulada) explicada en total.\n",
        "\n",
        "### **Método del codo**\n",
        "\n",
        "Según el gráfico de arriba, ¿cuántos componentes principales deberíamos mantener? En el “codo” o el punto de inflexión en el gráfico anterior se pueden ver alrededor de 8 componentes principales.  Aquí es donde no conseguimos muchas ventajas más allá de aumentar el número de componentes, por lo que representa un buen balance. \n",
        "\n",
        "El código de abajo muestra cómo especificar el número de componentes para devolver cuando se instancia ACP:"
      ],
      "metadata": {
        "id": "z7ICjgpr4F7s"
      }
    },
    {
      "cell_type": "code",
      "source": [
        "# PCA with 8 components\n",
        "pca8 = PCA(n_components = 8)"
      ],
      "metadata": {
        "id": "gNmJ_zJg30U6"
      },
      "execution_count": 56,
      "outputs": []
    },
    {
      "cell_type": "markdown",
      "source": [
        "### **Modelos de Machine Learning**\n",
        "\n",
        "Ya que este es un problema de clasificación binaria usaremos los modelos de Random Forest, KNN y Regresión logística. "
      ],
      "metadata": {
        "id": "xq_hCH796KbE"
      }
    },
    {
      "cell_type": "markdown",
      "source": [
        "**1. Random Forest**"
      ],
      "metadata": {
        "id": "AeN9jPa66VJ8"
      }
    },
    {
      "cell_type": "code",
      "source": [
        "#Instancia el modelo \n",
        "randomf = RandomForestClassifier()\n",
        "\n",
        "# Create a modeling pipeline\n",
        "randomf_pipe = make_pipeline(pca8, randomf)\n",
        "randomf_pipe.fit(X_train, y_train)"
      ],
      "metadata": {
        "colab": {
          "base_uri": "https://localhost:8080/",
          "height": 124
        },
        "id": "fFZF2Ghk527M",
        "outputId": "e201ee0b-3769-443a-d2c0-88eba90e7b8a"
      },
      "execution_count": 57,
      "outputs": [
        {
          "output_type": "execute_result",
          "data": {
            "text/plain": [
              "Pipeline(steps=[('pca', PCA(n_components=8)),\n",
              "                ('randomforestclassifier', RandomForestClassifier())])"
            ],
            "text/html": [
              "<style>#sk-e3c81a1a-d0eb-4da3-8286-4858b3ecdb33 {color: black;background-color: white;}#sk-e3c81a1a-d0eb-4da3-8286-4858b3ecdb33 pre{padding: 0;}#sk-e3c81a1a-d0eb-4da3-8286-4858b3ecdb33 div.sk-toggleable {background-color: white;}#sk-e3c81a1a-d0eb-4da3-8286-4858b3ecdb33 label.sk-toggleable__label {cursor: pointer;display: block;width: 100%;margin-bottom: 0;padding: 0.3em;box-sizing: border-box;text-align: center;}#sk-e3c81a1a-d0eb-4da3-8286-4858b3ecdb33 label.sk-toggleable__label-arrow:before {content: \"▸\";float: left;margin-right: 0.25em;color: #696969;}#sk-e3c81a1a-d0eb-4da3-8286-4858b3ecdb33 label.sk-toggleable__label-arrow:hover:before {color: black;}#sk-e3c81a1a-d0eb-4da3-8286-4858b3ecdb33 div.sk-estimator:hover label.sk-toggleable__label-arrow:before {color: black;}#sk-e3c81a1a-d0eb-4da3-8286-4858b3ecdb33 div.sk-toggleable__content {max-height: 0;max-width: 0;overflow: hidden;text-align: left;background-color: #f0f8ff;}#sk-e3c81a1a-d0eb-4da3-8286-4858b3ecdb33 div.sk-toggleable__content pre {margin: 0.2em;color: black;border-radius: 0.25em;background-color: #f0f8ff;}#sk-e3c81a1a-d0eb-4da3-8286-4858b3ecdb33 input.sk-toggleable__control:checked~div.sk-toggleable__content {max-height: 200px;max-width: 100%;overflow: auto;}#sk-e3c81a1a-d0eb-4da3-8286-4858b3ecdb33 input.sk-toggleable__control:checked~label.sk-toggleable__label-arrow:before {content: \"▾\";}#sk-e3c81a1a-d0eb-4da3-8286-4858b3ecdb33 div.sk-estimator input.sk-toggleable__control:checked~label.sk-toggleable__label {background-color: #d4ebff;}#sk-e3c81a1a-d0eb-4da3-8286-4858b3ecdb33 div.sk-label input.sk-toggleable__control:checked~label.sk-toggleable__label {background-color: #d4ebff;}#sk-e3c81a1a-d0eb-4da3-8286-4858b3ecdb33 input.sk-hidden--visually {border: 0;clip: rect(1px 1px 1px 1px);clip: rect(1px, 1px, 1px, 1px);height: 1px;margin: -1px;overflow: hidden;padding: 0;position: absolute;width: 1px;}#sk-e3c81a1a-d0eb-4da3-8286-4858b3ecdb33 div.sk-estimator {font-family: monospace;background-color: #f0f8ff;border: 1px dotted black;border-radius: 0.25em;box-sizing: border-box;margin-bottom: 0.5em;}#sk-e3c81a1a-d0eb-4da3-8286-4858b3ecdb33 div.sk-estimator:hover {background-color: #d4ebff;}#sk-e3c81a1a-d0eb-4da3-8286-4858b3ecdb33 div.sk-parallel-item::after {content: \"\";width: 100%;border-bottom: 1px solid gray;flex-grow: 1;}#sk-e3c81a1a-d0eb-4da3-8286-4858b3ecdb33 div.sk-label:hover label.sk-toggleable__label {background-color: #d4ebff;}#sk-e3c81a1a-d0eb-4da3-8286-4858b3ecdb33 div.sk-serial::before {content: \"\";position: absolute;border-left: 1px solid gray;box-sizing: border-box;top: 2em;bottom: 0;left: 50%;}#sk-e3c81a1a-d0eb-4da3-8286-4858b3ecdb33 div.sk-serial {display: flex;flex-direction: column;align-items: center;background-color: white;padding-right: 0.2em;padding-left: 0.2em;}#sk-e3c81a1a-d0eb-4da3-8286-4858b3ecdb33 div.sk-item {z-index: 1;}#sk-e3c81a1a-d0eb-4da3-8286-4858b3ecdb33 div.sk-parallel {display: flex;align-items: stretch;justify-content: center;background-color: white;}#sk-e3c81a1a-d0eb-4da3-8286-4858b3ecdb33 div.sk-parallel::before {content: \"\";position: absolute;border-left: 1px solid gray;box-sizing: border-box;top: 2em;bottom: 0;left: 50%;}#sk-e3c81a1a-d0eb-4da3-8286-4858b3ecdb33 div.sk-parallel-item {display: flex;flex-direction: column;position: relative;background-color: white;}#sk-e3c81a1a-d0eb-4da3-8286-4858b3ecdb33 div.sk-parallel-item:first-child::after {align-self: flex-end;width: 50%;}#sk-e3c81a1a-d0eb-4da3-8286-4858b3ecdb33 div.sk-parallel-item:last-child::after {align-self: flex-start;width: 50%;}#sk-e3c81a1a-d0eb-4da3-8286-4858b3ecdb33 div.sk-parallel-item:only-child::after {width: 0;}#sk-e3c81a1a-d0eb-4da3-8286-4858b3ecdb33 div.sk-dashed-wrapped {border: 1px dashed gray;margin: 0 0.4em 0.5em 0.4em;box-sizing: border-box;padding-bottom: 0.4em;background-color: white;position: relative;}#sk-e3c81a1a-d0eb-4da3-8286-4858b3ecdb33 div.sk-label label {font-family: monospace;font-weight: bold;background-color: white;display: inline-block;line-height: 1.2em;}#sk-e3c81a1a-d0eb-4da3-8286-4858b3ecdb33 div.sk-label-container {position: relative;z-index: 2;text-align: center;}#sk-e3c81a1a-d0eb-4da3-8286-4858b3ecdb33 div.sk-container {/* jupyter's `normalize.less` sets `[hidden] { display: none; }` but bootstrap.min.css set `[hidden] { display: none !important; }` so we also need the `!important` here to be able to override the default hidden behavior on the sphinx rendered scikit-learn.org. See: https://github.com/scikit-learn/scikit-learn/issues/21755 */display: inline-block !important;position: relative;}#sk-e3c81a1a-d0eb-4da3-8286-4858b3ecdb33 div.sk-text-repr-fallback {display: none;}</style><div id=\"sk-e3c81a1a-d0eb-4da3-8286-4858b3ecdb33\" class=\"sk-top-container\"><div class=\"sk-text-repr-fallback\"><pre>Pipeline(steps=[(&#x27;pca&#x27;, PCA(n_components=8)),\n",
              "                (&#x27;randomforestclassifier&#x27;, RandomForestClassifier())])</pre><b>Please rerun this cell to show the HTML repr or trust the notebook.</b></div><div class=\"sk-container\" hidden><div class=\"sk-item sk-dashed-wrapped\"><div class=\"sk-label-container\"><div class=\"sk-label sk-toggleable\"><input class=\"sk-toggleable__control sk-hidden--visually\" id=\"ae11e581-3d99-4513-a03f-da16abdbabee\" type=\"checkbox\" ><label for=\"ae11e581-3d99-4513-a03f-da16abdbabee\" class=\"sk-toggleable__label sk-toggleable__label-arrow\">Pipeline</label><div class=\"sk-toggleable__content\"><pre>Pipeline(steps=[(&#x27;pca&#x27;, PCA(n_components=8)),\n",
              "                (&#x27;randomforestclassifier&#x27;, RandomForestClassifier())])</pre></div></div></div><div class=\"sk-serial\"><div class=\"sk-item\"><div class=\"sk-estimator sk-toggleable\"><input class=\"sk-toggleable__control sk-hidden--visually\" id=\"911e42d0-7a59-4361-b1b9-1a00aaf9495c\" type=\"checkbox\" ><label for=\"911e42d0-7a59-4361-b1b9-1a00aaf9495c\" class=\"sk-toggleable__label sk-toggleable__label-arrow\">PCA</label><div class=\"sk-toggleable__content\"><pre>PCA(n_components=8)</pre></div></div></div><div class=\"sk-item\"><div class=\"sk-estimator sk-toggleable\"><input class=\"sk-toggleable__control sk-hidden--visually\" id=\"2b02e186-43d2-400a-a2bb-da980e4cf19d\" type=\"checkbox\" ><label for=\"2b02e186-43d2-400a-a2bb-da980e4cf19d\" class=\"sk-toggleable__label sk-toggleable__label-arrow\">RandomForestClassifier</label><div class=\"sk-toggleable__content\"><pre>RandomForestClassifier()</pre></div></div></div></div></div></div></div>"
            ]
          },
          "metadata": {},
          "execution_count": 57
        }
      ]
    },
    {
      "cell_type": "code",
      "source": [
        "#Evalua el modelo\n",
        "print('Training accuracy:', randomf_pipe.score(X_train, y_train))\n",
        "print('Testing accuracy:', randomf_pipe.score(X_test, y_test))"
      ],
      "metadata": {
        "colab": {
          "base_uri": "https://localhost:8080/"
        },
        "id": "BA3kgmjm6qvc",
        "outputId": "21aa9c3e-9e49-4db3-9eae-b61d9d2580cb"
      },
      "execution_count": 58,
      "outputs": [
        {
          "output_type": "stream",
          "name": "stdout",
          "text": [
            "Training accuracy: 0.9578838174273859\n",
            "Testing accuracy: 0.627255756067206\n"
          ]
        }
      ]
    },
    {
      "cell_type": "markdown",
      "source": [
        "Como observamos, el modelo está sobreajustado. Para mejorar nuestro modelo, encontraremos el valor óptimo del hiperparámetro max_depth. "
      ],
      "metadata": {
        "id": "GOg687xf63rd"
      }
    },
    {
      "cell_type": "code",
      "source": [
        "#Calcula el valor de max_depth óptimo \n",
        "\n",
        "max_depth_range = list(range(2, 20))\n",
        "# Lista para almacenar la puntuación para cada valor de max_depth:\n",
        "accuracy = []\n",
        "for depth in max_depth_range:\n",
        "    randomf = RandomForestClassifier(max_depth = depth, \n",
        "                             random_state = 42)\n",
        "    randomf_pipe = make_pipeline(pca8, randomf)\n",
        "    randomf_pipe.fit(X_train, y_train)\n",
        "    score = randomf_pipe.score(X_test, y_test)\n",
        "    accuracy.append(score)"
      ],
      "metadata": {
        "id": "D0SSpGrX61Os"
      },
      "execution_count": 70,
      "outputs": []
    },
    {
      "cell_type": "code",
      "source": [
        "#Qué valor de max_depth lleva a una accuracy más alta\n",
        "plt.plot(max_depth_range, accuracy)\n",
        "plt.xlabel('max_depth')\n",
        "plt.ylabel('Accuracy');"
      ],
      "metadata": {
        "colab": {
          "base_uri": "https://localhost:8080/",
          "height": 361
        },
        "id": "Ah25O0N18TZC",
        "outputId": "9cad6a79-f2f9-4d55-e5aa-9a069009fcba"
      },
      "execution_count": 71,
      "outputs": [
        {
          "output_type": "display_data",
          "data": {
            "text/plain": [
              "<Figure size 576x396 with 1 Axes>"
            ],
            "image/png": "[encoded data removed]"
          },
          "metadata": {}
        }
      ]
    },
    {
      "cell_type": "markdown",
      "source": [
        "Probemos con n valor de max_depth de 3 y de 6. "
      ],
      "metadata": {
        "id": "ysR0eK0V8jKr"
      }
    },
    {
      "cell_type": "code",
      "source": [
        "#max_depth = 3\n",
        "#Instancia el modelo \n",
        "randomf3 = RandomForestClassifier(max_depth = 3)\n",
        "\n",
        "# Create a modeling pipeline\n",
        "randomf_pipe3 = make_pipeline(pca8, randomf3)\n",
        "randomf_pipe3.fit(X_train, y_train)"
      ],
      "metadata": {
        "colab": {
          "base_uri": "https://localhost:8080/",
          "height": 124
        },
        "id": "C07ILGBk8Xk1",
        "outputId": "17ec5f00-735e-4599-ea80-a4966ab53c40"
      },
      "execution_count": 74,
      "outputs": [
        {
          "output_type": "execute_result",
          "data": {
            "text/plain": [
              "Pipeline(steps=[('pca', PCA(n_components=8)),\n",
              "                ('randomforestclassifier',\n",
              "                 RandomForestClassifier(max_depth=3))])"
            ],
            "text/html": [
              "<style>#sk-aea1ecfb-5650-48ed-a28a-980dc2ec2c83 {color: black;background-color: white;}#sk-aea1ecfb-5650-48ed-a28a-980dc2ec2c83 pre{padding: 0;}#sk-aea1ecfb-5650-48ed-a28a-980dc2ec2c83 div.sk-toggleable {background-color: white;}#sk-aea1ecfb-5650-48ed-a28a-980dc2ec2c83 label.sk-toggleable__label {cursor: pointer;display: block;width: 100%;margin-bottom: 0;padding: 0.3em;box-sizing: border-box;text-align: center;}#sk-aea1ecfb-5650-48ed-a28a-980dc2ec2c83 label.sk-toggleable__label-arrow:before {content: \"▸\";float: left;margin-right: 0.25em;color: #696969;}#sk-aea1ecfb-5650-48ed-a28a-980dc2ec2c83 label.sk-toggleable__label-arrow:hover:before {color: black;}#sk-aea1ecfb-5650-48ed-a28a-980dc2ec2c83 div.sk-estimator:hover label.sk-toggleable__label-arrow:before {color: black;}#sk-aea1ecfb-5650-48ed-a28a-980dc2ec2c83 div.sk-toggleable__content {max-height: 0;max-width: 0;overflow: hidden;text-align: left;background-color: #f0f8ff;}#sk-aea1ecfb-5650-48ed-a28a-980dc2ec2c83 div.sk-toggleable__content pre {margin: 0.2em;color: black;border-radius: 0.25em;background-color: #f0f8ff;}#sk-aea1ecfb-5650-48ed-a28a-980dc2ec2c83 input.sk-toggleable__control:checked~div.sk-toggleable__content {max-height: 200px;max-width: 100%;overflow: auto;}#sk-aea1ecfb-5650-48ed-a28a-980dc2ec2c83 input.sk-toggleable__control:checked~label.sk-toggleable__label-arrow:before {content: \"▾\";}#sk-aea1ecfb-5650-48ed-a28a-980dc2ec2c83 div.sk-estimator input.sk-toggleable__control:checked~label.sk-toggleable__label {background-color: #d4ebff;}#sk-aea1ecfb-5650-48ed-a28a-980dc2ec2c83 div.sk-label input.sk-toggleable__control:checked~label.sk-toggleable__label {background-color: #d4ebff;}#sk-aea1ecfb-5650-48ed-a28a-980dc2ec2c83 input.sk-hidden--visually {border: 0;clip: rect(1px 1px 1px 1px);clip: rect(1px, 1px, 1px, 1px);height: 1px;margin: -1px;overflow: hidden;padding: 0;position: absolute;width: 1px;}#sk-aea1ecfb-5650-48ed-a28a-980dc2ec2c83 div.sk-estimator {font-family: monospace;background-color: #f0f8ff;border: 1px dotted black;border-radius: 0.25em;box-sizing: border-box;margin-bottom: 0.5em;}#sk-aea1ecfb-5650-48ed-a28a-980dc2ec2c83 div.sk-estimator:hover {background-color: #d4ebff;}#sk-aea1ecfb-5650-48ed-a28a-980dc2ec2c83 div.sk-parallel-item::after {content: \"\";width: 100%;border-bottom: 1px solid gray;flex-grow: 1;}#sk-aea1ecfb-5650-48ed-a28a-980dc2ec2c83 div.sk-label:hover label.sk-toggleable__label {background-color: #d4ebff;}#sk-aea1ecfb-5650-48ed-a28a-980dc2ec2c83 div.sk-serial::before {content: \"\";position: absolute;border-left: 1px solid gray;box-sizing: border-box;top: 2em;bottom: 0;left: 50%;}#sk-aea1ecfb-5650-48ed-a28a-980dc2ec2c83 div.sk-serial {display: flex;flex-direction: column;align-items: center;background-color: white;padding-right: 0.2em;padding-left: 0.2em;}#sk-aea1ecfb-5650-48ed-a28a-980dc2ec2c83 div.sk-item {z-index: 1;}#sk-aea1ecfb-5650-48ed-a28a-980dc2ec2c83 div.sk-parallel {display: flex;align-items: stretch;justify-content: center;background-color: white;}#sk-aea1ecfb-5650-48ed-a28a-980dc2ec2c83 div.sk-parallel::before {content: \"\";position: absolute;border-left: 1px solid gray;box-sizing: border-box;top: 2em;bottom: 0;left: 50%;}#sk-aea1ecfb-5650-48ed-a28a-980dc2ec2c83 div.sk-parallel-item {display: flex;flex-direction: column;position: relative;background-color: white;}#sk-aea1ecfb-5650-48ed-a28a-980dc2ec2c83 div.sk-parallel-item:first-child::after {align-self: flex-end;width: 50%;}#sk-aea1ecfb-5650-48ed-a28a-980dc2ec2c83 div.sk-parallel-item:last-child::after {align-self: flex-start;width: 50%;}#sk-aea1ecfb-5650-48ed-a28a-980dc2ec2c83 div.sk-parallel-item:only-child::after {width: 0;}#sk-aea1ecfb-5650-48ed-a28a-980dc2ec2c83 div.sk-dashed-wrapped {border: 1px dashed gray;margin: 0 0.4em 0.5em 0.4em;box-sizing: border-box;padding-bottom: 0.4em;background-color: white;position: relative;}#sk-aea1ecfb-5650-48ed-a28a-980dc2ec2c83 div.sk-label label {font-family: monospace;font-weight: bold;background-color: white;display: inline-block;line-height: 1.2em;}#sk-aea1ecfb-5650-48ed-a28a-980dc2ec2c83 div.sk-label-container {position: relative;z-index: 2;text-align: center;}#sk-aea1ecfb-5650-48ed-a28a-980dc2ec2c83 div.sk-container {/* jupyter's `normalize.less` sets `[hidden] { display: none; }` but bootstrap.min.css set `[hidden] { display: none !important; }` so we also need the `!important` here to be able to override the default hidden behavior on the sphinx rendered scikit-learn.org. See: https://github.com/scikit-learn/scikit-learn/issues/21755 */display: inline-block !important;position: relative;}#sk-aea1ecfb-5650-48ed-a28a-980dc2ec2c83 div.sk-text-repr-fallback {display: none;}</style><div id=\"sk-aea1ecfb-5650-48ed-a28a-980dc2ec2c83\" class=\"sk-top-container\"><div class=\"sk-text-repr-fallback\"><pre>Pipeline(steps=[(&#x27;pca&#x27;, PCA(n_components=8)),\n",
              "                (&#x27;randomforestclassifier&#x27;,\n",
              "                 RandomForestClassifier(max_depth=3))])</pre><b>Please rerun this cell to show the HTML repr or trust the notebook.</b></div><div class=\"sk-container\" hidden><div class=\"sk-item sk-dashed-wrapped\"><div class=\"sk-label-container\"><div class=\"sk-label sk-toggleable\"><input class=\"sk-toggleable__control sk-hidden--visually\" id=\"f9e989f1-24f3-43b3-8e53-37913dd6de45\" type=\"checkbox\" ><label for=\"f9e989f1-24f3-43b3-8e53-37913dd6de45\" class=\"sk-toggleable__label sk-toggleable__label-arrow\">Pipeline</label><div class=\"sk-toggleable__content\"><pre>Pipeline(steps=[(&#x27;pca&#x27;, PCA(n_components=8)),\n",
              "                (&#x27;randomforestclassifier&#x27;,\n",
              "                 RandomForestClassifier(max_depth=3))])</pre></div></div></div><div class=\"sk-serial\"><div class=\"sk-item\"><div class=\"sk-estimator sk-toggleable\"><input class=\"sk-toggleable__control sk-hidden--visually\" id=\"53cae2eb-23e0-4339-bf24-3d8c9a6a96c0\" type=\"checkbox\" ><label for=\"53cae2eb-23e0-4339-bf24-3d8c9a6a96c0\" class=\"sk-toggleable__label sk-toggleable__label-arrow\">PCA</label><div class=\"sk-toggleable__content\"><pre>PCA(n_components=8)</pre></div></div></div><div class=\"sk-item\"><div class=\"sk-estimator sk-toggleable\"><input class=\"sk-toggleable__control sk-hidden--visually\" id=\"c75629d2-200d-4974-a474-a6dc623cc18b\" type=\"checkbox\" ><label for=\"c75629d2-200d-4974-a474-a6dc623cc18b\" class=\"sk-toggleable__label sk-toggleable__label-arrow\">RandomForestClassifier</label><div class=\"sk-toggleable__content\"><pre>RandomForestClassifier(max_depth=3)</pre></div></div></div></div></div></div></div>"
            ]
          },
          "metadata": {},
          "execution_count": 74
        }
      ]
    },
    {
      "cell_type": "code",
      "source": [
        "#Evalua el modelo\n",
        "print('Training accuracy:', randomf_pipe3.score(X_train, y_train))\n",
        "print('Testing accuracy:', randomf_pipe3.score(X_test, y_test))"
      ],
      "metadata": {
        "colab": {
          "base_uri": "https://localhost:8080/"
        },
        "id": "V7mspQ108txS",
        "outputId": "315f020f-4a91-47a4-e336-cff973b1fc67"
      },
      "execution_count": 75,
      "outputs": [
        {
          "output_type": "stream",
          "name": "stdout",
          "text": [
            "Training accuracy: 0.7093360995850623\n",
            "Testing accuracy: 0.6994399502177971\n"
          ]
        }
      ]
    },
    {
      "cell_type": "code",
      "source": [
        "#max_depth = 6\n",
        "#Instancia el modelo \n",
        "randomf6 = RandomForestClassifier(max_depth = 6)\n",
        "\n",
        "# Create a modeling pipeline\n",
        "randomf_pipe6 = make_pipeline(pca8, randomf6)\n",
        "randomf_pipe6.fit(X_train, y_train)"
      ],
      "metadata": {
        "colab": {
          "base_uri": "https://localhost:8080/",
          "height": 124
        },
        "id": "fCfk4mln838b",
        "outputId": "a2ac312d-d3e9-4dbd-f541-a06180248a1d"
      },
      "execution_count": 66,
      "outputs": [
        {
          "output_type": "execute_result",
          "data": {
            "text/plain": [
              "Pipeline(steps=[('pca', PCA(n_components=8)),\n",
              "                ('randomforestclassifier',\n",
              "                 RandomForestClassifier(max_depth=6))])"
            ],
            "text/html": [
              "<style>#sk-7b36cc8f-d4b3-40f4-bb0a-401ff503da69 {color: black;background-color: white;}#sk-7b36cc8f-d4b3-40f4-bb0a-401ff503da69 pre{padding: 0;}#sk-7b36cc8f-d4b3-40f4-bb0a-401ff503da69 div.sk-toggleable {background-color: white;}#sk-7b36cc8f-d4b3-40f4-bb0a-401ff503da69 label.sk-toggleable__label {cursor: pointer;display: block;width: 100%;margin-bottom: 0;padding: 0.3em;box-sizing: border-box;text-align: center;}#sk-7b36cc8f-d4b3-40f4-bb0a-401ff503da69 label.sk-toggleable__label-arrow:before {content: \"▸\";float: left;margin-right: 0.25em;color: #696969;}#sk-7b36cc8f-d4b3-40f4-bb0a-401ff503da69 label.sk-toggleable__label-arrow:hover:before {color: black;}#sk-7b36cc8f-d4b3-40f4-bb0a-401ff503da69 div.sk-estimator:hover label.sk-toggleable__label-arrow:before {color: black;}#sk-7b36cc8f-d4b3-40f4-bb0a-401ff503da69 div.sk-toggleable__content {max-height: 0;max-width: 0;overflow: hidden;text-align: left;background-color: #f0f8ff;}#sk-7b36cc8f-d4b3-40f4-bb0a-401ff503da69 div.sk-toggleable__content pre {margin: 0.2em;color: black;border-radius: 0.25em;background-color: #f0f8ff;}#sk-7b36cc8f-d4b3-40f4-bb0a-401ff503da69 input.sk-toggleable__control:checked~div.sk-toggleable__content {max-height: 200px;max-width: 100%;overflow: auto;}#sk-7b36cc8f-d4b3-40f4-bb0a-401ff503da69 input.sk-toggleable__control:checked~label.sk-toggleable__label-arrow:before {content: \"▾\";}#sk-7b36cc8f-d4b3-40f4-bb0a-401ff503da69 div.sk-estimator input.sk-toggleable__control:checked~label.sk-toggleable__label {background-color: #d4ebff;}#sk-7b36cc8f-d4b3-40f4-bb0a-401ff503da69 div.sk-label input.sk-toggleable__control:checked~label.sk-toggleable__label {background-color: #d4ebff;}#sk-7b36cc8f-d4b3-40f4-bb0a-401ff503da69 input.sk-hidden--visually {border: 0;clip: rect(1px 1px 1px 1px);clip: rect(1px, 1px, 1px, 1px);height: 1px;margin: -1px;overflow: hidden;padding: 0;position: absolute;width: 1px;}#sk-7b36cc8f-d4b3-40f4-bb0a-401ff503da69 div.sk-estimator {font-family: monospace;background-color: #f0f8ff;border: 1px dotted black;border-radius: 0.25em;box-sizing: border-box;margin-bottom: 0.5em;}#sk-7b36cc8f-d4b3-40f4-bb0a-401ff503da69 div.sk-estimator:hover {background-color: #d4ebff;}#sk-7b36cc8f-d4b3-40f4-bb0a-401ff503da69 div.sk-parallel-item::after {content: \"\";width: 100%;border-bottom: 1px solid gray;flex-grow: 1;}#sk-7b36cc8f-d4b3-40f4-bb0a-401ff503da69 div.sk-label:hover label.sk-toggleable__label {background-color: #d4ebff;}#sk-7b36cc8f-d4b3-40f4-bb0a-401ff503da69 div.sk-serial::before {content: \"\";position: absolute;border-left: 1px solid gray;box-sizing: border-box;top: 2em;bottom: 0;left: 50%;}#sk-7b36cc8f-d4b3-40f4-bb0a-401ff503da69 div.sk-serial {display: flex;flex-direction: column;align-items: center;background-color: white;padding-right: 0.2em;padding-left: 0.2em;}#sk-7b36cc8f-d4b3-40f4-bb0a-401ff503da69 div.sk-item {z-index: 1;}#sk-7b36cc8f-d4b3-40f4-bb0a-401ff503da69 div.sk-parallel {display: flex;align-items: stretch;justify-content: center;background-color: white;}#sk-7b36cc8f-d4b3-40f4-bb0a-401ff503da69 div.sk-parallel::before {content: \"\";position: absolute;border-left: 1px solid gray;box-sizing: border-box;top: 2em;bottom: 0;left: 50%;}#sk-7b36cc8f-d4b3-40f4-bb0a-401ff503da69 div.sk-parallel-item {display: flex;flex-direction: column;position: relative;background-color: white;}#sk-7b36cc8f-d4b3-40f4-bb0a-401ff503da69 div.sk-parallel-item:first-child::after {align-self: flex-end;width: 50%;}#sk-7b36cc8f-d4b3-40f4-bb0a-401ff503da69 div.sk-parallel-item:last-child::after {align-self: flex-start;width: 50%;}#sk-7b36cc8f-d4b3-40f4-bb0a-401ff503da69 div.sk-parallel-item:only-child::after {width: 0;}#sk-7b36cc8f-d4b3-40f4-bb0a-401ff503da69 div.sk-dashed-wrapped {border: 1px dashed gray;margin: 0 0.4em 0.5em 0.4em;box-sizing: border-box;padding-bottom: 0.4em;background-color: white;position: relative;}#sk-7b36cc8f-d4b3-40f4-bb0a-401ff503da69 div.sk-label label {font-family: monospace;font-weight: bold;background-color: white;display: inline-block;line-height: 1.2em;}#sk-7b36cc8f-d4b3-40f4-bb0a-401ff503da69 div.sk-label-container {position: relative;z-index: 2;text-align: center;}#sk-7b36cc8f-d4b3-40f4-bb0a-401ff503da69 div.sk-container {/* jupyter's `normalize.less` sets `[hidden] { display: none; }` but bootstrap.min.css set `[hidden] { display: none !important; }` so we also need the `!important` here to be able to override the default hidden behavior on the sphinx rendered scikit-learn.org. See: https://github.com/scikit-learn/scikit-learn/issues/21755 */display: inline-block !important;position: relative;}#sk-7b36cc8f-d4b3-40f4-bb0a-401ff503da69 div.sk-text-repr-fallback {display: none;}</style><div id=\"sk-7b36cc8f-d4b3-40f4-bb0a-401ff503da69\" class=\"sk-top-container\"><div class=\"sk-text-repr-fallback\"><pre>Pipeline(steps=[(&#x27;pca&#x27;, PCA(n_components=8)),\n",
              "                (&#x27;randomforestclassifier&#x27;,\n",
              "                 RandomForestClassifier(max_depth=6))])</pre><b>Please rerun this cell to show the HTML repr or trust the notebook.</b></div><div class=\"sk-container\" hidden><div class=\"sk-item sk-dashed-wrapped\"><div class=\"sk-label-container\"><div class=\"sk-label sk-toggleable\"><input class=\"sk-toggleable__control sk-hidden--visually\" id=\"309c3028-3c49-4612-a1cf-8648e545683e\" type=\"checkbox\" ><label for=\"309c3028-3c49-4612-a1cf-8648e545683e\" class=\"sk-toggleable__label sk-toggleable__label-arrow\">Pipeline</label><div class=\"sk-toggleable__content\"><pre>Pipeline(steps=[(&#x27;pca&#x27;, PCA(n_components=8)),\n",
              "                (&#x27;randomforestclassifier&#x27;,\n",
              "                 RandomForestClassifier(max_depth=6))])</pre></div></div></div><div class=\"sk-serial\"><div class=\"sk-item\"><div class=\"sk-estimator sk-toggleable\"><input class=\"sk-toggleable__control sk-hidden--visually\" id=\"d9d997db-02ae-41c7-86f7-f82c910353f9\" type=\"checkbox\" ><label for=\"d9d997db-02ae-41c7-86f7-f82c910353f9\" class=\"sk-toggleable__label sk-toggleable__label-arrow\">PCA</label><div class=\"sk-toggleable__content\"><pre>PCA(n_components=8)</pre></div></div></div><div class=\"sk-item\"><div class=\"sk-estimator sk-toggleable\"><input class=\"sk-toggleable__control sk-hidden--visually\" id=\"c968db60-8b76-46da-b126-92f9a13ff507\" type=\"checkbox\" ><label for=\"c968db60-8b76-46da-b126-92f9a13ff507\" class=\"sk-toggleable__label sk-toggleable__label-arrow\">RandomForestClassifier</label><div class=\"sk-toggleable__content\"><pre>RandomForestClassifier(max_depth=6)</pre></div></div></div></div></div></div></div>"
            ]
          },
          "metadata": {},
          "execution_count": 66
        }
      ]
    },
    {
      "cell_type": "code",
      "source": [
        "#Evalua el modelo\n",
        "print('Training accuracy:', randomf_pipe6.score(X_train, y_train))\n",
        "print('Testing accuracy:', randomf_pipe6.score(X_test, y_test))"
      ],
      "metadata": {
        "colab": {
          "base_uri": "https://localhost:8080/"
        },
        "id": "GRx60JEc8wnG",
        "outputId": "45d89800-9408-4125-858e-93242708347b"
      },
      "execution_count": 67,
      "outputs": [
        {
          "output_type": "stream",
          "name": "stdout",
          "text": [
            "Training accuracy: 0.7192946058091286\n",
            "Testing accuracy: 0.6981953951462352\n"
          ]
        }
      ]
    },
    {
      "cell_type": "markdown",
      "source": [
        "Obsrvamos que se obtiene un mejor resultado cuando usamos un max_depth = 6. Aunque el accuracy en los datos de entrenamiento disminuyó de 0.95 a 0.72, el accuracy en los datos de prueba aumentó de 0.62 a 0.69. Ahora, nuestro modelo no está tan sobreajustado. "
      ],
      "metadata": {
        "id": "21rYXlh-9Dnr"
      }
    },
    {
      "cell_type": "markdown",
      "source": [
        "**2. KNN**"
      ],
      "metadata": {
        "id": "Wz1v7wTU9c8x"
      }
    },
    {
      "cell_type": "code",
      "source": [
        "#Instancia el modelo \n",
        "knn = KNeighborsClassifier()\n",
        "\n",
        "# Create a modeling pipeline\n",
        "knn_pipe = make_pipeline(pca8, knn)\n",
        "knn_pipe.fit(X_train, y_train)"
      ],
      "metadata": {
        "colab": {
          "base_uri": "https://localhost:8080/",
          "height": 124
        },
        "id": "rENVcZD38_le",
        "outputId": "4d120599-8223-402f-cdf9-53800f1f82d2"
      },
      "execution_count": 68,
      "outputs": [
        {
          "output_type": "execute_result",
          "data": {
            "text/plain": [
              "Pipeline(steps=[('pca', PCA(n_components=8)),\n",
              "                ('kneighborsclassifier', KNeighborsClassifier())])"
            ],
            "text/html": [
              "<style>#sk-668645db-afd9-4a39-9441-2e28dad9768b {color: black;background-color: white;}#sk-668645db-afd9-4a39-9441-2e28dad9768b pre{padding: 0;}#sk-668645db-afd9-4a39-9441-2e28dad9768b div.sk-toggleable {background-color: white;}#sk-668645db-afd9-4a39-9441-2e28dad9768b label.sk-toggleable__label {cursor: pointer;display: block;width: 100%;margin-bottom: 0;padding: 0.3em;box-sizing: border-box;text-align: center;}#sk-668645db-afd9-4a39-9441-2e28dad9768b label.sk-toggleable__label-arrow:before {content: \"▸\";float: left;margin-right: 0.25em;color: #696969;}#sk-668645db-afd9-4a39-9441-2e28dad9768b label.sk-toggleable__label-arrow:hover:before {color: black;}#sk-668645db-afd9-4a39-9441-2e28dad9768b div.sk-estimator:hover label.sk-toggleable__label-arrow:before {color: black;}#sk-668645db-afd9-4a39-9441-2e28dad9768b div.sk-toggleable__content {max-height: 0;max-width: 0;overflow: hidden;text-align: left;background-color: #f0f8ff;}#sk-668645db-afd9-4a39-9441-2e28dad9768b div.sk-toggleable__content pre {margin: 0.2em;color: black;border-radius: 0.25em;background-color: #f0f8ff;}#sk-668645db-afd9-4a39-9441-2e28dad9768b input.sk-toggleable__control:checked~div.sk-toggleable__content {max-height: 200px;max-width: 100%;overflow: auto;}#sk-668645db-afd9-4a39-9441-2e28dad9768b input.sk-toggleable__control:checked~label.sk-toggleable__label-arrow:before {content: \"▾\";}#sk-668645db-afd9-4a39-9441-2e28dad9768b div.sk-estimator input.sk-toggleable__control:checked~label.sk-toggleable__label {background-color: #d4ebff;}#sk-668645db-afd9-4a39-9441-2e28dad9768b div.sk-label input.sk-toggleable__control:checked~label.sk-toggleable__label {background-color: #d4ebff;}#sk-668645db-afd9-4a39-9441-2e28dad9768b input.sk-hidden--visually {border: 0;clip: rect(1px 1px 1px 1px);clip: rect(1px, 1px, 1px, 1px);height: 1px;margin: -1px;overflow: hidden;padding: 0;position: absolute;width: 1px;}#sk-668645db-afd9-4a39-9441-2e28dad9768b div.sk-estimator {font-family: monospace;background-color: #f0f8ff;border: 1px dotted black;border-radius: 0.25em;box-sizing: border-box;margin-bottom: 0.5em;}#sk-668645db-afd9-4a39-9441-2e28dad9768b div.sk-estimator:hover {background-color: #d4ebff;}#sk-668645db-afd9-4a39-9441-2e28dad9768b div.sk-parallel-item::after {content: \"\";width: 100%;border-bottom: 1px solid gray;flex-grow: 1;}#sk-668645db-afd9-4a39-9441-2e28dad9768b div.sk-label:hover label.sk-toggleable__label {background-color: #d4ebff;}#sk-668645db-afd9-4a39-9441-2e28dad9768b div.sk-serial::before {content: \"\";position: absolute;border-left: 1px solid gray;box-sizing: border-box;top: 2em;bottom: 0;left: 50%;}#sk-668645db-afd9-4a39-9441-2e28dad9768b div.sk-serial {display: flex;flex-direction: column;align-items: center;background-color: white;padding-right: 0.2em;padding-left: 0.2em;}#sk-668645db-afd9-4a39-9441-2e28dad9768b div.sk-item {z-index: 1;}#sk-668645db-afd9-4a39-9441-2e28dad9768b div.sk-parallel {display: flex;align-items: stretch;justify-content: center;background-color: white;}#sk-668645db-afd9-4a39-9441-2e28dad9768b div.sk-parallel::before {content: \"\";position: absolute;border-left: 1px solid gray;box-sizing: border-box;top: 2em;bottom: 0;left: 50%;}#sk-668645db-afd9-4a39-9441-2e28dad9768b div.sk-parallel-item {display: flex;flex-direction: column;position: relative;background-color: white;}#sk-668645db-afd9-4a39-9441-2e28dad9768b div.sk-parallel-item:first-child::after {align-self: flex-end;width: 50%;}#sk-668645db-afd9-4a39-9441-2e28dad9768b div.sk-parallel-item:last-child::after {align-self: flex-start;width: 50%;}#sk-668645db-afd9-4a39-9441-2e28dad9768b div.sk-parallel-item:only-child::after {width: 0;}#sk-668645db-afd9-4a39-9441-2e28dad9768b div.sk-dashed-wrapped {border: 1px dashed gray;margin: 0 0.4em 0.5em 0.4em;box-sizing: border-box;padding-bottom: 0.4em;background-color: white;position: relative;}#sk-668645db-afd9-4a39-9441-2e28dad9768b div.sk-label label {font-family: monospace;font-weight: bold;background-color: white;display: inline-block;line-height: 1.2em;}#sk-668645db-afd9-4a39-9441-2e28dad9768b div.sk-label-container {position: relative;z-index: 2;text-align: center;}#sk-668645db-afd9-4a39-9441-2e28dad9768b div.sk-container {/* jupyter's `normalize.less` sets `[hidden] { display: none; }` but bootstrap.min.css set `[hidden] { display: none !important; }` so we also need the `!important` here to be able to override the default hidden behavior on the sphinx rendered scikit-learn.org. See: https://github.com/scikit-learn/scikit-learn/issues/21755 */display: inline-block !important;position: relative;}#sk-668645db-afd9-4a39-9441-2e28dad9768b div.sk-text-repr-fallback {display: none;}</style><div id=\"sk-668645db-afd9-4a39-9441-2e28dad9768b\" class=\"sk-top-container\"><div class=\"sk-text-repr-fallback\"><pre>Pipeline(steps=[(&#x27;pca&#x27;, PCA(n_components=8)),\n",
              "                (&#x27;kneighborsclassifier&#x27;, KNeighborsClassifier())])</pre><b>Please rerun this cell to show the HTML repr or trust the notebook.</b></div><div class=\"sk-container\" hidden><div class=\"sk-item sk-dashed-wrapped\"><div class=\"sk-label-container\"><div class=\"sk-label sk-toggleable\"><input class=\"sk-toggleable__control sk-hidden--visually\" id=\"d7cd09f0-bb03-423a-9176-d301fb093178\" type=\"checkbox\" ><label for=\"d7cd09f0-bb03-423a-9176-d301fb093178\" class=\"sk-toggleable__label sk-toggleable__label-arrow\">Pipeline</label><div class=\"sk-toggleable__content\"><pre>Pipeline(steps=[(&#x27;pca&#x27;, PCA(n_components=8)),\n",
              "                (&#x27;kneighborsclassifier&#x27;, KNeighborsClassifier())])</pre></div></div></div><div class=\"sk-serial\"><div class=\"sk-item\"><div class=\"sk-estimator sk-toggleable\"><input class=\"sk-toggleable__control sk-hidden--visually\" id=\"a3e5fc1e-215d-4223-8370-7e6debb47700\" type=\"checkbox\" ><label for=\"a3e5fc1e-215d-4223-8370-7e6debb47700\" class=\"sk-toggleable__label sk-toggleable__label-arrow\">PCA</label><div class=\"sk-toggleable__content\"><pre>PCA(n_components=8)</pre></div></div></div><div class=\"sk-item\"><div class=\"sk-estimator sk-toggleable\"><input class=\"sk-toggleable__control sk-hidden--visually\" id=\"620aa985-9a42-4122-b478-233e2a37d729\" type=\"checkbox\" ><label for=\"620aa985-9a42-4122-b478-233e2a37d729\" class=\"sk-toggleable__label sk-toggleable__label-arrow\">KNeighborsClassifier</label><div class=\"sk-toggleable__content\"><pre>KNeighborsClassifier()</pre></div></div></div></div></div></div></div>"
            ]
          },
          "metadata": {},
          "execution_count": 68
        }
      ]
    },
    {
      "cell_type": "code",
      "source": [
        "#Evalua el modelo\n",
        "print('Training accuracy:', knn_pipe.score(X_train, y_train))\n",
        "print('Testing accuracy:', knn_pipe.score(X_test, y_test))"
      ],
      "metadata": {
        "colab": {
          "base_uri": "https://localhost:8080/"
        },
        "id": "2MqjzpeB9prB",
        "outputId": "bdc6172b-be73-49b9-bcf3-c91086fe11b2"
      },
      "execution_count": 69,
      "outputs": [
        {
          "output_type": "stream",
          "name": "stdout",
          "text": [
            "Training accuracy: 0.7574688796680498\n",
            "Testing accuracy: 0.6459240821406347\n"
          ]
        }
      ]
    },
    {
      "cell_type": "markdown",
      "source": [
        "Vamos a mejorar un poco más nuestro modelo encontrando el valor óptimo del hiperpárametro n_neighbors. "
      ],
      "metadata": {
        "id": "avh8xIjP9yWh"
      }
    },
    {
      "cell_type": "code",
      "source": [
        "#Encuentra el valor de n_neighbors óptimo para nuestro conjunto de datos\n",
        "n_neighbors_range = list(range(1, 30))\n",
        "accuracy = []\n",
        "for k in n_neighbors_range:\n",
        "    knn = KNeighborsClassifier(n_neighbors = k)\n",
        "    knn_pipe = make_pipeline(pca8, knn)\n",
        "    knn_pipe.fit(X_train, y_train)\n",
        "    score = knn_pipe.score(X_test, y_test)\n",
        "    accuracy.append(score)\n",
        "\n",
        "plt.plot(n_neighbors_range, accuracy)\n",
        "plt.xlabel('n neighbors')\n",
        "plt.ylabel('Accuracy');"
      ],
      "metadata": {
        "colab": {
          "base_uri": "https://localhost:8080/",
          "height": 361
        },
        "id": "ySK3P3of9vGb",
        "outputId": "e00fafca-016f-4f50-e645-0caca089ef4a"
      },
      "execution_count": 78,
      "outputs": [
        {
          "output_type": "display_data",
          "data": {
            "text/plain": [
              "<Figure size 576x396 with 1 Axes>"
            ],
            "image/png": "[encoded data removed]"
          },
          "metadata": {}
        }
      ]
    },
    {
      "cell_type": "markdown",
      "source": [
        "Encontramos que el valor de n_neighbors que maximiza el accuracy es aproximadamente 18 o 27. Observemos con cuál obtenemos mejores resultados:"
      ],
      "metadata": {
        "id": "nptopyfa-8Ma"
      }
    },
    {
      "cell_type": "code",
      "source": [
        "#n_neighbors = 18\n",
        "#Instancia el modelo \n",
        "knn18 = KNeighborsClassifier(n_neighbors = 18)\n",
        "\n",
        "# Create a modeling pipeline\n",
        "knn_pipe18 = make_pipeline(pca8, knn18)\n",
        "knn_pipe18.fit(X_train, y_train)"
      ],
      "metadata": {
        "colab": {
          "base_uri": "https://localhost:8080/",
          "height": 124
        },
        "id": "x8wq0YLT-p37",
        "outputId": "56d4a170-a290-4cc9-cc0e-bf8f6f002e00"
      },
      "execution_count": 79,
      "outputs": [
        {
          "output_type": "execute_result",
          "data": {
            "text/plain": [
              "Pipeline(steps=[('pca', PCA(n_components=8)),\n",
              "                ('kneighborsclassifier', KNeighborsClassifier(n_neighbors=18))])"
            ],
            "text/html": [
              "<style>#sk-78153372-259a-4a4e-86a5-5407ba42988c {color: black;background-color: white;}#sk-78153372-259a-4a4e-86a5-5407ba42988c pre{padding: 0;}#sk-78153372-259a-4a4e-86a5-5407ba42988c div.sk-toggleable {background-color: white;}#sk-78153372-259a-4a4e-86a5-5407ba42988c label.sk-toggleable__label {cursor: pointer;display: block;width: 100%;margin-bottom: 0;padding: 0.3em;box-sizing: border-box;text-align: center;}#sk-78153372-259a-4a4e-86a5-5407ba42988c label.sk-toggleable__label-arrow:before {content: \"▸\";float: left;margin-right: 0.25em;color: #696969;}#sk-78153372-259a-4a4e-86a5-5407ba42988c label.sk-toggleable__label-arrow:hover:before {color: black;}#sk-78153372-259a-4a4e-86a5-5407ba42988c div.sk-estimator:hover label.sk-toggleable__label-arrow:before {color: black;}#sk-78153372-259a-4a4e-86a5-5407ba42988c div.sk-toggleable__content {max-height: 0;max-width: 0;overflow: hidden;text-align: left;background-color: #f0f8ff;}#sk-78153372-259a-4a4e-86a5-5407ba42988c div.sk-toggleable__content pre {margin: 0.2em;color: black;border-radius: 0.25em;background-color: #f0f8ff;}#sk-78153372-259a-4a4e-86a5-5407ba42988c input.sk-toggleable__control:checked~div.sk-toggleable__content {max-height: 200px;max-width: 100%;overflow: auto;}#sk-78153372-259a-4a4e-86a5-5407ba42988c input.sk-toggleable__control:checked~label.sk-toggleable__label-arrow:before {content: \"▾\";}#sk-78153372-259a-4a4e-86a5-5407ba42988c div.sk-estimator input.sk-toggleable__control:checked~label.sk-toggleable__label {background-color: #d4ebff;}#sk-78153372-259a-4a4e-86a5-5407ba42988c div.sk-label input.sk-toggleable__control:checked~label.sk-toggleable__label {background-color: #d4ebff;}#sk-78153372-259a-4a4e-86a5-5407ba42988c input.sk-hidden--visually {border: 0;clip: rect(1px 1px 1px 1px);clip: rect(1px, 1px, 1px, 1px);height: 1px;margin: -1px;overflow: hidden;padding: 0;position: absolute;width: 1px;}#sk-78153372-259a-4a4e-86a5-5407ba42988c div.sk-estimator {font-family: monospace;background-color: #f0f8ff;border: 1px dotted black;border-radius: 0.25em;box-sizing: border-box;margin-bottom: 0.5em;}#sk-78153372-259a-4a4e-86a5-5407ba42988c div.sk-estimator:hover {background-color: #d4ebff;}#sk-78153372-259a-4a4e-86a5-5407ba42988c div.sk-parallel-item::after {content: \"\";width: 100%;border-bottom: 1px solid gray;flex-grow: 1;}#sk-78153372-259a-4a4e-86a5-5407ba42988c div.sk-label:hover label.sk-toggleable__label {background-color: #d4ebff;}#sk-78153372-259a-4a4e-86a5-5407ba42988c div.sk-serial::before {content: \"\";position: absolute;border-left: 1px solid gray;box-sizing: border-box;top: 2em;bottom: 0;left: 50%;}#sk-78153372-259a-4a4e-86a5-5407ba42988c div.sk-serial {display: flex;flex-direction: column;align-items: center;background-color: white;padding-right: 0.2em;padding-left: 0.2em;}#sk-78153372-259a-4a4e-86a5-5407ba42988c div.sk-item {z-index: 1;}#sk-78153372-259a-4a4e-86a5-5407ba42988c div.sk-parallel {display: flex;align-items: stretch;justify-content: center;background-color: white;}#sk-78153372-259a-4a4e-86a5-5407ba42988c div.sk-parallel::before {content: \"\";position: absolute;border-left: 1px solid gray;box-sizing: border-box;top: 2em;bottom: 0;left: 50%;}#sk-78153372-259a-4a4e-86a5-5407ba42988c div.sk-parallel-item {display: flex;flex-direction: column;position: relative;background-color: white;}#sk-78153372-259a-4a4e-86a5-5407ba42988c div.sk-parallel-item:first-child::after {align-self: flex-end;width: 50%;}#sk-78153372-259a-4a4e-86a5-5407ba42988c div.sk-parallel-item:last-child::after {align-self: flex-start;width: 50%;}#sk-78153372-259a-4a4e-86a5-5407ba42988c div.sk-parallel-item:only-child::after {width: 0;}#sk-78153372-259a-4a4e-86a5-5407ba42988c div.sk-dashed-wrapped {border: 1px dashed gray;margin: 0 0.4em 0.5em 0.4em;box-sizing: border-box;padding-bottom: 0.4em;background-color: white;position: relative;}#sk-78153372-259a-4a4e-86a5-5407ba42988c div.sk-label label {font-family: monospace;font-weight: bold;background-color: white;display: inline-block;line-height: 1.2em;}#sk-78153372-259a-4a4e-86a5-5407ba42988c div.sk-label-container {position: relative;z-index: 2;text-align: center;}#sk-78153372-259a-4a4e-86a5-5407ba42988c div.sk-container {/* jupyter's `normalize.less` sets `[hidden] { display: none; }` but bootstrap.min.css set `[hidden] { display: none !important; }` so we also need the `!important` here to be able to override the default hidden behavior on the sphinx rendered scikit-learn.org. See: https://github.com/scikit-learn/scikit-learn/issues/21755 */display: inline-block !important;position: relative;}#sk-78153372-259a-4a4e-86a5-5407ba42988c div.sk-text-repr-fallback {display: none;}</style><div id=\"sk-78153372-259a-4a4e-86a5-5407ba42988c\" class=\"sk-top-container\"><div class=\"sk-text-repr-fallback\"><pre>Pipeline(steps=[(&#x27;pca&#x27;, PCA(n_components=8)),\n",
              "                (&#x27;kneighborsclassifier&#x27;, KNeighborsClassifier(n_neighbors=18))])</pre><b>Please rerun this cell to show the HTML repr or trust the notebook.</b></div><div class=\"sk-container\" hidden><div class=\"sk-item sk-dashed-wrapped\"><div class=\"sk-label-container\"><div class=\"sk-label sk-toggleable\"><input class=\"sk-toggleable__control sk-hidden--visually\" id=\"ab011c55-6d77-41e7-a485-a94fdd07a88b\" type=\"checkbox\" ><label for=\"ab011c55-6d77-41e7-a485-a94fdd07a88b\" class=\"sk-toggleable__label sk-toggleable__label-arrow\">Pipeline</label><div class=\"sk-toggleable__content\"><pre>Pipeline(steps=[(&#x27;pca&#x27;, PCA(n_components=8)),\n",
              "                (&#x27;kneighborsclassifier&#x27;, KNeighborsClassifier(n_neighbors=18))])</pre></div></div></div><div class=\"sk-serial\"><div class=\"sk-item\"><div class=\"sk-estimator sk-toggleable\"><input class=\"sk-toggleable__control sk-hidden--visually\" id=\"5fae4d7c-fa38-432d-92b6-b6395f936915\" type=\"checkbox\" ><label for=\"5fae4d7c-fa38-432d-92b6-b6395f936915\" class=\"sk-toggleable__label sk-toggleable__label-arrow\">PCA</label><div class=\"sk-toggleable__content\"><pre>PCA(n_components=8)</pre></div></div></div><div class=\"sk-item\"><div class=\"sk-estimator sk-toggleable\"><input class=\"sk-toggleable__control sk-hidden--visually\" id=\"543d5924-b62b-494e-ac0e-b75daca69c0d\" type=\"checkbox\" ><label for=\"543d5924-b62b-494e-ac0e-b75daca69c0d\" class=\"sk-toggleable__label sk-toggleable__label-arrow\">KNeighborsClassifier</label><div class=\"sk-toggleable__content\"><pre>KNeighborsClassifier(n_neighbors=18)</pre></div></div></div></div></div></div></div>"
            ]
          },
          "metadata": {},
          "execution_count": 79
        }
      ]
    },
    {
      "cell_type": "code",
      "source": [
        "#Evalua el modelo\n",
        "print('Training accuracy:', knn_pipe18.score(X_train, y_train))\n",
        "print('Testing accuracy:', knn_pipe18.score(X_test, y_test))"
      ],
      "metadata": {
        "colab": {
          "base_uri": "https://localhost:8080/"
        },
        "id": "lyLARrIA_Qz7",
        "outputId": "b4dd9c48-57a0-46b2-aae2-b0d1ebaf87f9"
      },
      "execution_count": 80,
      "outputs": [
        {
          "output_type": "stream",
          "name": "stdout",
          "text": [
            "Training accuracy: 0.7157676348547718\n",
            "Testing accuracy: 0.70130678282514\n"
          ]
        }
      ]
    },
    {
      "cell_type": "code",
      "source": [
        "#n_neighbors = 27\n",
        "#Instancia el modelo \n",
        "knn27 = KNeighborsClassifier(n_neighbors = 27)\n",
        "\n",
        "# Create a modeling pipeline\n",
        "knn_pipe27 = make_pipeline(pca8, knn27)\n",
        "knn_pipe27.fit(X_train, y_train)"
      ],
      "metadata": {
        "colab": {
          "base_uri": "https://localhost:8080/",
          "height": 124
        },
        "id": "1KmK6Jvh_X5p",
        "outputId": "d9071c60-4c45-495e-d8a5-edd19e70fb46"
      },
      "execution_count": 81,
      "outputs": [
        {
          "output_type": "execute_result",
          "data": {
            "text/plain": [
              "Pipeline(steps=[('pca', PCA(n_components=8)),\n",
              "                ('kneighborsclassifier', KNeighborsClassifier(n_neighbors=27))])"
            ],
            "text/html": [
              "<style>#sk-256a2149-388c-41fd-b8a9-bfd395f102fe {color: black;background-color: white;}#sk-256a2149-388c-41fd-b8a9-bfd395f102fe pre{padding: 0;}#sk-256a2149-388c-41fd-b8a9-bfd395f102fe div.sk-toggleable {background-color: white;}#sk-256a2149-388c-41fd-b8a9-bfd395f102fe label.sk-toggleable__label {cursor: pointer;display: block;width: 100%;margin-bottom: 0;padding: 0.3em;box-sizing: border-box;text-align: center;}#sk-256a2149-388c-41fd-b8a9-bfd395f102fe label.sk-toggleable__label-arrow:before {content: \"▸\";float: left;margin-right: 0.25em;color: #696969;}#sk-256a2149-388c-41fd-b8a9-bfd395f102fe label.sk-toggleable__label-arrow:hover:before {color: black;}#sk-256a2149-388c-41fd-b8a9-bfd395f102fe div.sk-estimator:hover label.sk-toggleable__label-arrow:before {color: black;}#sk-256a2149-388c-41fd-b8a9-bfd395f102fe div.sk-toggleable__content {max-height: 0;max-width: 0;overflow: hidden;text-align: left;background-color: #f0f8ff;}#sk-256a2149-388c-41fd-b8a9-bfd395f102fe div.sk-toggleable__content pre {margin: 0.2em;color: black;border-radius: 0.25em;background-color: #f0f8ff;}#sk-256a2149-388c-41fd-b8a9-bfd395f102fe input.sk-toggleable__control:checked~div.sk-toggleable__content {max-height: 200px;max-width: 100%;overflow: auto;}#sk-256a2149-388c-41fd-b8a9-bfd395f102fe input.sk-toggleable__control:checked~label.sk-toggleable__label-arrow:before {content: \"▾\";}#sk-256a2149-388c-41fd-b8a9-bfd395f102fe div.sk-estimator input.sk-toggleable__control:checked~label.sk-toggleable__label {background-color: #d4ebff;}#sk-256a2149-388c-41fd-b8a9-bfd395f102fe div.sk-label input.sk-toggleable__control:checked~label.sk-toggleable__label {background-color: #d4ebff;}#sk-256a2149-388c-41fd-b8a9-bfd395f102fe input.sk-hidden--visually {border: 0;clip: rect(1px 1px 1px 1px);clip: rect(1px, 1px, 1px, 1px);height: 1px;margin: -1px;overflow: hidden;padding: 0;position: absolute;width: 1px;}#sk-256a2149-388c-41fd-b8a9-bfd395f102fe div.sk-estimator {font-family: monospace;background-color: #f0f8ff;border: 1px dotted black;border-radius: 0.25em;box-sizing: border-box;margin-bottom: 0.5em;}#sk-256a2149-388c-41fd-b8a9-bfd395f102fe div.sk-estimator:hover {background-color: #d4ebff;}#sk-256a2149-388c-41fd-b8a9-bfd395f102fe div.sk-parallel-item::after {content: \"\";width: 100%;border-bottom: 1px solid gray;flex-grow: 1;}#sk-256a2149-388c-41fd-b8a9-bfd395f102fe div.sk-label:hover label.sk-toggleable__label {background-color: #d4ebff;}#sk-256a2149-388c-41fd-b8a9-bfd395f102fe div.sk-serial::before {content: \"\";position: absolute;border-left: 1px solid gray;box-sizing: border-box;top: 2em;bottom: 0;left: 50%;}#sk-256a2149-388c-41fd-b8a9-bfd395f102fe div.sk-serial {display: flex;flex-direction: column;align-items: center;background-color: white;padding-right: 0.2em;padding-left: 0.2em;}#sk-256a2149-388c-41fd-b8a9-bfd395f102fe div.sk-item {z-index: 1;}#sk-256a2149-388c-41fd-b8a9-bfd395f102fe div.sk-parallel {display: flex;align-items: stretch;justify-content: center;background-color: white;}#sk-256a2149-388c-41fd-b8a9-bfd395f102fe div.sk-parallel::before {content: \"\";position: absolute;border-left: 1px solid gray;box-sizing: border-box;top: 2em;bottom: 0;left: 50%;}#sk-256a2149-388c-41fd-b8a9-bfd395f102fe div.sk-parallel-item {display: flex;flex-direction: column;position: relative;background-color: white;}#sk-256a2149-388c-41fd-b8a9-bfd395f102fe div.sk-parallel-item:first-child::after {align-self: flex-end;width: 50%;}#sk-256a2149-388c-41fd-b8a9-bfd395f102fe div.sk-parallel-item:last-child::after {align-self: flex-start;width: 50%;}#sk-256a2149-388c-41fd-b8a9-bfd395f102fe div.sk-parallel-item:only-child::after {width: 0;}#sk-256a2149-388c-41fd-b8a9-bfd395f102fe div.sk-dashed-wrapped {border: 1px dashed gray;margin: 0 0.4em 0.5em 0.4em;box-sizing: border-box;padding-bottom: 0.4em;background-color: white;position: relative;}#sk-256a2149-388c-41fd-b8a9-bfd395f102fe div.sk-label label {font-family: monospace;font-weight: bold;background-color: white;display: inline-block;line-height: 1.2em;}#sk-256a2149-388c-41fd-b8a9-bfd395f102fe div.sk-label-container {position: relative;z-index: 2;text-align: center;}#sk-256a2149-388c-41fd-b8a9-bfd395f102fe div.sk-container {/* jupyter's `normalize.less` sets `[hidden] { display: none; }` but bootstrap.min.css set `[hidden] { display: none !important; }` so we also need the `!important` here to be able to override the default hidden behavior on the sphinx rendered scikit-learn.org. See: https://github.com/scikit-learn/scikit-learn/issues/21755 */display: inline-block !important;position: relative;}#sk-256a2149-388c-41fd-b8a9-bfd395f102fe div.sk-text-repr-fallback {display: none;}</style><div id=\"sk-256a2149-388c-41fd-b8a9-bfd395f102fe\" class=\"sk-top-container\"><div class=\"sk-text-repr-fallback\"><pre>Pipeline(steps=[(&#x27;pca&#x27;, PCA(n_components=8)),\n",
              "                (&#x27;kneighborsclassifier&#x27;, KNeighborsClassifier(n_neighbors=27))])</pre><b>Please rerun this cell to show the HTML repr or trust the notebook.</b></div><div class=\"sk-container\" hidden><div class=\"sk-item sk-dashed-wrapped\"><div class=\"sk-label-container\"><div class=\"sk-label sk-toggleable\"><input class=\"sk-toggleable__control sk-hidden--visually\" id=\"2b065624-a373-4050-adcc-9bf2b76016ac\" type=\"checkbox\" ><label for=\"2b065624-a373-4050-adcc-9bf2b76016ac\" class=\"sk-toggleable__label sk-toggleable__label-arrow\">Pipeline</label><div class=\"sk-toggleable__content\"><pre>Pipeline(steps=[(&#x27;pca&#x27;, PCA(n_components=8)),\n",
              "                (&#x27;kneighborsclassifier&#x27;, KNeighborsClassifier(n_neighbors=27))])</pre></div></div></div><div class=\"sk-serial\"><div class=\"sk-item\"><div class=\"sk-estimator sk-toggleable\"><input class=\"sk-toggleable__control sk-hidden--visually\" id=\"177390c2-8685-4ba7-9352-05b7f2f065ea\" type=\"checkbox\" ><label for=\"177390c2-8685-4ba7-9352-05b7f2f065ea\" class=\"sk-toggleable__label sk-toggleable__label-arrow\">PCA</label><div class=\"sk-toggleable__content\"><pre>PCA(n_components=8)</pre></div></div></div><div class=\"sk-item\"><div class=\"sk-estimator sk-toggleable\"><input class=\"sk-toggleable__control sk-hidden--visually\" id=\"3ef333b2-fdf0-41dd-a5ca-5d19ada964d2\" type=\"checkbox\" ><label for=\"3ef333b2-fdf0-41dd-a5ca-5d19ada964d2\" class=\"sk-toggleable__label sk-toggleable__label-arrow\">KNeighborsClassifier</label><div class=\"sk-toggleable__content\"><pre>KNeighborsClassifier(n_neighbors=27)</pre></div></div></div></div></div></div></div>"
            ]
          },
          "metadata": {},
          "execution_count": 81
        }
      ]
    },
    {
      "cell_type": "code",
      "source": [
        "#Evalua el modelo\n",
        "print('Training accuracy:', knn_pipe27.score(X_train, y_train))\n",
        "print('Testing accuracy:', knn_pipe27.score(X_test, y_test))"
      ],
      "metadata": {
        "colab": {
          "base_uri": "https://localhost:8080/"
        },
        "id": "EVSXpP5m_oSk",
        "outputId": "704398fc-626a-4a53-bbe3-739c129c4b98"
      },
      "execution_count": 82,
      "outputs": [
        {
          "output_type": "stream",
          "name": "stdout",
          "text": [
            "Training accuracy: 0.7101659751037345\n",
            "Testing accuracy: 0.70130678282514\n"
          ]
        }
      ]
    },
    {
      "cell_type": "markdown",
      "source": [
        "Aunque se obtienen resultados bastante similares, con el valor de n_neighbors = 18 se obtiene un mejor resultado para los datos de entrenamiento y disminuyendo el sobreajuste del modelo. "
      ],
      "metadata": {
        "id": "mjDcKs3I_vOs"
      }
    },
    {
      "cell_type": "markdown",
      "source": [
        "**3. Regresión logística**"
      ],
      "metadata": {
        "id": "Vi8pFKEW_6Qh"
      }
    },
    {
      "cell_type": "code",
      "source": [
        "#Instancia el modelo \n",
        "logreg = LogisticRegression(random_state = 42, max_iter = 1000, \n",
        "                            multi_class = \"ovr\")\n",
        "\n",
        "# Create a modeling pipeline\n",
        "logreg_pipe = make_pipeline(pca8, logreg)\n",
        "logreg_pipe.fit(X_train, y_train)"
      ],
      "metadata": {
        "colab": {
          "base_uri": "https://localhost:8080/",
          "height": 124
        },
        "id": "7Ggx6AB0_sLM",
        "outputId": "fb83afab-00dd-4a43-ca52-b9d85a0fa86d"
      },
      "execution_count": 86,
      "outputs": [
        {
          "output_type": "execute_result",
          "data": {
            "text/plain": [
              "Pipeline(steps=[('pca', PCA(n_components=8)),\n",
              "                ('logisticregression',\n",
              "                 LogisticRegression(max_iter=1000, multi_class='ovr',\n",
              "                                    random_state=42))])"
            ],
            "text/html": [
              "<style>#sk-2154a996-5693-4460-9423-97e31cdfd15b {color: black;background-color: white;}#sk-2154a996-5693-4460-9423-97e31cdfd15b pre{padding: 0;}#sk-2154a996-5693-4460-9423-97e31cdfd15b div.sk-toggleable {background-color: white;}#sk-2154a996-5693-4460-9423-97e31cdfd15b label.sk-toggleable__label {cursor: pointer;display: block;width: 100%;margin-bottom: 0;padding: 0.3em;box-sizing: border-box;text-align: center;}#sk-2154a996-5693-4460-9423-97e31cdfd15b label.sk-toggleable__label-arrow:before {content: \"▸\";float: left;margin-right: 0.25em;color: #696969;}#sk-2154a996-5693-4460-9423-97e31cdfd15b label.sk-toggleable__label-arrow:hover:before {color: black;}#sk-2154a996-5693-4460-9423-97e31cdfd15b div.sk-estimator:hover label.sk-toggleable__label-arrow:before {color: black;}#sk-2154a996-5693-4460-9423-97e31cdfd15b div.sk-toggleable__content {max-height: 0;max-width: 0;overflow: hidden;text-align: left;background-color: #f0f8ff;}#sk-2154a996-5693-4460-9423-97e31cdfd15b div.sk-toggleable__content pre {margin: 0.2em;color: black;border-radius: 0.25em;background-color: #f0f8ff;}#sk-2154a996-5693-4460-9423-97e31cdfd15b input.sk-toggleable__control:checked~div.sk-toggleable__content {max-height: 200px;max-width: 100%;overflow: auto;}#sk-2154a996-5693-4460-9423-97e31cdfd15b input.sk-toggleable__control:checked~label.sk-toggleable__label-arrow:before {content: \"▾\";}#sk-2154a996-5693-4460-9423-97e31cdfd15b div.sk-estimator input.sk-toggleable__control:checked~label.sk-toggleable__label {background-color: #d4ebff;}#sk-2154a996-5693-4460-9423-97e31cdfd15b div.sk-label input.sk-toggleable__control:checked~label.sk-toggleable__label {background-color: #d4ebff;}#sk-2154a996-5693-4460-9423-97e31cdfd15b input.sk-hidden--visually {border: 0;clip: rect(1px 1px 1px 1px);clip: rect(1px, 1px, 1px, 1px);height: 1px;margin: -1px;overflow: hidden;padding: 0;position: absolute;width: 1px;}#sk-2154a996-5693-4460-9423-97e31cdfd15b div.sk-estimator {font-family: monospace;background-color: #f0f8ff;border: 1px dotted black;border-radius: 0.25em;box-sizing: border-box;margin-bottom: 0.5em;}#sk-2154a996-5693-4460-9423-97e31cdfd15b div.sk-estimator:hover {background-color: #d4ebff;}#sk-2154a996-5693-4460-9423-97e31cdfd15b div.sk-parallel-item::after {content: \"\";width: 100%;border-bottom: 1px solid gray;flex-grow: 1;}#sk-2154a996-5693-4460-9423-97e31cdfd15b div.sk-label:hover label.sk-toggleable__label {background-color: #d4ebff;}#sk-2154a996-5693-4460-9423-97e31cdfd15b div.sk-serial::before {content: \"\";position: absolute;border-left: 1px solid gray;box-sizing: border-box;top: 2em;bottom: 0;left: 50%;}#sk-2154a996-5693-4460-9423-97e31cdfd15b div.sk-serial {display: flex;flex-direction: column;align-items: center;background-color: white;padding-right: 0.2em;padding-left: 0.2em;}#sk-2154a996-5693-4460-9423-97e31cdfd15b div.sk-item {z-index: 1;}#sk-2154a996-5693-4460-9423-97e31cdfd15b div.sk-parallel {display: flex;align-items: stretch;justify-content: center;background-color: white;}#sk-2154a996-5693-4460-9423-97e31cdfd15b div.sk-parallel::before {content: \"\";position: absolute;border-left: 1px solid gray;box-sizing: border-box;top: 2em;bottom: 0;left: 50%;}#sk-2154a996-5693-4460-9423-97e31cdfd15b div.sk-parallel-item {display: flex;flex-direction: column;position: relative;background-color: white;}#sk-2154a996-5693-4460-9423-97e31cdfd15b div.sk-parallel-item:first-child::after {align-self: flex-end;width: 50%;}#sk-2154a996-5693-4460-9423-97e31cdfd15b div.sk-parallel-item:last-child::after {align-self: flex-start;width: 50%;}#sk-2154a996-5693-4460-9423-97e31cdfd15b div.sk-parallel-item:only-child::after {width: 0;}#sk-2154a996-5693-4460-9423-97e31cdfd15b div.sk-dashed-wrapped {border: 1px dashed gray;margin: 0 0.4em 0.5em 0.4em;box-sizing: border-box;padding-bottom: 0.4em;background-color: white;position: relative;}#sk-2154a996-5693-4460-9423-97e31cdfd15b div.sk-label label {font-family: monospace;font-weight: bold;background-color: white;display: inline-block;line-height: 1.2em;}#sk-2154a996-5693-4460-9423-97e31cdfd15b div.sk-label-container {position: relative;z-index: 2;text-align: center;}#sk-2154a996-5693-4460-9423-97e31cdfd15b div.sk-container {/* jupyter's `normalize.less` sets `[hidden] { display: none; }` but bootstrap.min.css set `[hidden] { display: none !important; }` so we also need the `!important` here to be able to override the default hidden behavior on the sphinx rendered scikit-learn.org. See: https://github.com/scikit-learn/scikit-learn/issues/21755 */display: inline-block !important;position: relative;}#sk-2154a996-5693-4460-9423-97e31cdfd15b div.sk-text-repr-fallback {display: none;}</style><div id=\"sk-2154a996-5693-4460-9423-97e31cdfd15b\" class=\"sk-top-container\"><div class=\"sk-text-repr-fallback\"><pre>Pipeline(steps=[(&#x27;pca&#x27;, PCA(n_components=8)),\n",
              "                (&#x27;logisticregression&#x27;,\n",
              "                 LogisticRegression(max_iter=1000, multi_class=&#x27;ovr&#x27;,\n",
              "                                    random_state=42))])</pre><b>Please rerun this cell to show the HTML repr or trust the notebook.</b></div><div class=\"sk-container\" hidden><div class=\"sk-item sk-dashed-wrapped\"><div class=\"sk-label-container\"><div class=\"sk-label sk-toggleable\"><input class=\"sk-toggleable__control sk-hidden--visually\" id=\"9884b4db-61f9-4208-9d97-f6e877c3d56c\" type=\"checkbox\" ><label for=\"9884b4db-61f9-4208-9d97-f6e877c3d56c\" class=\"sk-toggleable__label sk-toggleable__label-arrow\">Pipeline</label><div class=\"sk-toggleable__content\"><pre>Pipeline(steps=[(&#x27;pca&#x27;, PCA(n_components=8)),\n",
              "                (&#x27;logisticregression&#x27;,\n",
              "                 LogisticRegression(max_iter=1000, multi_class=&#x27;ovr&#x27;,\n",
              "                                    random_state=42))])</pre></div></div></div><div class=\"sk-serial\"><div class=\"sk-item\"><div class=\"sk-estimator sk-toggleable\"><input class=\"sk-toggleable__control sk-hidden--visually\" id=\"77ade0b5-a823-46ff-87a7-101037c96f3c\" type=\"checkbox\" ><label for=\"77ade0b5-a823-46ff-87a7-101037c96f3c\" class=\"sk-toggleable__label sk-toggleable__label-arrow\">PCA</label><div class=\"sk-toggleable__content\"><pre>PCA(n_components=8)</pre></div></div></div><div class=\"sk-item\"><div class=\"sk-estimator sk-toggleable\"><input class=\"sk-toggleable__control sk-hidden--visually\" id=\"5dfdceca-14b5-4397-b192-2462720cc389\" type=\"checkbox\" ><label for=\"5dfdceca-14b5-4397-b192-2462720cc389\" class=\"sk-toggleable__label sk-toggleable__label-arrow\">LogisticRegression</label><div class=\"sk-toggleable__content\"><pre>LogisticRegression(max_iter=1000, multi_class=&#x27;ovr&#x27;, random_state=42)</pre></div></div></div></div></div></div></div>"
            ]
          },
          "metadata": {},
          "execution_count": 86
        }
      ]
    },
    {
      "cell_type": "code",
      "source": [
        "#Evalua el modelo\n",
        "print('Training accuracy:', logreg_pipe.score(X_train, y_train))\n",
        "print('Testing accuracy:', logreg_pipe.score(X_test, y_test))"
      ],
      "metadata": {
        "colab": {
          "base_uri": "https://localhost:8080/"
        },
        "id": "xdpGkCa4K3Dk",
        "outputId": "f67c8153-7a2e-48ee-d5d8-b473b5c83ceb"
      },
      "execution_count": 87,
      "outputs": [
        {
          "output_type": "stream",
          "name": "stdout",
          "text": [
            "Training accuracy: 0.7026970954356846\n",
            "Testing accuracy: 0.6913503422526447\n"
          ]
        }
      ]
    },
    {
      "cell_type": "code",
      "source": [
        "#Visualiza la curva ROC\n",
        "RocCurveDisplay.from_estimator(logreg_pipe, X_train, y_train)\n",
        "plt.plot([0, 1], [0, 1], ls = '--', label = 'Baseline (AUC = 0.5)')\n",
        "plt.legend();"
      ],
      "metadata": {
        "colab": {
          "base_uri": "https://localhost:8080/",
          "height": 361
        },
        "id": "lZecRXdGK9qm",
        "outputId": "91059e7e-f484-4a0b-c5f9-65d7db28502b"
      },
      "execution_count": 88,
      "outputs": [
        {
          "output_type": "display_data",
          "data": {
            "text/plain": [
              "<Figure size 576x396 with 1 Axes>"
            ],
            "image/png": "[encoded data removed]"
          },
          "metadata": {}
        }
      ]
    },
    {
      "cell_type": "markdown",
      "source": [
        "De la curva ROC anterior, podemos observar que el modelo de regresión logística no se ajusta muy bien a nuestros datos. "
      ],
      "metadata": {
        "id": "AGofLwguLPsv"
      }
    },
    {
      "cell_type": "markdown",
      "source": [
        "### **Evaluación de los modelos: métricas de clasificación** \n",
        "\n",
        "**1. Random Forest**"
      ],
      "metadata": {
        "id": "SB7BAAxLMVF9"
      }
    },
    {
      "cell_type": "code",
      "source": [
        "#Guarda las predicicones\n",
        "randomf6_preds = randomf_pipe6.predict(X_test)\n",
        "\n",
        "report_randomf6 = classification_report(y_test, randomf6_preds)\n",
        "print(report_randomf6)"
      ],
      "metadata": {
        "colab": {
          "base_uri": "https://localhost:8080/"
        },
        "id": "O25oM-ZWLL1l",
        "outputId": "d67982a5-e545-4d23-a3e8-6523c466159f"
      },
      "execution_count": 92,
      "outputs": [
        {
          "output_type": "stream",
          "name": "stdout",
          "text": [
            "              precision    recall  f1-score   support\n",
            "\n",
            "           0       0.69      0.92      0.79       977\n",
            "           1       0.74      0.36      0.48       630\n",
            "\n",
            "    accuracy                           0.70      1607\n",
            "   macro avg       0.71      0.64      0.63      1607\n",
            "weighted avg       0.71      0.70      0.67      1607\n",
            "\n"
          ]
        }
      ]
    },
    {
      "cell_type": "code",
      "source": [
        "sns.reset_orig() \n",
        "cm_randomf6 = confusion_matrix(y_test, randomf6_preds, labels = randomf_pipe6.classes_)\n",
        "disp_randomf6 = ConfusionMatrixDisplay(confusion_matrix = cm_randomf6,\n",
        "                                   display_labels = randomf_pipe6.classes_)\n",
        "\n",
        "disp_randomf6.plot();"
      ],
      "metadata": {
        "colab": {
          "base_uri": "https://localhost:8080/",
          "height": 279
        },
        "id": "vwalHUw1NXBK",
        "outputId": "62ae101a-86e5-4ca2-aa14-2d3852ef0d73"
      },
      "execution_count": 93,
      "outputs": [
        {
          "output_type": "display_data",
          "data": {
            "text/plain": [
              "<Figure size 432x288 with 2 Axes>"
            ],
            "image/png": "[encoded data removed]"
          },
          "metadata": {
            "needs_background": "light"
          }
        }
      ]
    },
    {
      "cell_type": "markdown",
      "source": [
        "**2. KNN**"
      ],
      "metadata": {
        "id": "cSluoC4OOpra"
      }
    },
    {
      "cell_type": "code",
      "source": [
        "#Guarda las predicicones\n",
        "knn18_preds = knn_pipe18.predict(X_test)\n",
        "\n",
        "report_knn18 = classification_report(y_test, knn18_preds)\n",
        "print(report_knn18)"
      ],
      "metadata": {
        "colab": {
          "base_uri": "https://localhost:8080/"
        },
        "id": "i7_HqfSWOi45",
        "outputId": "ea58641e-8115-44a6-bbff-671365c58af5"
      },
      "execution_count": 94,
      "outputs": [
        {
          "output_type": "stream",
          "name": "stdout",
          "text": [
            "              precision    recall  f1-score   support\n",
            "\n",
            "           0       0.69      0.92      0.79       977\n",
            "           1       0.74      0.37      0.49       630\n",
            "\n",
            "    accuracy                           0.70      1607\n",
            "   macro avg       0.72      0.64      0.64      1607\n",
            "weighted avg       0.71      0.70      0.67      1607\n",
            "\n"
          ]
        }
      ]
    },
    {
      "cell_type": "code",
      "source": [
        "sns.reset_orig() \n",
        "cm_knn18 = confusion_matrix(y_test, knn18_preds, labels = knn_pipe18.classes_)\n",
        "disp_knn18 = ConfusionMatrixDisplay(confusion_matrix = cm_knn18,\n",
        "                                   display_labels = knn_pipe18.classes_)\n",
        "\n",
        "disp_knn18.plot();"
      ],
      "metadata": {
        "colab": {
          "base_uri": "https://localhost:8080/",
          "height": 279
        },
        "id": "UbfiyjcaO92w",
        "outputId": "b8522003-c844-40a4-e252-a54d3dd572c6"
      },
      "execution_count": 95,
      "outputs": [
        {
          "output_type": "display_data",
          "data": {
            "text/plain": [
              "<Figure size 432x288 with 2 Axes>"
            ],
            "image/png": "[encoded data removed]"
          },
          "metadata": {
            "needs_background": "light"
          }
        }
      ]
    },
    {
      "cell_type": "markdown",
      "source": [
        "**3. Regresión logística**"
      ],
      "metadata": {
        "id": "yeXLITWRPVS4"
      }
    },
    {
      "cell_type": "code",
      "source": [
        "#Guarda las predicicones\n",
        "logreg_preds = logreg_pipe.predict(X_test)\n",
        "\n",
        "report_logreg = classification_report(y_test, logreg_preds)\n",
        "print(report_logreg)"
      ],
      "metadata": {
        "colab": {
          "base_uri": "https://localhost:8080/"
        },
        "id": "BLO9pAaYPRRT",
        "outputId": "874ee015-0fff-4cfa-9dc3-020fb42bdf0a"
      },
      "execution_count": 96,
      "outputs": [
        {
          "output_type": "stream",
          "name": "stdout",
          "text": [
            "              precision    recall  f1-score   support\n",
            "\n",
            "           0       0.69      0.90      0.78       977\n",
            "           1       0.70      0.37      0.48       630\n",
            "\n",
            "    accuracy                           0.69      1607\n",
            "   macro avg       0.70      0.63      0.63      1607\n",
            "weighted avg       0.69      0.69      0.66      1607\n",
            "\n"
          ]
        }
      ]
    },
    {
      "cell_type": "code",
      "source": [
        "sns.reset_orig() \n",
        "cm_logreg = confusion_matrix(y_test, logreg_preds, labels = logreg_pipe.classes_)\n",
        "disp_logreg = ConfusionMatrixDisplay(confusion_matrix = cm_logreg,\n",
        "                                   display_labels = logreg_pipe.classes_)\n",
        "\n",
        "disp_logreg.plot();"
      ],
      "metadata": {
        "colab": {
          "base_uri": "https://localhost:8080/",
          "height": 279
        },
        "id": "oeiSxgaBPiro",
        "outputId": "3c858702-9d94-4d04-be5f-f7dda49ebdf2"
      },
      "execution_count": 97,
      "outputs": [
        {
          "output_type": "display_data",
          "data": {
            "text/plain": [
              "<Figure size 432x288 with 2 Axes>"
            ],
            "image/png": "[encoded data removed]"
          },
          "metadata": {
            "needs_background": "light"
          }
        }
      ]
    },
    {
      "cell_type": "markdown",
      "source": [
        "## **Conclusión**\n",
        "\n",
        "De lo anterior, podemos concluir que el modelo de clasificación que mejor se ajusta a nuestros datos es el de KNN, ya que obtuvo el valor de accuracy más alto, tanto para los datos de entrenamiento como para los datos de prueba: 0.71 y 0.70, respectivamente, y es el modelo que más disminuye los falsos negativos, que es el tipo de error que más deberíamos penalizar. "
      ],
      "metadata": {
        "id": "mklmVVtTP28j"
      }
    },
    {
      "cell_type": "code",
      "source": [],
      "metadata": {
        "id": "WObE34JYPy_d"
      },
      "execution_count": null,
      "outputs": []
    }
  ]
}